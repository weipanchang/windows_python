{
 "cells": [
  {
   "cell_type": "code",
   "execution_count": 1,
   "metadata": {},
   "outputs": [],
   "source": [
    "import math"
   ]
  },
  {
   "cell_type": "code",
   "execution_count": 2,
   "metadata": {},
   "outputs": [],
   "source": [
    "import pandas_datareader as web"
   ]
  },
  {
   "cell_type": "code",
   "execution_count": 3,
   "metadata": {},
   "outputs": [],
   "source": [
    "import numpy as np"
   ]
  },
  {
   "cell_type": "code",
   "execution_count": 4,
   "metadata": {},
   "outputs": [],
   "source": [
    "import pandas as pd"
   ]
  },
  {
   "cell_type": "code",
   "execution_count": 5,
   "metadata": {},
   "outputs": [],
   "source": [
    "#from sklearn import preprocessing"
   ]
  },
  {
   "cell_type": "code",
   "execution_count": 6,
   "metadata": {},
   "outputs": [],
   "source": [
    "from sklearn.preprocessing import MinMaxScaler"
   ]
  },
  {
   "cell_type": "code",
   "execution_count": 7,
   "metadata": {
    "scrolled": true
   },
   "outputs": [],
   "source": [
    "from keras.models import Sequential"
   ]
  },
  {
   "cell_type": "code",
   "execution_count": 8,
   "metadata": {},
   "outputs": [],
   "source": [
    "from keras.layers import Dense, LSTM"
   ]
  },
  {
   "cell_type": "code",
   "execution_count": 9,
   "metadata": {},
   "outputs": [],
   "source": [
    "import matplotlib.pyplot as plt"
   ]
  },
  {
   "cell_type": "code",
   "execution_count": 10,
   "metadata": {},
   "outputs": [],
   "source": [
    "import datetime\n",
    "from datetime import date"
   ]
  },
  {
   "cell_type": "code",
   "execution_count": 11,
   "metadata": {},
   "outputs": [],
   "source": [
    "plt.style.use('fivethirtyeight')"
   ]
  },
  {
   "cell_type": "code",
   "execution_count": 12,
   "metadata": {},
   "outputs": [],
   "source": [
    "stock = 'goog'\n",
    "\n",
    "years_of_data_to_process = 25\n",
    "currentDateTime = datetime.datetime.now()\n",
    "date = currentDateTime.date()\n",
    "year = date.strftime(\"%Y\")\n",
    "start_year =  int(year) - years_of_data_to_process\n",
    "start = datetime.datetime(start_year, 1, 1)"
   ]
  },
  {
   "cell_type": "code",
   "execution_count": 13,
   "metadata": {},
   "outputs": [
    {
     "data": {
      "text/html": [
       "<div>\n",
       "<style scoped>\n",
       "    .dataframe tbody tr th:only-of-type {\n",
       "        vertical-align: middle;\n",
       "    }\n",
       "\n",
       "    .dataframe tbody tr th {\n",
       "        vertical-align: top;\n",
       "    }\n",
       "\n",
       "    .dataframe thead th {\n",
       "        text-align: right;\n",
       "    }\n",
       "</style>\n",
       "<table border=\"1\" class=\"dataframe\">\n",
       "  <thead>\n",
       "    <tr style=\"text-align: right;\">\n",
       "      <th></th>\n",
       "      <th>High</th>\n",
       "      <th>Low</th>\n",
       "      <th>Open</th>\n",
       "      <th>Close</th>\n",
       "      <th>Volume</th>\n",
       "      <th>Adj Close</th>\n",
       "    </tr>\n",
       "    <tr>\n",
       "      <th>Date</th>\n",
       "      <th></th>\n",
       "      <th></th>\n",
       "      <th></th>\n",
       "      <th></th>\n",
       "      <th></th>\n",
       "      <th></th>\n",
       "    </tr>\n",
       "  </thead>\n",
       "  <tbody>\n",
       "    <tr>\n",
       "      <th>2004-08-19</th>\n",
       "      <td>51.835709</td>\n",
       "      <td>47.800831</td>\n",
       "      <td>49.813290</td>\n",
       "      <td>49.982655</td>\n",
       "      <td>44871361.0</td>\n",
       "      <td>49.982655</td>\n",
       "    </tr>\n",
       "    <tr>\n",
       "      <th>2004-08-20</th>\n",
       "      <td>54.336334</td>\n",
       "      <td>50.062355</td>\n",
       "      <td>50.316402</td>\n",
       "      <td>53.952770</td>\n",
       "      <td>22942874.0</td>\n",
       "      <td>53.952770</td>\n",
       "    </tr>\n",
       "    <tr>\n",
       "      <th>2004-08-23</th>\n",
       "      <td>56.528118</td>\n",
       "      <td>54.321388</td>\n",
       "      <td>55.168217</td>\n",
       "      <td>54.495735</td>\n",
       "      <td>18342897.0</td>\n",
       "      <td>54.495735</td>\n",
       "    </tr>\n",
       "    <tr>\n",
       "      <th>2004-08-24</th>\n",
       "      <td>55.591629</td>\n",
       "      <td>51.591621</td>\n",
       "      <td>55.412300</td>\n",
       "      <td>52.239197</td>\n",
       "      <td>15319808.0</td>\n",
       "      <td>52.239197</td>\n",
       "    </tr>\n",
       "    <tr>\n",
       "      <th>2004-08-25</th>\n",
       "      <td>53.798351</td>\n",
       "      <td>51.746044</td>\n",
       "      <td>52.284027</td>\n",
       "      <td>52.802086</td>\n",
       "      <td>9232276.0</td>\n",
       "      <td>52.802086</td>\n",
       "    </tr>\n",
       "    <tr>\n",
       "      <th>...</th>\n",
       "      <td>...</td>\n",
       "      <td>...</td>\n",
       "      <td>...</td>\n",
       "      <td>...</td>\n",
       "      <td>...</td>\n",
       "      <td>...</td>\n",
       "    </tr>\n",
       "    <tr>\n",
       "      <th>2021-06-14</th>\n",
       "      <td>2528.229980</td>\n",
       "      <td>2500.939941</td>\n",
       "      <td>2513.389893</td>\n",
       "      <td>2527.040039</td>\n",
       "      <td>1127500.0</td>\n",
       "      <td>2527.040039</td>\n",
       "    </tr>\n",
       "    <tr>\n",
       "      <th>2021-06-15</th>\n",
       "      <td>2537.239990</td>\n",
       "      <td>2512.969971</td>\n",
       "      <td>2530.439941</td>\n",
       "      <td>2520.659912</td>\n",
       "      <td>1109100.0</td>\n",
       "      <td>2520.659912</td>\n",
       "    </tr>\n",
       "    <tr>\n",
       "      <th>2021-06-16</th>\n",
       "      <td>2530.469971</td>\n",
       "      <td>2482.999023</td>\n",
       "      <td>2524.949951</td>\n",
       "      <td>2513.929932</td>\n",
       "      <td>1315800.0</td>\n",
       "      <td>2513.929932</td>\n",
       "    </tr>\n",
       "    <tr>\n",
       "      <th>2021-06-17</th>\n",
       "      <td>2543.929932</td>\n",
       "      <td>2510.300049</td>\n",
       "      <td>2510.459961</td>\n",
       "      <td>2527.419922</td>\n",
       "      <td>1287800.0</td>\n",
       "      <td>2527.419922</td>\n",
       "    </tr>\n",
       "    <tr>\n",
       "      <th>2021-06-18</th>\n",
       "      <td>2527.780029</td>\n",
       "      <td>2492.060059</td>\n",
       "      <td>2514.110107</td>\n",
       "      <td>2511.350098</td>\n",
       "      <td>2634700.0</td>\n",
       "      <td>2511.350098</td>\n",
       "    </tr>\n",
       "  </tbody>\n",
       "</table>\n",
       "<p>4238 rows × 6 columns</p>\n",
       "</div>"
      ],
      "text/plain": [
       "                   High          Low         Open        Close      Volume  \\\n",
       "Date                                                                         \n",
       "2004-08-19    51.835709    47.800831    49.813290    49.982655  44871361.0   \n",
       "2004-08-20    54.336334    50.062355    50.316402    53.952770  22942874.0   \n",
       "2004-08-23    56.528118    54.321388    55.168217    54.495735  18342897.0   \n",
       "2004-08-24    55.591629    51.591621    55.412300    52.239197  15319808.0   \n",
       "2004-08-25    53.798351    51.746044    52.284027    52.802086   9232276.0   \n",
       "...                 ...          ...          ...          ...         ...   \n",
       "2021-06-14  2528.229980  2500.939941  2513.389893  2527.040039   1127500.0   \n",
       "2021-06-15  2537.239990  2512.969971  2530.439941  2520.659912   1109100.0   \n",
       "2021-06-16  2530.469971  2482.999023  2524.949951  2513.929932   1315800.0   \n",
       "2021-06-17  2543.929932  2510.300049  2510.459961  2527.419922   1287800.0   \n",
       "2021-06-18  2527.780029  2492.060059  2514.110107  2511.350098   2634700.0   \n",
       "\n",
       "              Adj Close  \n",
       "Date                     \n",
       "2004-08-19    49.982655  \n",
       "2004-08-20    53.952770  \n",
       "2004-08-23    54.495735  \n",
       "2004-08-24    52.239197  \n",
       "2004-08-25    52.802086  \n",
       "...                 ...  \n",
       "2021-06-14  2527.040039  \n",
       "2021-06-15  2520.659912  \n",
       "2021-06-16  2513.929932  \n",
       "2021-06-17  2527.419922  \n",
       "2021-06-18  2511.350098  \n",
       "\n",
       "[4238 rows x 6 columns]"
      ]
     },
     "execution_count": 13,
     "metadata": {},
     "output_type": "execute_result"
    }
   ],
   "source": [
    "df = web.DataReader(stock, data_source='yahoo', start = start, end = date)\n",
    "df.dropna(inplace= True)\n",
    "df"
   ]
  },
  {
   "cell_type": "code",
   "execution_count": 14,
   "metadata": {},
   "outputs": [
    {
     "data": {
      "text/plain": [
       "(4238, 6)"
      ]
     },
     "execution_count": 14,
     "metadata": {},
     "output_type": "execute_result"
    }
   ],
   "source": [
    "df.shape"
   ]
  },
  {
   "cell_type": "code",
   "execution_count": 15,
   "metadata": {},
   "outputs": [
    {
     "data": {
      "image/png": "[encoded data removed]",
      "text/plain": [
       "<Figure size 1152x576 with 1 Axes>"
      ]
     },
     "metadata": {},
     "output_type": "display_data"
    }
   ],
   "source": [
    "plt.figure(figsize=(16,8))\n",
    "\n",
    "plt.title(stock.upper())\n",
    "#plt.title( plt.title(str(stock)))\n",
    "plt.plot(df['Close'])\n",
    "plt.xlabel('Date', fontsize=18)\n",
    "plt.ylabel('Close Price USD ($)', fontsize =18)\n",
    "plt.show()"
   ]
  },
  {
   "cell_type": "code",
   "execution_count": 16,
   "metadata": {},
   "outputs": [
    {
     "data": {
      "text/plain": [
       "3391"
      ]
     },
     "execution_count": 16,
     "metadata": {},
     "output_type": "execute_result"
    }
   ],
   "source": [
    "data =df.filter(['Close'])\n",
    "dataset = data.values\n",
    "training_data_len = math.ceil(len(dataset) *.8)\n",
    "training_data_len"
   ]
  },
  {
   "cell_type": "code",
   "execution_count": 17,
   "metadata": {},
   "outputs": [],
   "source": [
    "scaler = MinMaxScaler(feature_range=(0,1))\n",
    "scaled_data = scaler.fit_transform(dataset)\n",
    "\n",
    "#scaled_data"
   ]
  },
  {
   "cell_type": "code",
   "execution_count": 18,
   "metadata": {},
   "outputs": [],
   "source": [
    "train_data = scaled_data[0:training_data_len, :]\n",
    "x_train = []\n",
    "y_train = []\n",
    "\n",
    "for i in range(60, len(train_data)):\n",
    "    x_train.append(train_data[i-60:i, 0])\n",
    "    y_train.append(train_data[i, 0])\n",
    "#    if i <= 60:\n",
    "#        print (x_train)\n",
    "#        print (y_train)\n",
    "#        print ()\n",
    "    "
   ]
  },
  {
   "cell_type": "code",
   "execution_count": 19,
   "metadata": {},
   "outputs": [],
   "source": [
    "x_train, y_train = np.array(x_train), np.array(y_train)"
   ]
  },
  {
   "cell_type": "code",
   "execution_count": 20,
   "metadata": {},
   "outputs": [
    {
     "data": {
      "text/plain": [
       "(3331, 60, 1)"
      ]
     },
     "execution_count": 20,
     "metadata": {},
     "output_type": "execute_result"
    }
   ],
   "source": [
    "x_train = np.reshape(x_train,(x_train.shape[0], x_train.shape[1],1))\n",
    "x_train.shape"
   ]
  },
  {
   "cell_type": "code",
   "execution_count": 21,
   "metadata": {},
   "outputs": [],
   "source": [
    "model = Sequential()\n",
    "model.add(LSTM(50, return_sequences=True, input_shape = (x_train.shape[1],1)))\n",
    "model.add(LSTM(50, return_sequences=False))\n",
    "model.add(Dense(25))\n",
    "model.add(Dense(1))\n",
    "    "
   ]
  },
  {
   "cell_type": "code",
   "execution_count": 22,
   "metadata": {},
   "outputs": [],
   "source": [
    "model.compile(optimizer = 'adam', loss = 'mean_squared_error')"
   ]
  },
  {
   "cell_type": "code",
   "execution_count": 23,
   "metadata": {},
   "outputs": [
    {
     "name": "stdout",
     "output_type": "stream",
     "text": [
      "Epoch 1/200\n",
      "27/27 [==============================] - 16s 58ms/step - loss: 0.0121\n",
      "Epoch 2/200\n",
      "27/27 [==============================] - 2s 83ms/step - loss: 2.2493e-04\n",
      "Epoch 3/200\n",
      "27/27 [==============================] - 2s 80ms/step - loss: 5.1114e-05\n",
      "Epoch 4/200\n",
      "27/27 [==============================] - 2s 67ms/step - loss: 4.7818e-05\n",
      "Epoch 5/200\n",
      "27/27 [==============================] - 2s 66ms/step - loss: 4.1141e-05\n",
      "Epoch 6/200\n",
      "27/27 [==============================] - 2s 65ms/step - loss: 3.8250e-05\n",
      "Epoch 7/200\n",
      "27/27 [==============================] - 2s 66ms/step - loss: 3.8721e-05\n",
      "Epoch 8/200\n",
      "27/27 [==============================] - 2s 62ms/step - loss: 4.1102e-05\n",
      "Epoch 9/200\n",
      "27/27 [==============================] - 2s 62ms/step - loss: 4.1770e-05\n",
      "Epoch 10/200\n",
      "27/27 [==============================] - 2s 62ms/step - loss: 4.1063e-05\n",
      "Epoch 11/200\n",
      "27/27 [==============================] - 2s 62ms/step - loss: 4.0146e-05\n",
      "Epoch 12/200\n",
      "27/27 [==============================] - 2s 61ms/step - loss: 4.2233e-05\n",
      "Epoch 13/200\n",
      "27/27 [==============================] - 2s 74ms/step - loss: 4.0802e-05\n",
      "Epoch 14/200\n",
      "27/27 [==============================] - 2s 59ms/step - loss: 3.8120e-05\n",
      "Epoch 15/200\n",
      "27/27 [==============================] - 1s 55ms/step - loss: 3.6868e-05\n",
      "Epoch 16/200\n",
      "27/27 [==============================] - 2s 71ms/step - loss: 3.4902e-05\n",
      "Epoch 17/200\n",
      "27/27 [==============================] - 2s 56ms/step - loss: 3.7147e-05\n",
      "Epoch 18/200\n",
      "27/27 [==============================] - 2s 57ms/step - loss: 4.1982e-05\n",
      "Epoch 19/200\n",
      "27/27 [==============================] - 1s 54ms/step - loss: 3.6844e-05\n",
      "Epoch 20/200\n",
      "27/27 [==============================] - 2s 57ms/step - loss: 3.3564e-05\n",
      "Epoch 21/200\n",
      "27/27 [==============================] - 2s 81ms/step - loss: 3.9926e-05\n",
      "Epoch 22/200\n",
      "27/27 [==============================] - 2s 62ms/step - loss: 3.4665e-05\n",
      "Epoch 23/200\n",
      "27/27 [==============================] - 2s 79ms/step - loss: 1.5495e-04: 0s - loss: 1.70\n",
      "Epoch 24/200\n",
      "27/27 [==============================] - 2s 62ms/step - loss: 4.4187e-05\n",
      "Epoch 25/200\n",
      "27/27 [==============================] - 2s 64ms/step - loss: 3.4541e-05: 0s - loss: \n",
      "Epoch 26/200\n",
      "27/27 [==============================] - 2s 65ms/step - loss: 3.8807e-05\n",
      "Epoch 27/200\n",
      "27/27 [==============================] - 2s 68ms/step - loss: 3.2627e-05\n",
      "Epoch 28/200\n",
      "27/27 [==============================] - 2s 58ms/step - loss: 3.1298e-05\n",
      "Epoch 29/200\n",
      "27/27 [==============================] - 2s 57ms/step - loss: 5.7781e-05\n",
      "Epoch 30/200\n",
      "27/27 [==============================] - 2s 57ms/step - loss: 3.2921e-05: 0s - loss: 3.2773e-\n",
      "Epoch 31/200\n",
      "27/27 [==============================] - 2s 57ms/step - loss: 3.3749e-05: \n",
      "Epoch 32/200\n",
      "27/27 [==============================] - 2s 61ms/step - loss: 3.6553e-05: 0s - loss: 3.740\n",
      "Epoch 33/200\n",
      "27/27 [==============================] - 2s 57ms/step - loss: 3.3062e-05\n",
      "Epoch 34/200\n",
      "27/27 [==============================] - 2s 58ms/step - loss: 3.4444e-05\n",
      "Epoch 35/200\n",
      "27/27 [==============================] - 2s 63ms/step - loss: 3.0335e-05\n",
      "Epoch 36/200\n",
      "27/27 [==============================] - 2s 58ms/step - loss: 3.5666e-05\n",
      "Epoch 37/200\n",
      "27/27 [==============================] - 2s 56ms/step - loss: 3.2014e-05\n",
      "Epoch 38/200\n",
      "27/27 [==============================] - 2s 57ms/step - loss: 3.0467e-05\n",
      "Epoch 39/200\n",
      "27/27 [==============================] - 2s 59ms/step - loss: 3.2689e-05: 0s - loss: 3.3169e\n",
      "Epoch 40/200\n",
      "27/27 [==============================] - 2s 59ms/step - loss: 2.6847e-05\n",
      "Epoch 41/200\n",
      "27/27 [==============================] - 2s 58ms/step - loss: 2.7349e-05\n",
      "Epoch 42/200\n",
      "27/27 [==============================] - 2s 60ms/step - loss: 2.9393e-05\n",
      "Epoch 43/200\n",
      "27/27 [==============================] - 2s 57ms/step - loss: 3.2385e-05\n",
      "Epoch 44/200\n",
      "27/27 [==============================] - 2s 59ms/step - loss: 2.8454e-05\n",
      "Epoch 45/200\n",
      "27/27 [==============================] - 2s 57ms/step - loss: 2.8432e-05\n",
      "Epoch 46/200\n",
      "27/27 [==============================] - 2s 59ms/step - loss: 3.1605e-05\n",
      "Epoch 47/200\n",
      "27/27 [==============================] - 2s 57ms/step - loss: 5.2841e-05\n",
      "Epoch 48/200\n",
      "27/27 [==============================] - 2s 56ms/step - loss: 3.0195e-05\n",
      "Epoch 49/200\n",
      "27/27 [==============================] - 2s 58ms/step - loss: 2.6216e-05\n",
      "Epoch 50/200\n",
      "27/27 [==============================] - 2s 57ms/step - loss: 3.3320e-05\n",
      "Epoch 51/200\n",
      "27/27 [==============================] - 1s 55ms/step - loss: 1.8398e-04\n",
      "Epoch 52/200\n",
      "27/27 [==============================] - 2s 57ms/step - loss: 4.5252e-05\n",
      "Epoch 53/200\n",
      "27/27 [==============================] - 2s 58ms/step - loss: 3.1408e-05\n",
      "Epoch 54/200\n",
      "27/27 [==============================] - 1s 55ms/step - loss: 2.8813e-05\n",
      "Epoch 55/200\n",
      "27/27 [==============================] - 2s 56ms/step - loss: 2.8446e-05\n",
      "Epoch 56/200\n",
      "27/27 [==============================] - 2s 62ms/step - loss: 2.6606e-05\n",
      "Epoch 57/200\n",
      "27/27 [==============================] - 2s 77ms/step - loss: 3.1561e-05\n",
      "Epoch 58/200\n",
      "27/27 [==============================] - 2s 57ms/step - loss: 4.6584e-05\n",
      "Epoch 59/200\n",
      "27/27 [==============================] - 1s 55ms/step - loss: 2.4725e-05\n",
      "Epoch 60/200\n",
      "27/27 [==============================] - 1s 54ms/step - loss: 3.5076e-05\n",
      "Epoch 61/200\n",
      "27/27 [==============================] - 2s 57ms/step - loss: 3.0136e-05\n",
      "Epoch 62/200\n",
      "27/27 [==============================] - 1s 55ms/step - loss: 2.8358e-05\n",
      "Epoch 63/200\n",
      "27/27 [==============================] - 2s 57ms/step - loss: 2.8179e-05\n",
      "Epoch 64/200\n",
      "27/27 [==============================] - 2s 56ms/step - loss: 2.7180e-05\n",
      "Epoch 65/200\n",
      "27/27 [==============================] - 2s 67ms/step - loss: 2.4906e-05\n",
      "Epoch 66/200\n",
      "27/27 [==============================] - 2s 73ms/step - loss: 2.2989e-05\n",
      "Epoch 67/200\n",
      "27/27 [==============================] - 2s 60ms/step - loss: 4.5654e-05\n",
      "Epoch 68/200\n",
      "27/27 [==============================] - 2s 56ms/step - loss: 2.8889e-05\n",
      "Epoch 69/200\n",
      "27/27 [==============================] - 2s 58ms/step - loss: 2.0571e-05\n",
      "Epoch 70/200\n",
      "27/27 [==============================] - 2s 56ms/step - loss: 3.0730e-05\n",
      "Epoch 71/200\n",
      "27/27 [==============================] - 2s 56ms/step - loss: 2.4034e-05\n",
      "Epoch 72/200\n",
      "27/27 [==============================] - 2s 57ms/step - loss: 2.4117e-05\n",
      "Epoch 73/200\n",
      "27/27 [==============================] - 2s 56ms/step - loss: 2.4005e-05\n",
      "Epoch 74/200\n",
      "27/27 [==============================] - 1s 55ms/step - loss: 2.2186e-05\n",
      "Epoch 75/200\n",
      "27/27 [==============================] - 2s 56ms/step - loss: 2.0334e-05\n",
      "Epoch 76/200\n",
      "27/27 [==============================] - 2s 61ms/step - loss: 2.5619e-05\n",
      "Epoch 77/200\n",
      "27/27 [==============================] - 1s 55ms/step - loss: 2.9334e-05\n",
      "Epoch 78/200\n",
      "27/27 [==============================] - 1s 55ms/step - loss: 2.2767e-05\n",
      "Epoch 79/200\n",
      "27/27 [==============================] - 2s 56ms/step - loss: 2.3669e-05\n",
      "Epoch 80/200\n",
      "27/27 [==============================] - 2s 56ms/step - loss: 2.0884e-05\n",
      "Epoch 81/200\n",
      "27/27 [==============================] - 1s 54ms/step - loss: 2.0232e-05\n",
      "Epoch 82/200\n",
      "27/27 [==============================] - 2s 75ms/step - loss: 3.9713e-05\n",
      "Epoch 83/200\n",
      "27/27 [==============================] - 2s 71ms/step - loss: 2.0104e-05\n",
      "Epoch 84/200\n",
      "27/27 [==============================] - 2s 56ms/step - loss: 2.4862e-05\n",
      "Epoch 85/200\n",
      "27/27 [==============================] - 1s 56ms/step - loss: 4.0101e-05\n",
      "Epoch 86/200\n",
      "27/27 [==============================] - 2s 59ms/step - loss: 2.1931e-05\n",
      "Epoch 87/200\n",
      "27/27 [==============================] - 2s 56ms/step - loss: 2.1203e-05\n",
      "Epoch 88/200\n",
      "27/27 [==============================] - 2s 57ms/step - loss: 2.1119e-05\n",
      "Epoch 89/200\n",
      "27/27 [==============================] - 2s 56ms/step - loss: 2.4938e-05\n",
      "Epoch 90/200\n",
      "27/27 [==============================] - 2s 56ms/step - loss: 2.2659e-05\n",
      "Epoch 91/200\n",
      "27/27 [==============================] - 1s 55ms/step - loss: 2.0902e-05\n",
      "Epoch 92/200\n",
      "27/27 [==============================] - 2s 57ms/step - loss: 4.0444e-05\n",
      "Epoch 93/200\n",
      "27/27 [==============================] - 2s 59ms/step - loss: 2.4529e-05\n",
      "Epoch 94/200\n",
      "27/27 [==============================] - 2s 57ms/step - loss: 1.8459e-05\n",
      "Epoch 95/200\n"
     ]
    },
    {
     "name": "stdout",
     "output_type": "stream",
     "text": [
      "27/27 [==============================] - 1s 55ms/step - loss: 1.8124e-05\n",
      "Epoch 96/200\n",
      "27/27 [==============================] - 2s 59ms/step - loss: 1.7688e-05\n",
      "Epoch 97/200\n",
      "27/27 [==============================] - 2s 71ms/step - loss: 1.7940e-05\n",
      "Epoch 98/200\n",
      "27/27 [==============================] - 1s 55ms/step - loss: 1.9001e-05\n",
      "Epoch 99/200\n",
      "27/27 [==============================] - 1s 54ms/step - loss: 1.8508e-05\n",
      "Epoch 100/200\n",
      "27/27 [==============================] - 1s 53ms/step - loss: 2.0167e-05\n",
      "Epoch 101/200\n",
      "27/27 [==============================] - 1s 54ms/step - loss: 1.8663e-05\n",
      "Epoch 102/200\n",
      "27/27 [==============================] - 1s 53ms/step - loss: 1.7540e-05\n",
      "Epoch 103/200\n",
      "27/27 [==============================] - 1s 54ms/step - loss: 2.9591e-05\n",
      "Epoch 104/200\n",
      "27/27 [==============================] - 1s 55ms/step - loss: 1.8801e-05\n",
      "Epoch 105/200\n",
      "27/27 [==============================] - 1s 54ms/step - loss: 1.9974e-05\n",
      "Epoch 106/200\n",
      "27/27 [==============================] - 1s 53ms/step - loss: 1.8693e-05\n",
      "Epoch 107/200\n",
      "27/27 [==============================] - 2s 56ms/step - loss: 1.8851e-05\n",
      "Epoch 108/200\n",
      "27/27 [==============================] - 1s 53ms/step - loss: 1.8005e-05\n",
      "Epoch 109/200\n",
      "27/27 [==============================] - 1s 54ms/step - loss: 1.6755e-05\n",
      "Epoch 110/200\n",
      "27/27 [==============================] - 1s 55ms/step - loss: 1.9554e-05\n",
      "Epoch 111/200\n",
      "27/27 [==============================] - 1s 55ms/step - loss: 2.2271e-05\n",
      "Epoch 112/200\n",
      "27/27 [==============================] - 2s 64ms/step - loss: 2.0143e-05\n",
      "Epoch 113/200\n",
      "27/27 [==============================] - 2s 58ms/step - loss: 1.7009e-05\n",
      "Epoch 114/200\n",
      "27/27 [==============================] - 1s 55ms/step - loss: 1.6517e-05\n",
      "Epoch 115/200\n",
      "27/27 [==============================] - 2s 57ms/step - loss: 3.1546e-05\n",
      "Epoch 116/200\n",
      "27/27 [==============================] - 1s 55ms/step - loss: 1.6397e-05\n",
      "Epoch 117/200\n",
      "27/27 [==============================] - 2s 56ms/step - loss: 2.0542e-05\n",
      "Epoch 118/200\n",
      "27/27 [==============================] - 2s 57ms/step - loss: 1.7516e-05\n",
      "Epoch 119/200\n",
      "27/27 [==============================] - 2s 57ms/step - loss: 1.5619e-05\n",
      "Epoch 120/200\n",
      "27/27 [==============================] - 2s 70ms/step - loss: 1.6134e-05\n",
      "Epoch 121/200\n",
      "27/27 [==============================] - 2s 58ms/step - loss: 2.1275e-05\n",
      "Epoch 122/200\n",
      "27/27 [==============================] - 1s 55ms/step - loss: 1.3626e-05\n",
      "Epoch 123/200\n",
      "27/27 [==============================] - 2s 65ms/step - loss: 1.3927e-05\n",
      "Epoch 124/200\n",
      "27/27 [==============================] - 1s 54ms/step - loss: 1.2100e-05\n",
      "Epoch 125/200\n",
      "27/27 [==============================] - 1s 55ms/step - loss: 2.6990e-05\n",
      "Epoch 126/200\n",
      "27/27 [==============================] - 1s 54ms/step - loss: 1.7320e-05\n",
      "Epoch 127/200\n",
      "27/27 [==============================] - 1s 54ms/step - loss: 1.7114e-05\n",
      "Epoch 128/200\n",
      "27/27 [==============================] - 1s 55ms/step - loss: 1.7573e-05\n",
      "Epoch 129/200\n",
      "27/27 [==============================] - 1s 54ms/step - loss: 1.9050e-05\n",
      "Epoch 130/200\n",
      "27/27 [==============================] - 1s 53ms/step - loss: 1.5579e-05\n",
      "Epoch 131/200\n",
      "27/27 [==============================] - 1s 54ms/step - loss: 1.3708e-05\n",
      "Epoch 132/200\n",
      "27/27 [==============================] - 1s 55ms/step - loss: 2.7259e-05\n",
      "Epoch 133/200\n",
      "27/27 [==============================] - 2s 66ms/step - loss: 1.8033e-05\n",
      "Epoch 134/200\n",
      "27/27 [==============================] - 2s 57ms/step - loss: 1.3133e-05\n",
      "Epoch 135/200\n",
      "27/27 [==============================] - 2s 56ms/step - loss: 1.1542e-05\n",
      "Epoch 136/200\n",
      "27/27 [==============================] - 1s 54ms/step - loss: 1.3073e-05\n",
      "Epoch 137/200\n",
      "27/27 [==============================] - 1s 55ms/step - loss: 1.6483e-05\n",
      "Epoch 138/200\n",
      "27/27 [==============================] - 2s 57ms/step - loss: 1.6616e-05\n",
      "Epoch 139/200\n",
      "27/27 [==============================] - 1s 54ms/step - loss: 1.1753e-05\n",
      "Epoch 140/200\n",
      "27/27 [==============================] - 1s 54ms/step - loss: 1.9096e-05\n",
      "Epoch 141/200\n",
      "27/27 [==============================] - 1s 54ms/step - loss: 1.5153e-05\n",
      "Epoch 142/200\n",
      "27/27 [==============================] - 1s 53ms/step - loss: 1.3992e-05\n",
      "Epoch 143/200\n",
      "27/27 [==============================] - 1s 54ms/step - loss: 1.3879e-05\n",
      "Epoch 144/200\n",
      "27/27 [==============================] - 1s 53ms/step - loss: 1.3275e-05\n",
      "Epoch 145/200\n",
      "27/27 [==============================] - 2s 59ms/step - loss: 1.4672e-05\n",
      "Epoch 146/200\n",
      "27/27 [==============================] - 2s 74ms/step - loss: 1.3090e-05\n",
      "Epoch 147/200\n",
      "27/27 [==============================] - 3s 100ms/step - loss: 1.2677e-05\n",
      "Epoch 148/200\n",
      "27/27 [==============================] - 2s 65ms/step - loss: 1.1909e-05\n",
      "Epoch 149/200\n",
      "27/27 [==============================] - 2s 56ms/step - loss: 1.7904e-05\n",
      "Epoch 150/200\n",
      "27/27 [==============================] - 1s 55ms/step - loss: 1.1044e-05\n",
      "Epoch 151/200\n",
      "27/27 [==============================] - 2s 55ms/step - loss: 1.3699e-05\n",
      "Epoch 152/200\n",
      "27/27 [==============================] - 1s 55ms/step - loss: 1.2593e-05\n",
      "Epoch 153/200\n",
      "27/27 [==============================] - 2s 63ms/step - loss: 1.4725e-05\n",
      "Epoch 154/200\n",
      "27/27 [==============================] - 2s 60ms/step - loss: 1.1042e-05: 0s - los\n",
      "Epoch 155/200\n",
      "27/27 [==============================] - 2s 60ms/step - loss: 1.1157e-05\n",
      "Epoch 156/200\n",
      "27/27 [==============================] - 2s 60ms/step - loss: 1.3962e-04\n",
      "Epoch 157/200\n",
      "27/27 [==============================] - 1s 55ms/step - loss: 1.6079e-05\n",
      "Epoch 158/200\n",
      "27/27 [==============================] - 2s 56ms/step - loss: 1.0614e-05\n",
      "Epoch 159/200\n",
      "27/27 [==============================] - 1s 55ms/step - loss: 1.1820e-05\n",
      "Epoch 160/200\n",
      "27/27 [==============================] - 1s 55ms/step - loss: 1.6061e-05\n",
      "Epoch 161/200\n",
      "27/27 [==============================] - 1s 55ms/step - loss: 1.2817e-05\n",
      "Epoch 162/200\n",
      "27/27 [==============================] - 1s 55ms/step - loss: 1.0681e-05\n",
      "Epoch 163/200\n",
      "27/27 [==============================] - 1s 55ms/step - loss: 2.2833e-05\n",
      "Epoch 164/200\n",
      "27/27 [==============================] - 1s 55ms/step - loss: 1.2408e-05\n",
      "Epoch 165/200\n",
      "27/27 [==============================] - 1s 53ms/step - loss: 1.1052e-05\n",
      "Epoch 166/200\n",
      "27/27 [==============================] - 1s 54ms/step - loss: 1.3275e-05\n",
      "Epoch 167/200\n",
      "27/27 [==============================] - 1s 55ms/step - loss: 1.0430e-05\n",
      "Epoch 168/200\n",
      "27/27 [==============================] - 1s 55ms/step - loss: 1.0485e-05\n",
      "Epoch 169/200\n",
      "27/27 [==============================] - 2s 57ms/step - loss: 1.0353e-05\n",
      "Epoch 170/200\n",
      "27/27 [==============================] - 1s 54ms/step - loss: 1.5416e-05\n",
      "Epoch 171/200\n",
      "27/27 [==============================] - 1s 54ms/step - loss: 1.1008e-05\n",
      "Epoch 172/200\n",
      "27/27 [==============================] - 1s 54ms/step - loss: 9.4716e-06\n",
      "Epoch 173/200\n",
      "27/27 [==============================] - 1s 53ms/step - loss: 9.7167e-06\n",
      "Epoch 174/200\n",
      "27/27 [==============================] - 1s 53ms/step - loss: 1.0593e-05\n",
      "Epoch 175/200\n",
      "27/27 [==============================] - 1s 53ms/step - loss: 9.8854e-06\n",
      "Epoch 176/200\n",
      "27/27 [==============================] - 1s 54ms/step - loss: 9.8523e-06\n",
      "Epoch 177/200\n",
      "27/27 [==============================] - 1s 54ms/step - loss: 1.3067e-05\n",
      "Epoch 178/200\n",
      "27/27 [==============================] - 1s 54ms/step - loss: 1.0958e-05\n",
      "Epoch 179/200\n",
      "27/27 [==============================] - 1s 55ms/step - loss: 1.5291e-05\n",
      "Epoch 180/200\n",
      "27/27 [==============================] - 2s 56ms/step - loss: 1.1402e-05: 0s - loss:\n",
      "Epoch 181/200\n",
      "27/27 [==============================] - 1s 54ms/step - loss: 1.1354e-05\n",
      "Epoch 182/200\n",
      "27/27 [==============================] - 1s 54ms/step - loss: 2.1671e-05\n",
      "Epoch 183/200\n",
      "27/27 [==============================] - 2s 58ms/step - loss: 1.0360e-05\n",
      "Epoch 184/200\n",
      "27/27 [==============================] - 2s 66ms/step - loss: 9.2037e-06\n",
      "Epoch 185/200\n",
      "27/27 [==============================] - 2s 74ms/step - loss: 4.9015e-05\n",
      "Epoch 186/200\n",
      "27/27 [==============================] - 2s 67ms/step - loss: 9.4606e-06\n",
      "Epoch 187/200\n",
      "27/27 [==============================] - 2s 62ms/step - loss: 1.2883e-05\n",
      "Epoch 188/200\n",
      "27/27 [==============================] - 2s 60ms/step - loss: 1.0051e-05\n",
      "Epoch 189/200\n"
     ]
    },
    {
     "name": "stdout",
     "output_type": "stream",
     "text": [
      "27/27 [==============================] - 2s 62ms/step - loss: 1.0750e-05\n",
      "Epoch 190/200\n",
      "27/27 [==============================] - 2s 60ms/step - loss: 9.3208e-06\n",
      "Epoch 191/200\n",
      "27/27 [==============================] - 2s 57ms/step - loss: 9.8091e-06\n",
      "Epoch 192/200\n",
      "27/27 [==============================] - 2s 58ms/step - loss: 1.1209e-05\n",
      "Epoch 193/200\n",
      "27/27 [==============================] - 1s 55ms/step - loss: 1.0434e-05\n",
      "Epoch 194/200\n",
      "27/27 [==============================] - 1s 55ms/step - loss: 1.8710e-05\n",
      "Epoch 195/200\n",
      "27/27 [==============================] - 1s 55ms/step - loss: 1.0271e-05\n",
      "Epoch 196/200\n",
      "27/27 [==============================] - 1s 55ms/step - loss: 1.5928e-05\n",
      "Epoch 197/200\n",
      "27/27 [==============================] - 1s 55ms/step - loss: 1.0326e-05\n",
      "Epoch 198/200\n",
      "27/27 [==============================] - 1s 55ms/step - loss: 1.2078e-05\n",
      "Epoch 199/200\n",
      "27/27 [==============================] - 1s 54ms/step - loss: 9.2106e-06\n",
      "Epoch 200/200\n",
      "27/27 [==============================] - 2s 56ms/step - loss: 8.9022e-06\n"
     ]
    },
    {
     "data": {
      "text/plain": [
       "<keras.callbacks.History at 0x14a1df70>"
      ]
     },
     "execution_count": 23,
     "metadata": {},
     "output_type": "execute_result"
    }
   ],
   "source": [
    "model.fit(x_train, y_train, batch_size=128, epochs=200)"
   ]
  },
  {
   "cell_type": "code",
   "execution_count": 24,
   "metadata": {},
   "outputs": [
    {
     "name": "stdout",
     "output_type": "stream",
     "text": [
      "Model: \"sequential\"\n",
      "_________________________________________________________________\n",
      "Layer (type)                 Output Shape              Param #   \n",
      "=================================================================\n",
      "lstm (LSTM)                  (None, 60, 50)            10400     \n",
      "_________________________________________________________________\n",
      "lstm_1 (LSTM)                (None, 50)                20200     \n",
      "_________________________________________________________________\n",
      "dense (Dense)                (None, 25)                1275      \n",
      "_________________________________________________________________\n",
      "dense_1 (Dense)              (None, 1)                 26        \n",
      "=================================================================\n",
      "Total params: 31,901\n",
      "Trainable params: 31,901\n",
      "Non-trainable params: 0\n",
      "_________________________________________________________________\n",
      "None\n"
     ]
    }
   ],
   "source": [
    "print(model.summary())"
   ]
  },
  {
   "cell_type": "code",
   "execution_count": 25,
   "metadata": {},
   "outputs": [],
   "source": [
    "test_data = scaled_data[training_data_len - 60:, :]\n",
    "x_test = []\n",
    "y_test =  dataset[training_data_len:, :]\n",
    "for i in range(60, len(test_data)):\n",
    "    x_test.append(test_data[i-60:i, 0])"
   ]
  },
  {
   "cell_type": "code",
   "execution_count": 26,
   "metadata": {},
   "outputs": [],
   "source": [
    "x_test = np.array(x_test)"
   ]
  },
  {
   "cell_type": "code",
   "execution_count": 27,
   "metadata": {},
   "outputs": [],
   "source": [
    "x_test =  np.reshape(x_test, (x_test.shape[0], x_test.shape[1], 1))"
   ]
  },
  {
   "cell_type": "code",
   "execution_count": 28,
   "metadata": {},
   "outputs": [],
   "source": [
    "predictions = model.predict(x_test)\n",
    "predictions =  scaler.inverse_transform(predictions)"
   ]
  },
  {
   "cell_type": "code",
   "execution_count": 29,
   "metadata": {},
   "outputs": [
    {
     "name": "stdout",
     "output_type": "stream",
     "text": [
      "    RMSE = 11.053454.4\n"
     ]
    }
   ],
   "source": [
    "rmse = np.sqrt(np.mean(predictions -y_test) **2)\n",
    "print (\"    RMSE = %f.4\" %rmse)"
   ]
  },
  {
   "cell_type": "code",
   "execution_count": 30,
   "metadata": {},
   "outputs": [
    {
     "data": {
      "text/plain": [
       "<bound method DataFrame.info of                   Close\n",
       "Date                   \n",
       "2004-08-19    49.982655\n",
       "2004-08-20    53.952770\n",
       "2004-08-23    54.495735\n",
       "2004-08-24    52.239197\n",
       "2004-08-25    52.802086\n",
       "...                 ...\n",
       "2021-06-14  2527.040039\n",
       "2021-06-15  2520.659912\n",
       "2021-06-16  2513.929932\n",
       "2021-06-17  2527.419922\n",
       "2021-06-18  2511.350098\n",
       "\n",
       "[4238 rows x 1 columns]>"
      ]
     },
     "execution_count": 30,
     "metadata": {},
     "output_type": "execute_result"
    }
   ],
   "source": [
    "data.info"
   ]
  },
  {
   "cell_type": "code",
   "execution_count": 31,
   "metadata": {},
   "outputs": [
    {
     "name": "stderr",
     "output_type": "stream",
     "text": [
      "<ipython-input-31-0f910c29bbee>:3: SettingWithCopyWarning: \n",
      "A value is trying to be set on a copy of a slice from a DataFrame.\n",
      "Try using .loc[row_indexer,col_indexer] = value instead\n",
      "\n",
      "See the caveats in the documentation: https://pandas.pydata.org/pandas-docs/stable/user_guide/indexing.html#returning-a-view-versus-a-copy\n",
      "  valid['Predictions'] = predictions\n"
     ]
    },
    {
     "data": {
      "text/plain": [
       "<function matplotlib.pyplot.show(close=None, block=None)>"
      ]
     },
     "execution_count": 31,
     "metadata": {},
     "output_type": "execute_result"
    },
    {
     "data": {
      "image/png": "[encoded data removed]",
      "text/plain": [
       "<Figure size 1152x576 with 1 Axes>"
      ]
     },
     "metadata": {},
     "output_type": "display_data"
    }
   ],
   "source": [
    "train = data[:training_data_len]\n",
    "valid = data[training_data_len:]\n",
    "valid['Predictions'] = predictions\n",
    "plt.figure(figsize=(16,8))\n",
    "plt.title(stock.upper())\n",
    "plt.xlabel('Date', fontsize = 18)\n",
    "plt.ylabel('Close Price USD ($)', fontsize = 18)\n",
    "#default_x_ticks = range(len(data['Date']))\n",
    "#plt.xticks(default_x_ticks, data['Date'])\n",
    "\n",
    "plt.plot(train['Close'])\n",
    "plt.plot(valid[['Close', 'Predictions']])\n",
    "\n",
    "plt.legend(['Train', 'Val', 'Predictions'], loc = 'lower right')\n",
    "plt.plot()\n",
    "plt.show"
   ]
  },
  {
   "cell_type": "code",
   "execution_count": 32,
   "metadata": {},
   "outputs": [
    {
     "name": "stdout",
     "output_type": "stream",
     "text": [
      "                  Close  Predictions\n",
      "Date                                \n",
      "2018-02-07  1048.579956  1081.277100\n",
      "2018-02-08  1001.520020  1067.304810\n",
      "2018-02-09  1037.780029  1028.376221\n",
      "2018-02-12  1051.939941  1045.161499\n",
      "2018-02-13  1052.099976  1068.053955\n",
      "...                 ...          ...\n",
      "2021-06-14  2527.040039  2514.229248\n",
      "2021-06-15  2520.659912  2522.068848\n",
      "2021-06-16  2513.929932  2515.885742\n",
      "2021-06-17  2527.419922  2507.581299\n",
      "2021-06-18  2511.350098  2520.961670\n",
      "\n",
      "[847 rows x 2 columns]\n"
     ]
    }
   ],
   "source": [
    "print(valid)"
   ]
  },
  {
   "cell_type": "code",
   "execution_count": 33,
   "metadata": {},
   "outputs": [
    {
     "name": "stdout",
     "output_type": "stream",
     "text": [
      "\n",
      " ============> Close Price over Predicate Price \n",
      " ============> 12.8108....-1.4089....-1.9558....19.8386....-9.6116....<=============\n"
     ]
    }
   ],
   "source": [
    "# print (valid.iloc[-1,0], valid.iloc[-1,1])\n",
    "print (\"\\n ============> Close Price over Predicate Price \\n ============> %.4f....%.4f....%.4f....%.4f....%.4f....<=============\" %((valid.iloc[-5,0] - valid.iloc[-5,1]), (valid.iloc[-4,0] - valid.iloc[-4,1]),(valid.iloc[-3,0] - valid.iloc[-3,1]),(valid.iloc[-2,0] - valid.iloc[-2,1]),(valid.iloc[-1,0] - valid.iloc[-1,1])))"
   ]
  },
  {
   "cell_type": "code",
   "execution_count": 34,
   "metadata": {},
   "outputs": [
    {
     "name": "stdout",
     "output_type": "stream",
     "text": [
      "[[2508.8674]]\n"
     ]
    }
   ],
   "source": [
    "stock_quote = web.DataReader(stock, data_source =  'yahoo', start = start , end = date)\n",
    "new_df = stock_quote.filter(['Close'])\n",
    "last_60_days = new_df[-60:].values\n",
    "last_60_days_scaled = scaler.transform(last_60_days)\n",
    "X_test = []\n",
    "X_test.append(last_60_days_scaled)\n",
    "X_test = np.array(X_test)\n",
    "X_test = np.reshape(X_test,(X_test.shape[0], X_test.shape[1],1))\n",
    "pred_price = model.predict(X_test)\n",
    "pred_price = scaler.inverse_transform(pred_price)\n",
    "print(pred_price)"
   ]
  },
  {
   "cell_type": "code",
   "execution_count": 35,
   "metadata": {},
   "outputs": [],
   "source": [
    "#stock_quote2 = web.DataReader(stock, data_source =  'yahoo', start = date , end = date)\n",
    "#print (stock_quote2['Close'])"
   ]
  }
 ],
 "metadata": {
  "kernelspec": {
   "display_name": "Python 3",
   "language": "python",
   "name": "python3"
  },
  "language_info": {
   "codemirror_mode": {
    "name": "ipython",
    "version": 3
   },
   "file_extension": ".py",
   "mimetype": "text/x-python",
   "name": "python",
   "nbconvert_exporter": "python",
   "pygments_lexer": "ipython3",
   "version": "3.8.5"
  }
 },
 "nbformat": 4,
 "nbformat_minor": 4
}
