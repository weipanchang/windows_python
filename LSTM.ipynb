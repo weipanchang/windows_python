{
 "cells": [
  {
   "cell_type": "code",
   "execution_count": 1,
   "metadata": {},
   "outputs": [],
   "source": [
    "import math"
   ]
  },
  {
   "cell_type": "code",
   "execution_count": 2,
   "metadata": {},
   "outputs": [],
   "source": [
    "import pandas_datareader as web"
   ]
  },
  {
   "cell_type": "code",
   "execution_count": 3,
   "metadata": {},
   "outputs": [],
   "source": [
    "import numpy as np"
   ]
  },
  {
   "cell_type": "code",
   "execution_count": 4,
   "metadata": {},
   "outputs": [],
   "source": [
    "import pandas as pd"
   ]
  },
  {
   "cell_type": "code",
   "execution_count": 5,
   "metadata": {},
   "outputs": [],
   "source": [
    "#from sklearn import preprocessing"
   ]
  },
  {
   "cell_type": "code",
   "execution_count": 6,
   "metadata": {},
   "outputs": [],
   "source": [
    "from sklearn.preprocessing import MinMaxScaler"
   ]
  },
  {
   "cell_type": "code",
   "execution_count": 7,
   "metadata": {
    "scrolled": true
   },
   "outputs": [],
   "source": [
    "from keras.models import Sequential"
   ]
  },
  {
   "cell_type": "code",
   "execution_count": 8,
   "metadata": {},
   "outputs": [],
   "source": [
    "from keras.layers import Dense, LSTM"
   ]
  },
  {
   "cell_type": "code",
   "execution_count": 9,
   "metadata": {},
   "outputs": [],
   "source": [
    "import matplotlib.pyplot as plt"
   ]
  },
  {
   "cell_type": "code",
   "execution_count": 10,
   "metadata": {},
   "outputs": [],
   "source": [
    "import datetime\n",
    "from datetime import date"
   ]
  },
  {
   "cell_type": "code",
   "execution_count": 11,
   "metadata": {},
   "outputs": [],
   "source": [
    "plt.style.use('fivethirtyeight')"
   ]
  },
  {
   "cell_type": "code",
   "execution_count": 12,
   "metadata": {},
   "outputs": [],
   "source": [
    "stock = 'box'\n",
    "\n",
    "years_of_data_to_process = 25\n",
    "currentDateTime = datetime.datetime.now()\n",
    "date = currentDateTime.date()\n",
    "year = date.strftime(\"%Y\")\n",
    "start_year =  int(year) - years_of_data_to_process\n",
    "start = datetime.datetime(start_year, 1, 1)"
   ]
  },
  {
   "cell_type": "code",
   "execution_count": 13,
   "metadata": {},
   "outputs": [
    {
     "data": {
      "text/html": [
       "<div>\n",
       "<style scoped>\n",
       "    .dataframe tbody tr th:only-of-type {\n",
       "        vertical-align: middle;\n",
       "    }\n",
       "\n",
       "    .dataframe tbody tr th {\n",
       "        vertical-align: top;\n",
       "    }\n",
       "\n",
       "    .dataframe thead th {\n",
       "        text-align: right;\n",
       "    }\n",
       "</style>\n",
       "<table border=\"1\" class=\"dataframe\">\n",
       "  <thead>\n",
       "    <tr style=\"text-align: right;\">\n",
       "      <th></th>\n",
       "      <th>High</th>\n",
       "      <th>Low</th>\n",
       "      <th>Open</th>\n",
       "      <th>Close</th>\n",
       "      <th>Volume</th>\n",
       "      <th>Adj Close</th>\n",
       "    </tr>\n",
       "    <tr>\n",
       "      <th>Date</th>\n",
       "      <th></th>\n",
       "      <th></th>\n",
       "      <th></th>\n",
       "      <th></th>\n",
       "      <th></th>\n",
       "      <th></th>\n",
       "    </tr>\n",
       "  </thead>\n",
       "  <tbody>\n",
       "    <tr>\n",
       "      <th>2015-01-23</th>\n",
       "      <td>24.730000</td>\n",
       "      <td>20.160000</td>\n",
       "      <td>20.200001</td>\n",
       "      <td>23.230000</td>\n",
       "      <td>42593200</td>\n",
       "      <td>23.230000</td>\n",
       "    </tr>\n",
       "    <tr>\n",
       "      <th>2015-01-26</th>\n",
       "      <td>24.389999</td>\n",
       "      <td>22.500000</td>\n",
       "      <td>23.670000</td>\n",
       "      <td>22.600000</td>\n",
       "      <td>8677200</td>\n",
       "      <td>22.600000</td>\n",
       "    </tr>\n",
       "    <tr>\n",
       "      <th>2015-01-27</th>\n",
       "      <td>22.469999</td>\n",
       "      <td>21.170000</td>\n",
       "      <td>22.000000</td>\n",
       "      <td>21.299999</td>\n",
       "      <td>3272500</td>\n",
       "      <td>21.299999</td>\n",
       "    </tr>\n",
       "    <tr>\n",
       "      <th>2015-01-28</th>\n",
       "      <td>21.840000</td>\n",
       "      <td>19.600000</td>\n",
       "      <td>21.620001</td>\n",
       "      <td>19.780001</td>\n",
       "      <td>5047400</td>\n",
       "      <td>19.780001</td>\n",
       "    </tr>\n",
       "    <tr>\n",
       "      <th>2015-01-29</th>\n",
       "      <td>19.950001</td>\n",
       "      <td>18.510000</td>\n",
       "      <td>19.900000</td>\n",
       "      <td>18.799999</td>\n",
       "      <td>3419500</td>\n",
       "      <td>18.799999</td>\n",
       "    </tr>\n",
       "    <tr>\n",
       "      <th>...</th>\n",
       "      <td>...</td>\n",
       "      <td>...</td>\n",
       "      <td>...</td>\n",
       "      <td>...</td>\n",
       "      <td>...</td>\n",
       "      <td>...</td>\n",
       "    </tr>\n",
       "    <tr>\n",
       "      <th>2021-06-14</th>\n",
       "      <td>25.420000</td>\n",
       "      <td>24.879999</td>\n",
       "      <td>25.070000</td>\n",
       "      <td>25.129999</td>\n",
       "      <td>2552000</td>\n",
       "      <td>25.129999</td>\n",
       "    </tr>\n",
       "    <tr>\n",
       "      <th>2021-06-15</th>\n",
       "      <td>25.230000</td>\n",
       "      <td>24.945000</td>\n",
       "      <td>25.110001</td>\n",
       "      <td>25.200001</td>\n",
       "      <td>2112100</td>\n",
       "      <td>25.200001</td>\n",
       "    </tr>\n",
       "    <tr>\n",
       "      <th>2021-06-16</th>\n",
       "      <td>25.448999</td>\n",
       "      <td>24.790001</td>\n",
       "      <td>25.209999</td>\n",
       "      <td>25.139999</td>\n",
       "      <td>3216500</td>\n",
       "      <td>25.139999</td>\n",
       "    </tr>\n",
       "    <tr>\n",
       "      <th>2021-06-17</th>\n",
       "      <td>25.389999</td>\n",
       "      <td>24.639999</td>\n",
       "      <td>25.030001</td>\n",
       "      <td>24.980000</td>\n",
       "      <td>2461000</td>\n",
       "      <td>24.980000</td>\n",
       "    </tr>\n",
       "    <tr>\n",
       "      <th>2021-06-18</th>\n",
       "      <td>25.280001</td>\n",
       "      <td>24.840000</td>\n",
       "      <td>24.969999</td>\n",
       "      <td>24.990000</td>\n",
       "      <td>3617235</td>\n",
       "      <td>24.990000</td>\n",
       "    </tr>\n",
       "  </tbody>\n",
       "</table>\n",
       "<p>1613 rows × 6 columns</p>\n",
       "</div>"
      ],
      "text/plain": [
       "                 High        Low       Open      Close    Volume  Adj Close\n",
       "Date                                                                       \n",
       "2015-01-23  24.730000  20.160000  20.200001  23.230000  42593200  23.230000\n",
       "2015-01-26  24.389999  22.500000  23.670000  22.600000   8677200  22.600000\n",
       "2015-01-27  22.469999  21.170000  22.000000  21.299999   3272500  21.299999\n",
       "2015-01-28  21.840000  19.600000  21.620001  19.780001   5047400  19.780001\n",
       "2015-01-29  19.950001  18.510000  19.900000  18.799999   3419500  18.799999\n",
       "...               ...        ...        ...        ...       ...        ...\n",
       "2021-06-14  25.420000  24.879999  25.070000  25.129999   2552000  25.129999\n",
       "2021-06-15  25.230000  24.945000  25.110001  25.200001   2112100  25.200001\n",
       "2021-06-16  25.448999  24.790001  25.209999  25.139999   3216500  25.139999\n",
       "2021-06-17  25.389999  24.639999  25.030001  24.980000   2461000  24.980000\n",
       "2021-06-18  25.280001  24.840000  24.969999  24.990000   3617235  24.990000\n",
       "\n",
       "[1613 rows x 6 columns]"
      ]
     },
     "execution_count": 13,
     "metadata": {},
     "output_type": "execute_result"
    }
   ],
   "source": [
    "df = web.DataReader(stock, data_source='yahoo', start = start, end = date)\n",
    "df.dropna(inplace= True)\n",
    "df"
   ]
  },
  {
   "cell_type": "code",
   "execution_count": 14,
   "metadata": {},
   "outputs": [
    {
     "data": {
      "text/plain": [
       "(1613, 6)"
      ]
     },
     "execution_count": 14,
     "metadata": {},
     "output_type": "execute_result"
    }
   ],
   "source": [
    "df.shape"
   ]
  },
  {
   "cell_type": "code",
   "execution_count": 15,
   "metadata": {},
   "outputs": [
    {
     "data": {
      "image/png": "[encoded data removed]",
      "text/plain": [
       "<Figure size 1152x576 with 1 Axes>"
      ]
     },
     "metadata": {},
     "output_type": "display_data"
    }
   ],
   "source": [
    "plt.figure(figsize=(16,8))\n",
    "\n",
    "plt.title(stock.upper())\n",
    "#plt.title( plt.title(str(stock)))\n",
    "plt.plot(df['Close'])\n",
    "plt.xlabel('Date', fontsize=18)\n",
    "plt.ylabel('Close Price USD ($)', fontsize =18)\n",
    "plt.show()"
   ]
  },
  {
   "cell_type": "code",
   "execution_count": 16,
   "metadata": {},
   "outputs": [
    {
     "data": {
      "text/plain": [
       "1291"
      ]
     },
     "execution_count": 16,
     "metadata": {},
     "output_type": "execute_result"
    }
   ],
   "source": [
    "data =df.filter(['Close'])\n",
    "dataset = data.values\n",
    "training_data_len = math.ceil(len(dataset) *.8)\n",
    "training_data_len"
   ]
  },
  {
   "cell_type": "code",
   "execution_count": 17,
   "metadata": {},
   "outputs": [
    {
     "data": {
      "text/plain": [
       "array([[0.70940168],\n",
       "       [0.67772751],\n",
       "       [0.61236798],\n",
       "       ...,\n",
       "       [0.80542983],\n",
       "       [0.79738559],\n",
       "       [0.79788837]])"
      ]
     },
     "execution_count": 17,
     "metadata": {},
     "output_type": "execute_result"
    }
   ],
   "source": [
    "scaler = MinMaxScaler(feature_range=(0,1))\n",
    "scaled_data = scaler.fit_transform(dataset)\n",
    "\n",
    "scaled_data"
   ]
  },
  {
   "cell_type": "code",
   "execution_count": 18,
   "metadata": {},
   "outputs": [],
   "source": [
    "train_data = scaled_data[0:training_data_len, :]\n",
    "x_train = []\n",
    "y_train = []\n",
    "\n",
    "for i in range(60, len(train_data)):\n",
    "    x_train.append(train_data[i-60:i, 0])\n",
    "    y_train.append(train_data[i, 0])\n",
    "#    if i <= 60:\n",
    "#        print (x_train)\n",
    "#        print (y_train)\n",
    "#        print ()\n",
    "    "
   ]
  },
  {
   "cell_type": "code",
   "execution_count": 19,
   "metadata": {},
   "outputs": [],
   "source": [
    "x_train, y_train = np.array(x_train), np.array(y_train)"
   ]
  },
  {
   "cell_type": "code",
   "execution_count": 20,
   "metadata": {},
   "outputs": [
    {
     "data": {
      "text/plain": [
       "(1231, 60, 1)"
      ]
     },
     "execution_count": 20,
     "metadata": {},
     "output_type": "execute_result"
    }
   ],
   "source": [
    "x_train = np.reshape(x_train,(x_train.shape[0], x_train.shape[1],1))\n",
    "x_train.shape"
   ]
  },
  {
   "cell_type": "code",
   "execution_count": 21,
   "metadata": {},
   "outputs": [],
   "source": [
    "model = Sequential()\n",
    "model.add(LSTM(50, return_sequences=True, input_shape = (x_train.shape[1],1)))\n",
    "model.add(LSTM(50, return_sequences=False))\n",
    "model.add(Dense(25))\n",
    "model.add(Dense(1))\n",
    "    "
   ]
  },
  {
   "cell_type": "code",
   "execution_count": 22,
   "metadata": {},
   "outputs": [],
   "source": [
    "model.compile(optimizer = 'adam', loss = 'mean_squared_error')"
   ]
  },
  {
   "cell_type": "code",
   "execution_count": 23,
   "metadata": {},
   "outputs": [
    {
     "name": "stdout",
     "output_type": "stream",
     "text": [
      "Epoch 1/200\n",
      "10/10 [==============================] - 14s 56ms/step - loss: 0.1425\n",
      "Epoch 2/200\n",
      "10/10 [==============================] - 1s 56ms/step - loss: 0.0207\n",
      "Epoch 3/200\n",
      "10/10 [==============================] - 1s 53ms/step - loss: 0.0107\n",
      "Epoch 4/200\n",
      "10/10 [==============================] - 1s 53ms/step - loss: 0.0063\n",
      "Epoch 5/200\n",
      "10/10 [==============================] - 1s 63ms/step - loss: 0.0042\n",
      "Epoch 6/200\n",
      "10/10 [==============================] - 1s 58ms/step - loss: 0.0033\n",
      "Epoch 7/200\n",
      "10/10 [==============================] - 1s 57ms/step - loss: 0.0029\n",
      "Epoch 8/200\n",
      "10/10 [==============================] - 1s 54ms/step - loss: 0.0027\n",
      "Epoch 9/200\n",
      "10/10 [==============================] - 1s 53ms/step - loss: 0.0027\n",
      "Epoch 10/200\n",
      "10/10 [==============================] - 1s 53ms/step - loss: 0.0027\n",
      "Epoch 11/200\n",
      "10/10 [==============================] - 1s 52ms/step - loss: 0.0026\n",
      "Epoch 12/200\n",
      "10/10 [==============================] - 1s 53ms/step - loss: 0.0026\n",
      "Epoch 13/200\n",
      "10/10 [==============================] - 1s 52ms/step - loss: 0.0026\n",
      "Epoch 14/200\n",
      "10/10 [==============================] - 1s 51ms/step - loss: 0.0024\n",
      "Epoch 15/200\n",
      "10/10 [==============================] - 1s 52ms/step - loss: 0.0025\n",
      "Epoch 16/200\n",
      "10/10 [==============================] - 1s 53ms/step - loss: 0.0024\n",
      "Epoch 17/200\n",
      "10/10 [==============================] - 1s 52ms/step - loss: 0.0023\n",
      "Epoch 18/200\n",
      "10/10 [==============================] - 1s 53ms/step - loss: 0.0023\n",
      "Epoch 19/200\n",
      "10/10 [==============================] - 1s 53ms/step - loss: 0.0022\n",
      "Epoch 20/200\n",
      "10/10 [==============================] - 1s 53ms/step - loss: 0.0024\n",
      "Epoch 21/200\n",
      "10/10 [==============================] - 1s 52ms/step - loss: 0.0021\n",
      "Epoch 22/200\n",
      "10/10 [==============================] - 1s 53ms/step - loss: 0.0019\n",
      "Epoch 23/200\n",
      "10/10 [==============================] - 1s 52ms/step - loss: 0.0020\n",
      "Epoch 24/200\n",
      "10/10 [==============================] - 1s 54ms/step - loss: 0.0018\n",
      "Epoch 25/200\n",
      "10/10 [==============================] - 1s 53ms/step - loss: 0.0019\n",
      "Epoch 26/200\n",
      "10/10 [==============================] - 1s 54ms/step - loss: 0.0019\n",
      "Epoch 27/200\n",
      "10/10 [==============================] - 1s 52ms/step - loss: 0.0019\n",
      "Epoch 28/200\n",
      "10/10 [==============================] - 1s 54ms/step - loss: 0.0020\n",
      "Epoch 29/200\n",
      "10/10 [==============================] - 1s 51ms/step - loss: 0.0019\n",
      "Epoch 30/200\n",
      "10/10 [==============================] - 1s 51ms/step - loss: 0.0019\n",
      "Epoch 31/200\n",
      "10/10 [==============================] - 1s 53ms/step - loss: 0.0020\n",
      "Epoch 32/200\n",
      "10/10 [==============================] - 1s 51ms/step - loss: 0.0018\n",
      "Epoch 33/200\n",
      "10/10 [==============================] - 1s 52ms/step - loss: 0.0018\n",
      "Epoch 34/200\n",
      "10/10 [==============================] - 1s 52ms/step - loss: 0.0018\n",
      "Epoch 35/200\n",
      "10/10 [==============================] - 1s 54ms/step - loss: 0.0018\n",
      "Epoch 36/200\n",
      "10/10 [==============================] - 1s 54ms/step - loss: 0.0017\n",
      "Epoch 37/200\n",
      "10/10 [==============================] - 1s 52ms/step - loss: 0.0019\n",
      "Epoch 38/200\n",
      "10/10 [==============================] - 1s 52ms/step - loss: 0.0018\n",
      "Epoch 39/200\n",
      "10/10 [==============================] - 1s 51ms/step - loss: 0.0019\n",
      "Epoch 40/200\n",
      "10/10 [==============================] - 1s 52ms/step - loss: 0.0016\n",
      "Epoch 41/200\n",
      "10/10 [==============================] - 1s 52ms/step - loss: 0.0018\n",
      "Epoch 42/200\n",
      "10/10 [==============================] - 1s 52ms/step - loss: 0.0018\n",
      "Epoch 43/200\n",
      "10/10 [==============================] - 1s 53ms/step - loss: 0.0015\n",
      "Epoch 44/200\n",
      "10/10 [==============================] - 1s 53ms/step - loss: 0.0015\n",
      "Epoch 45/200\n",
      "10/10 [==============================] - 1s 52ms/step - loss: 0.0015\n",
      "Epoch 46/200\n",
      "10/10 [==============================] - 1s 51ms/step - loss: 0.0017\n",
      "Epoch 47/200\n",
      "10/10 [==============================] - 1s 52ms/step - loss: 0.0015\n",
      "Epoch 48/200\n",
      "10/10 [==============================] - 1s 52ms/step - loss: 0.0014\n",
      "Epoch 49/200\n",
      "10/10 [==============================] - 1s 51ms/step - loss: 0.0015\n",
      "Epoch 50/200\n",
      "10/10 [==============================] - 1s 53ms/step - loss: 0.0016\n",
      "Epoch 51/200\n",
      "10/10 [==============================] - 1s 52ms/step - loss: 0.0013\n",
      "Epoch 52/200\n",
      "10/10 [==============================] - 1s 53ms/step - loss: 0.0013\n",
      "Epoch 53/200\n",
      "10/10 [==============================] - 1s 54ms/step - loss: 0.0013\n",
      "Epoch 54/200\n",
      "10/10 [==============================] - 1s 52ms/step - loss: 0.0014\n",
      "Epoch 55/200\n",
      "10/10 [==============================] - 1s 52ms/step - loss: 0.0013\n",
      "Epoch 56/200\n",
      "10/10 [==============================] - 1s 51ms/step - loss: 0.0014\n",
      "Epoch 57/200\n",
      "10/10 [==============================] - 1s 53ms/step - loss: 0.0013\n",
      "Epoch 58/200\n",
      "10/10 [==============================] - 1s 52ms/step - loss: 0.0011\n",
      "Epoch 59/200\n",
      "10/10 [==============================] - 1s 52ms/step - loss: 0.0012\n",
      "Epoch 60/200\n",
      "10/10 [==============================] - 1s 52ms/step - loss: 0.0013\n",
      "Epoch 61/200\n",
      "10/10 [==============================] - 1s 51ms/step - loss: 0.0014\n",
      "Epoch 62/200\n",
      "10/10 [==============================] - 1s 53ms/step - loss: 0.0012\n",
      "Epoch 63/200\n",
      "10/10 [==============================] - 1s 52ms/step - loss: 0.0012\n",
      "Epoch 64/200\n",
      "10/10 [==============================] - 1s 52ms/step - loss: 0.0012\n",
      "Epoch 65/200\n",
      "10/10 [==============================] - 1s 52ms/step - loss: 0.0013\n",
      "Epoch 66/200\n",
      "10/10 [==============================] - 1s 54ms/step - loss: 0.0011\n",
      "Epoch 67/200\n",
      "10/10 [==============================] - 1s 53ms/step - loss: 0.0010\n",
      "Epoch 68/200\n",
      "10/10 [==============================] - 1s 52ms/step - loss: 0.0011\n",
      "Epoch 69/200\n",
      "10/10 [==============================] - 1s 53ms/step - loss: 0.0012\n",
      "Epoch 70/200\n",
      "10/10 [==============================] - 1s 59ms/step - loss: 0.0010\n",
      "Epoch 71/200\n",
      "10/10 [==============================] - 1s 52ms/step - loss: 0.0010\n",
      "Epoch 72/200\n",
      "10/10 [==============================] - 1s 58ms/step - loss: 9.9177e-04\n",
      "Epoch 73/200\n",
      "10/10 [==============================] - 1s 59ms/step - loss: 0.0011\n",
      "Epoch 74/200\n",
      "10/10 [==============================] - 1s 55ms/step - loss: 0.0011\n",
      "Epoch 75/200\n",
      "10/10 [==============================] - 1s 58ms/step - loss: 9.2278e-04\n",
      "Epoch 76/200\n",
      "10/10 [==============================] - 1s 61ms/step - loss: 0.0011\n",
      "Epoch 77/200\n",
      "10/10 [==============================] - 1s 55ms/step - loss: 0.0010\n",
      "Epoch 78/200\n",
      "10/10 [==============================] - 1s 54ms/step - loss: 9.3376e-04\n",
      "Epoch 79/200\n",
      "10/10 [==============================] - 1s 60ms/step - loss: 8.4645e-04\n",
      "Epoch 80/200\n",
      "10/10 [==============================] - 1s 56ms/step - loss: 9.6619e-04\n",
      "Epoch 81/200\n",
      "10/10 [==============================] - 1s 64ms/step - loss: 9.5462e-04\n",
      "Epoch 82/200\n",
      "10/10 [==============================] - 1s 77ms/step - loss: 9.6386e-04\n",
      "Epoch 83/200\n",
      "10/10 [==============================] - 1s 66ms/step - loss: 9.4969e-04\n",
      "Epoch 84/200\n",
      "10/10 [==============================] - 1s 57ms/step - loss: 9.1207e-04\n",
      "Epoch 85/200\n",
      "10/10 [==============================] - 1s 56ms/step - loss: 9.0928e-04\n",
      "Epoch 86/200\n",
      "10/10 [==============================] - 1s 53ms/step - loss: 9.1154e-04\n",
      "Epoch 87/200\n",
      "10/10 [==============================] - 1s 58ms/step - loss: 9.2376e-04\n",
      "Epoch 88/200\n",
      "10/10 [==============================] - 1s 54ms/step - loss: 8.4146e-04\n",
      "Epoch 89/200\n",
      "10/10 [==============================] - 1s 55ms/step - loss: 0.0010\n",
      "Epoch 90/200\n",
      "10/10 [==============================] - 1s 53ms/step - loss: 9.4410e-04\n",
      "Epoch 91/200\n",
      "10/10 [==============================] - 1s 51ms/step - loss: 8.7774e-04\n",
      "Epoch 92/200\n",
      "10/10 [==============================] - 1s 53ms/step - loss: 8.2098e-04\n",
      "Epoch 93/200\n",
      "10/10 [==============================] - 1s 54ms/step - loss: 8.2088e-04\n",
      "Epoch 94/200\n",
      "10/10 [==============================] - 1s 54ms/step - loss: 8.4695e-04\n",
      "Epoch 95/200\n",
      "10/10 [==============================] - 1s 58ms/step - loss: 9.0230e-04\n",
      "Epoch 96/200\n",
      "10/10 [==============================] - 1s 55ms/step - loss: 9.2438e-04\n",
      "Epoch 97/200\n",
      "10/10 [==============================] - 1s 93ms/step - loss: 8.8918e-04\n",
      "Epoch 98/200\n",
      "10/10 [==============================] - 1s 104ms/step - loss: 8.3924e-04\n",
      "Epoch 99/200\n"
     ]
    },
    {
     "name": "stdout",
     "output_type": "stream",
     "text": [
      "10/10 [==============================] - 1s 78ms/step - loss: 8.8813e-04\n",
      "Epoch 100/200\n",
      "10/10 [==============================] - 1s 59ms/step - loss: 0.0011\n",
      "Epoch 101/200\n",
      "10/10 [==============================] - 1s 53ms/step - loss: 7.4639e-04\n",
      "Epoch 102/200\n",
      "10/10 [==============================] - 1s 52ms/step - loss: 8.9521e-04\n",
      "Epoch 103/200\n",
      "10/10 [==============================] - 1s 51ms/step - loss: 8.6581e-04\n",
      "Epoch 104/200\n",
      "10/10 [==============================] - 1s 51ms/step - loss: 8.2944e-04\n",
      "Epoch 105/200\n",
      "10/10 [==============================] - 1s 50ms/step - loss: 7.3891e-04\n",
      "Epoch 106/200\n",
      "10/10 [==============================] - 1s 51ms/step - loss: 8.0150e-04\n",
      "Epoch 107/200\n",
      "10/10 [==============================] - 1s 50ms/step - loss: 7.9469e-04\n",
      "Epoch 108/200\n",
      "10/10 [==============================] - 0s 50ms/step - loss: 7.5501e-04\n",
      "Epoch 109/200\n",
      "10/10 [==============================] - 1s 55ms/step - loss: 8.2092e-04\n",
      "Epoch 110/200\n",
      "10/10 [==============================] - 1s 52ms/step - loss: 7.6244e-04\n",
      "Epoch 111/200\n",
      "10/10 [==============================] - 1s 51ms/step - loss: 7.6961e-04\n",
      "Epoch 112/200\n",
      "10/10 [==============================] - 1s 52ms/step - loss: 9.3709e-04\n",
      "Epoch 113/200\n",
      "10/10 [==============================] - 1s 53ms/step - loss: 7.8357e-04\n",
      "Epoch 114/200\n",
      "10/10 [==============================] - 1s 57ms/step - loss: 9.1191e-04\n",
      "Epoch 115/200\n",
      "10/10 [==============================] - 1s 94ms/step - loss: 8.1899e-04\n",
      "Epoch 116/200\n",
      "10/10 [==============================] - 1s 96ms/step - loss: 8.3144e-04\n",
      "Epoch 117/200\n",
      "10/10 [==============================] - 1s 54ms/step - loss: 7.6566e-04\n",
      "Epoch 118/200\n",
      "10/10 [==============================] - 1s 59ms/step - loss: 8.3432e-04\n",
      "Epoch 119/200\n",
      "10/10 [==============================] - 1s 53ms/step - loss: 8.6574e-04\n",
      "Epoch 120/200\n",
      "10/10 [==============================] - 1s 56ms/step - loss: 7.2998e-04\n",
      "Epoch 121/200\n",
      "10/10 [==============================] - 1s 69ms/step - loss: 7.9702e-04\n",
      "Epoch 122/200\n",
      "10/10 [==============================] - 1s 58ms/step - loss: 7.5028e-04\n",
      "Epoch 123/200\n",
      "10/10 [==============================] - 1s 54ms/step - loss: 5.9858e-04\n",
      "Epoch 124/200\n",
      "10/10 [==============================] - 1s 52ms/step - loss: 8.0618e-04\n",
      "Epoch 125/200\n",
      "10/10 [==============================] - 1s 51ms/step - loss: 7.7160e-04\n",
      "Epoch 126/200\n",
      "10/10 [==============================] - 1s 51ms/step - loss: 8.8687e-04\n",
      "Epoch 127/200\n",
      "10/10 [==============================] - 1s 54ms/step - loss: 7.1895e-04\n",
      "Epoch 128/200\n",
      "10/10 [==============================] - 1s 51ms/step - loss: 8.3922e-04\n",
      "Epoch 129/200\n",
      "10/10 [==============================] - 1s 52ms/step - loss: 6.5324e-04\n",
      "Epoch 130/200\n",
      "10/10 [==============================] - 1s 50ms/step - loss: 7.6462e-04\n",
      "Epoch 131/200\n",
      "10/10 [==============================] - 1s 56ms/step - loss: 7.0872e-04\n",
      "Epoch 132/200\n",
      "10/10 [==============================] - 1s 55ms/step - loss: 9.4334e-04\n",
      "Epoch 133/200\n",
      "10/10 [==============================] - 1s 50ms/step - loss: 8.6918e-04\n",
      "Epoch 134/200\n",
      "10/10 [==============================] - 1s 53ms/step - loss: 7.0505e-04\n",
      "Epoch 135/200\n",
      "10/10 [==============================] - 1s 57ms/step - loss: 6.6167e-04\n",
      "Epoch 136/200\n",
      "10/10 [==============================] - 1s 64ms/step - loss: 7.6203e-04\n",
      "Epoch 137/200\n",
      "10/10 [==============================] - 1s 52ms/step - loss: 6.8226e-04\n",
      "Epoch 138/200\n",
      "10/10 [==============================] - 1s 51ms/step - loss: 7.1953e-04\n",
      "Epoch 139/200\n",
      "10/10 [==============================] - 1s 50ms/step - loss: 7.0298e-04\n",
      "Epoch 140/200\n",
      "10/10 [==============================] - 0s 50ms/step - loss: 6.7843e-04\n",
      "Epoch 141/200\n",
      "10/10 [==============================] - 0s 50ms/step - loss: 7.8019e-04\n",
      "Epoch 142/200\n",
      "10/10 [==============================] - 1s 51ms/step - loss: 7.1902e-04\n",
      "Epoch 143/200\n",
      "10/10 [==============================] - 1s 51ms/step - loss: 6.8189e-04\n",
      "Epoch 144/200\n",
      "10/10 [==============================] - 1s 51ms/step - loss: 7.5790e-04\n",
      "Epoch 145/200\n",
      "10/10 [==============================] - 1s 50ms/step - loss: 8.1013e-04\n",
      "Epoch 146/200\n",
      "10/10 [==============================] - 1s 51ms/step - loss: 7.9903e-04\n",
      "Epoch 147/200\n",
      "10/10 [==============================] - 1s 50ms/step - loss: 6.4049e-04\n",
      "Epoch 148/200\n",
      "10/10 [==============================] - 1s 51ms/step - loss: 7.1701e-04\n",
      "Epoch 149/200\n",
      "10/10 [==============================] - 1s 50ms/step - loss: 7.0907e-04\n",
      "Epoch 150/200\n",
      "10/10 [==============================] - 1s 55ms/step - loss: 7.9904e-04\n",
      "Epoch 151/200\n",
      "10/10 [==============================] - 1s 57ms/step - loss: 6.0563e-04\n",
      "Epoch 152/200\n",
      "10/10 [==============================] - 1s 53ms/step - loss: 6.6631e-04\n",
      "Epoch 153/200\n",
      "10/10 [==============================] - 1s 50ms/step - loss: 6.1312e-04\n",
      "Epoch 154/200\n",
      "10/10 [==============================] - 1s 52ms/step - loss: 7.8074e-04\n",
      "Epoch 155/200\n",
      "10/10 [==============================] - 1s 52ms/step - loss: 6.4560e-04\n",
      "Epoch 156/200\n",
      "10/10 [==============================] - 1s 51ms/step - loss: 7.1200e-04\n",
      "Epoch 157/200\n",
      "10/10 [==============================] - 1s 61ms/step - loss: 7.1950e-04\n",
      "Epoch 158/200\n",
      "10/10 [==============================] - 1s 57ms/step - loss: 6.8355e-04\n",
      "Epoch 159/200\n",
      "10/10 [==============================] - 1s 54ms/step - loss: 7.7873e-04\n",
      "Epoch 160/200\n",
      "10/10 [==============================] - 1s 52ms/step - loss: 6.6383e-04\n",
      "Epoch 161/200\n",
      "10/10 [==============================] - 1s 53ms/step - loss: 7.7109e-04\n",
      "Epoch 162/200\n",
      "10/10 [==============================] - 1s 52ms/step - loss: 6.7682e-04\n",
      "Epoch 163/200\n",
      "10/10 [==============================] - 1s 55ms/step - loss: 7.4180e-04\n",
      "Epoch 164/200\n",
      "10/10 [==============================] - 1s 58ms/step - loss: 8.1727e-04\n",
      "Epoch 165/200\n",
      "10/10 [==============================] - 1s 51ms/step - loss: 6.6071e-04\n",
      "Epoch 166/200\n",
      "10/10 [==============================] - 1s 52ms/step - loss: 7.3630e-04\n",
      "Epoch 167/200\n",
      "10/10 [==============================] - 1s 56ms/step - loss: 6.8897e-04\n",
      "Epoch 168/200\n",
      "10/10 [==============================] - 1s 57ms/step - loss: 6.8524e-04\n",
      "Epoch 169/200\n",
      "10/10 [==============================] - 1s 51ms/step - loss: 8.5021e-04\n",
      "Epoch 170/200\n",
      "10/10 [==============================] - 1s 54ms/step - loss: 8.1333e-04\n",
      "Epoch 171/200\n",
      "10/10 [==============================] - 1s 52ms/step - loss: 7.4079e-04\n",
      "Epoch 172/200\n",
      "10/10 [==============================] - 1s 54ms/step - loss: 8.0485e-04\n",
      "Epoch 173/200\n",
      "10/10 [==============================] - 1s 55ms/step - loss: 6.7587e-04\n",
      "Epoch 174/200\n",
      "10/10 [==============================] - 1s 52ms/step - loss: 0.0010\n",
      "Epoch 175/200\n",
      "10/10 [==============================] - 1s 52ms/step - loss: 7.6152e-04\n",
      "Epoch 176/200\n",
      "10/10 [==============================] - 1s 52ms/step - loss: 6.3226e-04\n",
      "Epoch 177/200\n",
      "10/10 [==============================] - 1s 53ms/step - loss: 6.8764e-04\n",
      "Epoch 178/200\n",
      "10/10 [==============================] - 1s 54ms/step - loss: 7.1382e-04\n",
      "Epoch 179/200\n",
      "10/10 [==============================] - 1s 58ms/step - loss: 6.8052e-04\n",
      "Epoch 180/200\n",
      "10/10 [==============================] - 1s 62ms/step - loss: 6.9870e-04\n",
      "Epoch 181/200\n",
      "10/10 [==============================] - 1s 56ms/step - loss: 7.2892e-04\n",
      "Epoch 182/200\n",
      "10/10 [==============================] - 1s 52ms/step - loss: 6.5849e-04\n",
      "Epoch 183/200\n",
      "10/10 [==============================] - 1s 56ms/step - loss: 6.4288e-04\n",
      "Epoch 184/200\n",
      "10/10 [==============================] - 1s 53ms/step - loss: 6.7503e-04\n",
      "Epoch 185/200\n",
      "10/10 [==============================] - 1s 52ms/step - loss: 6.1793e-04\n",
      "Epoch 186/200\n",
      "10/10 [==============================] - 1s 52ms/step - loss: 6.4092e-04\n",
      "Epoch 187/200\n",
      "10/10 [==============================] - 1s 52ms/step - loss: 6.5524e-04\n",
      "Epoch 188/200\n",
      "10/10 [==============================] - 1s 53ms/step - loss: 6.2039e-04\n",
      "Epoch 189/200\n",
      "10/10 [==============================] - 1s 51ms/step - loss: 6.2938e-04\n",
      "Epoch 190/200\n",
      "10/10 [==============================] - 1s 52ms/step - loss: 6.1188e-04\n",
      "Epoch 191/200\n",
      "10/10 [==============================] - 1s 52ms/step - loss: 7.4178e-04\n",
      "Epoch 192/200\n",
      "10/10 [==============================] - 1s 62ms/step - loss: 6.6214e-04\n",
      "Epoch 193/200\n"
     ]
    },
    {
     "name": "stdout",
     "output_type": "stream",
     "text": [
      "10/10 [==============================] - 1s 55ms/step - loss: 6.5332e-04\n",
      "Epoch 194/200\n",
      "10/10 [==============================] - 1s 55ms/step - loss: 6.5973e-04\n",
      "Epoch 195/200\n",
      "10/10 [==============================] - 1s 53ms/step - loss: 6.3285e-04\n",
      "Epoch 196/200\n",
      "10/10 [==============================] - 1s 52ms/step - loss: 7.9153e-04\n",
      "Epoch 197/200\n",
      "10/10 [==============================] - 1s 54ms/step - loss: 7.1584e-04\n",
      "Epoch 198/200\n",
      "10/10 [==============================] - 1s 53ms/step - loss: 6.2134e-04\n",
      "Epoch 199/200\n",
      "10/10 [==============================] - 1s 59ms/step - loss: 7.9413e-04\n",
      "Epoch 200/200\n",
      "10/10 [==============================] - 1s 56ms/step - loss: 6.7521e-04\n"
     ]
    },
    {
     "data": {
      "text/plain": [
       "<keras.callbacks.History at 0x1466ae50>"
      ]
     },
     "execution_count": 23,
     "metadata": {},
     "output_type": "execute_result"
    }
   ],
   "source": [
    "model.fit(x_train, y_train, batch_size=128, epochs=200)"
   ]
  },
  {
   "cell_type": "code",
   "execution_count": 24,
   "metadata": {},
   "outputs": [
    {
     "name": "stdout",
     "output_type": "stream",
     "text": [
      "Model: \"sequential\"\n",
      "_________________________________________________________________\n",
      "Layer (type)                 Output Shape              Param #   \n",
      "=================================================================\n",
      "lstm (LSTM)                  (None, 60, 50)            10400     \n",
      "_________________________________________________________________\n",
      "lstm_1 (LSTM)                (None, 50)                20200     \n",
      "_________________________________________________________________\n",
      "dense (Dense)                (None, 25)                1275      \n",
      "_________________________________________________________________\n",
      "dense_1 (Dense)              (None, 1)                 26        \n",
      "=================================================================\n",
      "Total params: 31,901\n",
      "Trainable params: 31,901\n",
      "Non-trainable params: 0\n",
      "_________________________________________________________________\n",
      "None\n"
     ]
    }
   ],
   "source": [
    "print(model.summary())"
   ]
  },
  {
   "cell_type": "code",
   "execution_count": 25,
   "metadata": {},
   "outputs": [],
   "source": [
    "test_data = scaled_data[training_data_len - 60:, :]\n",
    "x_test = []\n",
    "y_test =  dataset[training_data_len:, :]\n",
    "for i in range(60, len(test_data)):\n",
    "    x_test.append(test_data[i-60:i, 0])"
   ]
  },
  {
   "cell_type": "code",
   "execution_count": 26,
   "metadata": {},
   "outputs": [],
   "source": [
    "x_test = np.array(x_test)"
   ]
  },
  {
   "cell_type": "code",
   "execution_count": 27,
   "metadata": {},
   "outputs": [],
   "source": [
    "x_test =  np.reshape(x_test, (x_test.shape[0], x_test.shape[1], 1))"
   ]
  },
  {
   "cell_type": "code",
   "execution_count": 28,
   "metadata": {},
   "outputs": [],
   "source": [
    "predictions = model.predict(x_test)\n",
    "predictions =  scaler.inverse_transform(predictions)"
   ]
  },
  {
   "cell_type": "code",
   "execution_count": 29,
   "metadata": {},
   "outputs": [
    {
     "name": "stdout",
     "output_type": "stream",
     "text": [
      "    RMSE = 0.052635.4\n"
     ]
    }
   ],
   "source": [
    "rmse = np.sqrt(np.mean(predictions -y_test) **2)\n",
    "print (\"    RMSE = %f.4\" %rmse)"
   ]
  },
  {
   "cell_type": "code",
   "execution_count": 30,
   "metadata": {},
   "outputs": [
    {
     "name": "stderr",
     "output_type": "stream",
     "text": [
      "<ipython-input-30-6e6dce25b9c5>:3: SettingWithCopyWarning: \n",
      "A value is trying to be set on a copy of a slice from a DataFrame.\n",
      "Try using .loc[row_indexer,col_indexer] = value instead\n",
      "\n",
      "See the caveats in the documentation: https://pandas.pydata.org/pandas-docs/stable/user_guide/indexing.html#returning-a-view-versus-a-copy\n",
      "  valid['Predictions'] = predictions\n"
     ]
    },
    {
     "data": {
      "text/plain": [
       "<function matplotlib.pyplot.show(close=None, block=None)>"
      ]
     },
     "execution_count": 30,
     "metadata": {},
     "output_type": "execute_result"
    },
    {
     "data": {
      "image/png": "[encoded data removed]",
      "text/plain": [
       "<Figure size 1152x576 with 1 Axes>"
      ]
     },
     "metadata": {},
     "output_type": "display_data"
    }
   ],
   "source": [
    "train = data[:training_data_len]\n",
    "valid = data[training_data_len:]\n",
    "valid['Predictions'] = predictions\n",
    "plt.figure(figsize=(16,8))\n",
    "plt.title(stock.upper())\n",
    "plt.xlabel('Data', fontsize = 18)\n",
    "plt.ylabel('Close Price USD ($)', fontsize = 18)\n",
    "plt.plot()\n",
    "plt.plot(train['Close'])\n",
    "plt.plot(valid[['Close', 'Predictions']])\n",
    "plt.legend(['Train', 'Val', 'Predictions'], loc = 'lower right')\n",
    "plt.show"
   ]
  },
  {
   "cell_type": "code",
   "execution_count": 31,
   "metadata": {},
   "outputs": [
    {
     "name": "stdout",
     "output_type": "stream",
     "text": [
      "                Close  Predictions\n",
      "Date                              \n",
      "2020-03-11  12.230000    12.977224\n",
      "2020-03-12  10.600000    12.438309\n",
      "2020-03-13  10.930000    11.261310\n",
      "2020-03-16   9.120000    10.970509\n",
      "2020-03-17   9.230000     9.948010\n",
      "...               ...          ...\n",
      "2021-06-14  25.129999    24.913734\n",
      "2021-06-15  25.200001    25.028938\n",
      "2021-06-16  25.139999    25.106218\n",
      "2021-06-17  24.980000    25.044552\n",
      "2021-06-18  24.990000    24.879505\n",
      "\n",
      "[322 rows x 2 columns]\n"
     ]
    }
   ],
   "source": [
    "print(valid)"
   ]
  },
  {
   "cell_type": "code",
   "execution_count": 32,
   "metadata": {},
   "outputs": [
    {
     "name": "stdout",
     "output_type": "stream",
     "text": [
      "\n",
      " ============> Close Price over Predicate Price \n",
      " ============> 0.2163....0.1711....0.0338....-0.0646....0.1105....<=============\n"
     ]
    }
   ],
   "source": [
    "# print (valid.iloc[-1,0], valid.iloc[-1,1])\n",
    "print (\"\\n ============> Close Price over Predicate Price \\n ============> %.4f....%.4f....%.4f....%.4f....%.4f....<=============\" %((valid.iloc[-5,0] - valid.iloc[-5,1]), (valid.iloc[-4,0] - valid.iloc[-4,1]),(valid.iloc[-3,0] - valid.iloc[-3,1]),(valid.iloc[-2,0] - valid.iloc[-2,1]),(valid.iloc[-1,0] - valid.iloc[-1,1])))"
   ]
  },
  {
   "cell_type": "code",
   "execution_count": 33,
   "metadata": {},
   "outputs": [
    {
     "name": "stdout",
     "output_type": "stream",
     "text": [
      "[[24.891186]]\n"
     ]
    }
   ],
   "source": [
    "stock_quote = web.DataReader(stock, data_source =  'yahoo', start = start , end = date)\n",
    "new_df = stock_quote.filter(['Close'])\n",
    "last_60_days = new_df[-60:].values\n",
    "last_60_days_scaled = scaler.transform(last_60_days)\n",
    "X_test = []\n",
    "X_test.append(last_60_days_scaled)\n",
    "X_test = np.array(X_test)\n",
    "X_test = np.reshape(X_test,(X_test.shape[0], X_test.shape[1],1))\n",
    "pred_price = model.predict(X_test)\n",
    "pred_price = scaler.inverse_transform(pred_price)\n",
    "print(pred_price)"
   ]
  },
  {
   "cell_type": "code",
   "execution_count": 34,
   "metadata": {},
   "outputs": [],
   "source": [
    "#stock_quote2 = web.DataReader(stock, data_source =  'yahoo', start = date , end = date)\n",
    "#print (stock_quote2['Close'])"
   ]
  }
 ],
 "metadata": {
  "kernelspec": {
   "display_name": "Python 3",
   "language": "python",
   "name": "python3"
  },
  "language_info": {
   "codemirror_mode": {
    "name": "ipython",
    "version": 3
   },
   "file_extension": ".py",
   "mimetype": "text/x-python",
   "name": "python",
   "nbconvert_exporter": "python",
   "pygments_lexer": "ipython3",
   "version": "3.8.5"
  }
 },
 "nbformat": 4,
 "nbformat_minor": 4
}
