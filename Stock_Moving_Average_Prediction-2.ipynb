{
 "cells": [
  {
   "cell_type": "code",
   "execution_count": 1,
   "metadata": {},
   "outputs": [],
   "source": [
    "import yfinance as yf"
   ]
  },
  {
   "cell_type": "code",
   "execution_count": 2,
   "metadata": {},
   "outputs": [],
   "source": [
    "import numpy as np"
   ]
  },
  {
   "cell_type": "code",
   "execution_count": 3,
   "metadata": {},
   "outputs": [],
   "source": [
    "import pandas as pd"
   ]
  },
  {
   "cell_type": "code",
   "execution_count": 4,
   "metadata": {},
   "outputs": [],
   "source": [
    "import math"
   ]
  },
  {
   "cell_type": "code",
   "execution_count": 5,
   "metadata": {},
   "outputs": [],
   "source": [
    "#import numpy as geek  "
   ]
  },
  {
   "cell_type": "code",
   "execution_count": 6,
   "metadata": {},
   "outputs": [],
   "source": [
    "import matplotlib.pyplot as plt"
   ]
  },
  {
   "cell_type": "code",
   "execution_count": 7,
   "metadata": {},
   "outputs": [],
   "source": [
    "import pandas_datareader as web"
   ]
  },
  {
   "cell_type": "code",
   "execution_count": 8,
   "metadata": {},
   "outputs": [],
   "source": [
    "import statsmodels.api as sm"
   ]
  },
  {
   "cell_type": "code",
   "execution_count": 9,
   "metadata": {},
   "outputs": [],
   "source": [
    "import datetime\n",
    "from dateutil.relativedelta import relativedelta\n",
    "from datetime import date"
   ]
  },
  {
   "cell_type": "code",
   "execution_count": 10,
   "metadata": {},
   "outputs": [],
   "source": [
    "stock = 'fb'\n",
    "\n",
    "short_moving_average_span = 20\n",
    "long_moving_average_span = 50\n",
    "cutoff=0.50\n",
    "invest = 100\n",
    "years_of_data_to_process = 25"
   ]
  },
  {
   "cell_type": "code",
   "execution_count": 11,
   "metadata": {},
   "outputs": [],
   "source": [
    "currentDateTime = datetime.datetime.now()\n",
    "date = currentDateTime.date()\n",
    "#print (date)\n",
    "year = date.strftime(\"%Y\")\n",
    "start_year =  int(year) - years_of_data_to_process\n",
    "start = datetime.datetime(start_year, 1, 1)"
   ]
  },
  {
   "cell_type": "code",
   "execution_count": 12,
   "metadata": {},
   "outputs": [
    {
     "name": "stdout",
     "output_type": "stream",
     "text": [
      "[*********************100%***********************]  1 of 1 completed\n"
     ]
    }
   ],
   "source": [
    "data =  yf.download(stock, start=start)"
   ]
  },
  {
   "cell_type": "code",
   "execution_count": 13,
   "metadata": {},
   "outputs": [],
   "source": [
    "#data = web.DataReader(stock, data_source='yahoo', start = start, end = '2008-7-14')"
   ]
  },
  {
   "cell_type": "code",
   "execution_count": 14,
   "metadata": {},
   "outputs": [],
   "source": [
    "df = data[\"Close\"].pct_change() * 100"
   ]
  },
  {
   "cell_type": "code",
   "execution_count": 15,
   "metadata": {},
   "outputs": [],
   "source": [
    "df = df.rename(\"Today_Change_%\")\n",
    "df = df.reset_index()"
   ]
  },
  {
   "cell_type": "code",
   "execution_count": 16,
   "metadata": {},
   "outputs": [],
   "source": [
    "df1 = pd.merge(data,df, on=\"Date\")\n",
    "#df1"
   ]
  },
  {
   "cell_type": "code",
   "execution_count": 17,
   "metadata": {},
   "outputs": [],
   "source": [
    "#df1.dropna(inplace= True)\n",
    "df1.insert(7,'Volume_Lag', None)\n",
    "df1.Volume = df1.Volume.pct_change() * 100\n",
    "#df1.Volume = df1.Volume *  geek.sign(df1.Volume.values)\n",
    "df1['Volume_Lag'] = df1.Volume.shift(1).values\n"
   ]
  },
  {
   "cell_type": "code",
   "execution_count": 18,
   "metadata": {},
   "outputs": [],
   "source": [
    "df1[\"Trend\"] =  (df1[\"Close\"] - df1[\"Low\"])/ ((df1[\"High\"] - df1[\"Low\"]))"
   ]
  },
  {
   "cell_type": "code",
   "execution_count": 19,
   "metadata": {},
   "outputs": [],
   "source": [
    "df1[\"Trend_Lag\"] = df1[\"Trend\"].shift(1)"
   ]
  },
  {
   "cell_type": "code",
   "execution_count": 20,
   "metadata": {},
   "outputs": [],
   "source": [
    "df1['Close-Open'] =  df1['Close'] - df1['Open']\n",
    "df1['Close-Open_Lag'] = df1['Close-Open'].shift(1)"
   ]
  },
  {
   "cell_type": "code",
   "execution_count": 21,
   "metadata": {},
   "outputs": [],
   "source": [
    "df1['High-Low'] =  df1['High'] - df1['Low']\n",
    "df1['High-Low_Lag'] = df1['High-Low'].shift(1)"
   ]
  },
  {
   "cell_type": "code",
   "execution_count": 22,
   "metadata": {},
   "outputs": [],
   "source": [
    "df1 = sm.add_constant(df1)\n",
    "df1[\"Up_Down\"] = [1 if (i > 0) else 0 for i in df1[\"Today_Change_%\"]]"
   ]
  },
  {
   "cell_type": "code",
   "execution_count": 23,
   "metadata": {},
   "outputs": [],
   "source": [
    "df1.dropna(inplace= True)"
   ]
  },
  {
   "cell_type": "code",
   "execution_count": 24,
   "metadata": {},
   "outputs": [],
   "source": [
    "df1['Short_MV_Avg_Span'] = df1['Close'].ewm(span=short_moving_average_span, adjust=False).mean()\n",
    "df1.dropna(inplace= True)\n",
    "#df1"
   ]
  },
  {
   "cell_type": "code",
   "execution_count": 25,
   "metadata": {},
   "outputs": [],
   "source": [
    "df1['Long_MV_Avg_Span'] = df1['Close'].ewm(span=long_moving_average_span, adjust=False).mean()\n",
    "df1.dropna(inplace= True)\n",
    "#df1"
   ]
  },
  {
   "cell_type": "code",
   "execution_count": 26,
   "metadata": {},
   "outputs": [],
   "source": [
    "df1['Short_MV_Avg_Span-Long_MV_Avg_Span'] = df1.Short_MV_Avg_Span - df1.Long_MV_Avg_Span\n",
    "df1['Short_MV_Avg_Span-Long_MV_Avg_Span_Lag'] = df1['Short_MV_Avg_Span-Long_MV_Avg_Span'].shift(1)\n",
    "#df1"
   ]
  },
  {
   "cell_type": "code",
   "execution_count": 27,
   "metadata": {},
   "outputs": [],
   "source": [
    "#crossovers = pd.DataFrame()\n",
    "#crossovers['Dates'] = Short_MV_Avg_Span['Date']\n",
    "#crossovers['Price'] = [i for i in df1.Close]\n",
    "#crossovers['Short_MV_Avg_Span'] = Short_MV_Avg_Span['Close']\n",
    "#crossovers['Long_MV_Avg_Span'] = Long_MV_Avg_Span['Close']\n",
    "#crossovers"
   ]
  },
  {
   "cell_type": "code",
   "execution_count": 28,
   "metadata": {},
   "outputs": [
    {
     "data": {
      "text/html": [
       "<div>\n",
       "<style scoped>\n",
       "    .dataframe tbody tr th:only-of-type {\n",
       "        vertical-align: middle;\n",
       "    }\n",
       "\n",
       "    .dataframe tbody tr th {\n",
       "        vertical-align: top;\n",
       "    }\n",
       "\n",
       "    .dataframe thead th {\n",
       "        text-align: right;\n",
       "    }\n",
       "</style>\n",
       "<table border=\"1\" class=\"dataframe\">\n",
       "  <thead>\n",
       "    <tr style=\"text-align: right;\">\n",
       "      <th></th>\n",
       "      <th>const</th>\n",
       "      <th>Date</th>\n",
       "      <th>Open</th>\n",
       "      <th>High</th>\n",
       "      <th>Low</th>\n",
       "      <th>Close</th>\n",
       "      <th>Adj Close</th>\n",
       "      <th>Volume</th>\n",
       "      <th>Volume_Lag</th>\n",
       "      <th>Today_Change_%</th>\n",
       "      <th>...</th>\n",
       "      <th>Trend_Lag</th>\n",
       "      <th>Close-Open</th>\n",
       "      <th>Close-Open_Lag</th>\n",
       "      <th>High-Low</th>\n",
       "      <th>High-Low_Lag</th>\n",
       "      <th>Up_Down</th>\n",
       "      <th>Short_MV_Avg_Span</th>\n",
       "      <th>Long_MV_Avg_Span</th>\n",
       "      <th>Short_MV_Avg_Span-Long_MV_Avg_Span</th>\n",
       "      <th>Short_MV_Avg_Span-Long_MV_Avg_Span_Lag</th>\n",
       "    </tr>\n",
       "  </thead>\n",
       "  <tbody>\n",
       "    <tr>\n",
       "      <th>2377</th>\n",
       "      <td>1.0</td>\n",
       "      <td>2021-10-28</td>\n",
       "      <td>312.989990</td>\n",
       "      <td>325.519989</td>\n",
       "      <td>308.109985</td>\n",
       "      <td>316.920013</td>\n",
       "      <td>316.920013</td>\n",
       "      <td>69.515344</td>\n",
       "      <td>-54.348859</td>\n",
       "      <td>1.505353</td>\n",
       "      <td>...</td>\n",
       "      <td>0.022254</td>\n",
       "      <td>3.930023</td>\n",
       "      <td>-1.970001</td>\n",
       "      <td>17.410004</td>\n",
       "      <td>7.190002</td>\n",
       "      <td>1</td>\n",
       "      <td>330.756889</td>\n",
       "      <td>341.600257</td>\n",
       "      <td>-10.843368</td>\n",
       "      <td>-10.394212</td>\n",
       "    </tr>\n",
       "    <tr>\n",
       "      <th>2378</th>\n",
       "      <td>1.0</td>\n",
       "      <td>2021-10-29</td>\n",
       "      <td>320.190002</td>\n",
       "      <td>326.000000</td>\n",
       "      <td>319.600006</td>\n",
       "      <td>323.570007</td>\n",
       "      <td>323.570007</td>\n",
       "      <td>-27.058189</td>\n",
       "      <td>69.515344</td>\n",
       "      <td>2.098319</td>\n",
       "      <td>...</td>\n",
       "      <td>0.506033</td>\n",
       "      <td>3.380005</td>\n",
       "      <td>3.930023</td>\n",
       "      <td>6.399994</td>\n",
       "      <td>17.410004</td>\n",
       "      <td>1</td>\n",
       "      <td>330.072424</td>\n",
       "      <td>340.893188</td>\n",
       "      <td>-10.820764</td>\n",
       "      <td>-10.843368</td>\n",
       "    </tr>\n",
       "    <tr>\n",
       "      <th>2379</th>\n",
       "      <td>1.0</td>\n",
       "      <td>2021-11-01</td>\n",
       "      <td>326.040009</td>\n",
       "      <td>333.450012</td>\n",
       "      <td>326.000000</td>\n",
       "      <td>329.980011</td>\n",
       "      <td>329.980011</td>\n",
       "      <td>-14.950323</td>\n",
       "      <td>-27.058189</td>\n",
       "      <td>1.981025</td>\n",
       "      <td>...</td>\n",
       "      <td>0.620313</td>\n",
       "      <td>3.940002</td>\n",
       "      <td>3.380005</td>\n",
       "      <td>7.450012</td>\n",
       "      <td>6.399994</td>\n",
       "      <td>1</td>\n",
       "      <td>330.063623</td>\n",
       "      <td>340.465220</td>\n",
       "      <td>-10.401598</td>\n",
       "      <td>-10.820764</td>\n",
       "    </tr>\n",
       "    <tr>\n",
       "      <th>2380</th>\n",
       "      <td>1.0</td>\n",
       "      <td>2021-11-02</td>\n",
       "      <td>331.380005</td>\n",
       "      <td>334.790009</td>\n",
       "      <td>323.799988</td>\n",
       "      <td>328.079987</td>\n",
       "      <td>328.079987</td>\n",
       "      <td>-10.044450</td>\n",
       "      <td>-14.950323</td>\n",
       "      <td>-0.575800</td>\n",
       "      <td>...</td>\n",
       "      <td>0.534229</td>\n",
       "      <td>-3.300018</td>\n",
       "      <td>3.940002</td>\n",
       "      <td>10.990021</td>\n",
       "      <td>7.450012</td>\n",
       "      <td>0</td>\n",
       "      <td>329.874705</td>\n",
       "      <td>339.979525</td>\n",
       "      <td>-10.104820</td>\n",
       "      <td>-10.401598</td>\n",
       "    </tr>\n",
       "    <tr>\n",
       "      <th>2381</th>\n",
       "      <td>1.0</td>\n",
       "      <td>2021-11-03</td>\n",
       "      <td>327.489990</td>\n",
       "      <td>332.149994</td>\n",
       "      <td>323.200012</td>\n",
       "      <td>331.619995</td>\n",
       "      <td>331.619995</td>\n",
       "      <td>-26.686770</td>\n",
       "      <td>-10.044450</td>\n",
       "      <td>1.079008</td>\n",
       "      <td>...</td>\n",
       "      <td>0.389444</td>\n",
       "      <td>4.130005</td>\n",
       "      <td>-3.300018</td>\n",
       "      <td>8.949982</td>\n",
       "      <td>10.990021</td>\n",
       "      <td>1</td>\n",
       "      <td>330.040923</td>\n",
       "      <td>339.651700</td>\n",
       "      <td>-9.610777</td>\n",
       "      <td>-10.104820</td>\n",
       "    </tr>\n",
       "    <tr>\n",
       "      <th>2382</th>\n",
       "      <td>1.0</td>\n",
       "      <td>2021-11-04</td>\n",
       "      <td>334.010010</td>\n",
       "      <td>337.269989</td>\n",
       "      <td>332.649994</td>\n",
       "      <td>335.850006</td>\n",
       "      <td>335.850006</td>\n",
       "      <td>8.220720</td>\n",
       "      <td>-26.686770</td>\n",
       "      <td>1.275560</td>\n",
       "      <td>...</td>\n",
       "      <td>0.940782</td>\n",
       "      <td>1.839996</td>\n",
       "      <td>4.130005</td>\n",
       "      <td>4.619995</td>\n",
       "      <td>8.949982</td>\n",
       "      <td>1</td>\n",
       "      <td>330.594169</td>\n",
       "      <td>339.502614</td>\n",
       "      <td>-8.908445</td>\n",
       "      <td>-9.610777</td>\n",
       "    </tr>\n",
       "    <tr>\n",
       "      <th>2383</th>\n",
       "      <td>1.0</td>\n",
       "      <td>2021-11-05</td>\n",
       "      <td>340.309998</td>\n",
       "      <td>346.790009</td>\n",
       "      <td>339.640015</td>\n",
       "      <td>341.130005</td>\n",
       "      <td>341.130005</td>\n",
       "      <td>19.367601</td>\n",
       "      <td>8.220720</td>\n",
       "      <td>1.572130</td>\n",
       "      <td>...</td>\n",
       "      <td>0.692644</td>\n",
       "      <td>0.820007</td>\n",
       "      <td>1.839996</td>\n",
       "      <td>7.149994</td>\n",
       "      <td>4.619995</td>\n",
       "      <td>1</td>\n",
       "      <td>331.597582</td>\n",
       "      <td>339.566433</td>\n",
       "      <td>-7.968851</td>\n",
       "      <td>-8.908445</td>\n",
       "    </tr>\n",
       "    <tr>\n",
       "      <th>2384</th>\n",
       "      <td>1.0</td>\n",
       "      <td>2021-11-08</td>\n",
       "      <td>344.420013</td>\n",
       "      <td>344.790009</td>\n",
       "      <td>338.339996</td>\n",
       "      <td>338.619995</td>\n",
       "      <td>338.619995</td>\n",
       "      <td>-31.690631</td>\n",
       "      <td>19.367601</td>\n",
       "      <td>-0.735793</td>\n",
       "      <td>...</td>\n",
       "      <td>0.208390</td>\n",
       "      <td>-5.800018</td>\n",
       "      <td>0.820007</td>\n",
       "      <td>6.450012</td>\n",
       "      <td>7.149994</td>\n",
       "      <td>0</td>\n",
       "      <td>332.266383</td>\n",
       "      <td>339.529318</td>\n",
       "      <td>-7.262935</td>\n",
       "      <td>-7.968851</td>\n",
       "    </tr>\n",
       "    <tr>\n",
       "      <th>2385</th>\n",
       "      <td>1.0</td>\n",
       "      <td>2021-11-09</td>\n",
       "      <td>340.000000</td>\n",
       "      <td>341.309998</td>\n",
       "      <td>334.470001</td>\n",
       "      <td>335.369995</td>\n",
       "      <td>335.369995</td>\n",
       "      <td>-4.284040</td>\n",
       "      <td>-31.690631</td>\n",
       "      <td>-0.959778</td>\n",
       "      <td>...</td>\n",
       "      <td>0.043411</td>\n",
       "      <td>-4.630005</td>\n",
       "      <td>-5.800018</td>\n",
       "      <td>6.839996</td>\n",
       "      <td>6.450012</td>\n",
       "      <td>0</td>\n",
       "      <td>332.561965</td>\n",
       "      <td>339.366207</td>\n",
       "      <td>-6.804242</td>\n",
       "      <td>-7.262935</td>\n",
       "    </tr>\n",
       "    <tr>\n",
       "      <th>2386</th>\n",
       "      <td>1.0</td>\n",
       "      <td>2021-11-10</td>\n",
       "      <td>332.489990</td>\n",
       "      <td>333.190002</td>\n",
       "      <td>325.510010</td>\n",
       "      <td>327.640015</td>\n",
       "      <td>327.640015</td>\n",
       "      <td>24.582638</td>\n",
       "      <td>-4.284040</td>\n",
       "      <td>-2.304911</td>\n",
       "      <td>...</td>\n",
       "      <td>0.131578</td>\n",
       "      <td>-4.849976</td>\n",
       "      <td>-4.630005</td>\n",
       "      <td>7.679993</td>\n",
       "      <td>6.839996</td>\n",
       "      <td>0</td>\n",
       "      <td>332.093208</td>\n",
       "      <td>338.906357</td>\n",
       "      <td>-6.813149</td>\n",
       "      <td>-6.804242</td>\n",
       "    </tr>\n",
       "    <tr>\n",
       "      <th>2387</th>\n",
       "      <td>1.0</td>\n",
       "      <td>2021-11-11</td>\n",
       "      <td>329.820007</td>\n",
       "      <td>332.459991</td>\n",
       "      <td>327.000000</td>\n",
       "      <td>327.739990</td>\n",
       "      <td>327.739990</td>\n",
       "      <td>-43.415049</td>\n",
       "      <td>24.582638</td>\n",
       "      <td>0.030514</td>\n",
       "      <td>...</td>\n",
       "      <td>0.277345</td>\n",
       "      <td>-2.080017</td>\n",
       "      <td>-4.849976</td>\n",
       "      <td>5.459991</td>\n",
       "      <td>7.679993</td>\n",
       "      <td>1</td>\n",
       "      <td>331.678616</td>\n",
       "      <td>338.468460</td>\n",
       "      <td>-6.789844</td>\n",
       "      <td>-6.813149</td>\n",
       "    </tr>\n",
       "    <tr>\n",
       "      <th>2388</th>\n",
       "      <td>1.0</td>\n",
       "      <td>2021-11-12</td>\n",
       "      <td>330.179993</td>\n",
       "      <td>341.859985</td>\n",
       "      <td>329.779999</td>\n",
       "      <td>340.890015</td>\n",
       "      <td>340.890015</td>\n",
       "      <td>105.122570</td>\n",
       "      <td>-43.415049</td>\n",
       "      <td>4.012334</td>\n",
       "      <td>...</td>\n",
       "      <td>0.135530</td>\n",
       "      <td>10.710022</td>\n",
       "      <td>-2.080017</td>\n",
       "      <td>12.079987</td>\n",
       "      <td>5.459991</td>\n",
       "      <td>1</td>\n",
       "      <td>332.555892</td>\n",
       "      <td>338.563423</td>\n",
       "      <td>-6.007531</td>\n",
       "      <td>-6.789844</td>\n",
       "    </tr>\n",
       "    <tr>\n",
       "      <th>2389</th>\n",
       "      <td>1.0</td>\n",
       "      <td>2021-11-15</td>\n",
       "      <td>344.339996</td>\n",
       "      <td>353.649994</td>\n",
       "      <td>343.200012</td>\n",
       "      <td>347.559998</td>\n",
       "      <td>347.559998</td>\n",
       "      <td>-1.223451</td>\n",
       "      <td>105.122570</td>\n",
       "      <td>1.956638</td>\n",
       "      <td>...</td>\n",
       "      <td>0.919704</td>\n",
       "      <td>3.220001</td>\n",
       "      <td>10.710022</td>\n",
       "      <td>10.449982</td>\n",
       "      <td>12.079987</td>\n",
       "      <td>1</td>\n",
       "      <td>333.984854</td>\n",
       "      <td>338.916230</td>\n",
       "      <td>-4.931375</td>\n",
       "      <td>-6.007531</td>\n",
       "    </tr>\n",
       "    <tr>\n",
       "      <th>2390</th>\n",
       "      <td>1.0</td>\n",
       "      <td>2021-11-16</td>\n",
       "      <td>343.829987</td>\n",
       "      <td>346.649994</td>\n",
       "      <td>340.869995</td>\n",
       "      <td>342.959991</td>\n",
       "      <td>342.959991</td>\n",
       "      <td>-27.497747</td>\n",
       "      <td>-1.223451</td>\n",
       "      <td>-1.323514</td>\n",
       "      <td>...</td>\n",
       "      <td>0.417224</td>\n",
       "      <td>-0.869995</td>\n",
       "      <td>3.220001</td>\n",
       "      <td>5.779999</td>\n",
       "      <td>10.449982</td>\n",
       "      <td>0</td>\n",
       "      <td>334.839629</td>\n",
       "      <td>339.074809</td>\n",
       "      <td>-4.235179</td>\n",
       "      <td>-4.931375</td>\n",
       "    </tr>\n",
       "    <tr>\n",
       "      <th>2391</th>\n",
       "      <td>1.0</td>\n",
       "      <td>2021-11-17</td>\n",
       "      <td>344.239990</td>\n",
       "      <td>347.299988</td>\n",
       "      <td>340.100006</td>\n",
       "      <td>340.769989</td>\n",
       "      <td>340.769989</td>\n",
       "      <td>-25.181645</td>\n",
       "      <td>-27.497747</td>\n",
       "      <td>-0.638559</td>\n",
       "      <td>...</td>\n",
       "      <td>0.361591</td>\n",
       "      <td>-3.470001</td>\n",
       "      <td>-0.869995</td>\n",
       "      <td>7.199982</td>\n",
       "      <td>5.779999</td>\n",
       "      <td>0</td>\n",
       "      <td>335.404426</td>\n",
       "      <td>339.141286</td>\n",
       "      <td>-3.736861</td>\n",
       "      <td>-4.235179</td>\n",
       "    </tr>\n",
       "    <tr>\n",
       "      <th>2392</th>\n",
       "      <td>1.0</td>\n",
       "      <td>2021-11-18</td>\n",
       "      <td>339.720001</td>\n",
       "      <td>342.459991</td>\n",
       "      <td>335.299988</td>\n",
       "      <td>338.690002</td>\n",
       "      <td>338.690002</td>\n",
       "      <td>28.555886</td>\n",
       "      <td>-25.181645</td>\n",
       "      <td>-0.610378</td>\n",
       "      <td>...</td>\n",
       "      <td>0.093053</td>\n",
       "      <td>-1.029999</td>\n",
       "      <td>-3.470001</td>\n",
       "      <td>7.160004</td>\n",
       "      <td>7.199982</td>\n",
       "      <td>0</td>\n",
       "      <td>335.717338</td>\n",
       "      <td>339.123589</td>\n",
       "      <td>-3.406251</td>\n",
       "      <td>-3.736861</td>\n",
       "    </tr>\n",
       "    <tr>\n",
       "      <th>2393</th>\n",
       "      <td>1.0</td>\n",
       "      <td>2021-11-19</td>\n",
       "      <td>342.200012</td>\n",
       "      <td>352.100006</td>\n",
       "      <td>339.899994</td>\n",
       "      <td>345.299988</td>\n",
       "      <td>345.299988</td>\n",
       "      <td>51.202022</td>\n",
       "      <td>28.555886</td>\n",
       "      <td>1.951633</td>\n",
       "      <td>...</td>\n",
       "      <td>0.473465</td>\n",
       "      <td>3.099976</td>\n",
       "      <td>-1.029999</td>\n",
       "      <td>12.200012</td>\n",
       "      <td>7.160004</td>\n",
       "      <td>1</td>\n",
       "      <td>336.629971</td>\n",
       "      <td>339.365801</td>\n",
       "      <td>-2.735830</td>\n",
       "      <td>-3.406251</td>\n",
       "    </tr>\n",
       "    <tr>\n",
       "      <th>2394</th>\n",
       "      <td>1.0</td>\n",
       "      <td>2021-11-22</td>\n",
       "      <td>349.049988</td>\n",
       "      <td>353.829987</td>\n",
       "      <td>340.510010</td>\n",
       "      <td>341.010010</td>\n",
       "      <td>341.010010</td>\n",
       "      <td>2.555879</td>\n",
       "      <td>51.202022</td>\n",
       "      <td>-1.242392</td>\n",
       "      <td>...</td>\n",
       "      <td>0.442622</td>\n",
       "      <td>-8.039978</td>\n",
       "      <td>3.099976</td>\n",
       "      <td>13.319977</td>\n",
       "      <td>12.200012</td>\n",
       "      <td>0</td>\n",
       "      <td>337.047118</td>\n",
       "      <td>339.430279</td>\n",
       "      <td>-2.383162</td>\n",
       "      <td>-2.735830</td>\n",
       "    </tr>\n",
       "    <tr>\n",
       "      <th>2395</th>\n",
       "      <td>1.0</td>\n",
       "      <td>2021-11-23</td>\n",
       "      <td>338.929993</td>\n",
       "      <td>341.399994</td>\n",
       "      <td>333.500000</td>\n",
       "      <td>337.250000</td>\n",
       "      <td>337.250000</td>\n",
       "      <td>-36.528278</td>\n",
       "      <td>2.555879</td>\n",
       "      <td>-1.102610</td>\n",
       "      <td>...</td>\n",
       "      <td>0.037538</td>\n",
       "      <td>-1.679993</td>\n",
       "      <td>-8.039978</td>\n",
       "      <td>7.899994</td>\n",
       "      <td>13.319977</td>\n",
       "      <td>0</td>\n",
       "      <td>337.066440</td>\n",
       "      <td>339.344778</td>\n",
       "      <td>-2.278339</td>\n",
       "      <td>-2.383162</td>\n",
       "    </tr>\n",
       "    <tr>\n",
       "      <th>2396</th>\n",
       "      <td>1.0</td>\n",
       "      <td>2021-11-24</td>\n",
       "      <td>336.000000</td>\n",
       "      <td>336.499908</td>\n",
       "      <td>332.850006</td>\n",
       "      <td>335.720001</td>\n",
       "      <td>335.720001</td>\n",
       "      <td>-85.418133</td>\n",
       "      <td>-36.528278</td>\n",
       "      <td>-0.453669</td>\n",
       "      <td>...</td>\n",
       "      <td>0.474684</td>\n",
       "      <td>-0.279999</td>\n",
       "      <td>-1.679993</td>\n",
       "      <td>3.649902</td>\n",
       "      <td>7.899994</td>\n",
       "      <td>0</td>\n",
       "      <td>336.938207</td>\n",
       "      <td>339.202630</td>\n",
       "      <td>-2.264423</td>\n",
       "      <td>-2.278339</td>\n",
       "    </tr>\n",
       "  </tbody>\n",
       "</table>\n",
       "<p>20 rows × 21 columns</p>\n",
       "</div>"
      ],
      "text/plain": [
       "      const       Date        Open        High         Low       Close  \\\n",
       "2377    1.0 2021-10-28  312.989990  325.519989  308.109985  316.920013   \n",
       "2378    1.0 2021-10-29  320.190002  326.000000  319.600006  323.570007   \n",
       "2379    1.0 2021-11-01  326.040009  333.450012  326.000000  329.980011   \n",
       "2380    1.0 2021-11-02  331.380005  334.790009  323.799988  328.079987   \n",
       "2381    1.0 2021-11-03  327.489990  332.149994  323.200012  331.619995   \n",
       "2382    1.0 2021-11-04  334.010010  337.269989  332.649994  335.850006   \n",
       "2383    1.0 2021-11-05  340.309998  346.790009  339.640015  341.130005   \n",
       "2384    1.0 2021-11-08  344.420013  344.790009  338.339996  338.619995   \n",
       "2385    1.0 2021-11-09  340.000000  341.309998  334.470001  335.369995   \n",
       "2386    1.0 2021-11-10  332.489990  333.190002  325.510010  327.640015   \n",
       "2387    1.0 2021-11-11  329.820007  332.459991  327.000000  327.739990   \n",
       "2388    1.0 2021-11-12  330.179993  341.859985  329.779999  340.890015   \n",
       "2389    1.0 2021-11-15  344.339996  353.649994  343.200012  347.559998   \n",
       "2390    1.0 2021-11-16  343.829987  346.649994  340.869995  342.959991   \n",
       "2391    1.0 2021-11-17  344.239990  347.299988  340.100006  340.769989   \n",
       "2392    1.0 2021-11-18  339.720001  342.459991  335.299988  338.690002   \n",
       "2393    1.0 2021-11-19  342.200012  352.100006  339.899994  345.299988   \n",
       "2394    1.0 2021-11-22  349.049988  353.829987  340.510010  341.010010   \n",
       "2395    1.0 2021-11-23  338.929993  341.399994  333.500000  337.250000   \n",
       "2396    1.0 2021-11-24  336.000000  336.499908  332.850006  335.720001   \n",
       "\n",
       "       Adj Close      Volume  Volume_Lag  Today_Change_%  ...  Trend_Lag  \\\n",
       "2377  316.920013   69.515344  -54.348859        1.505353  ...   0.022254   \n",
       "2378  323.570007  -27.058189   69.515344        2.098319  ...   0.506033   \n",
       "2379  329.980011  -14.950323  -27.058189        1.981025  ...   0.620313   \n",
       "2380  328.079987  -10.044450  -14.950323       -0.575800  ...   0.534229   \n",
       "2381  331.619995  -26.686770  -10.044450        1.079008  ...   0.389444   \n",
       "2382  335.850006    8.220720  -26.686770        1.275560  ...   0.940782   \n",
       "2383  341.130005   19.367601    8.220720        1.572130  ...   0.692644   \n",
       "2384  338.619995  -31.690631   19.367601       -0.735793  ...   0.208390   \n",
       "2385  335.369995   -4.284040  -31.690631       -0.959778  ...   0.043411   \n",
       "2386  327.640015   24.582638   -4.284040       -2.304911  ...   0.131578   \n",
       "2387  327.739990  -43.415049   24.582638        0.030514  ...   0.277345   \n",
       "2388  340.890015  105.122570  -43.415049        4.012334  ...   0.135530   \n",
       "2389  347.559998   -1.223451  105.122570        1.956638  ...   0.919704   \n",
       "2390  342.959991  -27.497747   -1.223451       -1.323514  ...   0.417224   \n",
       "2391  340.769989  -25.181645  -27.497747       -0.638559  ...   0.361591   \n",
       "2392  338.690002   28.555886  -25.181645       -0.610378  ...   0.093053   \n",
       "2393  345.299988   51.202022   28.555886        1.951633  ...   0.473465   \n",
       "2394  341.010010    2.555879   51.202022       -1.242392  ...   0.442622   \n",
       "2395  337.250000  -36.528278    2.555879       -1.102610  ...   0.037538   \n",
       "2396  335.720001  -85.418133  -36.528278       -0.453669  ...   0.474684   \n",
       "\n",
       "      Close-Open  Close-Open_Lag   High-Low  High-Low_Lag  Up_Down  \\\n",
       "2377    3.930023       -1.970001  17.410004      7.190002        1   \n",
       "2378    3.380005        3.930023   6.399994     17.410004        1   \n",
       "2379    3.940002        3.380005   7.450012      6.399994        1   \n",
       "2380   -3.300018        3.940002  10.990021      7.450012        0   \n",
       "2381    4.130005       -3.300018   8.949982     10.990021        1   \n",
       "2382    1.839996        4.130005   4.619995      8.949982        1   \n",
       "2383    0.820007        1.839996   7.149994      4.619995        1   \n",
       "2384   -5.800018        0.820007   6.450012      7.149994        0   \n",
       "2385   -4.630005       -5.800018   6.839996      6.450012        0   \n",
       "2386   -4.849976       -4.630005   7.679993      6.839996        0   \n",
       "2387   -2.080017       -4.849976   5.459991      7.679993        1   \n",
       "2388   10.710022       -2.080017  12.079987      5.459991        1   \n",
       "2389    3.220001       10.710022  10.449982     12.079987        1   \n",
       "2390   -0.869995        3.220001   5.779999     10.449982        0   \n",
       "2391   -3.470001       -0.869995   7.199982      5.779999        0   \n",
       "2392   -1.029999       -3.470001   7.160004      7.199982        0   \n",
       "2393    3.099976       -1.029999  12.200012      7.160004        1   \n",
       "2394   -8.039978        3.099976  13.319977     12.200012        0   \n",
       "2395   -1.679993       -8.039978   7.899994     13.319977        0   \n",
       "2396   -0.279999       -1.679993   3.649902      7.899994        0   \n",
       "\n",
       "      Short_MV_Avg_Span  Long_MV_Avg_Span  Short_MV_Avg_Span-Long_MV_Avg_Span  \\\n",
       "2377         330.756889        341.600257                          -10.843368   \n",
       "2378         330.072424        340.893188                          -10.820764   \n",
       "2379         330.063623        340.465220                          -10.401598   \n",
       "2380         329.874705        339.979525                          -10.104820   \n",
       "2381         330.040923        339.651700                           -9.610777   \n",
       "2382         330.594169        339.502614                           -8.908445   \n",
       "2383         331.597582        339.566433                           -7.968851   \n",
       "2384         332.266383        339.529318                           -7.262935   \n",
       "2385         332.561965        339.366207                           -6.804242   \n",
       "2386         332.093208        338.906357                           -6.813149   \n",
       "2387         331.678616        338.468460                           -6.789844   \n",
       "2388         332.555892        338.563423                           -6.007531   \n",
       "2389         333.984854        338.916230                           -4.931375   \n",
       "2390         334.839629        339.074809                           -4.235179   \n",
       "2391         335.404426        339.141286                           -3.736861   \n",
       "2392         335.717338        339.123589                           -3.406251   \n",
       "2393         336.629971        339.365801                           -2.735830   \n",
       "2394         337.047118        339.430279                           -2.383162   \n",
       "2395         337.066440        339.344778                           -2.278339   \n",
       "2396         336.938207        339.202630                           -2.264423   \n",
       "\n",
       "      Short_MV_Avg_Span-Long_MV_Avg_Span_Lag  \n",
       "2377                              -10.394212  \n",
       "2378                              -10.843368  \n",
       "2379                              -10.820764  \n",
       "2380                              -10.401598  \n",
       "2381                              -10.104820  \n",
       "2382                               -9.610777  \n",
       "2383                               -8.908445  \n",
       "2384                               -7.968851  \n",
       "2385                               -7.262935  \n",
       "2386                               -6.804242  \n",
       "2387                               -6.813149  \n",
       "2388                               -6.789844  \n",
       "2389                               -6.007531  \n",
       "2390                               -4.931375  \n",
       "2391                               -4.235179  \n",
       "2392                               -3.736861  \n",
       "2393                               -3.406251  \n",
       "2394                               -2.735830  \n",
       "2395                               -2.383162  \n",
       "2396                               -2.278339  \n",
       "\n",
       "[20 rows x 21 columns]"
      ]
     },
     "execution_count": 28,
     "metadata": {},
     "output_type": "execute_result"
    }
   ],
   "source": [
    "df1.dropna(inplace= True)\n",
    "df1.tail(20)"
   ]
  },
  {
   "cell_type": "code",
   "execution_count": 29,
   "metadata": {},
   "outputs": [],
   "source": [
    "X = df1[['const','Trend_Lag','Short_MV_Avg_Span-Long_MV_Avg_Span_Lag','Close-Open_Lag','High-Low_Lag','Volume_Lag']]"
   ]
  },
  {
   "cell_type": "code",
   "execution_count": 30,
   "metadata": {},
   "outputs": [
    {
     "data": {
      "text/plain": [
       "<function matplotlib.pyplot.show(close=None, block=None)>"
      ]
     },
     "execution_count": 30,
     "metadata": {},
     "output_type": "execute_result"
    },
    {
     "data": {
      "image/png": "[encoded data removed]",
      "text/plain": [
       "<Figure size 1152x432 with 1 Axes>"
      ]
     },
     "metadata": {
      "needs_background": "light"
     },
     "output_type": "display_data"
    }
   ],
   "source": [
    "df1['Close'][-100:].plot(figsize=(16,6))\n",
    "df1['Short_MV_Avg_Span'][-100:].plot(figsize=(16,6))\n",
    "df1['Long_MV_Avg_Span'][-100:].plot(figsize=(16,6))\n",
    "plt.xlabel('Index', fontsize=18)\n",
    "plt.ylabel('Close Price USD ($)', fontsize =18)\n",
    "plt.legend(['Close', str(short_moving_average_span) + ' Days Moving Average', str(long_moving_average_span) + ' days Moving Average'], loc = 'lower left')\n",
    "plt.title(\"Moving Average for \" + stock.upper())\n",
    "plt.show"
   ]
  },
  {
   "cell_type": "code",
   "execution_count": 31,
   "metadata": {},
   "outputs": [],
   "source": [
    "y = df1[\"Up_Down\"].values"
   ]
  },
  {
   "cell_type": "code",
   "execution_count": 32,
   "metadata": {},
   "outputs": [],
   "source": [
    "model = sm.Logit(y,X)"
   ]
  },
  {
   "cell_type": "code",
   "execution_count": 33,
   "metadata": {},
   "outputs": [
    {
     "name": "stdout",
     "output_type": "stream",
     "text": [
      "Optimization terminated successfully.\n",
      "         Current function value: 0.689933\n",
      "         Iterations 4\n"
     ]
    }
   ],
   "source": [
    "result =  model.fit()"
   ]
  },
  {
   "cell_type": "code",
   "execution_count": 34,
   "metadata": {},
   "outputs": [
    {
     "data": {
      "text/html": [
       "<table class=\"simpletable\">\n",
       "<caption>Logit Regression Results</caption>\n",
       "<tr>\n",
       "  <th>Dep. Variable:</th>           <td>y</td>        <th>  No. Observations:  </th>  <td>  2394</td> \n",
       "</tr>\n",
       "<tr>\n",
       "  <th>Model:</th>                 <td>Logit</td>      <th>  Df Residuals:      </th>  <td>  2388</td> \n",
       "</tr>\n",
       "<tr>\n",
       "  <th>Method:</th>                 <td>MLE</td>       <th>  Df Model:          </th>  <td>     5</td> \n",
       "</tr>\n",
       "<tr>\n",
       "  <th>Date:</th>            <td>Wed, 24 Nov 2021</td> <th>  Pseudo R-squ.:     </th> <td>0.002706</td>\n",
       "</tr>\n",
       "<tr>\n",
       "  <th>Time:</th>                <td>07:16:42</td>     <th>  Log-Likelihood:    </th> <td> -1651.7</td>\n",
       "</tr>\n",
       "<tr>\n",
       "  <th>converged:</th>             <td>True</td>       <th>  LL-Null:           </th> <td> -1656.2</td>\n",
       "</tr>\n",
       "<tr>\n",
       "  <th>Covariance Type:</th>     <td>nonrobust</td>    <th>  LLR p-value:       </th>  <td>0.1106</td> \n",
       "</tr>\n",
       "</table>\n",
       "<table class=\"simpletable\">\n",
       "<tr>\n",
       "                     <td></td>                       <th>coef</th>     <th>std err</th>      <th>z</th>      <th>P>|z|</th>  <th>[0.025</th>    <th>0.975]</th>  \n",
       "</tr>\n",
       "<tr>\n",
       "  <th>const</th>                                  <td>    0.3324</td> <td>    0.113</td> <td>    2.943</td> <td> 0.003</td> <td>    0.111</td> <td>    0.554</td>\n",
       "</tr>\n",
       "<tr>\n",
       "  <th>Trend_Lag</th>                              <td>   -0.4161</td> <td>    0.182</td> <td>   -2.292</td> <td> 0.022</td> <td>   -0.772</td> <td>   -0.060</td>\n",
       "</tr>\n",
       "<tr>\n",
       "  <th>Short_MV_Avg_Span-Long_MV_Avg_Span_Lag</th> <td>   -0.0085</td> <td>    0.009</td> <td>   -0.966</td> <td> 0.334</td> <td>   -0.026</td> <td>    0.009</td>\n",
       "</tr>\n",
       "<tr>\n",
       "  <th>Close-Open_Lag</th>                         <td>    0.0067</td> <td>    0.022</td> <td>    0.309</td> <td> 0.757</td> <td>   -0.036</td> <td>    0.049</td>\n",
       "</tr>\n",
       "<tr>\n",
       "  <th>High-Low_Lag</th>                           <td>    0.0009</td> <td>    0.015</td> <td>    0.062</td> <td> 0.950</td> <td>   -0.028</td> <td>    0.030</td>\n",
       "</tr>\n",
       "<tr>\n",
       "  <th>Volume_Lag</th>                             <td>-1.483e-05</td> <td>    0.001</td> <td>   -0.017</td> <td> 0.986</td> <td>   -0.002</td> <td>    0.002</td>\n",
       "</tr>\n",
       "</table>"
      ],
      "text/plain": [
       "<class 'statsmodels.iolib.summary.Summary'>\n",
       "\"\"\"\n",
       "                           Logit Regression Results                           \n",
       "==============================================================================\n",
       "Dep. Variable:                      y   No. Observations:                 2394\n",
       "Model:                          Logit   Df Residuals:                     2388\n",
       "Method:                           MLE   Df Model:                            5\n",
       "Date:                Wed, 24 Nov 2021   Pseudo R-squ.:                0.002706\n",
       "Time:                        07:16:42   Log-Likelihood:                -1651.7\n",
       "converged:                       True   LL-Null:                       -1656.2\n",
       "Covariance Type:            nonrobust   LLR p-value:                    0.1106\n",
       "==========================================================================================================\n",
       "                                             coef    std err          z      P>|z|      [0.025      0.975]\n",
       "----------------------------------------------------------------------------------------------------------\n",
       "const                                      0.3324      0.113      2.943      0.003       0.111       0.554\n",
       "Trend_Lag                                 -0.4161      0.182     -2.292      0.022      -0.772      -0.060\n",
       "Short_MV_Avg_Span-Long_MV_Avg_Span_Lag    -0.0085      0.009     -0.966      0.334      -0.026       0.009\n",
       "Close-Open_Lag                             0.0067      0.022      0.309      0.757      -0.036       0.049\n",
       "High-Low_Lag                               0.0009      0.015      0.062      0.950      -0.028       0.030\n",
       "Volume_Lag                             -1.483e-05      0.001     -0.017      0.986      -0.002       0.002\n",
       "==========================================================================================================\n",
       "\"\"\""
      ]
     },
     "execution_count": 34,
     "metadata": {},
     "output_type": "execute_result"
    }
   ],
   "source": [
    "result.summary()"
   ]
  },
  {
   "cell_type": "code",
   "execution_count": 35,
   "metadata": {},
   "outputs": [],
   "source": [
    "prediction = result.predict(X)"
   ]
  },
  {
   "cell_type": "code",
   "execution_count": 36,
   "metadata": {},
   "outputs": [],
   "source": [
    "df1['Prediction_Caculated'] = pd.array(prediction)\n",
    "df1['Prediction_indicator'] = pd.array([1 if i > cutoff else 0 for i in prediction])\n",
    "#print (df1.iloc[-1,18],df1.iloc[-1,19],df1.iloc[-1,20])"
   ]
  },
  {
   "cell_type": "code",
   "execution_count": 37,
   "metadata": {},
   "outputs": [],
   "source": [
    "#print(df1.loc[[i for i in range(len(df1)-20, len(df1)+2)],['Trend_Lag', 'Short_MV_Avg_Span-Long_MV_Avg_Span_Lag', 'Up_Down', 'Prediction_indicator']])"
   ]
  },
  {
   "cell_type": "code",
   "execution_count": 38,
   "metadata": {},
   "outputs": [],
   "source": [
    "y = df1[\"Up_Down\"].values"
   ]
  },
  {
   "cell_type": "code",
   "execution_count": 39,
   "metadata": {},
   "outputs": [],
   "source": [
    "def confusion_matrix(act,pred):\n",
    "    predtrans = ['Up' if i > cutoff else 'Down' for i in pred]\n",
    "    actuals = ['Up' if i > 0 else 'Down' for i in act]\n",
    "    confusion_matrix = pd.crosstab(pd.Series(actuals),\n",
    "                                   pd.Series(predtrans),\n",
    "                                   rownames = [\"Actual\"],\n",
    "                                   colnames = [\"Predict\"]\n",
    "                                  )\n",
    "    return confusion_matrix"
   ]
  },
  {
   "cell_type": "code",
   "execution_count": 40,
   "metadata": {},
   "outputs": [
    {
     "data": {
      "text/html": [
       "<div>\n",
       "<style scoped>\n",
       "    .dataframe tbody tr th:only-of-type {\n",
       "        vertical-align: middle;\n",
       "    }\n",
       "\n",
       "    .dataframe tbody tr th {\n",
       "        vertical-align: top;\n",
       "    }\n",
       "\n",
       "    .dataframe thead th {\n",
       "        text-align: right;\n",
       "    }\n",
       "</style>\n",
       "<table border=\"1\" class=\"dataframe\">\n",
       "  <thead>\n",
       "    <tr style=\"text-align: right;\">\n",
       "      <th>Predict</th>\n",
       "      <th>Down</th>\n",
       "      <th>Up</th>\n",
       "    </tr>\n",
       "    <tr>\n",
       "      <th>Actual</th>\n",
       "      <th></th>\n",
       "      <th></th>\n",
       "    </tr>\n",
       "  </thead>\n",
       "  <tbody>\n",
       "    <tr>\n",
       "      <th>Down</th>\n",
       "      <td>313</td>\n",
       "      <td>822</td>\n",
       "    </tr>\n",
       "    <tr>\n",
       "      <th>Up</th>\n",
       "      <td>304</td>\n",
       "      <td>955</td>\n",
       "    </tr>\n",
       "  </tbody>\n",
       "</table>\n",
       "</div>"
      ],
      "text/plain": [
       "Predict  Down   Up\n",
       "Actual            \n",
       "Down      313  822\n",
       "Up        304  955"
      ]
     },
     "execution_count": 40,
     "metadata": {},
     "output_type": "execute_result"
    }
   ],
   "source": [
    "confusion_matrix(y,prediction)"
   ]
  },
  {
   "cell_type": "code",
   "execution_count": 41,
   "metadata": {},
   "outputs": [
    {
     "name": "stdout",
     "output_type": "stream",
     "text": [
      "0.529657477025898\n"
     ]
    }
   ],
   "source": [
    "z = confusion_matrix(y,prediction)\n",
    "try:\n",
    "    print((z.loc['Down','Down'] + z.loc['Up','Up']) / len(df1))\n",
    "except:\n",
    "    pass"
   ]
  },
  {
   "cell_type": "code",
   "execution_count": 42,
   "metadata": {},
   "outputs": [
    {
     "name": "stdout",
     "output_type": "stream",
     "text": [
      "0.6066985645933014\n"
     ]
    }
   ],
   "source": [
    "try:\n",
    "    print( (z.loc['Down', 'Down']+ z.loc['Up','Up']) / (z.loc['Down', 'Down']+ z.loc['Up','Up'] + z.loc['Down','Up']) )\n",
    "except:\n",
    "    pass"
   ]
  },
  {
   "cell_type": "code",
   "execution_count": 43,
   "metadata": {},
   "outputs": [],
   "source": [
    "df1 = df1.assign(share=np.nan,money=np.nan)\n",
    "#df1"
   ]
  },
  {
   "cell_type": "code",
   "execution_count": 44,
   "metadata": {},
   "outputs": [],
   "source": [
    "diff_years = round((df1.iloc[-1,1] - df1.iloc[0,1])/np.timedelta64(1,'Y') + 0.5)   "
   ]
  },
  {
   "cell_type": "code",
   "execution_count": 45,
   "metadata": {},
   "outputs": [],
   "source": [
    "#Simulate Investment transaction buy on opening when predict UP and sell daily average when predict DOWN\n",
    "\n",
    "def buy_sell(open_price, sell_price,prediction, money, share):\n",
    "    if prediction == 1 and money != 0:\n",
    "        share =  money / open_price\n",
    "        money = 0\n",
    "    elif prediction == 0 and share != 0:\n",
    "        money = share * sell_price\n",
    "        share = 0\n",
    "    else: pass\n",
    "    return [money, share]\n",
    "money = invest\n",
    "share = 0\n",
    "for i in range(len(df1)):\n",
    "    [money, share] = buy_sell(df1.iloc[i,2],(df1.iloc[i,3]+df1.iloc[i,4])/2,df1.iloc[i,22], money, share)\n",
    "    df1.iloc[i,23] = share\n",
    "    df1.iloc[i,24] = money"
   ]
  },
  {
   "cell_type": "code",
   "execution_count": 46,
   "metadata": {},
   "outputs": [],
   "source": [
    "#df1.tail(10)"
   ]
  },
  {
   "cell_type": "code",
   "execution_count": 47,
   "metadata": {},
   "outputs": [
    {
     "name": "stdout",
     "output_type": "stream",
     "text": [
      "\n",
      "If $100.00 was invested in [ FB ], and Just Hold and Not Trade for 10 years, the ROI = $799.05\n"
     ]
    }
   ],
   "source": [
    "print(\"\\nIf ${:,.2f} was invested in [ {} ], and Just Hold and Not Trade for {:,} years, the ROI = ${:,.2f}\".format( invest, stock.upper(), diff_years, invest/data.iloc[0, 0] * data.iloc[-1,0]))"
   ]
  },
  {
   "cell_type": "code",
   "execution_count": 48,
   "metadata": {},
   "outputs": [
    {
     "name": "stdout",
     "output_type": "stream",
     "text": [
      "\n",
      "If $100.00 was invested 10 years ago, buy and sell according this script's recommandation, the ROI = $961.15\n"
     ]
    }
   ],
   "source": [
    "print (\"\\nIf ${:,.2f} was invested {:2d} years ago, buy and sell according this script\\'s recommandation, the ROI = ${:,.2f}\".format(invest, diff_years, (money + (share * df1.iloc[-1,5]))))"
   ]
  },
  {
   "cell_type": "code",
   "execution_count": 49,
   "metadata": {
    "scrolled": false
   },
   "outputs": [
    {
     "name": "stdout",
     "output_type": "stream",
     "text": [
      "           Date Stock Market Performance Scribe Predection\n",
      "2382 2021-11-04                       Up                Up\n",
      "2383 2021-11-05                       Up                Up\n",
      "2384 2021-11-08                     Down                Up\n",
      "2385 2021-11-09                     Down                Up\n",
      "2386 2021-11-10                     Down                Up\n",
      "2387 2021-11-11                       Up                Up\n",
      "2388 2021-11-12                       Up                Up\n",
      "2389 2021-11-15                       Up                Up\n",
      "2390 2021-11-16                     Down                Up\n",
      "2391 2021-11-17                     Down                Up\n",
      "2392 2021-11-18                     Down                Up\n",
      "2393 2021-11-19                       Up                Up\n",
      "2394 2021-11-22                     Down                Up\n",
      "2395 2021-11-23                     Down                Up\n",
      "2396 2021-11-24                     Down                Up\n"
     ]
    }
   ],
   "source": [
    "df1_summary=df1[['Date', 'Up_Down','Prediction_indicator']].copy()\n",
    "df1_summary['Stock Market Performance'] = df1_summary['Up_Down'].apply(lambda x: 'Up' if x > 0 else 'Down')\n",
    "df1_summary['Scribe Predection'] = df1_summary['Prediction_indicator'].apply(lambda x: 'Up' if x > 0 else 'Down')\n",
    "print (df1_summary[['Date','Stock Market Performance','Scribe Predection']].tail(15))"
   ]
  },
  {
   "cell_type": "code",
   "execution_count": 50,
   "metadata": {},
   "outputs": [],
   "source": [
    "#print(df1.loc[[i for i in range(len(df1)-20, len(df1)+2)],['Date','Close','Trend_Lag', 'Short_MV_Avg_Span-Long_MV_Avg_Span_Lag']])"
   ]
  },
  {
   "cell_type": "code",
   "execution_count": 51,
   "metadata": {},
   "outputs": [],
   "source": [
    "#print(df1.iloc[len(df1)-1,[1,7,10,11,12,13,14,15,16,17,18,19,20,21,22]])\n",
    "#df1.info()"
   ]
  },
  {
   "cell_type": "code",
   "execution_count": 52,
   "metadata": {},
   "outputs": [
    {
     "name": "stdout",
     "output_type": "stream",
     "text": [
      "\n",
      "Today [ FB ] actually went down, --- base on yesterday's data, We Predication [ FB ] should be going up.\n",
      "\n",
      "=========> Actual and Predication DO NOT match <=========\n"
     ]
    }
   ],
   "source": [
    "print (\"\\nToday [ %s ] actually went up,\" %stock.upper(), end = ' ') if (df1.iloc[-1,16] == 1) else print (\"\\nToday [ %s ] actually went down,\" %stock.upper(), end = \" \")\n",
    "print (\"--- base on yesterday\\'s data, \", end = '')\n",
    "print (\"We Predication [ %s ] should be going up.\" %stock.upper()) if (df1.iloc[-1,22] == 1) else print (\"We Predicae [ %s ] should be going down.\" %stock.upper())\n",
    "print (\"\\n=========> Actual and Predication MATCH <=========\") if (df1.iloc[-1,16] == df1.iloc[-1,22]) else print(\"\\n=========> Actual and Predication DO NOT match <=========\")"
   ]
  },
  {
   "cell_type": "code",
   "execution_count": 53,
   "metadata": {},
   "outputs": [],
   "source": [
    "x_tran= df1[df1.Date.dt.year < 2021][['const','Trend_Lag','Short_MV_Avg_Span-Long_MV_Avg_Span_Lag','Close-Open_Lag','High-Low_Lag','Volume_Lag']]\n",
    "y_train=df1[df1.Date.dt.year < 2021][\"Up_Down\"]\n",
    "x_test= df1[df1.Date.dt.year >= 2021][['const','Trend_Lag','Short_MV_Avg_Span-Long_MV_Avg_Span_Lag','Close-Open_Lag','High-Low_Lag','Volume_Lag']]\n",
    "y_test= df1[df1.Date.dt.year >= 2021][\"Up_Down\"]"
   ]
  },
  {
   "cell_type": "code",
   "execution_count": 54,
   "metadata": {},
   "outputs": [
    {
     "name": "stdout",
     "output_type": "stream",
     "text": [
      "Optimization terminated successfully.\n",
      "         Current function value: 0.689797\n",
      "         Iterations 4\n"
     ]
    }
   ],
   "source": [
    "model = sm.Logit(y_train,x_tran)\n",
    "result=model.fit()"
   ]
  },
  {
   "cell_type": "code",
   "execution_count": 55,
   "metadata": {},
   "outputs": [
    {
     "data": {
      "text/html": [
       "<table class=\"simpletable\">\n",
       "<caption>Logit Regression Results</caption>\n",
       "<tr>\n",
       "  <th>Dep. Variable:</th>        <td>Up_Down</td>     <th>  No. Observations:  </th>  <td>  2167</td> \n",
       "</tr>\n",
       "<tr>\n",
       "  <th>Model:</th>                 <td>Logit</td>      <th>  Df Residuals:      </th>  <td>  2161</td> \n",
       "</tr>\n",
       "<tr>\n",
       "  <th>Method:</th>                 <td>MLE</td>       <th>  Df Model:          </th>  <td>     5</td> \n",
       "</tr>\n",
       "<tr>\n",
       "  <th>Date:</th>            <td>Wed, 24 Nov 2021</td> <th>  Pseudo R-squ.:     </th> <td>0.002663</td>\n",
       "</tr>\n",
       "<tr>\n",
       "  <th>Time:</th>                <td>07:16:43</td>     <th>  Log-Likelihood:    </th> <td> -1494.8</td>\n",
       "</tr>\n",
       "<tr>\n",
       "  <th>converged:</th>             <td>True</td>       <th>  LL-Null:           </th> <td> -1498.8</td>\n",
       "</tr>\n",
       "<tr>\n",
       "  <th>Covariance Type:</th>     <td>nonrobust</td>    <th>  LLR p-value:       </th>  <td>0.1573</td> \n",
       "</tr>\n",
       "</table>\n",
       "<table class=\"simpletable\">\n",
       "<tr>\n",
       "                     <td></td>                       <th>coef</th>     <th>std err</th>      <th>z</th>      <th>P>|z|</th>  <th>[0.025</th>    <th>0.975]</th>  \n",
       "</tr>\n",
       "<tr>\n",
       "  <th>const</th>                                  <td>    0.2937</td> <td>    0.118</td> <td>    2.486</td> <td> 0.013</td> <td>    0.062</td> <td>    0.525</td>\n",
       "</tr>\n",
       "<tr>\n",
       "  <th>Trend_Lag</th>                              <td>   -0.4027</td> <td>    0.191</td> <td>   -2.108</td> <td> 0.035</td> <td>   -0.777</td> <td>   -0.028</td>\n",
       "</tr>\n",
       "<tr>\n",
       "  <th>Short_MV_Avg_Span-Long_MV_Avg_Span_Lag</th> <td>   -0.0031</td> <td>    0.010</td> <td>   -0.303</td> <td> 0.762</td> <td>   -0.023</td> <td>    0.017</td>\n",
       "</tr>\n",
       "<tr>\n",
       "  <th>Close-Open_Lag</th>                         <td>    0.0040</td> <td>    0.026</td> <td>    0.151</td> <td> 0.880</td> <td>   -0.047</td> <td>    0.055</td>\n",
       "</tr>\n",
       "<tr>\n",
       "  <th>High-Low_Lag</th>                           <td>    0.0116</td> <td>    0.018</td> <td>    0.647</td> <td> 0.518</td> <td>   -0.023</td> <td>    0.047</td>\n",
       "</tr>\n",
       "<tr>\n",
       "  <th>Volume_Lag</th>                             <td>   -0.0004</td> <td>    0.001</td> <td>   -0.450</td> <td> 0.653</td> <td>   -0.002</td> <td>    0.001</td>\n",
       "</tr>\n",
       "</table>"
      ],
      "text/plain": [
       "<class 'statsmodels.iolib.summary.Summary'>\n",
       "\"\"\"\n",
       "                           Logit Regression Results                           \n",
       "==============================================================================\n",
       "Dep. Variable:                Up_Down   No. Observations:                 2167\n",
       "Model:                          Logit   Df Residuals:                     2161\n",
       "Method:                           MLE   Df Model:                            5\n",
       "Date:                Wed, 24 Nov 2021   Pseudo R-squ.:                0.002663\n",
       "Time:                        07:16:43   Log-Likelihood:                -1494.8\n",
       "converged:                       True   LL-Null:                       -1498.8\n",
       "Covariance Type:            nonrobust   LLR p-value:                    0.1573\n",
       "==========================================================================================================\n",
       "                                             coef    std err          z      P>|z|      [0.025      0.975]\n",
       "----------------------------------------------------------------------------------------------------------\n",
       "const                                      0.2937      0.118      2.486      0.013       0.062       0.525\n",
       "Trend_Lag                                 -0.4027      0.191     -2.108      0.035      -0.777      -0.028\n",
       "Short_MV_Avg_Span-Long_MV_Avg_Span_Lag    -0.0031      0.010     -0.303      0.762      -0.023       0.017\n",
       "Close-Open_Lag                             0.0040      0.026      0.151      0.880      -0.047       0.055\n",
       "High-Low_Lag                               0.0116      0.018      0.647      0.518      -0.023       0.047\n",
       "Volume_Lag                                -0.0004      0.001     -0.450      0.653      -0.002       0.001\n",
       "==========================================================================================================\n",
       "\"\"\""
      ]
     },
     "execution_count": 55,
     "metadata": {},
     "output_type": "execute_result"
    }
   ],
   "source": [
    "result.summary()"
   ]
  },
  {
   "cell_type": "code",
   "execution_count": 56,
   "metadata": {},
   "outputs": [],
   "source": [
    "#print(result.summary().as_csv())"
   ]
  },
  {
   "cell_type": "code",
   "execution_count": 57,
   "metadata": {},
   "outputs": [],
   "source": [
    "#summary_list=result.summary().as_csv().split(\",\")"
   ]
  },
  {
   "cell_type": "code",
   "execution_count": 58,
   "metadata": {},
   "outputs": [],
   "source": [
    "#print(summary_list)"
   ]
  },
  {
   "cell_type": "code",
   "execution_count": 59,
   "metadata": {},
   "outputs": [],
   "source": [
    "#print(summary_list[37:39])"
   ]
  },
  {
   "cell_type": "code",
   "execution_count": 60,
   "metadata": {},
   "outputs": [
    {
     "data": {
      "text/html": [
       "<div>\n",
       "<style scoped>\n",
       "    .dataframe tbody tr th:only-of-type {\n",
       "        vertical-align: middle;\n",
       "    }\n",
       "\n",
       "    .dataframe tbody tr th {\n",
       "        vertical-align: top;\n",
       "    }\n",
       "\n",
       "    .dataframe thead th {\n",
       "        text-align: right;\n",
       "    }\n",
       "</style>\n",
       "<table border=\"1\" class=\"dataframe\">\n",
       "  <thead>\n",
       "    <tr style=\"text-align: right;\">\n",
       "      <th>Predict</th>\n",
       "      <th>Down</th>\n",
       "      <th>Up</th>\n",
       "    </tr>\n",
       "    <tr>\n",
       "      <th>Actual</th>\n",
       "      <th></th>\n",
       "      <th></th>\n",
       "    </tr>\n",
       "  </thead>\n",
       "  <tbody>\n",
       "    <tr>\n",
       "      <th>Down</th>\n",
       "      <td>11</td>\n",
       "      <td>100</td>\n",
       "    </tr>\n",
       "    <tr>\n",
       "      <th>Up</th>\n",
       "      <td>7</td>\n",
       "      <td>109</td>\n",
       "    </tr>\n",
       "  </tbody>\n",
       "</table>\n",
       "</div>"
      ],
      "text/plain": [
       "Predict  Down   Up\n",
       "Actual            \n",
       "Down       11  100\n",
       "Up          7  109"
      ]
     },
     "execution_count": 60,
     "metadata": {},
     "output_type": "execute_result"
    }
   ],
   "source": [
    "prediction = result.predict(x_test)\n",
    "confusion_matrix(y_test, prediction)"
   ]
  },
  {
   "cell_type": "code",
   "execution_count": 61,
   "metadata": {},
   "outputs": [],
   "source": [
    "z = confusion_matrix(y_test,prediction)"
   ]
  },
  {
   "cell_type": "code",
   "execution_count": 62,
   "metadata": {},
   "outputs": [
    {
     "name": "stdout",
     "output_type": "stream",
     "text": [
      "\n",
      "=========> Prediction Accuracy Rate: 0.5286 <=========\n",
      "\n"
     ]
    }
   ],
   "source": [
    "try:\n",
    "    print (\"\\n=========> Prediction Accuracy Rate: %.4f <=========\\n\"  %((z.loc['Down','Down'] + z.loc['Up','Up']) / len(x_test)))\n",
    "except:\n",
    "    print (\"\\n=========> Predication effectiveness is not avairable <=========\\n\" )"
   ]
  },
  {
   "cell_type": "code",
   "execution_count": 63,
   "metadata": {},
   "outputs": [
    {
     "name": "stdout",
     "output_type": "stream",
     "text": [
      "\n",
      "=========> Current trend = 0.5151,   [ FB ] will go up! <=========\n"
     ]
    }
   ],
   "source": [
    "prediction = result.predict(x_test)\n",
    "now_up_down  = result.predict([1.0, df1.iloc[-1, 10], df1.iloc[-1, 19], df1.iloc[-1, 12], df1.iloc[-1, 14], df1.iloc[-1, 7]])\n",
    "print (\"\\n=========> Current trend = %.4f,  \" %now_up_down, end=' ')\n",
    "print (\"[ %s ] will go up! <=========\" %stock.upper()) if now_up_down > cutoff else print (\"[ %s ] will go down! <=========\" %stock.upper()) "
   ]
  },
  {
   "cell_type": "code",
   "execution_count": 64,
   "metadata": {},
   "outputs": [
    {
     "name": "stdout",
     "output_type": "stream",
     "text": [
      "\n",
      " ============> 20 Days over 50 Days Moving Average Indicator \n",
      " ============> -3.4063....-2.7358....-2.3832....-2.2783....-2.2644....<=============\n",
      "\n",
      " ============> No Trading Waring at this time! <=============\n"
     ]
    }
   ],
   "source": [
    "#print (\"\\n=========> Current trend = %.4f,  \" %now_up_down, end=' ')\n",
    "print (\"\\n ============> %s Days over %s Days Moving Average Indicator \\n ============> %.4f....%.4f....%.4f....%.4f....%.4f....<=============\" %(short_moving_average_span, long_moving_average_span, df1.iloc[-5,19], df1.iloc[-4,19], df1.iloc[-3,19], df1.iloc[-2,19],df1.iloc[-1,19]))\n",
    "if df1.iloc[-1,19] * df1.iloc[-2,19] < 0:\n",
    "    print (\"\\n ============> Warning, It Is the Time to Sell [ %s ] <=========\" %stock.upper()) if df1.iloc[-1,19] < 0 else print (\"\\n ============> It Is the Time to Buy [ %s ] ! <=========\" %stock.upper())\n",
    "else:\n",
    "    print (\"\\n ============> No Trading Waring at this time! <=============\")"
   ]
  },
  {
   "cell_type": "code",
   "execution_count": null,
   "metadata": {},
   "outputs": [],
   "source": []
  },
  {
   "cell_type": "code",
   "execution_count": 65,
   "metadata": {},
   "outputs": [],
   "source": [
    "#df1.to_csv('fb.csv', index = False)"
   ]
  }
 ],
 "metadata": {
  "kernelspec": {
   "display_name": "Python 3",
   "language": "python",
   "name": "python3"
  },
  "language_info": {
   "codemirror_mode": {
    "name": "ipython",
    "version": 3
   },
   "file_extension": ".py",
   "mimetype": "text/x-python",
   "name": "python",
   "nbconvert_exporter": "python",
   "pygments_lexer": "ipython3",
   "version": "3.8.5"
  }
 },
 "nbformat": 4,
 "nbformat_minor": 4
}
