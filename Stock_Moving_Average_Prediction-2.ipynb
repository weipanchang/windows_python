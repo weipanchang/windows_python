{
 "cells": [
  {
   "cell_type": "code",
   "execution_count": 1,
   "metadata": {},
   "outputs": [],
   "source": [
    "import yfinance as yf"
   ]
  },
  {
   "cell_type": "code",
   "execution_count": 2,
   "metadata": {},
   "outputs": [],
   "source": [
    "import numpy as np"
   ]
  },
  {
   "cell_type": "code",
   "execution_count": 3,
   "metadata": {},
   "outputs": [],
   "source": [
    "import pandas as pd"
   ]
  },
  {
   "cell_type": "code",
   "execution_count": 4,
   "metadata": {},
   "outputs": [],
   "source": [
    "import math"
   ]
  },
  {
   "cell_type": "code",
   "execution_count": 5,
   "metadata": {},
   "outputs": [],
   "source": [
    "#import numpy as geek  "
   ]
  },
  {
   "cell_type": "code",
   "execution_count": 6,
   "metadata": {},
   "outputs": [],
   "source": [
    "import matplotlib.pyplot as plt"
   ]
  },
  {
   "cell_type": "code",
   "execution_count": 7,
   "metadata": {},
   "outputs": [],
   "source": [
    "import pandas_datareader as web"
   ]
  },
  {
   "cell_type": "code",
   "execution_count": 8,
   "metadata": {},
   "outputs": [],
   "source": [
    "import statsmodels.api as sm"
   ]
  },
  {
   "cell_type": "code",
   "execution_count": 9,
   "metadata": {},
   "outputs": [],
   "source": [
    "import datetime\n",
    "from dateutil.relativedelta import relativedelta\n",
    "from datetime import date"
   ]
  },
  {
   "cell_type": "code",
   "execution_count": 10,
   "metadata": {},
   "outputs": [],
   "source": [
    "stock = 'fb'\n",
    "\n",
    "short_moving_average_span = 20\n",
    "long_moving_average_span = 50\n",
    "cutoff=0.50\n",
    "invest = 100\n",
    "years_of_data_to_process = 25"
   ]
  },
  {
   "cell_type": "code",
   "execution_count": 11,
   "metadata": {},
   "outputs": [],
   "source": [
    "currentDateTime = datetime.datetime.now()\n",
    "date = currentDateTime.date()\n",
    "#print (date)\n",
    "year = date.strftime(\"%Y\")\n",
    "start_year =  int(year) - years_of_data_to_process\n",
    "start = datetime.datetime(start_year, 1, 1)"
   ]
  },
  {
   "cell_type": "code",
   "execution_count": 12,
   "metadata": {},
   "outputs": [
    {
     "name": "stdout",
     "output_type": "stream",
     "text": [
      "[*********************100%***********************]  1 of 1 completed\n"
     ]
    }
   ],
   "source": [
    "data =  yf.download(stock, start=start)"
   ]
  },
  {
   "cell_type": "code",
   "execution_count": 13,
   "metadata": {},
   "outputs": [],
   "source": [
    "#data = web.DataReader(stock, data_source='yahoo', start = start, end = '2008-7-14')"
   ]
  },
  {
   "cell_type": "code",
   "execution_count": 14,
   "metadata": {},
   "outputs": [],
   "source": [
    "df = data[\"Close\"].pct_change() * 100"
   ]
  },
  {
   "cell_type": "code",
   "execution_count": 15,
   "metadata": {},
   "outputs": [],
   "source": [
    "df = df.rename(\"Today_Change_%\")\n",
    "df = df.reset_index()"
   ]
  },
  {
   "cell_type": "code",
   "execution_count": 16,
   "metadata": {},
   "outputs": [],
   "source": [
    "df1 = pd.merge(data,df, on=\"Date\")\n",
    "#df1"
   ]
  },
  {
   "cell_type": "code",
   "execution_count": 17,
   "metadata": {},
   "outputs": [],
   "source": [
    "#df1.dropna(inplace= True)\n",
    "df1.insert(7,'Volume_Lag', None)\n",
    "df1.Volume = df1.Volume.pct_change() * 100\n",
    "#df1.Volume = df1.Volume *  geek.sign(df1.Volume.values)\n",
    "df1['Volume_Lag'] = df1.Volume.shift(1).values\n"
   ]
  },
  {
   "cell_type": "code",
   "execution_count": 18,
   "metadata": {},
   "outputs": [],
   "source": [
    "df1[\"Trend\"] =  (df1[\"Close\"] - df1[\"Low\"])/ ((df1[\"High\"] - df1[\"Low\"]))"
   ]
  },
  {
   "cell_type": "code",
   "execution_count": 19,
   "metadata": {},
   "outputs": [],
   "source": [
    "df1[\"Trend_Lag\"] = df1[\"Trend\"].shift(1)"
   ]
  },
  {
   "cell_type": "code",
   "execution_count": 20,
   "metadata": {},
   "outputs": [],
   "source": [
    "df1['Close-Open'] =  df1['Close'] - df1['Open']\n",
    "df1['Close-Open_Lag'] = df1['Close-Open'].shift(1)"
   ]
  },
  {
   "cell_type": "code",
   "execution_count": 21,
   "metadata": {},
   "outputs": [],
   "source": [
    "df1['High-Low'] =  df1['High'] - df1['Low']\n",
    "df1['High-Low_Lag'] = df1['High-Low'].shift(1)"
   ]
  },
  {
   "cell_type": "code",
   "execution_count": 22,
   "metadata": {},
   "outputs": [],
   "source": [
    "df1 = sm.add_constant(df1)\n",
    "df1[\"Up_Down\"] = [1 if (i > 0) else 0 for i in df1[\"Today_Change_%\"]]"
   ]
  },
  {
   "cell_type": "code",
   "execution_count": 23,
   "metadata": {},
   "outputs": [],
   "source": [
    "df1.dropna(inplace= True)"
   ]
  },
  {
   "cell_type": "code",
   "execution_count": 24,
   "metadata": {},
   "outputs": [],
   "source": [
    "df1['Short_MV_Avg_Span'] = df1['Close'].ewm(span=short_moving_average_span, adjust=False).mean()\n",
    "df1.dropna(inplace= True)\n",
    "#df1"
   ]
  },
  {
   "cell_type": "code",
   "execution_count": 25,
   "metadata": {},
   "outputs": [],
   "source": [
    "df1['Long_MV_Avg_Span'] = df1['Close'].ewm(span=long_moving_average_span, adjust=False).mean()\n",
    "df1.dropna(inplace= True)\n",
    "#df1"
   ]
  },
  {
   "cell_type": "code",
   "execution_count": 26,
   "metadata": {},
   "outputs": [],
   "source": [
    "df1['Short_MV_Avg_Span-Long_MV_Avg_Span'] = df1.Short_MV_Avg_Span - df1.Long_MV_Avg_Span\n",
    "df1['Short_MV_Avg_Span-Long_MV_Avg_Span_Lag'] = df1['Short_MV_Avg_Span-Long_MV_Avg_Span'].shift(1)\n",
    "#df1"
   ]
  },
  {
   "cell_type": "code",
   "execution_count": 27,
   "metadata": {},
   "outputs": [],
   "source": [
    "#crossovers = pd.DataFrame()\n",
    "#crossovers['Dates'] = Short_MV_Avg_Span['Date']\n",
    "#crossovers['Price'] = [i for i in df1.Close]\n",
    "#crossovers['Short_MV_Avg_Span'] = Short_MV_Avg_Span['Close']\n",
    "#crossovers['Long_MV_Avg_Span'] = Long_MV_Avg_Span['Close']\n",
    "#crossovers"
   ]
  },
  {
   "cell_type": "code",
   "execution_count": 28,
   "metadata": {},
   "outputs": [
    {
     "data": {
      "text/html": [
       "<div>\n",
       "<style scoped>\n",
       "    .dataframe tbody tr th:only-of-type {\n",
       "        vertical-align: middle;\n",
       "    }\n",
       "\n",
       "    .dataframe tbody tr th {\n",
       "        vertical-align: top;\n",
       "    }\n",
       "\n",
       "    .dataframe thead th {\n",
       "        text-align: right;\n",
       "    }\n",
       "</style>\n",
       "<table border=\"1\" class=\"dataframe\">\n",
       "  <thead>\n",
       "    <tr style=\"text-align: right;\">\n",
       "      <th></th>\n",
       "      <th>const</th>\n",
       "      <th>Date</th>\n",
       "      <th>Open</th>\n",
       "      <th>High</th>\n",
       "      <th>Low</th>\n",
       "      <th>Close</th>\n",
       "      <th>Adj Close</th>\n",
       "      <th>Volume</th>\n",
       "      <th>Volume_Lag</th>\n",
       "      <th>Today_Change_%</th>\n",
       "      <th>...</th>\n",
       "      <th>Trend_Lag</th>\n",
       "      <th>Close-Open</th>\n",
       "      <th>Close-Open_Lag</th>\n",
       "      <th>High-Low</th>\n",
       "      <th>High-Low_Lag</th>\n",
       "      <th>Up_Down</th>\n",
       "      <th>Short_MV_Avg_Span</th>\n",
       "      <th>Long_MV_Avg_Span</th>\n",
       "      <th>Short_MV_Avg_Span-Long_MV_Avg_Span</th>\n",
       "      <th>Short_MV_Avg_Span-Long_MV_Avg_Span_Lag</th>\n",
       "    </tr>\n",
       "  </thead>\n",
       "  <tbody>\n",
       "    <tr>\n",
       "      <th>2271</th>\n",
       "      <td>1.0</td>\n",
       "      <td>2021-05-28</td>\n",
       "      <td>331.000000</td>\n",
       "      <td>332.869995</td>\n",
       "      <td>328.329987</td>\n",
       "      <td>328.730011</td>\n",
       "      <td>328.730011</td>\n",
       "      <td>-41.217031</td>\n",
       "      <td>111.395803</td>\n",
       "      <td>-1.208111</td>\n",
       "      <td>...</td>\n",
       "      <td>0.853276</td>\n",
       "      <td>-2.269989</td>\n",
       "      <td>4.750000</td>\n",
       "      <td>4.540009</td>\n",
       "      <td>7.019989</td>\n",
       "      <td>0</td>\n",
       "      <td>318.361373</td>\n",
       "      <td>307.200303</td>\n",
       "      <td>11.161070</td>\n",
       "      <td>10.948398</td>\n",
       "    </tr>\n",
       "    <tr>\n",
       "      <th>2272</th>\n",
       "      <td>1.0</td>\n",
       "      <td>2021-06-01</td>\n",
       "      <td>330.149994</td>\n",
       "      <td>331.420013</td>\n",
       "      <td>326.640015</td>\n",
       "      <td>329.130005</td>\n",
       "      <td>329.130005</td>\n",
       "      <td>-2.255470</td>\n",
       "      <td>-41.217031</td>\n",
       "      <td>0.121679</td>\n",
       "      <td>...</td>\n",
       "      <td>0.088111</td>\n",
       "      <td>-1.019989</td>\n",
       "      <td>-2.269989</td>\n",
       "      <td>4.779999</td>\n",
       "      <td>4.540009</td>\n",
       "      <td>1</td>\n",
       "      <td>319.386957</td>\n",
       "      <td>308.060291</td>\n",
       "      <td>11.326666</td>\n",
       "      <td>11.161070</td>\n",
       "    </tr>\n",
       "    <tr>\n",
       "      <th>2273</th>\n",
       "      <td>1.0</td>\n",
       "      <td>2021-06-02</td>\n",
       "      <td>330.380005</td>\n",
       "      <td>331.869995</td>\n",
       "      <td>327.119995</td>\n",
       "      <td>329.149994</td>\n",
       "      <td>329.149994</td>\n",
       "      <td>-0.948504</td>\n",
       "      <td>-2.255470</td>\n",
       "      <td>0.006073</td>\n",
       "      <td>...</td>\n",
       "      <td>0.520919</td>\n",
       "      <td>-1.230011</td>\n",
       "      <td>-1.019989</td>\n",
       "      <td>4.750000</td>\n",
       "      <td>4.779999</td>\n",
       "      <td>1</td>\n",
       "      <td>320.316770</td>\n",
       "      <td>308.887338</td>\n",
       "      <td>11.429432</td>\n",
       "      <td>11.326666</td>\n",
       "    </tr>\n",
       "    <tr>\n",
       "      <th>2274</th>\n",
       "      <td>1.0</td>\n",
       "      <td>2021-06-03</td>\n",
       "      <td>325.779999</td>\n",
       "      <td>327.380005</td>\n",
       "      <td>323.480011</td>\n",
       "      <td>326.040009</td>\n",
       "      <td>326.040009</td>\n",
       "      <td>8.207271</td>\n",
       "      <td>-0.948504</td>\n",
       "      <td>-0.944854</td>\n",
       "      <td>...</td>\n",
       "      <td>0.427368</td>\n",
       "      <td>0.260010</td>\n",
       "      <td>-1.230011</td>\n",
       "      <td>3.899994</td>\n",
       "      <td>4.750000</td>\n",
       "      <td>0</td>\n",
       "      <td>320.861841</td>\n",
       "      <td>309.559992</td>\n",
       "      <td>11.301848</td>\n",
       "      <td>11.429432</td>\n",
       "    </tr>\n",
       "    <tr>\n",
       "      <th>2275</th>\n",
       "      <td>1.0</td>\n",
       "      <td>2021-06-04</td>\n",
       "      <td>325.899994</td>\n",
       "      <td>332.459991</td>\n",
       "      <td>325.179993</td>\n",
       "      <td>330.350006</td>\n",
       "      <td>330.350006</td>\n",
       "      <td>5.381102</td>\n",
       "      <td>8.207271</td>\n",
       "      <td>1.321923</td>\n",
       "      <td>...</td>\n",
       "      <td>0.656411</td>\n",
       "      <td>4.450012</td>\n",
       "      <td>0.260010</td>\n",
       "      <td>7.279999</td>\n",
       "      <td>3.899994</td>\n",
       "      <td>1</td>\n",
       "      <td>321.765475</td>\n",
       "      <td>310.375287</td>\n",
       "      <td>11.390189</td>\n",
       "      <td>11.301848</td>\n",
       "    </tr>\n",
       "    <tr>\n",
       "      <th>2276</th>\n",
       "      <td>1.0</td>\n",
       "      <td>2021-06-07</td>\n",
       "      <td>329.480011</td>\n",
       "      <td>337.690002</td>\n",
       "      <td>328.929993</td>\n",
       "      <td>336.579987</td>\n",
       "      <td>336.579987</td>\n",
       "      <td>51.524523</td>\n",
       "      <td>5.381102</td>\n",
       "      <td>1.885873</td>\n",
       "      <td>...</td>\n",
       "      <td>0.710167</td>\n",
       "      <td>7.099976</td>\n",
       "      <td>4.450012</td>\n",
       "      <td>8.760010</td>\n",
       "      <td>7.279999</td>\n",
       "      <td>1</td>\n",
       "      <td>323.176381</td>\n",
       "      <td>311.402922</td>\n",
       "      <td>11.773459</td>\n",
       "      <td>11.390189</td>\n",
       "    </tr>\n",
       "    <tr>\n",
       "      <th>2277</th>\n",
       "      <td>1.0</td>\n",
       "      <td>2021-06-08</td>\n",
       "      <td>336.700012</td>\n",
       "      <td>338.299988</td>\n",
       "      <td>332.239990</td>\n",
       "      <td>333.679993</td>\n",
       "      <td>333.679993</td>\n",
       "      <td>-27.592406</td>\n",
       "      <td>51.524523</td>\n",
       "      <td>-0.861606</td>\n",
       "      <td>...</td>\n",
       "      <td>0.873286</td>\n",
       "      <td>-3.020020</td>\n",
       "      <td>7.099976</td>\n",
       "      <td>6.059998</td>\n",
       "      <td>8.760010</td>\n",
       "      <td>0</td>\n",
       "      <td>324.176725</td>\n",
       "      <td>312.276533</td>\n",
       "      <td>11.900192</td>\n",
       "      <td>11.773459</td>\n",
       "    </tr>\n",
       "    <tr>\n",
       "      <th>2278</th>\n",
       "      <td>1.0</td>\n",
       "      <td>2021-06-09</td>\n",
       "      <td>335.739990</td>\n",
       "      <td>336.799988</td>\n",
       "      <td>330.000000</td>\n",
       "      <td>330.250000</td>\n",
       "      <td>330.250000</td>\n",
       "      <td>-5.847536</td>\n",
       "      <td>-27.592406</td>\n",
       "      <td>-1.027929</td>\n",
       "      <td>...</td>\n",
       "      <td>0.237624</td>\n",
       "      <td>-5.489990</td>\n",
       "      <td>-3.020020</td>\n",
       "      <td>6.799988</td>\n",
       "      <td>6.059998</td>\n",
       "      <td>0</td>\n",
       "      <td>324.755132</td>\n",
       "      <td>312.981375</td>\n",
       "      <td>11.773758</td>\n",
       "      <td>11.900192</td>\n",
       "    </tr>\n",
       "    <tr>\n",
       "      <th>2279</th>\n",
       "      <td>1.0</td>\n",
       "      <td>2021-06-10</td>\n",
       "      <td>330.790009</td>\n",
       "      <td>333.940002</td>\n",
       "      <td>328.549988</td>\n",
       "      <td>332.459991</td>\n",
       "      <td>332.459991</td>\n",
       "      <td>-3.552619</td>\n",
       "      <td>-5.847536</td>\n",
       "      <td>0.669187</td>\n",
       "      <td>...</td>\n",
       "      <td>0.036765</td>\n",
       "      <td>1.669983</td>\n",
       "      <td>-5.489990</td>\n",
       "      <td>5.390015</td>\n",
       "      <td>6.799988</td>\n",
       "      <td>1</td>\n",
       "      <td>325.488928</td>\n",
       "      <td>313.745242</td>\n",
       "      <td>11.743687</td>\n",
       "      <td>11.773758</td>\n",
       "    </tr>\n",
       "    <tr>\n",
       "      <th>2280</th>\n",
       "      <td>1.0</td>\n",
       "      <td>2021-06-11</td>\n",
       "      <td>332.579987</td>\n",
       "      <td>332.829987</td>\n",
       "      <td>328.929993</td>\n",
       "      <td>331.260010</td>\n",
       "      <td>331.260010</td>\n",
       "      <td>2.626093</td>\n",
       "      <td>-3.552619</td>\n",
       "      <td>-0.360940</td>\n",
       "      <td>...</td>\n",
       "      <td>0.725416</td>\n",
       "      <td>-1.319977</td>\n",
       "      <td>1.669983</td>\n",
       "      <td>3.899994</td>\n",
       "      <td>5.390015</td>\n",
       "      <td>0</td>\n",
       "      <td>326.038555</td>\n",
       "      <td>314.432095</td>\n",
       "      <td>11.606460</td>\n",
       "      <td>11.743687</td>\n",
       "    </tr>\n",
       "    <tr>\n",
       "      <th>2281</th>\n",
       "      <td>1.0</td>\n",
       "      <td>2021-06-14</td>\n",
       "      <td>331.899994</td>\n",
       "      <td>336.820007</td>\n",
       "      <td>329.809998</td>\n",
       "      <td>336.769989</td>\n",
       "      <td>336.769989</td>\n",
       "      <td>-9.840373</td>\n",
       "      <td>2.626093</td>\n",
       "      <td>1.663340</td>\n",
       "      <td>...</td>\n",
       "      <td>0.597441</td>\n",
       "      <td>4.869995</td>\n",
       "      <td>-1.319977</td>\n",
       "      <td>7.010010</td>\n",
       "      <td>3.899994</td>\n",
       "      <td>1</td>\n",
       "      <td>327.060597</td>\n",
       "      <td>315.308091</td>\n",
       "      <td>11.752505</td>\n",
       "      <td>11.606460</td>\n",
       "    </tr>\n",
       "    <tr>\n",
       "      <th>2282</th>\n",
       "      <td>1.0</td>\n",
       "      <td>2021-06-15</td>\n",
       "      <td>336.989990</td>\n",
       "      <td>339.920013</td>\n",
       "      <td>335.029999</td>\n",
       "      <td>336.750000</td>\n",
       "      <td>336.750000</td>\n",
       "      <td>28.931988</td>\n",
       "      <td>-9.840373</td>\n",
       "      <td>-0.005936</td>\n",
       "      <td>...</td>\n",
       "      <td>0.992865</td>\n",
       "      <td>-0.239990</td>\n",
       "      <td>4.869995</td>\n",
       "      <td>4.890015</td>\n",
       "      <td>7.010010</td>\n",
       "      <td>0</td>\n",
       "      <td>327.983397</td>\n",
       "      <td>316.148950</td>\n",
       "      <td>11.834446</td>\n",
       "      <td>11.752505</td>\n",
       "    </tr>\n",
       "    <tr>\n",
       "      <th>2283</th>\n",
       "      <td>1.0</td>\n",
       "      <td>2021-06-16</td>\n",
       "      <td>336.700012</td>\n",
       "      <td>337.549988</td>\n",
       "      <td>328.720001</td>\n",
       "      <td>331.079987</td>\n",
       "      <td>331.079987</td>\n",
       "      <td>9.097701</td>\n",
       "      <td>28.931988</td>\n",
       "      <td>-1.683746</td>\n",
       "      <td>...</td>\n",
       "      <td>0.351737</td>\n",
       "      <td>-5.620026</td>\n",
       "      <td>-0.239990</td>\n",
       "      <td>8.829987</td>\n",
       "      <td>4.890015</td>\n",
       "      <td>0</td>\n",
       "      <td>328.278310</td>\n",
       "      <td>316.734481</td>\n",
       "      <td>11.543829</td>\n",
       "      <td>11.834446</td>\n",
       "    </tr>\n",
       "    <tr>\n",
       "      <th>2284</th>\n",
       "      <td>1.0</td>\n",
       "      <td>2021-06-17</td>\n",
       "      <td>330.489990</td>\n",
       "      <td>337.980011</td>\n",
       "      <td>330.149994</td>\n",
       "      <td>336.510010</td>\n",
       "      <td>336.510010</td>\n",
       "      <td>3.260756</td>\n",
       "      <td>9.097701</td>\n",
       "      <td>1.640094</td>\n",
       "      <td>...</td>\n",
       "      <td>0.267269</td>\n",
       "      <td>6.020020</td>\n",
       "      <td>-5.620026</td>\n",
       "      <td>7.830017</td>\n",
       "      <td>8.829987</td>\n",
       "      <td>1</td>\n",
       "      <td>329.062282</td>\n",
       "      <td>317.509992</td>\n",
       "      <td>11.552289</td>\n",
       "      <td>11.543829</td>\n",
       "    </tr>\n",
       "    <tr>\n",
       "      <th>2285</th>\n",
       "      <td>1.0</td>\n",
       "      <td>2021-06-18</td>\n",
       "      <td>334.529999</td>\n",
       "      <td>336.149994</td>\n",
       "      <td>329.000000</td>\n",
       "      <td>329.660004</td>\n",
       "      <td>329.660004</td>\n",
       "      <td>29.397385</td>\n",
       "      <td>3.260756</td>\n",
       "      <td>-2.035602</td>\n",
       "      <td>...</td>\n",
       "      <td>0.812261</td>\n",
       "      <td>-4.869995</td>\n",
       "      <td>6.020020</td>\n",
       "      <td>7.149994</td>\n",
       "      <td>7.830017</td>\n",
       "      <td>0</td>\n",
       "      <td>329.119207</td>\n",
       "      <td>317.986463</td>\n",
       "      <td>11.132744</td>\n",
       "      <td>11.552289</td>\n",
       "    </tr>\n",
       "    <tr>\n",
       "      <th>2286</th>\n",
       "      <td>1.0</td>\n",
       "      <td>2021-06-21</td>\n",
       "      <td>331.089996</td>\n",
       "      <td>332.920013</td>\n",
       "      <td>327.649994</td>\n",
       "      <td>332.290009</td>\n",
       "      <td>332.290009</td>\n",
       "      <td>-50.760257</td>\n",
       "      <td>29.397385</td>\n",
       "      <td>0.797793</td>\n",
       "      <td>...</td>\n",
       "      <td>0.092308</td>\n",
       "      <td>1.200012</td>\n",
       "      <td>-4.869995</td>\n",
       "      <td>5.270020</td>\n",
       "      <td>7.149994</td>\n",
       "      <td>1</td>\n",
       "      <td>329.421189</td>\n",
       "      <td>318.547387</td>\n",
       "      <td>10.873802</td>\n",
       "      <td>11.132744</td>\n",
       "    </tr>\n",
       "    <tr>\n",
       "      <th>2287</th>\n",
       "      <td>1.0</td>\n",
       "      <td>2021-06-22</td>\n",
       "      <td>332.690002</td>\n",
       "      <td>339.920013</td>\n",
       "      <td>332.600006</td>\n",
       "      <td>339.029999</td>\n",
       "      <td>339.029999</td>\n",
       "      <td>35.349945</td>\n",
       "      <td>-50.760257</td>\n",
       "      <td>2.028346</td>\n",
       "      <td>...</td>\n",
       "      <td>0.880455</td>\n",
       "      <td>6.339996</td>\n",
       "      <td>1.200012</td>\n",
       "      <td>7.320007</td>\n",
       "      <td>5.270020</td>\n",
       "      <td>1</td>\n",
       "      <td>330.336313</td>\n",
       "      <td>319.350626</td>\n",
       "      <td>10.985687</td>\n",
       "      <td>10.873802</td>\n",
       "    </tr>\n",
       "    <tr>\n",
       "      <th>2288</th>\n",
       "      <td>1.0</td>\n",
       "      <td>2021-06-23</td>\n",
       "      <td>339.350006</td>\n",
       "      <td>343.420013</td>\n",
       "      <td>338.200012</td>\n",
       "      <td>340.589996</td>\n",
       "      <td>340.589996</td>\n",
       "      <td>-3.437535</td>\n",
       "      <td>35.349945</td>\n",
       "      <td>0.460136</td>\n",
       "      <td>...</td>\n",
       "      <td>0.878413</td>\n",
       "      <td>1.239990</td>\n",
       "      <td>6.339996</td>\n",
       "      <td>5.220001</td>\n",
       "      <td>7.320007</td>\n",
       "      <td>1</td>\n",
       "      <td>331.312855</td>\n",
       "      <td>320.183543</td>\n",
       "      <td>11.129312</td>\n",
       "      <td>10.985687</td>\n",
       "    </tr>\n",
       "    <tr>\n",
       "      <th>2289</th>\n",
       "      <td>1.0</td>\n",
       "      <td>2021-06-24</td>\n",
       "      <td>341.850006</td>\n",
       "      <td>344.899994</td>\n",
       "      <td>341.790009</td>\n",
       "      <td>343.179993</td>\n",
       "      <td>343.179993</td>\n",
       "      <td>-16.795341</td>\n",
       "      <td>-3.437535</td>\n",
       "      <td>0.760444</td>\n",
       "      <td>...</td>\n",
       "      <td>0.457851</td>\n",
       "      <td>1.329987</td>\n",
       "      <td>1.239990</td>\n",
       "      <td>3.109985</td>\n",
       "      <td>5.220001</td>\n",
       "      <td>1</td>\n",
       "      <td>332.443058</td>\n",
       "      <td>321.085364</td>\n",
       "      <td>11.357694</td>\n",
       "      <td>11.129312</td>\n",
       "    </tr>\n",
       "    <tr>\n",
       "      <th>2290</th>\n",
       "      <td>1.0</td>\n",
       "      <td>2021-06-25</td>\n",
       "      <td>342.589996</td>\n",
       "      <td>344.119995</td>\n",
       "      <td>339.679993</td>\n",
       "      <td>341.369995</td>\n",
       "      <td>341.369995</td>\n",
       "      <td>18.322505</td>\n",
       "      <td>-16.795341</td>\n",
       "      <td>-0.527419</td>\n",
       "      <td>...</td>\n",
       "      <td>0.446942</td>\n",
       "      <td>-1.220001</td>\n",
       "      <td>1.329987</td>\n",
       "      <td>4.440002</td>\n",
       "      <td>3.109985</td>\n",
       "      <td>0</td>\n",
       "      <td>333.293243</td>\n",
       "      <td>321.880840</td>\n",
       "      <td>11.412403</td>\n",
       "      <td>11.357694</td>\n",
       "    </tr>\n",
       "  </tbody>\n",
       "</table>\n",
       "<p>20 rows × 21 columns</p>\n",
       "</div>"
      ],
      "text/plain": [
       "      const       Date        Open        High         Low       Close  \\\n",
       "2271    1.0 2021-05-28  331.000000  332.869995  328.329987  328.730011   \n",
       "2272    1.0 2021-06-01  330.149994  331.420013  326.640015  329.130005   \n",
       "2273    1.0 2021-06-02  330.380005  331.869995  327.119995  329.149994   \n",
       "2274    1.0 2021-06-03  325.779999  327.380005  323.480011  326.040009   \n",
       "2275    1.0 2021-06-04  325.899994  332.459991  325.179993  330.350006   \n",
       "2276    1.0 2021-06-07  329.480011  337.690002  328.929993  336.579987   \n",
       "2277    1.0 2021-06-08  336.700012  338.299988  332.239990  333.679993   \n",
       "2278    1.0 2021-06-09  335.739990  336.799988  330.000000  330.250000   \n",
       "2279    1.0 2021-06-10  330.790009  333.940002  328.549988  332.459991   \n",
       "2280    1.0 2021-06-11  332.579987  332.829987  328.929993  331.260010   \n",
       "2281    1.0 2021-06-14  331.899994  336.820007  329.809998  336.769989   \n",
       "2282    1.0 2021-06-15  336.989990  339.920013  335.029999  336.750000   \n",
       "2283    1.0 2021-06-16  336.700012  337.549988  328.720001  331.079987   \n",
       "2284    1.0 2021-06-17  330.489990  337.980011  330.149994  336.510010   \n",
       "2285    1.0 2021-06-18  334.529999  336.149994  329.000000  329.660004   \n",
       "2286    1.0 2021-06-21  331.089996  332.920013  327.649994  332.290009   \n",
       "2287    1.0 2021-06-22  332.690002  339.920013  332.600006  339.029999   \n",
       "2288    1.0 2021-06-23  339.350006  343.420013  338.200012  340.589996   \n",
       "2289    1.0 2021-06-24  341.850006  344.899994  341.790009  343.179993   \n",
       "2290    1.0 2021-06-25  342.589996  344.119995  339.679993  341.369995   \n",
       "\n",
       "       Adj Close     Volume  Volume_Lag  Today_Change_%  ...  Trend_Lag  \\\n",
       "2271  328.730011 -41.217031  111.395803       -1.208111  ...   0.853276   \n",
       "2272  329.130005  -2.255470  -41.217031        0.121679  ...   0.088111   \n",
       "2273  329.149994  -0.948504   -2.255470        0.006073  ...   0.520919   \n",
       "2274  326.040009   8.207271   -0.948504       -0.944854  ...   0.427368   \n",
       "2275  330.350006   5.381102    8.207271        1.321923  ...   0.656411   \n",
       "2276  336.579987  51.524523    5.381102        1.885873  ...   0.710167   \n",
       "2277  333.679993 -27.592406   51.524523       -0.861606  ...   0.873286   \n",
       "2278  330.250000  -5.847536  -27.592406       -1.027929  ...   0.237624   \n",
       "2279  332.459991  -3.552619   -5.847536        0.669187  ...   0.036765   \n",
       "2280  331.260010   2.626093   -3.552619       -0.360940  ...   0.725416   \n",
       "2281  336.769989  -9.840373    2.626093        1.663340  ...   0.597441   \n",
       "2282  336.750000  28.931988   -9.840373       -0.005936  ...   0.992865   \n",
       "2283  331.079987   9.097701   28.931988       -1.683746  ...   0.351737   \n",
       "2284  336.510010   3.260756    9.097701        1.640094  ...   0.267269   \n",
       "2285  329.660004  29.397385    3.260756       -2.035602  ...   0.812261   \n",
       "2286  332.290009 -50.760257   29.397385        0.797793  ...   0.092308   \n",
       "2287  339.029999  35.349945  -50.760257        2.028346  ...   0.880455   \n",
       "2288  340.589996  -3.437535   35.349945        0.460136  ...   0.878413   \n",
       "2289  343.179993 -16.795341   -3.437535        0.760444  ...   0.457851   \n",
       "2290  341.369995  18.322505  -16.795341       -0.527419  ...   0.446942   \n",
       "\n",
       "      Close-Open  Close-Open_Lag  High-Low  High-Low_Lag  Up_Down  \\\n",
       "2271   -2.269989        4.750000  4.540009      7.019989        0   \n",
       "2272   -1.019989       -2.269989  4.779999      4.540009        1   \n",
       "2273   -1.230011       -1.019989  4.750000      4.779999        1   \n",
       "2274    0.260010       -1.230011  3.899994      4.750000        0   \n",
       "2275    4.450012        0.260010  7.279999      3.899994        1   \n",
       "2276    7.099976        4.450012  8.760010      7.279999        1   \n",
       "2277   -3.020020        7.099976  6.059998      8.760010        0   \n",
       "2278   -5.489990       -3.020020  6.799988      6.059998        0   \n",
       "2279    1.669983       -5.489990  5.390015      6.799988        1   \n",
       "2280   -1.319977        1.669983  3.899994      5.390015        0   \n",
       "2281    4.869995       -1.319977  7.010010      3.899994        1   \n",
       "2282   -0.239990        4.869995  4.890015      7.010010        0   \n",
       "2283   -5.620026       -0.239990  8.829987      4.890015        0   \n",
       "2284    6.020020       -5.620026  7.830017      8.829987        1   \n",
       "2285   -4.869995        6.020020  7.149994      7.830017        0   \n",
       "2286    1.200012       -4.869995  5.270020      7.149994        1   \n",
       "2287    6.339996        1.200012  7.320007      5.270020        1   \n",
       "2288    1.239990        6.339996  5.220001      7.320007        1   \n",
       "2289    1.329987        1.239990  3.109985      5.220001        1   \n",
       "2290   -1.220001        1.329987  4.440002      3.109985        0   \n",
       "\n",
       "      Short_MV_Avg_Span  Long_MV_Avg_Span  Short_MV_Avg_Span-Long_MV_Avg_Span  \\\n",
       "2271         318.361373        307.200303                           11.161070   \n",
       "2272         319.386957        308.060291                           11.326666   \n",
       "2273         320.316770        308.887338                           11.429432   \n",
       "2274         320.861841        309.559992                           11.301848   \n",
       "2275         321.765475        310.375287                           11.390189   \n",
       "2276         323.176381        311.402922                           11.773459   \n",
       "2277         324.176725        312.276533                           11.900192   \n",
       "2278         324.755132        312.981375                           11.773758   \n",
       "2279         325.488928        313.745242                           11.743687   \n",
       "2280         326.038555        314.432095                           11.606460   \n",
       "2281         327.060597        315.308091                           11.752505   \n",
       "2282         327.983397        316.148950                           11.834446   \n",
       "2283         328.278310        316.734481                           11.543829   \n",
       "2284         329.062282        317.509992                           11.552289   \n",
       "2285         329.119207        317.986463                           11.132744   \n",
       "2286         329.421189        318.547387                           10.873802   \n",
       "2287         330.336313        319.350626                           10.985687   \n",
       "2288         331.312855        320.183543                           11.129312   \n",
       "2289         332.443058        321.085364                           11.357694   \n",
       "2290         333.293243        321.880840                           11.412403   \n",
       "\n",
       "      Short_MV_Avg_Span-Long_MV_Avg_Span_Lag  \n",
       "2271                               10.948398  \n",
       "2272                               11.161070  \n",
       "2273                               11.326666  \n",
       "2274                               11.429432  \n",
       "2275                               11.301848  \n",
       "2276                               11.390189  \n",
       "2277                               11.773459  \n",
       "2278                               11.900192  \n",
       "2279                               11.773758  \n",
       "2280                               11.743687  \n",
       "2281                               11.606460  \n",
       "2282                               11.752505  \n",
       "2283                               11.834446  \n",
       "2284                               11.543829  \n",
       "2285                               11.552289  \n",
       "2286                               11.132744  \n",
       "2287                               10.873802  \n",
       "2288                               10.985687  \n",
       "2289                               11.129312  \n",
       "2290                               11.357694  \n",
       "\n",
       "[20 rows x 21 columns]"
      ]
     },
     "execution_count": 28,
     "metadata": {},
     "output_type": "execute_result"
    }
   ],
   "source": [
    "df1.dropna(inplace= True)\n",
    "df1.tail(20)"
   ]
  },
  {
   "cell_type": "code",
   "execution_count": 29,
   "metadata": {},
   "outputs": [],
   "source": [
    "X = df1[['const','Trend_Lag','Short_MV_Avg_Span-Long_MV_Avg_Span_Lag','Close-Open_Lag','High-Low_Lag','Volume_Lag']]"
   ]
  },
  {
   "cell_type": "code",
   "execution_count": 30,
   "metadata": {},
   "outputs": [
    {
     "data": {
      "text/plain": [
       "<function matplotlib.pyplot.show(close=None, block=None)>"
      ]
     },
     "execution_count": 30,
     "metadata": {},
     "output_type": "execute_result"
    },
    {
     "data": {
      "image/png": "[encoded data removed]",
      "text/plain": [
       "<Figure size 1152x432 with 1 Axes>"
      ]
     },
     "metadata": {
      "needs_background": "light"
     },
     "output_type": "display_data"
    }
   ],
   "source": [
    "df1['Close'][-100:].plot(figsize=(16,6))\n",
    "df1['Short_MV_Avg_Span'][-100:].plot(figsize=(16,6))\n",
    "df1['Long_MV_Avg_Span'][-100:].plot(figsize=(16,6))\n",
    "plt.xlabel('Index', fontsize=18)\n",
    "plt.ylabel('Close Price USD ($)', fontsize =18)\n",
    "plt.legend(['Close', str(short_moving_average_span) + ' Days Moving Average', str(long_moving_average_span) + ' days Moving Average'], loc = 'lower left')\n",
    "plt.title(\"Moving Average for \" + stock.upper())\n",
    "plt.show"
   ]
  },
  {
   "cell_type": "code",
   "execution_count": 31,
   "metadata": {},
   "outputs": [],
   "source": [
    "y = df1[\"Up_Down\"].values"
   ]
  },
  {
   "cell_type": "code",
   "execution_count": 32,
   "metadata": {},
   "outputs": [],
   "source": [
    "model = sm.Logit(y,X)"
   ]
  },
  {
   "cell_type": "code",
   "execution_count": 33,
   "metadata": {},
   "outputs": [
    {
     "name": "stdout",
     "output_type": "stream",
     "text": [
      "Optimization terminated successfully.\n",
      "         Current function value: 0.689210\n",
      "         Iterations 4\n"
     ]
    }
   ],
   "source": [
    "result =  model.fit()"
   ]
  },
  {
   "cell_type": "code",
   "execution_count": 34,
   "metadata": {},
   "outputs": [
    {
     "data": {
      "text/html": [
       "<table class=\"simpletable\">\n",
       "<caption>Logit Regression Results</caption>\n",
       "<tr>\n",
       "  <th>Dep. Variable:</th>           <td>y</td>        <th>  No. Observations:  </th>  <td>  2288</td> \n",
       "</tr>\n",
       "<tr>\n",
       "  <th>Model:</th>                 <td>Logit</td>      <th>  Df Residuals:      </th>  <td>  2282</td> \n",
       "</tr>\n",
       "<tr>\n",
       "  <th>Method:</th>                 <td>MLE</td>       <th>  Df Model:          </th>  <td>     5</td> \n",
       "</tr>\n",
       "<tr>\n",
       "  <th>Date:</th>            <td>Sun, 27 Jun 2021</td> <th>  Pseudo R-squ.:     </th> <td>0.003636</td>\n",
       "</tr>\n",
       "<tr>\n",
       "  <th>Time:</th>                <td>22:14:32</td>     <th>  Log-Likelihood:    </th> <td> -1576.9</td>\n",
       "</tr>\n",
       "<tr>\n",
       "  <th>converged:</th>             <td>True</td>       <th>  LL-Null:           </th> <td> -1582.7</td>\n",
       "</tr>\n",
       "<tr>\n",
       "  <th>Covariance Type:</th>     <td>nonrobust</td>    <th>  LLR p-value:       </th>  <td>0.04215</td>\n",
       "</tr>\n",
       "</table>\n",
       "<table class=\"simpletable\">\n",
       "<tr>\n",
       "                     <td></td>                       <th>coef</th>     <th>std err</th>      <th>z</th>      <th>P>|z|</th>  <th>[0.025</th>    <th>0.975]</th>  \n",
       "</tr>\n",
       "<tr>\n",
       "  <th>const</th>                                  <td>    0.3218</td> <td>    0.115</td> <td>    2.787</td> <td> 0.005</td> <td>    0.096</td> <td>    0.548</td>\n",
       "</tr>\n",
       "<tr>\n",
       "  <th>Trend_Lag</th>                              <td>   -0.4192</td> <td>    0.186</td> <td>   -2.254</td> <td> 0.024</td> <td>   -0.784</td> <td>   -0.055</td>\n",
       "</tr>\n",
       "<tr>\n",
       "  <th>Short_MV_Avg_Span-Long_MV_Avg_Span_Lag</th> <td>   -0.0062</td> <td>    0.010</td> <td>   -0.650</td> <td> 0.515</td> <td>   -0.025</td> <td>    0.013</td>\n",
       "</tr>\n",
       "<tr>\n",
       "  <th>Close-Open_Lag</th>                         <td>   -0.0067</td> <td>    0.024</td> <td>   -0.282</td> <td> 0.778</td> <td>   -0.053</td> <td>    0.040</td>\n",
       "</tr>\n",
       "<tr>\n",
       "  <th>High-Low_Lag</th>                           <td>    0.0053</td> <td>    0.016</td> <td>    0.330</td> <td> 0.741</td> <td>   -0.026</td> <td>    0.037</td>\n",
       "</tr>\n",
       "<tr>\n",
       "  <th>Volume_Lag</th>                             <td>   -0.0003</td> <td>    0.001</td> <td>   -0.324</td> <td> 0.746</td> <td>   -0.002</td> <td>    0.001</td>\n",
       "</tr>\n",
       "</table>"
      ],
      "text/plain": [
       "<class 'statsmodels.iolib.summary.Summary'>\n",
       "\"\"\"\n",
       "                           Logit Regression Results                           \n",
       "==============================================================================\n",
       "Dep. Variable:                      y   No. Observations:                 2288\n",
       "Model:                          Logit   Df Residuals:                     2282\n",
       "Method:                           MLE   Df Model:                            5\n",
       "Date:                Sun, 27 Jun 2021   Pseudo R-squ.:                0.003636\n",
       "Time:                        22:14:32   Log-Likelihood:                -1576.9\n",
       "converged:                       True   LL-Null:                       -1582.7\n",
       "Covariance Type:            nonrobust   LLR p-value:                   0.04215\n",
       "==========================================================================================================\n",
       "                                             coef    std err          z      P>|z|      [0.025      0.975]\n",
       "----------------------------------------------------------------------------------------------------------\n",
       "const                                      0.3218      0.115      2.787      0.005       0.096       0.548\n",
       "Trend_Lag                                 -0.4192      0.186     -2.254      0.024      -0.784      -0.055\n",
       "Short_MV_Avg_Span-Long_MV_Avg_Span_Lag    -0.0062      0.010     -0.650      0.515      -0.025       0.013\n",
       "Close-Open_Lag                            -0.0067      0.024     -0.282      0.778      -0.053       0.040\n",
       "High-Low_Lag                               0.0053      0.016      0.330      0.741      -0.026       0.037\n",
       "Volume_Lag                                -0.0003      0.001     -0.324      0.746      -0.002       0.001\n",
       "==========================================================================================================\n",
       "\"\"\""
      ]
     },
     "execution_count": 34,
     "metadata": {},
     "output_type": "execute_result"
    }
   ],
   "source": [
    "result.summary()"
   ]
  },
  {
   "cell_type": "code",
   "execution_count": 35,
   "metadata": {},
   "outputs": [],
   "source": [
    "prediction = result.predict(X)"
   ]
  },
  {
   "cell_type": "code",
   "execution_count": 36,
   "metadata": {},
   "outputs": [],
   "source": [
    "df1['Prediction_Caculated'] = pd.array(prediction)\n",
    "df1['Prediction_indicator'] = pd.array([1 if i > cutoff else 0 for i in prediction])\n",
    "#print (df1.iloc[-1,18],df1.iloc[-1,19],df1.iloc[-1,20])"
   ]
  },
  {
   "cell_type": "code",
   "execution_count": 37,
   "metadata": {},
   "outputs": [],
   "source": [
    "#print(df1.loc[[i for i in range(len(df1)-20, len(df1)+2)],['Trend_Lag', 'Short_MV_Avg_Span-Long_MV_Avg_Span_Lag', 'Up_Down', 'Prediction_indicator']])"
   ]
  },
  {
   "cell_type": "code",
   "execution_count": 38,
   "metadata": {},
   "outputs": [],
   "source": [
    "y = df1[\"Up_Down\"].values"
   ]
  },
  {
   "cell_type": "code",
   "execution_count": 39,
   "metadata": {},
   "outputs": [],
   "source": [
    "def confusion_matrix(act,pred):\n",
    "    predtrans = ['Up' if i > cutoff else 'Down' for i in pred]\n",
    "    actuals = ['Up' if i > 0 else 'Down' for i in act]\n",
    "    confusion_matrix = pd.crosstab(pd.Series(actuals),\n",
    "                                   pd.Series(predtrans),\n",
    "                                   rownames = [\"Actual\"],\n",
    "                                   colnames = [\"Predict\"]\n",
    "                                  )\n",
    "    return confusion_matrix"
   ]
  },
  {
   "cell_type": "code",
   "execution_count": 40,
   "metadata": {},
   "outputs": [
    {
     "data": {
      "text/html": [
       "<div>\n",
       "<style scoped>\n",
       "    .dataframe tbody tr th:only-of-type {\n",
       "        vertical-align: middle;\n",
       "    }\n",
       "\n",
       "    .dataframe tbody tr th {\n",
       "        vertical-align: top;\n",
       "    }\n",
       "\n",
       "    .dataframe thead th {\n",
       "        text-align: right;\n",
       "    }\n",
       "</style>\n",
       "<table border=\"1\" class=\"dataframe\">\n",
       "  <thead>\n",
       "    <tr style=\"text-align: right;\">\n",
       "      <th>Predict</th>\n",
       "      <th>Down</th>\n",
       "      <th>Up</th>\n",
       "    </tr>\n",
       "    <tr>\n",
       "      <th>Actual</th>\n",
       "      <th></th>\n",
       "      <th></th>\n",
       "    </tr>\n",
       "  </thead>\n",
       "  <tbody>\n",
       "    <tr>\n",
       "      <th>Down</th>\n",
       "      <td>328</td>\n",
       "      <td>755</td>\n",
       "    </tr>\n",
       "    <tr>\n",
       "      <th>Up</th>\n",
       "      <td>326</td>\n",
       "      <td>879</td>\n",
       "    </tr>\n",
       "  </tbody>\n",
       "</table>\n",
       "</div>"
      ],
      "text/plain": [
       "Predict  Down   Up\n",
       "Actual            \n",
       "Down      328  755\n",
       "Up        326  879"
      ]
     },
     "execution_count": 40,
     "metadata": {},
     "output_type": "execute_result"
    }
   ],
   "source": [
    "confusion_matrix(y,prediction)"
   ]
  },
  {
   "cell_type": "code",
   "execution_count": 41,
   "metadata": {},
   "outputs": [
    {
     "name": "stdout",
     "output_type": "stream",
     "text": [
      "0.527534965034965\n"
     ]
    }
   ],
   "source": [
    "z = confusion_matrix(y,prediction)\n",
    "try:\n",
    "    print((z.loc['Down','Down'] + z.loc['Up','Up']) / len(df1))\n",
    "except:\n",
    "    pass"
   ]
  },
  {
   "cell_type": "code",
   "execution_count": 42,
   "metadata": {},
   "outputs": [
    {
     "name": "stdout",
     "output_type": "stream",
     "text": [
      "0.6151885830784913\n"
     ]
    }
   ],
   "source": [
    "try:\n",
    "    print( (z.loc['Down', 'Down']+ z.loc['Up','Up']) / (z.loc['Down', 'Down']+ z.loc['Up','Up'] + z.loc['Down','Up']) )\n",
    "except:\n",
    "    pass"
   ]
  },
  {
   "cell_type": "code",
   "execution_count": 43,
   "metadata": {},
   "outputs": [],
   "source": [
    "df1 = df1.assign(share=np.nan,money=np.nan)\n",
    "#df1"
   ]
  },
  {
   "cell_type": "code",
   "execution_count": 44,
   "metadata": {},
   "outputs": [],
   "source": [
    "diff_years = round((df1.iloc[-1,1] - df1.iloc[0,1])/np.timedelta64(1,'Y') + 0.5)   "
   ]
  },
  {
   "cell_type": "code",
   "execution_count": 45,
   "metadata": {},
   "outputs": [],
   "source": [
    "#Simulate Investment transaction buy on opening when predict UP and sell daily average when predict DOWN\n",
    "\n",
    "def buy_sell(open_price, sell_price,prediction, money, share):\n",
    "    if prediction == 1 and money != 0:\n",
    "        share =  money / open_price\n",
    "        money = 0\n",
    "    elif prediction == 0 and share != 0:\n",
    "        money = share * sell_price\n",
    "        share = 0\n",
    "    else: pass\n",
    "    return [money, share]\n",
    "money = invest\n",
    "share = 0\n",
    "for i in range(len(df1)):\n",
    "    [money, share] = buy_sell(df1.iloc[i,2],(df1.iloc[i,3]+df1.iloc[i,4])/2,df1.iloc[i,22], money, share)\n",
    "    df1.iloc[i,23] = share\n",
    "    df1.iloc[i,24] = money"
   ]
  },
  {
   "cell_type": "code",
   "execution_count": 46,
   "metadata": {},
   "outputs": [],
   "source": [
    "#df1.tail(10)"
   ]
  },
  {
   "cell_type": "code",
   "execution_count": 47,
   "metadata": {},
   "outputs": [
    {
     "name": "stdout",
     "output_type": "stream",
     "text": [
      "\n",
      "If $100.00 was invested in [ FB ], and Just Hold and Not Trade for 10 years, the ROI = $814.72\n"
     ]
    }
   ],
   "source": [
    "print(\"\\nIf ${:,.2f} was invested in [ {} ], and Just Hold and Not Trade for {:,} years, the ROI = ${:,.2f}\".format( invest, stock.upper(), diff_years, invest/data.iloc[0, 0] * data.iloc[-1,0]))"
   ]
  },
  {
   "cell_type": "code",
   "execution_count": 48,
   "metadata": {},
   "outputs": [
    {
     "name": "stdout",
     "output_type": "stream",
     "text": [
      "\n",
      "If $100.00 was invested 10 years ago, buy and sell according this script's recommandation, the ROI = $981.79\n"
     ]
    }
   ],
   "source": [
    "print (\"\\nIf ${:,.2f} was invested {:2d} years ago, buy and sell according this script\\'s recommandation, the ROI = ${:,.2f}\".format(invest, diff_years, (money + (share * df1.iloc[-1,5]))))"
   ]
  },
  {
   "cell_type": "code",
   "execution_count": 49,
   "metadata": {
    "scrolled": false
   },
   "outputs": [
    {
     "name": "stdout",
     "output_type": "stream",
     "text": [
      "           Date Stock Market Performance Scribe Predection\n",
      "2276 2021-06-07                       Up              Down\n",
      "2277 2021-06-08                     Down              Down\n",
      "2278 2021-06-09                     Down                Up\n",
      "2279 2021-06-10                       Up                Up\n",
      "2280 2021-06-11                     Down              Down\n",
      "2281 2021-06-14                       Up                Up\n",
      "2282 2021-06-15                     Down              Down\n",
      "2283 2021-06-16                     Down                Up\n",
      "2284 2021-06-17                       Up                Up\n",
      "2285 2021-06-18                     Down              Down\n",
      "2286 2021-06-21                       Up                Up\n",
      "2287 2021-06-22                       Up              Down\n",
      "2288 2021-06-23                       Up              Down\n",
      "2289 2021-06-24                       Up                Up\n",
      "2290 2021-06-25                     Down                Up\n"
     ]
    }
   ],
   "source": [
    "df1_summary=df1[['Date', 'Up_Down','Prediction_indicator']].copy()\n",
    "df1_summary['Stock Market Performance'] = df1_summary['Up_Down'].apply(lambda x: 'Up' if x > 0 else 'Down')\n",
    "df1_summary['Scribe Predection'] = df1_summary['Prediction_indicator'].apply(lambda x: 'Up' if x > 0 else 'Down')\n",
    "print (df1_summary[['Date','Stock Market Performance','Scribe Predection']].tail(15))"
   ]
  },
  {
   "cell_type": "code",
   "execution_count": 50,
   "metadata": {},
   "outputs": [],
   "source": [
    "#print(df1.loc[[i for i in range(len(df1)-20, len(df1)+2)],['Date','Close','Trend_Lag', 'Short_MV_Avg_Span-Long_MV_Avg_Span_Lag']])"
   ]
  },
  {
   "cell_type": "code",
   "execution_count": 51,
   "metadata": {},
   "outputs": [],
   "source": [
    "#print(df1.iloc[len(df1)-1,[1,7,10,11,12,13,14,15,16,17,18,19,20,21,22]])\n",
    "#df1.info()"
   ]
  },
  {
   "cell_type": "code",
   "execution_count": 52,
   "metadata": {},
   "outputs": [
    {
     "name": "stdout",
     "output_type": "stream",
     "text": [
      "\n",
      "Today [ FB ] actually went down, --- base on yesterday's data, We Predication [ FB ] should be going up.\n",
      "\n",
      "=========> Actual and Predication DO NOT match <=========\n"
     ]
    }
   ],
   "source": [
    "print (\"\\nToday [ %s ] actually went up,\" %stock.upper(), end = ' ') if (df1.iloc[-1,16] == 1) else print (\"\\nToday [ %s ] actually went down,\" %stock.upper(), end = \" \")\n",
    "print (\"--- base on yesterday\\'s data, \", end = '')\n",
    "print (\"We Predication [ %s ] should be going up.\" %stock.upper()) if (df1.iloc[-1,22] == 1) else print (\"We Predicae [ %s ] should be going down.\" %stock.upper())\n",
    "print (\"\\n=========> Actual and Predication MATCH <=========\") if (df1.iloc[-1,16] == df1.iloc[-1,22]) else print(\"\\n=========> Actual and Predication DO NOT match <=========\")"
   ]
  },
  {
   "cell_type": "code",
   "execution_count": 53,
   "metadata": {},
   "outputs": [],
   "source": [
    "x_tran= df1[df1.Date.dt.year < 2021][['const','Trend_Lag','Short_MV_Avg_Span-Long_MV_Avg_Span_Lag','Close-Open_Lag','High-Low_Lag','Volume_Lag']]\n",
    "y_train=df1[df1.Date.dt.year < 2021][\"Up_Down\"]\n",
    "x_test= df1[df1.Date.dt.year >= 2021][['const','Trend_Lag','Short_MV_Avg_Span-Long_MV_Avg_Span_Lag','Close-Open_Lag','High-Low_Lag','Volume_Lag']]\n",
    "y_test= df1[df1.Date.dt.year >= 2021][\"Up_Down\"]"
   ]
  },
  {
   "cell_type": "code",
   "execution_count": 54,
   "metadata": {},
   "outputs": [
    {
     "name": "stdout",
     "output_type": "stream",
     "text": [
      "Optimization terminated successfully.\n",
      "         Current function value: 0.689797\n",
      "         Iterations 4\n"
     ]
    }
   ],
   "source": [
    "model = sm.Logit(y_train,x_tran)\n",
    "result=model.fit()"
   ]
  },
  {
   "cell_type": "code",
   "execution_count": 55,
   "metadata": {},
   "outputs": [
    {
     "data": {
      "text/html": [
       "<table class=\"simpletable\">\n",
       "<caption>Logit Regression Results</caption>\n",
       "<tr>\n",
       "  <th>Dep. Variable:</th>        <td>Up_Down</td>     <th>  No. Observations:  </th>  <td>  2167</td> \n",
       "</tr>\n",
       "<tr>\n",
       "  <th>Model:</th>                 <td>Logit</td>      <th>  Df Residuals:      </th>  <td>  2161</td> \n",
       "</tr>\n",
       "<tr>\n",
       "  <th>Method:</th>                 <td>MLE</td>       <th>  Df Model:          </th>  <td>     5</td> \n",
       "</tr>\n",
       "<tr>\n",
       "  <th>Date:</th>            <td>Sun, 27 Jun 2021</td> <th>  Pseudo R-squ.:     </th> <td>0.002663</td>\n",
       "</tr>\n",
       "<tr>\n",
       "  <th>Time:</th>                <td>22:14:33</td>     <th>  Log-Likelihood:    </th> <td> -1494.8</td>\n",
       "</tr>\n",
       "<tr>\n",
       "  <th>converged:</th>             <td>True</td>       <th>  LL-Null:           </th> <td> -1498.8</td>\n",
       "</tr>\n",
       "<tr>\n",
       "  <th>Covariance Type:</th>     <td>nonrobust</td>    <th>  LLR p-value:       </th>  <td>0.1573</td> \n",
       "</tr>\n",
       "</table>\n",
       "<table class=\"simpletable\">\n",
       "<tr>\n",
       "                     <td></td>                       <th>coef</th>     <th>std err</th>      <th>z</th>      <th>P>|z|</th>  <th>[0.025</th>    <th>0.975]</th>  \n",
       "</tr>\n",
       "<tr>\n",
       "  <th>const</th>                                  <td>    0.2937</td> <td>    0.118</td> <td>    2.486</td> <td> 0.013</td> <td>    0.062</td> <td>    0.525</td>\n",
       "</tr>\n",
       "<tr>\n",
       "  <th>Trend_Lag</th>                              <td>   -0.4027</td> <td>    0.191</td> <td>   -2.108</td> <td> 0.035</td> <td>   -0.777</td> <td>   -0.028</td>\n",
       "</tr>\n",
       "<tr>\n",
       "  <th>Short_MV_Avg_Span-Long_MV_Avg_Span_Lag</th> <td>   -0.0031</td> <td>    0.010</td> <td>   -0.303</td> <td> 0.762</td> <td>   -0.023</td> <td>    0.017</td>\n",
       "</tr>\n",
       "<tr>\n",
       "  <th>Close-Open_Lag</th>                         <td>    0.0040</td> <td>    0.026</td> <td>    0.151</td> <td> 0.880</td> <td>   -0.047</td> <td>    0.055</td>\n",
       "</tr>\n",
       "<tr>\n",
       "  <th>High-Low_Lag</th>                           <td>    0.0116</td> <td>    0.018</td> <td>    0.647</td> <td> 0.518</td> <td>   -0.023</td> <td>    0.047</td>\n",
       "</tr>\n",
       "<tr>\n",
       "  <th>Volume_Lag</th>                             <td>   -0.0004</td> <td>    0.001</td> <td>   -0.450</td> <td> 0.653</td> <td>   -0.002</td> <td>    0.001</td>\n",
       "</tr>\n",
       "</table>"
      ],
      "text/plain": [
       "<class 'statsmodels.iolib.summary.Summary'>\n",
       "\"\"\"\n",
       "                           Logit Regression Results                           \n",
       "==============================================================================\n",
       "Dep. Variable:                Up_Down   No. Observations:                 2167\n",
       "Model:                          Logit   Df Residuals:                     2161\n",
       "Method:                           MLE   Df Model:                            5\n",
       "Date:                Sun, 27 Jun 2021   Pseudo R-squ.:                0.002663\n",
       "Time:                        22:14:33   Log-Likelihood:                -1494.8\n",
       "converged:                       True   LL-Null:                       -1498.8\n",
       "Covariance Type:            nonrobust   LLR p-value:                    0.1573\n",
       "==========================================================================================================\n",
       "                                             coef    std err          z      P>|z|      [0.025      0.975]\n",
       "----------------------------------------------------------------------------------------------------------\n",
       "const                                      0.2937      0.118      2.486      0.013       0.062       0.525\n",
       "Trend_Lag                                 -0.4027      0.191     -2.108      0.035      -0.777      -0.028\n",
       "Short_MV_Avg_Span-Long_MV_Avg_Span_Lag    -0.0031      0.010     -0.303      0.762      -0.023       0.017\n",
       "Close-Open_Lag                             0.0040      0.026      0.151      0.880      -0.047       0.055\n",
       "High-Low_Lag                               0.0116      0.018      0.647      0.518      -0.023       0.047\n",
       "Volume_Lag                                -0.0004      0.001     -0.450      0.653      -0.002       0.001\n",
       "==========================================================================================================\n",
       "\"\"\""
      ]
     },
     "execution_count": 55,
     "metadata": {},
     "output_type": "execute_result"
    }
   ],
   "source": [
    "result.summary()"
   ]
  },
  {
   "cell_type": "code",
   "execution_count": 56,
   "metadata": {},
   "outputs": [],
   "source": [
    "#print(result.summary().as_csv())"
   ]
  },
  {
   "cell_type": "code",
   "execution_count": 57,
   "metadata": {},
   "outputs": [],
   "source": [
    "#summary_list=result.summary().as_csv().split(\",\")"
   ]
  },
  {
   "cell_type": "code",
   "execution_count": 58,
   "metadata": {},
   "outputs": [],
   "source": [
    "#print(summary_list)"
   ]
  },
  {
   "cell_type": "code",
   "execution_count": 59,
   "metadata": {},
   "outputs": [],
   "source": [
    "#print(summary_list[37:39])"
   ]
  },
  {
   "cell_type": "code",
   "execution_count": 60,
   "metadata": {},
   "outputs": [
    {
     "data": {
      "text/html": [
       "<div>\n",
       "<style scoped>\n",
       "    .dataframe tbody tr th:only-of-type {\n",
       "        vertical-align: middle;\n",
       "    }\n",
       "\n",
       "    .dataframe tbody tr th {\n",
       "        vertical-align: top;\n",
       "    }\n",
       "\n",
       "    .dataframe thead th {\n",
       "        text-align: right;\n",
       "    }\n",
       "</style>\n",
       "<table border=\"1\" class=\"dataframe\">\n",
       "  <thead>\n",
       "    <tr style=\"text-align: right;\">\n",
       "      <th>Predict</th>\n",
       "      <th>Down</th>\n",
       "      <th>Up</th>\n",
       "    </tr>\n",
       "    <tr>\n",
       "      <th>Actual</th>\n",
       "      <th></th>\n",
       "      <th></th>\n",
       "    </tr>\n",
       "  </thead>\n",
       "  <tbody>\n",
       "    <tr>\n",
       "      <th>Down</th>\n",
       "      <td>9</td>\n",
       "      <td>50</td>\n",
       "    </tr>\n",
       "    <tr>\n",
       "      <th>Up</th>\n",
       "      <td>1</td>\n",
       "      <td>61</td>\n",
       "    </tr>\n",
       "  </tbody>\n",
       "</table>\n",
       "</div>"
      ],
      "text/plain": [
       "Predict  Down  Up\n",
       "Actual           \n",
       "Down        9  50\n",
       "Up          1  61"
      ]
     },
     "execution_count": 60,
     "metadata": {},
     "output_type": "execute_result"
    }
   ],
   "source": [
    "prediction = result.predict(x_test)\n",
    "confusion_matrix(y_test, prediction)"
   ]
  },
  {
   "cell_type": "code",
   "execution_count": 61,
   "metadata": {},
   "outputs": [],
   "source": [
    "z = confusion_matrix(y_test,prediction)"
   ]
  },
  {
   "cell_type": "code",
   "execution_count": 62,
   "metadata": {},
   "outputs": [
    {
     "name": "stdout",
     "output_type": "stream",
     "text": [
      "\n",
      "=========> Prediction Accuracy Rate: 0.5785 <=========\n",
      "\n"
     ]
    }
   ],
   "source": [
    "try:\n",
    "    print (\"\\n=========> Prediction Accuracy Rate: %.4f <=========\\n\"  %((z.loc['Down','Down'] + z.loc['Up','Up']) / len(x_test)))\n",
    "except:\n",
    "    print (\"\\n=========> Predication effectiveness is not avairable <=========\\n\" )"
   ]
  },
  {
   "cell_type": "code",
   "execution_count": 63,
   "metadata": {},
   "outputs": [
    {
     "name": "stdout",
     "output_type": "stream",
     "text": [
      "\n",
      "=========> Current trend = 0.5359,   [ FB ] will go up! <=========\n"
     ]
    }
   ],
   "source": [
    "prediction = result.predict(x_test)\n",
    "now_up_down  = result.predict([1.0, df1.iloc[-1, 10], df1.iloc[-1, 19], df1.iloc[-1, 12], df1.iloc[-1, 14], df1.iloc[-1, 7]])\n",
    "print (\"\\n=========> Current trend = %.4f,  \" %now_up_down, end=' ')\n",
    "print (\"[ %s ] will go up! <=========\" %stock.upper()) if now_up_down > cutoff else print (\"[ %s ] will go down! <=========\" %stock.upper()) "
   ]
  },
  {
   "cell_type": "code",
   "execution_count": 64,
   "metadata": {},
   "outputs": [
    {
     "name": "stdout",
     "output_type": "stream",
     "text": [
      "\n",
      " ============> 20 Days over 50 Days Moving Average Indicator \n",
      " ============> 10.8738....10.9857....11.1293....11.3577....11.4124....<=============\n",
      "\n",
      " ============> No Trading Waring at this time! <=============\n"
     ]
    }
   ],
   "source": [
    "#print (\"\\n=========> Current trend = %.4f,  \" %now_up_down, end=' ')\n",
    "print (\"\\n ============> %s Days over %s Days Moving Average Indicator \\n ============> %.4f....%.4f....%.4f....%.4f....%.4f....<=============\" %(short_moving_average_span, long_moving_average_span, df1.iloc[-5,19], df1.iloc[-4,19], df1.iloc[-3,19], df1.iloc[-2,19],df1.iloc[-1,19]))\n",
    "if df1.iloc[-1,19] * df1.iloc[-2,19] < 0:\n",
    "    print (\"\\n ============> Warning, It Is the Time to Sell [ %s ] <=========\" %stock.upper()) if df1.iloc[-1,19] < 0 else print (\"\\n ============> It Is the Time to Buy [ %s ] ! <=========\" %stock.upper())\n",
    "else:\n",
    "    print (\"\\n ============> No Trading Waring at this time! <=============\")"
   ]
  },
  {
   "cell_type": "code",
   "execution_count": null,
   "metadata": {},
   "outputs": [],
   "source": []
  },
  {
   "cell_type": "code",
   "execution_count": 65,
   "metadata": {},
   "outputs": [],
   "source": [
    "#df1.to_csv('fb.csv', index = False)"
   ]
  }
 ],
 "metadata": {
  "kernelspec": {
   "display_name": "Python 3",
   "language": "python",
   "name": "python3"
  },
  "language_info": {
   "codemirror_mode": {
    "name": "ipython",
    "version": 3
   },
   "file_extension": ".py",
   "mimetype": "text/x-python",
   "name": "python",
   "nbconvert_exporter": "python",
   "pygments_lexer": "ipython3",
   "version": "3.8.5"
  }
 },
 "nbformat": 4,
 "nbformat_minor": 4
}
