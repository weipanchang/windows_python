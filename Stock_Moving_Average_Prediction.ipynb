{
 "cells": [
  {
   "cell_type": "code",
   "execution_count": 1,
   "metadata": {},
   "outputs": [],
   "source": [
    "import yfinance as yf"
   ]
  },
  {
   "cell_type": "code",
   "execution_count": 2,
   "metadata": {},
   "outputs": [],
   "source": [
    "import numpy as np"
   ]
  },
  {
   "cell_type": "code",
   "execution_count": 3,
   "metadata": {},
   "outputs": [],
   "source": [
    "import pandas as pd"
   ]
  },
  {
   "cell_type": "code",
   "execution_count": 4,
   "metadata": {},
   "outputs": [],
   "source": [
    "import matplotlib.pyplot as plt"
   ]
  },
  {
   "cell_type": "code",
   "execution_count": 5,
   "metadata": {},
   "outputs": [],
   "source": [
    "import pandas_datareader as web"
   ]
  },
  {
   "cell_type": "code",
   "execution_count": 6,
   "metadata": {},
   "outputs": [],
   "source": [
    "import statsmodels.api as sm"
   ]
  },
  {
   "cell_type": "code",
   "execution_count": 7,
   "metadata": {},
   "outputs": [],
   "source": [
    "import datetime\n",
    "from dateutil.relativedelta import relativedelta\n",
    "from datetime import date"
   ]
  },
  {
   "cell_type": "code",
   "execution_count": 8,
   "metadata": {},
   "outputs": [],
   "source": [
    "stock = 'fb'\n",
    "\n",
    "short_moving_average_span = 20\n",
    "long_moving_average_span = 50\n",
    "cutoff=0.50\n",
    "invest = 100\n",
    "years_of_data_to_process = 25"
   ]
  },
  {
   "cell_type": "code",
   "execution_count": 9,
   "metadata": {},
   "outputs": [
    {
     "name": "stdout",
     "output_type": "stream",
     "text": [
      "2021-06-19\n"
     ]
    }
   ],
   "source": [
    "currentDateTime = datetime.datetime.now()\n",
    "date = currentDateTime.date()\n",
    "print (date)\n",
    "year = date.strftime(\"%Y\")\n",
    "start_year =  int(year) - years_of_data_to_process\n",
    "start = datetime.datetime(start_year, 1, 1)"
   ]
  },
  {
   "cell_type": "code",
   "execution_count": 10,
   "metadata": {},
   "outputs": [
    {
     "name": "stdout",
     "output_type": "stream",
     "text": [
      "[*********************100%***********************]  1 of 1 completed\n"
     ]
    }
   ],
   "source": [
    "data =  yf.download(stock, start=start)"
   ]
  },
  {
   "cell_type": "code",
   "execution_count": 11,
   "metadata": {},
   "outputs": [],
   "source": [
    "#data = web.DataReader(stock, data_source='yahoo', start = start, end = '2008-7-14')"
   ]
  },
  {
   "cell_type": "code",
   "execution_count": 12,
   "metadata": {},
   "outputs": [],
   "source": [
    "df = data[\"Close\"].pct_change() * 100"
   ]
  },
  {
   "cell_type": "code",
   "execution_count": 13,
   "metadata": {},
   "outputs": [],
   "source": [
    "df = df.rename(\"Today_Change_%\")\n",
    "df = df.reset_index()"
   ]
  },
  {
   "cell_type": "code",
   "execution_count": 14,
   "metadata": {},
   "outputs": [],
   "source": [
    "df1 = pd.merge(data,df, on=\"Date\")\n",
    "#df1"
   ]
  },
  {
   "cell_type": "code",
   "execution_count": 15,
   "metadata": {},
   "outputs": [],
   "source": [
    "df1.insert(7,'Volume_Lag', None)\n",
    "df1['Volume_Lag'] = df1.Volume.shift(1).values/1000000000\n",
    "df1.Volume = df1.Volume/1000000000"
   ]
  },
  {
   "cell_type": "code",
   "execution_count": 16,
   "metadata": {},
   "outputs": [],
   "source": [
    "df1[\"Trend\"] =  (df1[\"Close\"] - df1[\"Low\"])/ ((df1[\"High\"] - df1[\"Low\"]))"
   ]
  },
  {
   "cell_type": "code",
   "execution_count": 17,
   "metadata": {},
   "outputs": [],
   "source": [
    "df1[\"Trend_Lag\"] = df1[\"Trend\"].shift(1)"
   ]
  },
  {
   "cell_type": "code",
   "execution_count": 18,
   "metadata": {},
   "outputs": [],
   "source": [
    "df1['Close-Open'] =  df1['Close'] - df1['Open']\n",
    "df1['Close-Open_Lag'] = df1['Close-Open'].shift(1)"
   ]
  },
  {
   "cell_type": "code",
   "execution_count": 19,
   "metadata": {},
   "outputs": [],
   "source": [
    "df1['High-Low'] =  df1['High'] - df1['Low']\n",
    "df1['High-Low_Lag'] = df1['High-Low'].shift(1)"
   ]
  },
  {
   "cell_type": "code",
   "execution_count": 20,
   "metadata": {},
   "outputs": [],
   "source": [
    "df1 = sm.add_constant(df1)\n",
    "df1[\"Up_Down\"] = [1 if (i > 0) else 0 for i in df1[\"Today_Change_%\"]]"
   ]
  },
  {
   "cell_type": "code",
   "execution_count": 21,
   "metadata": {},
   "outputs": [],
   "source": [
    "df1.dropna(inplace= True)"
   ]
  },
  {
   "cell_type": "code",
   "execution_count": 22,
   "metadata": {},
   "outputs": [],
   "source": [
    "df1['Short_MV_Avg_Span'] = df1['Close'].ewm(span=short_moving_average_span, adjust=False).mean()\n",
    "df1.dropna(inplace= True)\n",
    "#df1"
   ]
  },
  {
   "cell_type": "code",
   "execution_count": 23,
   "metadata": {},
   "outputs": [],
   "source": [
    "df1['Long_MV_Avg_Span'] = df1['Close'].ewm(span=long_moving_average_span, adjust=False).mean()\n",
    "df1.dropna(inplace= True)\n",
    "#df1"
   ]
  },
  {
   "cell_type": "code",
   "execution_count": 24,
   "metadata": {},
   "outputs": [],
   "source": [
    "df1['Short_MV_Avg_Span-Long_MV_Avg_Span'] = df1.Short_MV_Avg_Span - df1.Long_MV_Avg_Span\n",
    "df1['Short_MV_Avg_Span-Long_MV_Avg_Span_Lag'] = df1['Short_MV_Avg_Span-Long_MV_Avg_Span'].shift(1)\n",
    "#df1"
   ]
  },
  {
   "cell_type": "code",
   "execution_count": 25,
   "metadata": {},
   "outputs": [],
   "source": [
    "#crossovers = pd.DataFrame()\n",
    "#crossovers['Dates'] = Short_MV_Avg_Span['Date']\n",
    "#crossovers['Price'] = [i for i in df1.Close]\n",
    "#crossovers['Short_MV_Avg_Span'] = Short_MV_Avg_Span['Close']\n",
    "#crossovers['Long_MV_Avg_Span'] = Long_MV_Avg_Span['Close']\n",
    "#crossovers"
   ]
  },
  {
   "cell_type": "code",
   "execution_count": 26,
   "metadata": {},
   "outputs": [
    {
     "data": {
      "text/html": [
       "<div>\n",
       "<style scoped>\n",
       "    .dataframe tbody tr th:only-of-type {\n",
       "        vertical-align: middle;\n",
       "    }\n",
       "\n",
       "    .dataframe tbody tr th {\n",
       "        vertical-align: top;\n",
       "    }\n",
       "\n",
       "    .dataframe thead th {\n",
       "        text-align: right;\n",
       "    }\n",
       "</style>\n",
       "<table border=\"1\" class=\"dataframe\">\n",
       "  <thead>\n",
       "    <tr style=\"text-align: right;\">\n",
       "      <th></th>\n",
       "      <th>const</th>\n",
       "      <th>Date</th>\n",
       "      <th>Open</th>\n",
       "      <th>High</th>\n",
       "      <th>Low</th>\n",
       "      <th>Close</th>\n",
       "      <th>Adj Close</th>\n",
       "      <th>Volume</th>\n",
       "      <th>Volume_Lag</th>\n",
       "      <th>Today_Change_%</th>\n",
       "      <th>...</th>\n",
       "      <th>Trend_Lag</th>\n",
       "      <th>Close-Open</th>\n",
       "      <th>Close-Open_Lag</th>\n",
       "      <th>High-Low</th>\n",
       "      <th>High-Low_Lag</th>\n",
       "      <th>Up_Down</th>\n",
       "      <th>Short_MV_Avg_Span</th>\n",
       "      <th>Long_MV_Avg_Span</th>\n",
       "      <th>Short_MV_Avg_Span-Long_MV_Avg_Span</th>\n",
       "      <th>Short_MV_Avg_Span-Long_MV_Avg_Span_Lag</th>\n",
       "    </tr>\n",
       "  </thead>\n",
       "  <tbody>\n",
       "    <tr>\n",
       "      <th>2</th>\n",
       "      <td>1.0</td>\n",
       "      <td>2012-05-22</td>\n",
       "      <td>32.610001</td>\n",
       "      <td>33.590000</td>\n",
       "      <td>30.940001</td>\n",
       "      <td>31.000000</td>\n",
       "      <td>31.000000</td>\n",
       "      <td>0.101787</td>\n",
       "      <td>0.168193</td>\n",
       "      <td>-8.903905</td>\n",
       "      <td>...</td>\n",
       "      <td>0.281420</td>\n",
       "      <td>-1.610001</td>\n",
       "      <td>-2.500000</td>\n",
       "      <td>2.650000</td>\n",
       "      <td>3.660000</td>\n",
       "      <td>0</td>\n",
       "      <td>33.741427</td>\n",
       "      <td>33.911175</td>\n",
       "      <td>-0.169748</td>\n",
       "      <td>0.000000</td>\n",
       "    </tr>\n",
       "    <tr>\n",
       "      <th>3</th>\n",
       "      <td>1.0</td>\n",
       "      <td>2012-05-23</td>\n",
       "      <td>31.370001</td>\n",
       "      <td>32.500000</td>\n",
       "      <td>31.360001</td>\n",
       "      <td>32.000000</td>\n",
       "      <td>32.000000</td>\n",
       "      <td>0.073600</td>\n",
       "      <td>0.101787</td>\n",
       "      <td>3.225806</td>\n",
       "      <td>...</td>\n",
       "      <td>0.022641</td>\n",
       "      <td>0.629999</td>\n",
       "      <td>-1.610001</td>\n",
       "      <td>1.139999</td>\n",
       "      <td>2.650000</td>\n",
       "      <td>1</td>\n",
       "      <td>33.575577</td>\n",
       "      <td>33.836227</td>\n",
       "      <td>-0.260650</td>\n",
       "      <td>-0.169748</td>\n",
       "    </tr>\n",
       "    <tr>\n",
       "      <th>4</th>\n",
       "      <td>1.0</td>\n",
       "      <td>2012-05-24</td>\n",
       "      <td>32.950001</td>\n",
       "      <td>33.209999</td>\n",
       "      <td>31.770000</td>\n",
       "      <td>33.029999</td>\n",
       "      <td>33.029999</td>\n",
       "      <td>0.050237</td>\n",
       "      <td>0.073600</td>\n",
       "      <td>3.218746</td>\n",
       "      <td>...</td>\n",
       "      <td>0.561403</td>\n",
       "      <td>0.079998</td>\n",
       "      <td>0.629999</td>\n",
       "      <td>1.439999</td>\n",
       "      <td>1.139999</td>\n",
       "      <td>1</td>\n",
       "      <td>33.523617</td>\n",
       "      <td>33.804610</td>\n",
       "      <td>-0.280993</td>\n",
       "      <td>-0.260650</td>\n",
       "    </tr>\n",
       "    <tr>\n",
       "      <th>5</th>\n",
       "      <td>1.0</td>\n",
       "      <td>2012-05-25</td>\n",
       "      <td>32.900002</td>\n",
       "      <td>32.950001</td>\n",
       "      <td>31.110001</td>\n",
       "      <td>31.910000</td>\n",
       "      <td>31.910000</td>\n",
       "      <td>0.037150</td>\n",
       "      <td>0.050237</td>\n",
       "      <td>-3.390854</td>\n",
       "      <td>...</td>\n",
       "      <td>0.875000</td>\n",
       "      <td>-0.990002</td>\n",
       "      <td>0.079998</td>\n",
       "      <td>1.840000</td>\n",
       "      <td>1.439999</td>\n",
       "      <td>0</td>\n",
       "      <td>33.369940</td>\n",
       "      <td>33.730312</td>\n",
       "      <td>-0.360372</td>\n",
       "      <td>-0.280993</td>\n",
       "    </tr>\n",
       "    <tr>\n",
       "      <th>6</th>\n",
       "      <td>1.0</td>\n",
       "      <td>2012-05-29</td>\n",
       "      <td>31.480000</td>\n",
       "      <td>31.690001</td>\n",
       "      <td>28.650000</td>\n",
       "      <td>28.840000</td>\n",
       "      <td>28.840000</td>\n",
       "      <td>0.078063</td>\n",
       "      <td>0.037150</td>\n",
       "      <td>-9.620808</td>\n",
       "      <td>...</td>\n",
       "      <td>0.434782</td>\n",
       "      <td>-2.639999</td>\n",
       "      <td>-0.990002</td>\n",
       "      <td>3.040001</td>\n",
       "      <td>1.840000</td>\n",
       "      <td>0</td>\n",
       "      <td>32.938517</td>\n",
       "      <td>33.538535</td>\n",
       "      <td>-0.600018</td>\n",
       "      <td>-0.360372</td>\n",
       "    </tr>\n",
       "    <tr>\n",
       "      <th>...</th>\n",
       "      <td>...</td>\n",
       "      <td>...</td>\n",
       "      <td>...</td>\n",
       "      <td>...</td>\n",
       "      <td>...</td>\n",
       "      <td>...</td>\n",
       "      <td>...</td>\n",
       "      <td>...</td>\n",
       "      <td>...</td>\n",
       "      <td>...</td>\n",
       "      <td>...</td>\n",
       "      <td>...</td>\n",
       "      <td>...</td>\n",
       "      <td>...</td>\n",
       "      <td>...</td>\n",
       "      <td>...</td>\n",
       "      <td>...</td>\n",
       "      <td>...</td>\n",
       "      <td>...</td>\n",
       "      <td>...</td>\n",
       "      <td>...</td>\n",
       "    </tr>\n",
       "    <tr>\n",
       "      <th>2281</th>\n",
       "      <td>1.0</td>\n",
       "      <td>2021-06-14</td>\n",
       "      <td>331.899994</td>\n",
       "      <td>336.820007</td>\n",
       "      <td>329.809998</td>\n",
       "      <td>336.769989</td>\n",
       "      <td>336.769989</td>\n",
       "      <td>0.012251</td>\n",
       "      <td>0.013588</td>\n",
       "      <td>1.663340</td>\n",
       "      <td>...</td>\n",
       "      <td>0.597441</td>\n",
       "      <td>4.869995</td>\n",
       "      <td>-1.319977</td>\n",
       "      <td>7.010010</td>\n",
       "      <td>3.899994</td>\n",
       "      <td>1</td>\n",
       "      <td>327.060597</td>\n",
       "      <td>315.308091</td>\n",
       "      <td>11.752505</td>\n",
       "      <td>11.606460</td>\n",
       "    </tr>\n",
       "    <tr>\n",
       "      <th>2282</th>\n",
       "      <td>1.0</td>\n",
       "      <td>2021-06-15</td>\n",
       "      <td>336.989990</td>\n",
       "      <td>339.920013</td>\n",
       "      <td>335.029999</td>\n",
       "      <td>336.750000</td>\n",
       "      <td>336.750000</td>\n",
       "      <td>0.015795</td>\n",
       "      <td>0.012251</td>\n",
       "      <td>-0.005936</td>\n",
       "      <td>...</td>\n",
       "      <td>0.992865</td>\n",
       "      <td>-0.239990</td>\n",
       "      <td>4.869995</td>\n",
       "      <td>4.890015</td>\n",
       "      <td>7.010010</td>\n",
       "      <td>0</td>\n",
       "      <td>327.983397</td>\n",
       "      <td>316.148950</td>\n",
       "      <td>11.834446</td>\n",
       "      <td>11.752505</td>\n",
       "    </tr>\n",
       "    <tr>\n",
       "      <th>2283</th>\n",
       "      <td>1.0</td>\n",
       "      <td>2021-06-16</td>\n",
       "      <td>336.700012</td>\n",
       "      <td>337.549988</td>\n",
       "      <td>328.720001</td>\n",
       "      <td>331.079987</td>\n",
       "      <td>331.079987</td>\n",
       "      <td>0.017232</td>\n",
       "      <td>0.015795</td>\n",
       "      <td>-1.683746</td>\n",
       "      <td>...</td>\n",
       "      <td>0.351737</td>\n",
       "      <td>-5.620026</td>\n",
       "      <td>-0.239990</td>\n",
       "      <td>8.829987</td>\n",
       "      <td>4.890015</td>\n",
       "      <td>0</td>\n",
       "      <td>328.278310</td>\n",
       "      <td>316.734481</td>\n",
       "      <td>11.543829</td>\n",
       "      <td>11.834446</td>\n",
       "    </tr>\n",
       "    <tr>\n",
       "      <th>2284</th>\n",
       "      <td>1.0</td>\n",
       "      <td>2021-06-17</td>\n",
       "      <td>330.489990</td>\n",
       "      <td>337.980011</td>\n",
       "      <td>330.149994</td>\n",
       "      <td>336.510010</td>\n",
       "      <td>336.510010</td>\n",
       "      <td>0.017794</td>\n",
       "      <td>0.017232</td>\n",
       "      <td>1.640094</td>\n",
       "      <td>...</td>\n",
       "      <td>0.267269</td>\n",
       "      <td>6.020020</td>\n",
       "      <td>-5.620026</td>\n",
       "      <td>7.830017</td>\n",
       "      <td>8.829987</td>\n",
       "      <td>1</td>\n",
       "      <td>329.062282</td>\n",
       "      <td>317.509992</td>\n",
       "      <td>11.552289</td>\n",
       "      <td>11.543829</td>\n",
       "    </tr>\n",
       "    <tr>\n",
       "      <th>2285</th>\n",
       "      <td>1.0</td>\n",
       "      <td>2021-06-18</td>\n",
       "      <td>334.529999</td>\n",
       "      <td>336.149994</td>\n",
       "      <td>329.000000</td>\n",
       "      <td>329.660004</td>\n",
       "      <td>329.660004</td>\n",
       "      <td>0.023025</td>\n",
       "      <td>0.017794</td>\n",
       "      <td>-2.035602</td>\n",
       "      <td>...</td>\n",
       "      <td>0.812261</td>\n",
       "      <td>-4.869995</td>\n",
       "      <td>6.020020</td>\n",
       "      <td>7.149994</td>\n",
       "      <td>7.830017</td>\n",
       "      <td>0</td>\n",
       "      <td>329.119207</td>\n",
       "      <td>317.986463</td>\n",
       "      <td>11.132744</td>\n",
       "      <td>11.552289</td>\n",
       "    </tr>\n",
       "  </tbody>\n",
       "</table>\n",
       "<p>2284 rows × 21 columns</p>\n",
       "</div>"
      ],
      "text/plain": [
       "      const       Date        Open        High         Low       Close  \\\n",
       "2       1.0 2012-05-22   32.610001   33.590000   30.940001   31.000000   \n",
       "3       1.0 2012-05-23   31.370001   32.500000   31.360001   32.000000   \n",
       "4       1.0 2012-05-24   32.950001   33.209999   31.770000   33.029999   \n",
       "5       1.0 2012-05-25   32.900002   32.950001   31.110001   31.910000   \n",
       "6       1.0 2012-05-29   31.480000   31.690001   28.650000   28.840000   \n",
       "...     ...        ...         ...         ...         ...         ...   \n",
       "2281    1.0 2021-06-14  331.899994  336.820007  329.809998  336.769989   \n",
       "2282    1.0 2021-06-15  336.989990  339.920013  335.029999  336.750000   \n",
       "2283    1.0 2021-06-16  336.700012  337.549988  328.720001  331.079987   \n",
       "2284    1.0 2021-06-17  330.489990  337.980011  330.149994  336.510010   \n",
       "2285    1.0 2021-06-18  334.529999  336.149994  329.000000  329.660004   \n",
       "\n",
       "       Adj Close    Volume  Volume_Lag  Today_Change_%  ...  Trend_Lag  \\\n",
       "2      31.000000  0.101787    0.168193       -8.903905  ...   0.281420   \n",
       "3      32.000000  0.073600    0.101787        3.225806  ...   0.022641   \n",
       "4      33.029999  0.050237    0.073600        3.218746  ...   0.561403   \n",
       "5      31.910000  0.037150    0.050237       -3.390854  ...   0.875000   \n",
       "6      28.840000  0.078063    0.037150       -9.620808  ...   0.434782   \n",
       "...          ...       ...         ...             ...  ...        ...   \n",
       "2281  336.769989  0.012251    0.013588        1.663340  ...   0.597441   \n",
       "2282  336.750000  0.015795    0.012251       -0.005936  ...   0.992865   \n",
       "2283  331.079987  0.017232    0.015795       -1.683746  ...   0.351737   \n",
       "2284  336.510010  0.017794    0.017232        1.640094  ...   0.267269   \n",
       "2285  329.660004  0.023025    0.017794       -2.035602  ...   0.812261   \n",
       "\n",
       "      Close-Open  Close-Open_Lag  High-Low  High-Low_Lag  Up_Down  \\\n",
       "2      -1.610001       -2.500000  2.650000      3.660000        0   \n",
       "3       0.629999       -1.610001  1.139999      2.650000        1   \n",
       "4       0.079998        0.629999  1.439999      1.139999        1   \n",
       "5      -0.990002        0.079998  1.840000      1.439999        0   \n",
       "6      -2.639999       -0.990002  3.040001      1.840000        0   \n",
       "...          ...             ...       ...           ...      ...   \n",
       "2281    4.869995       -1.319977  7.010010      3.899994        1   \n",
       "2282   -0.239990        4.869995  4.890015      7.010010        0   \n",
       "2283   -5.620026       -0.239990  8.829987      4.890015        0   \n",
       "2284    6.020020       -5.620026  7.830017      8.829987        1   \n",
       "2285   -4.869995        6.020020  7.149994      7.830017        0   \n",
       "\n",
       "      Short_MV_Avg_Span  Long_MV_Avg_Span  Short_MV_Avg_Span-Long_MV_Avg_Span  \\\n",
       "2             33.741427         33.911175                           -0.169748   \n",
       "3             33.575577         33.836227                           -0.260650   \n",
       "4             33.523617         33.804610                           -0.280993   \n",
       "5             33.369940         33.730312                           -0.360372   \n",
       "6             32.938517         33.538535                           -0.600018   \n",
       "...                 ...               ...                                 ...   \n",
       "2281         327.060597        315.308091                           11.752505   \n",
       "2282         327.983397        316.148950                           11.834446   \n",
       "2283         328.278310        316.734481                           11.543829   \n",
       "2284         329.062282        317.509992                           11.552289   \n",
       "2285         329.119207        317.986463                           11.132744   \n",
       "\n",
       "      Short_MV_Avg_Span-Long_MV_Avg_Span_Lag  \n",
       "2                                   0.000000  \n",
       "3                                  -0.169748  \n",
       "4                                  -0.260650  \n",
       "5                                  -0.280993  \n",
       "6                                  -0.360372  \n",
       "...                                      ...  \n",
       "2281                               11.606460  \n",
       "2282                               11.752505  \n",
       "2283                               11.834446  \n",
       "2284                               11.543829  \n",
       "2285                               11.552289  \n",
       "\n",
       "[2284 rows x 21 columns]"
      ]
     },
     "execution_count": 26,
     "metadata": {},
     "output_type": "execute_result"
    }
   ],
   "source": [
    "df1.dropna(inplace= True)\n",
    "df1"
   ]
  },
  {
   "cell_type": "code",
   "execution_count": 27,
   "metadata": {},
   "outputs": [],
   "source": [
    "X = df1[['const','Trend_Lag','Short_MV_Avg_Span-Long_MV_Avg_Span_Lag','Close-Open_Lag','High-Low_Lag','Volume_Lag']]"
   ]
  },
  {
   "cell_type": "code",
   "execution_count": 28,
   "metadata": {},
   "outputs": [
    {
     "data": {
      "text/plain": [
       "<function matplotlib.pyplot.show(close=None, block=None)>"
      ]
     },
     "execution_count": 28,
     "metadata": {},
     "output_type": "execute_result"
    },
    {
     "data": {
      "image/png": "[encoded data removed]",
      "text/plain": [
       "<Figure size 1152x432 with 1 Axes>"
      ]
     },
     "metadata": {
      "needs_background": "light"
     },
     "output_type": "display_data"
    }
   ],
   "source": [
    "df1['Close'][-100:].plot(figsize=(16,6))\n",
    "df1['Short_MV_Avg_Span'][-100:].plot(figsize=(16,6))\n",
    "df1['Long_MV_Avg_Span'][-100:].plot(figsize=(16,6))\n",
    "plt.xlabel('Date', fontsize=18)\n",
    "plt.ylabel('Close Price USD ($)', fontsize =18)\n",
    "plt.legend(['Close', '20 Days Moving Average', '50 Days Moving Average'], loc = 'lower right')\n",
    "plt.title(stock.upper())\n",
    "plt.show"
   ]
  },
  {
   "cell_type": "code",
   "execution_count": 29,
   "metadata": {},
   "outputs": [],
   "source": [
    "y = df1[\"Up_Down\"].values"
   ]
  },
  {
   "cell_type": "code",
   "execution_count": 30,
   "metadata": {},
   "outputs": [],
   "source": [
    "model = sm.Logit(y,X)"
   ]
  },
  {
   "cell_type": "code",
   "execution_count": 31,
   "metadata": {},
   "outputs": [
    {
     "name": "stdout",
     "output_type": "stream",
     "text": [
      "Optimization terminated successfully.\n",
      "         Current function value: 0.689102\n",
      "         Iterations 4\n"
     ]
    }
   ],
   "source": [
    "result =  model.fit()"
   ]
  },
  {
   "cell_type": "code",
   "execution_count": 32,
   "metadata": {},
   "outputs": [
    {
     "data": {
      "text/html": [
       "<table class=\"simpletable\">\n",
       "<caption>Logit Regression Results</caption>\n",
       "<tr>\n",
       "  <th>Dep. Variable:</th>           <td>y</td>        <th>  No. Observations:  </th>  <td>  2284</td> \n",
       "</tr>\n",
       "<tr>\n",
       "  <th>Model:</th>                 <td>Logit</td>      <th>  Df Residuals:      </th>  <td>  2278</td> \n",
       "</tr>\n",
       "<tr>\n",
       "  <th>Method:</th>                 <td>MLE</td>       <th>  Df Model:          </th>  <td>     5</td> \n",
       "</tr>\n",
       "<tr>\n",
       "  <th>Date:</th>            <td>Sat, 19 Jun 2021</td> <th>  Pseudo R-squ.:     </th> <td>0.003917</td>\n",
       "</tr>\n",
       "<tr>\n",
       "  <th>Time:</th>                <td>10:51:51</td>     <th>  Log-Likelihood:    </th> <td> -1573.9</td>\n",
       "</tr>\n",
       "<tr>\n",
       "  <th>converged:</th>             <td>True</td>       <th>  LL-Null:           </th> <td> -1580.1</td>\n",
       "</tr>\n",
       "<tr>\n",
       "  <th>Covariance Type:</th>     <td>nonrobust</td>    <th>  LLR p-value:       </th>  <td>0.02994</td>\n",
       "</tr>\n",
       "</table>\n",
       "<table class=\"simpletable\">\n",
       "<tr>\n",
       "                     <td></td>                       <th>coef</th>     <th>std err</th>      <th>z</th>      <th>P>|z|</th>  <th>[0.025</th>    <th>0.975]</th>  \n",
       "</tr>\n",
       "<tr>\n",
       "  <th>const</th>                                  <td>    0.3775</td> <td>    0.127</td> <td>    2.965</td> <td> 0.003</td> <td>    0.128</td> <td>    0.627</td>\n",
       "</tr>\n",
       "<tr>\n",
       "  <th>Trend_Lag</th>                              <td>   -0.4222</td> <td>    0.186</td> <td>   -2.272</td> <td> 0.023</td> <td>   -0.786</td> <td>   -0.058</td>\n",
       "</tr>\n",
       "<tr>\n",
       "  <th>Short_MV_Avg_Span-Long_MV_Avg_Span_Lag</th> <td>   -0.0075</td> <td>    0.010</td> <td>   -0.779</td> <td> 0.436</td> <td>   -0.026</td> <td>    0.011</td>\n",
       "</tr>\n",
       "<tr>\n",
       "  <th>Close-Open_Lag</th>                         <td>   -0.0069</td> <td>    0.024</td> <td>   -0.292</td> <td> 0.771</td> <td>   -0.054</td> <td>    0.040</td>\n",
       "</tr>\n",
       "<tr>\n",
       "  <th>High-Low_Lag</th>                           <td>    0.0025</td> <td>    0.016</td> <td>    0.154</td> <td> 0.877</td> <td>   -0.029</td> <td>    0.034</td>\n",
       "</tr>\n",
       "<tr>\n",
       "  <th>Volume_Lag</th>                             <td>   -1.5561</td> <td>    1.651</td> <td>   -0.942</td> <td> 0.346</td> <td>   -4.792</td> <td>    1.680</td>\n",
       "</tr>\n",
       "</table>"
      ],
      "text/plain": [
       "<class 'statsmodels.iolib.summary.Summary'>\n",
       "\"\"\"\n",
       "                           Logit Regression Results                           \n",
       "==============================================================================\n",
       "Dep. Variable:                      y   No. Observations:                 2284\n",
       "Model:                          Logit   Df Residuals:                     2278\n",
       "Method:                           MLE   Df Model:                            5\n",
       "Date:                Sat, 19 Jun 2021   Pseudo R-squ.:                0.003917\n",
       "Time:                        10:51:51   Log-Likelihood:                -1573.9\n",
       "converged:                       True   LL-Null:                       -1580.1\n",
       "Covariance Type:            nonrobust   LLR p-value:                   0.02994\n",
       "==========================================================================================================\n",
       "                                             coef    std err          z      P>|z|      [0.025      0.975]\n",
       "----------------------------------------------------------------------------------------------------------\n",
       "const                                      0.3775      0.127      2.965      0.003       0.128       0.627\n",
       "Trend_Lag                                 -0.4222      0.186     -2.272      0.023      -0.786      -0.058\n",
       "Short_MV_Avg_Span-Long_MV_Avg_Span_Lag    -0.0075      0.010     -0.779      0.436      -0.026       0.011\n",
       "Close-Open_Lag                            -0.0069      0.024     -0.292      0.771      -0.054       0.040\n",
       "High-Low_Lag                               0.0025      0.016      0.154      0.877      -0.029       0.034\n",
       "Volume_Lag                                -1.5561      1.651     -0.942      0.346      -4.792       1.680\n",
       "==========================================================================================================\n",
       "\"\"\""
      ]
     },
     "execution_count": 32,
     "metadata": {},
     "output_type": "execute_result"
    }
   ],
   "source": [
    "result.summary()"
   ]
  },
  {
   "cell_type": "code",
   "execution_count": 33,
   "metadata": {},
   "outputs": [],
   "source": [
    "prediction = result.predict(X)"
   ]
  },
  {
   "cell_type": "code",
   "execution_count": 34,
   "metadata": {},
   "outputs": [],
   "source": [
    "df1['Prediction_Caculated'] = pd.array(prediction)\n",
    "df1['Prediction_indicator'] = pd.array([1 if i > cutoff else 0 for i in prediction])\n",
    "#print (df1.iloc[-1,18],df1.iloc[-1,19],df1.iloc[-1,20])"
   ]
  },
  {
   "cell_type": "code",
   "execution_count": 35,
   "metadata": {},
   "outputs": [],
   "source": [
    "#print(df1.loc[[i for i in range(len(df1)-20, len(df1)+2)],['Trend_Lag', 'Short_MV_Avg_Span-Long_MV_Avg_Span_Lag', 'Up_Down', 'Prediction_indicator']])"
   ]
  },
  {
   "cell_type": "code",
   "execution_count": 36,
   "metadata": {},
   "outputs": [],
   "source": [
    "y = df1[\"Up_Down\"].values"
   ]
  },
  {
   "cell_type": "code",
   "execution_count": 37,
   "metadata": {},
   "outputs": [],
   "source": [
    "def confusion_matrix(act,pred):\n",
    "    predtrans = ['Up' if i > cutoff else 'Down' for i in pred]\n",
    "    actuals = ['Up' if i > 0 else 'Down' for i in act]\n",
    "    confusion_matrix = pd.crosstab(pd.Series(actuals),\n",
    "                                   pd.Series(predtrans),\n",
    "                                   rownames = [\"Actual\"],\n",
    "                                   colnames = [\"Predict\"]\n",
    "                                  )\n",
    "    return confusion_matrix"
   ]
  },
  {
   "cell_type": "code",
   "execution_count": 38,
   "metadata": {},
   "outputs": [
    {
     "data": {
      "text/html": [
       "<div>\n",
       "<style scoped>\n",
       "    .dataframe tbody tr th:only-of-type {\n",
       "        vertical-align: middle;\n",
       "    }\n",
       "\n",
       "    .dataframe tbody tr th {\n",
       "        vertical-align: top;\n",
       "    }\n",
       "\n",
       "    .dataframe thead th {\n",
       "        text-align: right;\n",
       "    }\n",
       "</style>\n",
       "<table border=\"1\" class=\"dataframe\">\n",
       "  <thead>\n",
       "    <tr style=\"text-align: right;\">\n",
       "      <th>Predict</th>\n",
       "      <th>Down</th>\n",
       "      <th>Up</th>\n",
       "    </tr>\n",
       "    <tr>\n",
       "      <th>Actual</th>\n",
       "      <th></th>\n",
       "      <th></th>\n",
       "    </tr>\n",
       "  </thead>\n",
       "  <tbody>\n",
       "    <tr>\n",
       "      <th>Down</th>\n",
       "      <td>345</td>\n",
       "      <td>738</td>\n",
       "    </tr>\n",
       "    <tr>\n",
       "      <th>Up</th>\n",
       "      <td>327</td>\n",
       "      <td>874</td>\n",
       "    </tr>\n",
       "  </tbody>\n",
       "</table>\n",
       "</div>"
      ],
      "text/plain": [
       "Predict  Down   Up\n",
       "Actual            \n",
       "Down      345  738\n",
       "Up        327  874"
      ]
     },
     "execution_count": 38,
     "metadata": {},
     "output_type": "execute_result"
    }
   ],
   "source": [
    "confusion_matrix(y,prediction)"
   ]
  },
  {
   "cell_type": "code",
   "execution_count": 39,
   "metadata": {},
   "outputs": [
    {
     "name": "stdout",
     "output_type": "stream",
     "text": [
      "0.5337127845884413\n"
     ]
    }
   ],
   "source": [
    "z = confusion_matrix(y,prediction)\n",
    "try:\n",
    "    print((z.loc['Down','Down'] + z.loc['Up','Up']) / len(df1))\n",
    "except:\n",
    "    pass"
   ]
  },
  {
   "cell_type": "code",
   "execution_count": 40,
   "metadata": {},
   "outputs": [
    {
     "name": "stdout",
     "output_type": "stream",
     "text": [
      "0.6228921819110884\n"
     ]
    }
   ],
   "source": [
    "try:\n",
    "    print( (z.loc['Down', 'Down']+ z.loc['Up','Up']) / (z.loc['Down', 'Down']+ z.loc['Up','Up'] + z.loc['Down','Up']) )\n",
    "except:\n",
    "    pass"
   ]
  },
  {
   "cell_type": "code",
   "execution_count": 41,
   "metadata": {},
   "outputs": [],
   "source": [
    "df1 = df1.assign(share=np.nan,money=np.nan)\n",
    "#df1"
   ]
  },
  {
   "cell_type": "code",
   "execution_count": 42,
   "metadata": {},
   "outputs": [],
   "source": [
    "diff_years = round((df1.iloc[-1,1] - df1.iloc[0,1])/np.timedelta64(1,'Y') + 0.5)   "
   ]
  },
  {
   "cell_type": "code",
   "execution_count": 43,
   "metadata": {},
   "outputs": [],
   "source": [
    "#Simulate Investment transaction buy on opening when predict UP and sell daily average when predict DOWN\n",
    "\n",
    "def buy_sell(open_price, sell_price,prediction, money, share):\n",
    "    if prediction == 1 and money != 0:\n",
    "        share =  money / open_price\n",
    "        money = 0\n",
    "    elif prediction == 0 and share != 0:\n",
    "        money = share * sell_price\n",
    "        share = 0\n",
    "    else: pass\n",
    "    return [money, share]\n",
    "money = invest\n",
    "share = 0\n",
    "for i in range(len(df1)):\n",
    "    [money, share] = buy_sell(df1.iloc[i,2],(df1.iloc[i,3]+df1.iloc[i,4])/2,df1.iloc[i,22], money, share)\n",
    "    df1.iloc[i,23] = share\n",
    "    df1.iloc[i,24] = money"
   ]
  },
  {
   "cell_type": "code",
   "execution_count": 44,
   "metadata": {},
   "outputs": [],
   "source": [
    "#df1.tail(10)"
   ]
  },
  {
   "cell_type": "code",
   "execution_count": 45,
   "metadata": {},
   "outputs": [
    {
     "name": "stdout",
     "output_type": "stream",
     "text": [
      "\n",
      "If $100.00 was invested in [ FB ], and Just Hold and Not Trade for 10 years, the ROI = $795.55\n"
     ]
    }
   ],
   "source": [
    "print(\"\\nIf ${:,.2f} was invested in [ {} ], and Just Hold and Not Trade for {:,} years, the ROI = ${:,.2f}\".format( invest, stock.upper(), diff_years, invest/data.iloc[0, 0] * data.iloc[-1,0]))"
   ]
  },
  {
   "cell_type": "code",
   "execution_count": 46,
   "metadata": {},
   "outputs": [
    {
     "name": "stdout",
     "output_type": "stream",
     "text": [
      "\n",
      "If $100.00 was invested 10 years ago, buy and sell according this script's recommandation, the ROI = $968.44\n"
     ]
    }
   ],
   "source": [
    "print (\"\\nIf ${:,.2f} was invested {:2d} years ago, buy and sell according this script\\'s recommandation, the ROI = ${:,.2f}\".format(invest, diff_years, (money + (share * df1.iloc[-1,6]))))"
   ]
  },
  {
   "cell_type": "code",
   "execution_count": 47,
   "metadata": {
    "scrolled": false
   },
   "outputs": [
    {
     "name": "stdout",
     "output_type": "stream",
     "text": [
      "           Date Stock Market Performance Scribe Predection\n",
      "2271 2021-05-28                     Down              Down\n",
      "2272 2021-06-01                       Up                Up\n",
      "2273 2021-06-02                       Up                Up\n",
      "2274 2021-06-03                     Down                Up\n",
      "2275 2021-06-04                       Up                Up\n",
      "2276 2021-06-07                       Up              Down\n",
      "2277 2021-06-08                     Down              Down\n",
      "2278 2021-06-09                     Down                Up\n",
      "2279 2021-06-10                       Up                Up\n",
      "2280 2021-06-11                     Down              Down\n",
      "2281 2021-06-14                       Up                Up\n",
      "2282 2021-06-15                     Down              Down\n",
      "2283 2021-06-16                     Down                Up\n",
      "2284 2021-06-17                       Up                Up\n",
      "2285 2021-06-18                     Down              Down\n"
     ]
    }
   ],
   "source": [
    "df1_summary=df1[['Date', 'Up_Down','Prediction_indicator']].copy()\n",
    "df1_summary['Stock Market Performance'] = df1_summary['Up_Down'].apply(lambda x: 'Up' if x > 0 else 'Down')\n",
    "df1_summary['Scribe Predection'] = df1_summary['Prediction_indicator'].apply(lambda x: 'Up' if x > 0 else 'Down')\n",
    "print (df1_summary[['Date','Stock Market Performance','Scribe Predection']].tail(15))"
   ]
  },
  {
   "cell_type": "code",
   "execution_count": 48,
   "metadata": {},
   "outputs": [],
   "source": [
    "#print(df1.loc[[i for i in range(len(df1)-20, len(df1)+2)],['Date','Close','Trend_Lag', 'Short_MV_Avg_Span-Long_MV_Avg_Span_Lag']])"
   ]
  },
  {
   "cell_type": "code",
   "execution_count": 49,
   "metadata": {},
   "outputs": [],
   "source": [
    "#print(df1.iloc[len(df1)-1,[1,7,10,11,12,13,14,15,16,17,18,19,20,21,22]])\n",
    "#df1.info()"
   ]
  },
  {
   "cell_type": "code",
   "execution_count": 50,
   "metadata": {},
   "outputs": [
    {
     "name": "stdout",
     "output_type": "stream",
     "text": [
      "\n",
      "Today [ FB ] actually went down, --- base on yesterday's data, We Predicae [ FB ] should be going down.\n",
      "\n",
      "=========> Actual and Predication MATCH <=========\n"
     ]
    }
   ],
   "source": [
    "print (\"\\nToday [ %s ] actually went up,\" %stock.upper(), end = ' ') if (df1.iloc[-1,16] == 1) else print (\"\\nToday [ %s ] actually went down,\" %stock.upper(), end = \" \")\n",
    "print (\"--- base on yesterday\\'s data, \", end = '')\n",
    "print (\"We Predication [ %s ] should be going up.\" %stock.upper()) if (df1.iloc[-1,22] == 1) else print (\"We Predicae [ %s ] should be going down.\" %stock.upper())\n",
    "print (\"\\n=========> Actual and Predication MATCH <=========\") if (df1.iloc[-1,16] == df1.iloc[-1,22]) else print(\"\\n=========> Actual and Predication DO NOT match <=========\")"
   ]
  },
  {
   "cell_type": "code",
   "execution_count": 51,
   "metadata": {},
   "outputs": [],
   "source": [
    "x_tran= df1[df1.Date.dt.year < 2021][['const','Trend_Lag','Short_MV_Avg_Span-Long_MV_Avg_Span_Lag','Close-Open_Lag','High-Low_Lag','Volume_Lag']]\n",
    "y_train=df1[df1.Date.dt.year < 2021][\"Up_Down\"]\n",
    "x_test= df1[df1.Date.dt.year >= 2021][['const','Trend_Lag','Short_MV_Avg_Span-Long_MV_Avg_Span_Lag','Close-Open_Lag','High-Low_Lag','Volume_Lag']]\n",
    "y_test= df1[df1.Date.dt.year >= 2021][\"Up_Down\"]"
   ]
  },
  {
   "cell_type": "code",
   "execution_count": 52,
   "metadata": {},
   "outputs": [
    {
     "name": "stdout",
     "output_type": "stream",
     "text": [
      "Optimization terminated successfully.\n",
      "         Current function value: 0.689699\n",
      "         Iterations 4\n"
     ]
    }
   ],
   "source": [
    "model = sm.Logit(y_train,x_tran)\n",
    "result=model.fit()"
   ]
  },
  {
   "cell_type": "code",
   "execution_count": 53,
   "metadata": {},
   "outputs": [
    {
     "data": {
      "text/html": [
       "<table class=\"simpletable\">\n",
       "<caption>Logit Regression Results</caption>\n",
       "<tr>\n",
       "  <th>Dep. Variable:</th>        <td>Up_Down</td>     <th>  No. Observations:  </th>  <td>  2168</td> \n",
       "</tr>\n",
       "<tr>\n",
       "  <th>Model:</th>                 <td>Logit</td>      <th>  Df Residuals:      </th>  <td>  2162</td> \n",
       "</tr>\n",
       "<tr>\n",
       "  <th>Method:</th>                 <td>MLE</td>       <th>  Df Model:          </th>  <td>     5</td> \n",
       "</tr>\n",
       "<tr>\n",
       "  <th>Date:</th>            <td>Sat, 19 Jun 2021</td> <th>  Pseudo R-squ.:     </th> <td>0.002843</td>\n",
       "</tr>\n",
       "<tr>\n",
       "  <th>Time:</th>                <td>10:51:52</td>     <th>  Log-Likelihood:    </th> <td> -1495.3</td>\n",
       "</tr>\n",
       "<tr>\n",
       "  <th>converged:</th>             <td>True</td>       <th>  LL-Null:           </th> <td> -1499.5</td>\n",
       "</tr>\n",
       "<tr>\n",
       "  <th>Covariance Type:</th>     <td>nonrobust</td>    <th>  LLR p-value:       </th>  <td>0.1295</td> \n",
       "</tr>\n",
       "</table>\n",
       "<table class=\"simpletable\">\n",
       "<tr>\n",
       "                     <td></td>                       <th>coef</th>     <th>std err</th>      <th>z</th>      <th>P>|z|</th>  <th>[0.025</th>    <th>0.975]</th>  \n",
       "</tr>\n",
       "<tr>\n",
       "  <th>const</th>                                  <td>    0.3469</td> <td>    0.130</td> <td>    2.675</td> <td> 0.007</td> <td>    0.093</td> <td>    0.601</td>\n",
       "</tr>\n",
       "<tr>\n",
       "  <th>Trend_Lag</th>                              <td>   -0.4072</td> <td>    0.191</td> <td>   -2.135</td> <td> 0.033</td> <td>   -0.781</td> <td>   -0.033</td>\n",
       "</tr>\n",
       "<tr>\n",
       "  <th>Short_MV_Avg_Span-Long_MV_Avg_Span_Lag</th> <td>   -0.0032</td> <td>    0.010</td> <td>   -0.310</td> <td> 0.757</td> <td>   -0.023</td> <td>    0.017</td>\n",
       "</tr>\n",
       "<tr>\n",
       "  <th>Close-Open_Lag</th>                         <td>    0.0045</td> <td>    0.026</td> <td>    0.173</td> <td> 0.863</td> <td>   -0.047</td> <td>    0.056</td>\n",
       "</tr>\n",
       "<tr>\n",
       "  <th>High-Low_Lag</th>                           <td>    0.0097</td> <td>    0.018</td> <td>    0.553</td> <td> 0.580</td> <td>   -0.025</td> <td>    0.044</td>\n",
       "</tr>\n",
       "<tr>\n",
       "  <th>Volume_Lag</th>                             <td>   -1.5530</td> <td>    1.660</td> <td>   -0.936</td> <td> 0.349</td> <td>   -4.806</td> <td>    1.700</td>\n",
       "</tr>\n",
       "</table>"
      ],
      "text/plain": [
       "<class 'statsmodels.iolib.summary.Summary'>\n",
       "\"\"\"\n",
       "                           Logit Regression Results                           \n",
       "==============================================================================\n",
       "Dep. Variable:                Up_Down   No. Observations:                 2168\n",
       "Model:                          Logit   Df Residuals:                     2162\n",
       "Method:                           MLE   Df Model:                            5\n",
       "Date:                Sat, 19 Jun 2021   Pseudo R-squ.:                0.002843\n",
       "Time:                        10:51:52   Log-Likelihood:                -1495.3\n",
       "converged:                       True   LL-Null:                       -1499.5\n",
       "Covariance Type:            nonrobust   LLR p-value:                    0.1295\n",
       "==========================================================================================================\n",
       "                                             coef    std err          z      P>|z|      [0.025      0.975]\n",
       "----------------------------------------------------------------------------------------------------------\n",
       "const                                      0.3469      0.130      2.675      0.007       0.093       0.601\n",
       "Trend_Lag                                 -0.4072      0.191     -2.135      0.033      -0.781      -0.033\n",
       "Short_MV_Avg_Span-Long_MV_Avg_Span_Lag    -0.0032      0.010     -0.310      0.757      -0.023       0.017\n",
       "Close-Open_Lag                             0.0045      0.026      0.173      0.863      -0.047       0.056\n",
       "High-Low_Lag                               0.0097      0.018      0.553      0.580      -0.025       0.044\n",
       "Volume_Lag                                -1.5530      1.660     -0.936      0.349      -4.806       1.700\n",
       "==========================================================================================================\n",
       "\"\"\""
      ]
     },
     "execution_count": 53,
     "metadata": {},
     "output_type": "execute_result"
    }
   ],
   "source": [
    "result.summary()"
   ]
  },
  {
   "cell_type": "code",
   "execution_count": 54,
   "metadata": {},
   "outputs": [],
   "source": [
    "#print(result.summary().as_csv())"
   ]
  },
  {
   "cell_type": "code",
   "execution_count": 55,
   "metadata": {},
   "outputs": [],
   "source": [
    "summary_list=result.summary().as_csv().split(\",\")"
   ]
  },
  {
   "cell_type": "code",
   "execution_count": 56,
   "metadata": {},
   "outputs": [],
   "source": [
    "#print(summary_list)"
   ]
  },
  {
   "cell_type": "code",
   "execution_count": 57,
   "metadata": {},
   "outputs": [
    {
     "name": "stdout",
     "output_type": "stream",
     "text": [
      "['   -2.135', ' 0.033']\n"
     ]
    }
   ],
   "source": [
    "print(summary_list[37:39])"
   ]
  },
  {
   "cell_type": "code",
   "execution_count": 58,
   "metadata": {},
   "outputs": [
    {
     "data": {
      "text/html": [
       "<div>\n",
       "<style scoped>\n",
       "    .dataframe tbody tr th:only-of-type {\n",
       "        vertical-align: middle;\n",
       "    }\n",
       "\n",
       "    .dataframe tbody tr th {\n",
       "        vertical-align: top;\n",
       "    }\n",
       "\n",
       "    .dataframe thead th {\n",
       "        text-align: right;\n",
       "    }\n",
       "</style>\n",
       "<table border=\"1\" class=\"dataframe\">\n",
       "  <thead>\n",
       "    <tr style=\"text-align: right;\">\n",
       "      <th>Predict</th>\n",
       "      <th>Down</th>\n",
       "      <th>Up</th>\n",
       "    </tr>\n",
       "    <tr>\n",
       "      <th>Actual</th>\n",
       "      <th></th>\n",
       "      <th></th>\n",
       "    </tr>\n",
       "  </thead>\n",
       "  <tbody>\n",
       "    <tr>\n",
       "      <th>Down</th>\n",
       "      <td>6</td>\n",
       "      <td>52</td>\n",
       "    </tr>\n",
       "    <tr>\n",
       "      <th>Up</th>\n",
       "      <td>0</td>\n",
       "      <td>58</td>\n",
       "    </tr>\n",
       "  </tbody>\n",
       "</table>\n",
       "</div>"
      ],
      "text/plain": [
       "Predict  Down  Up\n",
       "Actual           \n",
       "Down        6  52\n",
       "Up          0  58"
      ]
     },
     "execution_count": 58,
     "metadata": {},
     "output_type": "execute_result"
    }
   ],
   "source": [
    "prediction = result.predict(x_test)\n",
    "confusion_matrix(y_test, prediction)"
   ]
  },
  {
   "cell_type": "code",
   "execution_count": 59,
   "metadata": {},
   "outputs": [],
   "source": [
    "z = confusion_matrix(y_test,prediction)"
   ]
  },
  {
   "cell_type": "code",
   "execution_count": 60,
   "metadata": {},
   "outputs": [
    {
     "name": "stdout",
     "output_type": "stream",
     "text": [
      "\n",
      "=========> Prediction Accuracy Rate: 0.5517 <=========\n",
      "\n"
     ]
    }
   ],
   "source": [
    "try:\n",
    "    print (\"\\n=========> Prediction Accuracy Rate: %.4f <=========\\n\"  %((z.loc['Down','Down'] + z.loc['Up','Up']) / len(x_test)))\n",
    "except:\n",
    "    print (\"\\n=========> Predication effectiveness is not avairable <=========\\n\" )"
   ]
  },
  {
   "cell_type": "code",
   "execution_count": 61,
   "metadata": {},
   "outputs": [
    {
     "name": "stdout",
     "output_type": "stream",
     "text": [
      "\n",
      "=========> Current trend = 0.5709,   [ FB ] will go up! <=========\n"
     ]
    }
   ],
   "source": [
    "prediction = result.predict(x_test)\n",
    "now_up_down  = result.predict([1.0, df1.iloc[-1, 10], df1.iloc[-1, 19], df1.iloc[-1, 12], df1.iloc[-1, 14], df1.iloc[-1, 7]])\n",
    "print (\"\\n=========> Current trend = %.4f,  \" %now_up_down, end=' ')\n",
    "print (\"[ %s ] will go up! <=========\" %stock.upper()) if now_up_down > cutoff else print (\"[ %s ] will go down! <=========\" %stock.upper()) "
   ]
  },
  {
   "cell_type": "code",
   "execution_count": 62,
   "metadata": {},
   "outputs": [
    {
     "name": "stdout",
     "output_type": "stream",
     "text": [
      "\n",
      " ============> 20 Days over 50 Days Moving Average Indicator \n",
      " ============> 11.7525....11.8344....11.5438....11.5523....11.1327....<=============\n",
      "\n",
      " ============> No Trading Waring at this time! <=============\n"
     ]
    }
   ],
   "source": [
    "#print (\"\\n=========> Current trend = %.4f,  \" %now_up_down, end=' ')\n",
    "print (\"\\n ============> %s Days over %s Days Moving Average Indicator \\n ============> %.4f....%.4f....%.4f....%.4f....%.4f....<=============\" %(short_moving_average_span, long_moving_average_span, df1.iloc[-5,19], df1.iloc[-4,19], df1.iloc[-3,19], df1.iloc[-2,19],df1.iloc[-1,19]))\n",
    "if df1.iloc[-1,19] * df1.iloc[-2,19] < 0:\n",
    "    print (\"\\n ============> Warning, It Is the Time to Sell [ %s ] <=========\" %stock.upper()) if df1.iloc[-1,19] < 0 else print (\"\\n ============> It Is the Time to Buy [ %s ] ! <=========\" %stock.upper())\n",
    "else:\n",
    "    print (\"\\n ============> No Trading Waring at this time! <=============\")"
   ]
  },
  {
   "cell_type": "code",
   "execution_count": null,
   "metadata": {},
   "outputs": [],
   "source": []
  },
  {
   "cell_type": "code",
   "execution_count": 63,
   "metadata": {},
   "outputs": [],
   "source": [
    "#df1.to_csv('fb.csv', index = False)"
   ]
  }
 ],
 "metadata": {
  "kernelspec": {
   "display_name": "Python 3",
   "language": "python",
   "name": "python3"
  },
  "language_info": {
   "codemirror_mode": {
    "name": "ipython",
    "version": 3
   },
   "file_extension": ".py",
   "mimetype": "text/x-python",
   "name": "python",
   "nbconvert_exporter": "python",
   "pygments_lexer": "ipython3",
   "version": "3.8.5"
  }
 },
 "nbformat": 4,
 "nbformat_minor": 4
}
