{
 "cells": [
  {
   "cell_type": "code",
   "execution_count": 1,
   "metadata": {},
   "outputs": [],
   "source": [
    "import yfinance as yf"
   ]
  },
  {
   "cell_type": "code",
   "execution_count": 2,
   "metadata": {},
   "outputs": [],
   "source": [
    "import numpy as np"
   ]
  },
  {
   "cell_type": "code",
   "execution_count": 3,
   "metadata": {},
   "outputs": [],
   "source": [
    "import pandas as pd"
   ]
  },
  {
   "cell_type": "code",
   "execution_count": 4,
   "metadata": {},
   "outputs": [],
   "source": [
    "import matplotlib.pyplot as plt"
   ]
  },
  {
   "cell_type": "code",
   "execution_count": 5,
   "metadata": {},
   "outputs": [],
   "source": [
    "import pandas_datareader as web"
   ]
  },
  {
   "cell_type": "code",
   "execution_count": 6,
   "metadata": {},
   "outputs": [],
   "source": [
    "import statsmodels.api as sm"
   ]
  },
  {
   "cell_type": "code",
   "execution_count": 7,
   "metadata": {},
   "outputs": [],
   "source": [
    "import datetime\n",
    "from dateutil.relativedelta import relativedelta\n",
    "from datetime import date"
   ]
  },
  {
   "cell_type": "code",
   "execution_count": 8,
   "metadata": {},
   "outputs": [],
   "source": [
    "stock = 'nvda'\n",
    "\n",
    "short_moving_average_span = 20\n",
    "long_moving_average_span = 50\n",
    "cutoff=0.50\n",
    "invest = 100\n",
    "years_of_data_to_process = 25"
   ]
  },
  {
   "cell_type": "code",
   "execution_count": 9,
   "metadata": {},
   "outputs": [
    {
     "name": "stdout",
     "output_type": "stream",
     "text": [
      "2021-06-25\n"
     ]
    }
   ],
   "source": [
    "currentDateTime = datetime.datetime.now()\n",
    "date = currentDateTime.date()\n",
    "print (date)\n",
    "year = date.strftime(\"%Y\")\n",
    "start_year =  int(year) - years_of_data_to_process\n",
    "start = datetime.datetime(start_year, 1, 1)"
   ]
  },
  {
   "cell_type": "code",
   "execution_count": 10,
   "metadata": {},
   "outputs": [
    {
     "name": "stdout",
     "output_type": "stream",
     "text": [
      "[*********************100%***********************]  1 of 1 completed\n"
     ]
    }
   ],
   "source": [
    "data =  yf.download(stock, start=start)"
   ]
  },
  {
   "cell_type": "code",
   "execution_count": 11,
   "metadata": {},
   "outputs": [],
   "source": [
    "#data = web.DataReader(stock, data_source='yahoo', start = start, end = '2008-7-14')"
   ]
  },
  {
   "cell_type": "code",
   "execution_count": 12,
   "metadata": {},
   "outputs": [],
   "source": [
    "df = data[\"Close\"].pct_change() * 100"
   ]
  },
  {
   "cell_type": "code",
   "execution_count": 13,
   "metadata": {},
   "outputs": [],
   "source": [
    "df = df.rename(\"Today_Change_%\")\n",
    "df = df.reset_index()"
   ]
  },
  {
   "cell_type": "code",
   "execution_count": 14,
   "metadata": {},
   "outputs": [],
   "source": [
    "df1 = pd.merge(data,df, on=\"Date\")\n",
    "#df1"
   ]
  },
  {
   "cell_type": "code",
   "execution_count": 15,
   "metadata": {},
   "outputs": [],
   "source": [
    "df1.insert(7,'Volume_Lag', None)\n",
    "df1['Volume_Lag'] = df1.Volume.shift(1).values/1000000000\n",
    "df1.Volume = df1.Volume/1000000000"
   ]
  },
  {
   "cell_type": "code",
   "execution_count": 16,
   "metadata": {},
   "outputs": [],
   "source": [
    "df1[\"Trend\"] =  (df1[\"Close\"] - df1[\"Low\"])/ ((df1[\"High\"] - df1[\"Low\"]))"
   ]
  },
  {
   "cell_type": "code",
   "execution_count": 17,
   "metadata": {},
   "outputs": [],
   "source": [
    "df1[\"Trend_Lag\"] = df1[\"Trend\"].shift(1)"
   ]
  },
  {
   "cell_type": "code",
   "execution_count": 18,
   "metadata": {},
   "outputs": [],
   "source": [
    "df1['Close-Open'] =  df1['Close'] - df1['Open']\n",
    "df1['Close-Open_Lag'] = df1['Close-Open'].shift(1)"
   ]
  },
  {
   "cell_type": "code",
   "execution_count": 19,
   "metadata": {},
   "outputs": [],
   "source": [
    "df1['High-Low'] =  df1['High'] - df1['Low']\n",
    "df1['High-Low_Lag'] = df1['High-Low'].shift(1)"
   ]
  },
  {
   "cell_type": "code",
   "execution_count": 20,
   "metadata": {},
   "outputs": [],
   "source": [
    "df1 = sm.add_constant(df1)\n",
    "df1[\"Up_Down\"] = [1 if (i > 0) else 0 for i in df1[\"Today_Change_%\"]]"
   ]
  },
  {
   "cell_type": "code",
   "execution_count": 21,
   "metadata": {},
   "outputs": [],
   "source": [
    "df1.dropna(inplace= True)"
   ]
  },
  {
   "cell_type": "code",
   "execution_count": 22,
   "metadata": {},
   "outputs": [],
   "source": [
    "df1['Short_MV_Avg_Span'] = df1['Close'].ewm(span=short_moving_average_span, adjust=False).mean()\n",
    "df1.dropna(inplace= True)\n",
    "#df1"
   ]
  },
  {
   "cell_type": "code",
   "execution_count": 23,
   "metadata": {},
   "outputs": [],
   "source": [
    "df1['Long_MV_Avg_Span'] = df1['Close'].ewm(span=long_moving_average_span, adjust=False).mean()\n",
    "df1.dropna(inplace= True)\n",
    "#df1"
   ]
  },
  {
   "cell_type": "code",
   "execution_count": 24,
   "metadata": {},
   "outputs": [],
   "source": [
    "df1['Short_MV_Avg_Span-Long_MV_Avg_Span'] = df1.Short_MV_Avg_Span - df1.Long_MV_Avg_Span\n",
    "df1['Short_MV_Avg_Span-Long_MV_Avg_Span_Lag'] = df1['Short_MV_Avg_Span-Long_MV_Avg_Span'].shift(1)\n",
    "#df1"
   ]
  },
  {
   "cell_type": "code",
   "execution_count": 25,
   "metadata": {},
   "outputs": [],
   "source": [
    "#crossovers = pd.DataFrame()\n",
    "#crossovers['Dates'] = Short_MV_Avg_Span['Date']\n",
    "#crossovers['Price'] = [i for i in df1.Close]\n",
    "#crossovers['Short_MV_Avg_Span'] = Short_MV_Avg_Span['Close']\n",
    "#crossovers['Long_MV_Avg_Span'] = Long_MV_Avg_Span['Close']\n",
    "#crossovers"
   ]
  },
  {
   "cell_type": "code",
   "execution_count": 26,
   "metadata": {},
   "outputs": [
    {
     "data": {
      "text/html": [
       "<div>\n",
       "<style scoped>\n",
       "    .dataframe tbody tr th:only-of-type {\n",
       "        vertical-align: middle;\n",
       "    }\n",
       "\n",
       "    .dataframe tbody tr th {\n",
       "        vertical-align: top;\n",
       "    }\n",
       "\n",
       "    .dataframe thead th {\n",
       "        text-align: right;\n",
       "    }\n",
       "</style>\n",
       "<table border=\"1\" class=\"dataframe\">\n",
       "  <thead>\n",
       "    <tr style=\"text-align: right;\">\n",
       "      <th></th>\n",
       "      <th>const</th>\n",
       "      <th>Date</th>\n",
       "      <th>Open</th>\n",
       "      <th>High</th>\n",
       "      <th>Low</th>\n",
       "      <th>Close</th>\n",
       "      <th>Adj Close</th>\n",
       "      <th>Volume</th>\n",
       "      <th>Volume_Lag</th>\n",
       "      <th>Today_Change_%</th>\n",
       "      <th>...</th>\n",
       "      <th>Trend_Lag</th>\n",
       "      <th>Close-Open</th>\n",
       "      <th>Close-Open_Lag</th>\n",
       "      <th>High-Low</th>\n",
       "      <th>High-Low_Lag</th>\n",
       "      <th>Up_Down</th>\n",
       "      <th>Short_MV_Avg_Span</th>\n",
       "      <th>Long_MV_Avg_Span</th>\n",
       "      <th>Short_MV_Avg_Span-Long_MV_Avg_Span</th>\n",
       "      <th>Short_MV_Avg_Span-Long_MV_Avg_Span_Lag</th>\n",
       "    </tr>\n",
       "  </thead>\n",
       "  <tbody>\n",
       "    <tr>\n",
       "      <th>2</th>\n",
       "      <td>1.0</td>\n",
       "      <td>1999-01-26</td>\n",
       "      <td>1.833333</td>\n",
       "      <td>1.869792</td>\n",
       "      <td>1.645833</td>\n",
       "      <td>1.671875</td>\n",
       "      <td>1.536261</td>\n",
       "      <td>0.008580</td>\n",
       "      <td>0.012762</td>\n",
       "      <td>-7.758621</td>\n",
       "      <td>...</td>\n",
       "      <td>0.891893</td>\n",
       "      <td>-0.161458</td>\n",
       "      <td>0.041667</td>\n",
       "      <td>0.223959</td>\n",
       "      <td>0.192708</td>\n",
       "      <td>0</td>\n",
       "      <td>1.799107</td>\n",
       "      <td>1.806985</td>\n",
       "      <td>-0.007878</td>\n",
       "      <td>0.000000</td>\n",
       "    </tr>\n",
       "    <tr>\n",
       "      <th>3</th>\n",
       "      <td>1.0</td>\n",
       "      <td>1999-01-27</td>\n",
       "      <td>1.677083</td>\n",
       "      <td>1.718750</td>\n",
       "      <td>1.583333</td>\n",
       "      <td>1.666667</td>\n",
       "      <td>1.531475</td>\n",
       "      <td>0.006109</td>\n",
       "      <td>0.008580</td>\n",
       "      <td>-0.311507</td>\n",
       "      <td>...</td>\n",
       "      <td>0.116280</td>\n",
       "      <td>-0.010416</td>\n",
       "      <td>-0.161458</td>\n",
       "      <td>0.135417</td>\n",
       "      <td>0.223959</td>\n",
       "      <td>0</td>\n",
       "      <td>1.786494</td>\n",
       "      <td>1.801483</td>\n",
       "      <td>-0.014989</td>\n",
       "      <td>-0.007878</td>\n",
       "    </tr>\n",
       "    <tr>\n",
       "      <th>4</th>\n",
       "      <td>1.0</td>\n",
       "      <td>1999-01-28</td>\n",
       "      <td>1.666667</td>\n",
       "      <td>1.677083</td>\n",
       "      <td>1.651042</td>\n",
       "      <td>1.661458</td>\n",
       "      <td>1.526689</td>\n",
       "      <td>0.005688</td>\n",
       "      <td>0.006109</td>\n",
       "      <td>-0.312538</td>\n",
       "      <td>...</td>\n",
       "      <td>0.615388</td>\n",
       "      <td>-0.005209</td>\n",
       "      <td>-0.010416</td>\n",
       "      <td>0.026041</td>\n",
       "      <td>0.135417</td>\n",
       "      <td>0</td>\n",
       "      <td>1.774586</td>\n",
       "      <td>1.795991</td>\n",
       "      <td>-0.021406</td>\n",
       "      <td>-0.014989</td>\n",
       "    </tr>\n",
       "    <tr>\n",
       "      <th>5</th>\n",
       "      <td>1.0</td>\n",
       "      <td>1999-01-29</td>\n",
       "      <td>1.661458</td>\n",
       "      <td>1.666667</td>\n",
       "      <td>1.583333</td>\n",
       "      <td>1.583333</td>\n",
       "      <td>1.454901</td>\n",
       "      <td>0.006101</td>\n",
       "      <td>0.005688</td>\n",
       "      <td>-4.702195</td>\n",
       "      <td>...</td>\n",
       "      <td>0.399985</td>\n",
       "      <td>-0.078125</td>\n",
       "      <td>-0.005209</td>\n",
       "      <td>0.083334</td>\n",
       "      <td>0.026041</td>\n",
       "      <td>0</td>\n",
       "      <td>1.756371</td>\n",
       "      <td>1.787652</td>\n",
       "      <td>-0.031281</td>\n",
       "      <td>-0.021406</td>\n",
       "    </tr>\n",
       "    <tr>\n",
       "      <th>6</th>\n",
       "      <td>1.0</td>\n",
       "      <td>1999-02-01</td>\n",
       "      <td>1.583333</td>\n",
       "      <td>1.625000</td>\n",
       "      <td>1.583333</td>\n",
       "      <td>1.614583</td>\n",
       "      <td>1.483616</td>\n",
       "      <td>0.003868</td>\n",
       "      <td>0.006101</td>\n",
       "      <td>1.973685</td>\n",
       "      <td>...</td>\n",
       "      <td>0.000000</td>\n",
       "      <td>0.031250</td>\n",
       "      <td>-0.078125</td>\n",
       "      <td>0.041667</td>\n",
       "      <td>0.083334</td>\n",
       "      <td>1</td>\n",
       "      <td>1.742867</td>\n",
       "      <td>1.780865</td>\n",
       "      <td>-0.037997</td>\n",
       "      <td>-0.031281</td>\n",
       "    </tr>\n",
       "    <tr>\n",
       "      <th>...</th>\n",
       "      <td>...</td>\n",
       "      <td>...</td>\n",
       "      <td>...</td>\n",
       "      <td>...</td>\n",
       "      <td>...</td>\n",
       "      <td>...</td>\n",
       "      <td>...</td>\n",
       "      <td>...</td>\n",
       "      <td>...</td>\n",
       "      <td>...</td>\n",
       "      <td>...</td>\n",
       "      <td>...</td>\n",
       "      <td>...</td>\n",
       "      <td>...</td>\n",
       "      <td>...</td>\n",
       "      <td>...</td>\n",
       "      <td>...</td>\n",
       "      <td>...</td>\n",
       "      <td>...</td>\n",
       "      <td>...</td>\n",
       "      <td>...</td>\n",
       "    </tr>\n",
       "    <tr>\n",
       "      <th>5640</th>\n",
       "      <td>1.0</td>\n",
       "      <td>2021-06-21</td>\n",
       "      <td>737.409973</td>\n",
       "      <td>741.460022</td>\n",
       "      <td>712.909973</td>\n",
       "      <td>737.090027</td>\n",
       "      <td>737.090027</td>\n",
       "      <td>0.016810</td>\n",
       "      <td>0.024192</td>\n",
       "      <td>-1.134728</td>\n",
       "      <td>...</td>\n",
       "      <td>0.069216</td>\n",
       "      <td>-0.319946</td>\n",
       "      <td>-5.809998</td>\n",
       "      <td>28.550049</td>\n",
       "      <td>31.640015</td>\n",
       "      <td>0</td>\n",
       "      <td>689.353708</td>\n",
       "      <td>640.135402</td>\n",
       "      <td>49.218306</td>\n",
       "      <td>48.150761</td>\n",
       "    </tr>\n",
       "    <tr>\n",
       "      <th>5641</th>\n",
       "      <td>1.0</td>\n",
       "      <td>2021-06-22</td>\n",
       "      <td>738.859985</td>\n",
       "      <td>758.549988</td>\n",
       "      <td>735.440002</td>\n",
       "      <td>755.469971</td>\n",
       "      <td>755.469971</td>\n",
       "      <td>0.014504</td>\n",
       "      <td>0.016810</td>\n",
       "      <td>2.493582</td>\n",
       "      <td>...</td>\n",
       "      <td>0.846936</td>\n",
       "      <td>16.609985</td>\n",
       "      <td>-0.319946</td>\n",
       "      <td>23.109985</td>\n",
       "      <td>28.550049</td>\n",
       "      <td>1</td>\n",
       "      <td>695.650495</td>\n",
       "      <td>644.658327</td>\n",
       "      <td>50.992168</td>\n",
       "      <td>49.218306</td>\n",
       "    </tr>\n",
       "    <tr>\n",
       "      <th>5642</th>\n",
       "      <td>1.0</td>\n",
       "      <td>2021-06-23</td>\n",
       "      <td>760.309998</td>\n",
       "      <td>766.109985</td>\n",
       "      <td>756.309998</td>\n",
       "      <td>762.289978</td>\n",
       "      <td>762.289978</td>\n",
       "      <td>0.008309</td>\n",
       "      <td>0.014504</td>\n",
       "      <td>0.902750</td>\n",
       "      <td>...</td>\n",
       "      <td>0.866724</td>\n",
       "      <td>1.979980</td>\n",
       "      <td>16.609985</td>\n",
       "      <td>9.799988</td>\n",
       "      <td>23.109985</td>\n",
       "      <td>1</td>\n",
       "      <td>701.997112</td>\n",
       "      <td>649.271333</td>\n",
       "      <td>52.725780</td>\n",
       "      <td>50.992168</td>\n",
       "    </tr>\n",
       "    <tr>\n",
       "      <th>5643</th>\n",
       "      <td>1.0</td>\n",
       "      <td>2021-06-24</td>\n",
       "      <td>769.109985</td>\n",
       "      <td>776.799988</td>\n",
       "      <td>763.530029</td>\n",
       "      <td>768.219971</td>\n",
       "      <td>768.219971</td>\n",
       "      <td>0.008013</td>\n",
       "      <td>0.008309</td>\n",
       "      <td>0.777918</td>\n",
       "      <td>...</td>\n",
       "      <td>0.610203</td>\n",
       "      <td>-0.890015</td>\n",
       "      <td>1.979980</td>\n",
       "      <td>13.269958</td>\n",
       "      <td>9.799988</td>\n",
       "      <td>1</td>\n",
       "      <td>708.304051</td>\n",
       "      <td>653.935985</td>\n",
       "      <td>54.368066</td>\n",
       "      <td>52.725780</td>\n",
       "    </tr>\n",
       "    <tr>\n",
       "      <th>5644</th>\n",
       "      <td>1.0</td>\n",
       "      <td>2021-06-25</td>\n",
       "      <td>771.219971</td>\n",
       "      <td>773.820007</td>\n",
       "      <td>755.775024</td>\n",
       "      <td>761.239990</td>\n",
       "      <td>761.239990</td>\n",
       "      <td>0.006891</td>\n",
       "      <td>0.008013</td>\n",
       "      <td>-0.908591</td>\n",
       "      <td>...</td>\n",
       "      <td>0.353425</td>\n",
       "      <td>-9.979980</td>\n",
       "      <td>-0.890015</td>\n",
       "      <td>18.044983</td>\n",
       "      <td>13.269958</td>\n",
       "      <td>0</td>\n",
       "      <td>713.345569</td>\n",
       "      <td>658.143985</td>\n",
       "      <td>55.201584</td>\n",
       "      <td>54.368066</td>\n",
       "    </tr>\n",
       "  </tbody>\n",
       "</table>\n",
       "<p>5641 rows × 21 columns</p>\n",
       "</div>"
      ],
      "text/plain": [
       "      const       Date        Open        High         Low       Close  \\\n",
       "2       1.0 1999-01-26    1.833333    1.869792    1.645833    1.671875   \n",
       "3       1.0 1999-01-27    1.677083    1.718750    1.583333    1.666667   \n",
       "4       1.0 1999-01-28    1.666667    1.677083    1.651042    1.661458   \n",
       "5       1.0 1999-01-29    1.661458    1.666667    1.583333    1.583333   \n",
       "6       1.0 1999-02-01    1.583333    1.625000    1.583333    1.614583   \n",
       "...     ...        ...         ...         ...         ...         ...   \n",
       "5640    1.0 2021-06-21  737.409973  741.460022  712.909973  737.090027   \n",
       "5641    1.0 2021-06-22  738.859985  758.549988  735.440002  755.469971   \n",
       "5642    1.0 2021-06-23  760.309998  766.109985  756.309998  762.289978   \n",
       "5643    1.0 2021-06-24  769.109985  776.799988  763.530029  768.219971   \n",
       "5644    1.0 2021-06-25  771.219971  773.820007  755.775024  761.239990   \n",
       "\n",
       "       Adj Close    Volume  Volume_Lag  Today_Change_%  ...  Trend_Lag  \\\n",
       "2       1.536261  0.008580    0.012762       -7.758621  ...   0.891893   \n",
       "3       1.531475  0.006109    0.008580       -0.311507  ...   0.116280   \n",
       "4       1.526689  0.005688    0.006109       -0.312538  ...   0.615388   \n",
       "5       1.454901  0.006101    0.005688       -4.702195  ...   0.399985   \n",
       "6       1.483616  0.003868    0.006101        1.973685  ...   0.000000   \n",
       "...          ...       ...         ...             ...  ...        ...   \n",
       "5640  737.090027  0.016810    0.024192       -1.134728  ...   0.069216   \n",
       "5641  755.469971  0.014504    0.016810        2.493582  ...   0.846936   \n",
       "5642  762.289978  0.008309    0.014504        0.902750  ...   0.866724   \n",
       "5643  768.219971  0.008013    0.008309        0.777918  ...   0.610203   \n",
       "5644  761.239990  0.006891    0.008013       -0.908591  ...   0.353425   \n",
       "\n",
       "      Close-Open  Close-Open_Lag   High-Low  High-Low_Lag  Up_Down  \\\n",
       "2      -0.161458        0.041667   0.223959      0.192708        0   \n",
       "3      -0.010416       -0.161458   0.135417      0.223959        0   \n",
       "4      -0.005209       -0.010416   0.026041      0.135417        0   \n",
       "5      -0.078125       -0.005209   0.083334      0.026041        0   \n",
       "6       0.031250       -0.078125   0.041667      0.083334        1   \n",
       "...          ...             ...        ...           ...      ...   \n",
       "5640   -0.319946       -5.809998  28.550049     31.640015        0   \n",
       "5641   16.609985       -0.319946  23.109985     28.550049        1   \n",
       "5642    1.979980       16.609985   9.799988     23.109985        1   \n",
       "5643   -0.890015        1.979980  13.269958      9.799988        1   \n",
       "5644   -9.979980       -0.890015  18.044983     13.269958        0   \n",
       "\n",
       "      Short_MV_Avg_Span  Long_MV_Avg_Span  Short_MV_Avg_Span-Long_MV_Avg_Span  \\\n",
       "2              1.799107          1.806985                           -0.007878   \n",
       "3              1.786494          1.801483                           -0.014989   \n",
       "4              1.774586          1.795991                           -0.021406   \n",
       "5              1.756371          1.787652                           -0.031281   \n",
       "6              1.742867          1.780865                           -0.037997   \n",
       "...                 ...               ...                                 ...   \n",
       "5640         689.353708        640.135402                           49.218306   \n",
       "5641         695.650495        644.658327                           50.992168   \n",
       "5642         701.997112        649.271333                           52.725780   \n",
       "5643         708.304051        653.935985                           54.368066   \n",
       "5644         713.345569        658.143985                           55.201584   \n",
       "\n",
       "      Short_MV_Avg_Span-Long_MV_Avg_Span_Lag  \n",
       "2                                   0.000000  \n",
       "3                                  -0.007878  \n",
       "4                                  -0.014989  \n",
       "5                                  -0.021406  \n",
       "6                                  -0.031281  \n",
       "...                                      ...  \n",
       "5640                               48.150761  \n",
       "5641                               49.218306  \n",
       "5642                               50.992168  \n",
       "5643                               52.725780  \n",
       "5644                               54.368066  \n",
       "\n",
       "[5641 rows x 21 columns]"
      ]
     },
     "execution_count": 26,
     "metadata": {},
     "output_type": "execute_result"
    }
   ],
   "source": [
    "df1.dropna(inplace= True)\n",
    "df1"
   ]
  },
  {
   "cell_type": "code",
   "execution_count": 27,
   "metadata": {},
   "outputs": [],
   "source": [
    "X = df1[['const','Trend_Lag','Short_MV_Avg_Span-Long_MV_Avg_Span_Lag','Close-Open_Lag','High-Low_Lag','Volume_Lag']]"
   ]
  },
  {
   "cell_type": "code",
   "execution_count": 28,
   "metadata": {},
   "outputs": [
    {
     "data": {
      "text/plain": [
       "<function matplotlib.pyplot.show(close=None, block=None)>"
      ]
     },
     "execution_count": 28,
     "metadata": {},
     "output_type": "execute_result"
    },
    {
     "data": {
      "image/png": "[encoded data removed]",
      "text/plain": [
       "<Figure size 1152x432 with 1 Axes>"
      ]
     },
     "metadata": {
      "needs_background": "light"
     },
     "output_type": "display_data"
    }
   ],
   "source": [
    "df1['Close'][-100:].plot(figsize=(16,6))\n",
    "df1['Short_MV_Avg_Span'][-100:].plot(figsize=(16,6))\n",
    "df1['Long_MV_Avg_Span'][-100:].plot(figsize=(16,6))\n",
    "plt.xlabel('Date', fontsize=18)\n",
    "plt.ylabel('Close Price USD ($)', fontsize =18)\n",
    "plt.legend(['Close', str(short_moving_average_span) + ' Days Moving Average', str(long_moving_average_span) + ' days Moving Average'], loc = 'lower left')\n",
    "plt.title(stock.upper())\n",
    "plt.show"
   ]
  },
  {
   "cell_type": "code",
   "execution_count": 29,
   "metadata": {},
   "outputs": [],
   "source": [
    "y = df1[\"Up_Down\"].values"
   ]
  },
  {
   "cell_type": "code",
   "execution_count": 30,
   "metadata": {},
   "outputs": [],
   "source": [
    "model = sm.Logit(y,X)"
   ]
  },
  {
   "cell_type": "code",
   "execution_count": 31,
   "metadata": {},
   "outputs": [
    {
     "name": "stdout",
     "output_type": "stream",
     "text": [
      "Optimization terminated successfully.\n",
      "         Current function value: 0.691062\n",
      "         Iterations 4\n"
     ]
    }
   ],
   "source": [
    "result =  model.fit()"
   ]
  },
  {
   "cell_type": "code",
   "execution_count": 32,
   "metadata": {},
   "outputs": [
    {
     "data": {
      "text/html": [
       "<table class=\"simpletable\">\n",
       "<caption>Logit Regression Results</caption>\n",
       "<tr>\n",
       "  <th>Dep. Variable:</th>           <td>y</td>        <th>  No. Observations:  </th>  <td>  5641</td> \n",
       "</tr>\n",
       "<tr>\n",
       "  <th>Model:</th>                 <td>Logit</td>      <th>  Df Residuals:      </th>  <td>  5635</td> \n",
       "</tr>\n",
       "<tr>\n",
       "  <th>Method:</th>                 <td>MLE</td>       <th>  Df Model:          </th>  <td>     5</td> \n",
       "</tr>\n",
       "<tr>\n",
       "  <th>Date:</th>            <td>Fri, 25 Jun 2021</td> <th>  Pseudo R-squ.:     </th> <td>0.002507</td>\n",
       "</tr>\n",
       "<tr>\n",
       "  <th>Time:</th>                <td>17:04:49</td>     <th>  Log-Likelihood:    </th> <td> -3898.3</td>\n",
       "</tr>\n",
       "<tr>\n",
       "  <th>converged:</th>             <td>True</td>       <th>  LL-Null:           </th> <td> -3908.1</td>\n",
       "</tr>\n",
       "<tr>\n",
       "  <th>Covariance Type:</th>     <td>nonrobust</td>    <th>  LLR p-value:       </th> <td>0.001490</td>\n",
       "</tr>\n",
       "</table>\n",
       "<table class=\"simpletable\">\n",
       "<tr>\n",
       "                     <td></td>                       <th>coef</th>     <th>std err</th>      <th>z</th>      <th>P>|z|</th>  <th>[0.025</th>    <th>0.975]</th>  \n",
       "</tr>\n",
       "<tr>\n",
       "  <th>const</th>                                  <td>    0.1582</td> <td>    0.068</td> <td>    2.337</td> <td> 0.019</td> <td>    0.026</td> <td>    0.291</td>\n",
       "</tr>\n",
       "<tr>\n",
       "  <th>Trend_Lag</th>                              <td>   -0.1460</td> <td>    0.095</td> <td>   -1.538</td> <td> 0.124</td> <td>   -0.332</td> <td>    0.040</td>\n",
       "</tr>\n",
       "<tr>\n",
       "  <th>Short_MV_Avg_Span-Long_MV_Avg_Span_Lag</th> <td>    0.0023</td> <td>    0.005</td> <td>    0.480</td> <td> 0.632</td> <td>   -0.007</td> <td>    0.012</td>\n",
       "</tr>\n",
       "<tr>\n",
       "  <th>Close-Open_Lag</th>                         <td>   -0.0184</td> <td>    0.009</td> <td>   -1.981</td> <td> 0.048</td> <td>   -0.037</td> <td>   -0.000</td>\n",
       "</tr>\n",
       "<tr>\n",
       "  <th>High-Low_Lag</th>                           <td>    0.0124</td> <td>    0.007</td> <td>    1.842</td> <td> 0.065</td> <td>   -0.001</td> <td>    0.026</td>\n",
       "</tr>\n",
       "<tr>\n",
       "  <th>Volume_Lag</th>                             <td>   -4.0300</td> <td>    2.385</td> <td>   -1.690</td> <td> 0.091</td> <td>   -8.704</td> <td>    0.644</td>\n",
       "</tr>\n",
       "</table>"
      ],
      "text/plain": [
       "<class 'statsmodels.iolib.summary.Summary'>\n",
       "\"\"\"\n",
       "                           Logit Regression Results                           \n",
       "==============================================================================\n",
       "Dep. Variable:                      y   No. Observations:                 5641\n",
       "Model:                          Logit   Df Residuals:                     5635\n",
       "Method:                           MLE   Df Model:                            5\n",
       "Date:                Fri, 25 Jun 2021   Pseudo R-squ.:                0.002507\n",
       "Time:                        17:04:49   Log-Likelihood:                -3898.3\n",
       "converged:                       True   LL-Null:                       -3908.1\n",
       "Covariance Type:            nonrobust   LLR p-value:                  0.001490\n",
       "==========================================================================================================\n",
       "                                             coef    std err          z      P>|z|      [0.025      0.975]\n",
       "----------------------------------------------------------------------------------------------------------\n",
       "const                                      0.1582      0.068      2.337      0.019       0.026       0.291\n",
       "Trend_Lag                                 -0.1460      0.095     -1.538      0.124      -0.332       0.040\n",
       "Short_MV_Avg_Span-Long_MV_Avg_Span_Lag     0.0023      0.005      0.480      0.632      -0.007       0.012\n",
       "Close-Open_Lag                            -0.0184      0.009     -1.981      0.048      -0.037      -0.000\n",
       "High-Low_Lag                               0.0124      0.007      1.842      0.065      -0.001       0.026\n",
       "Volume_Lag                                -4.0300      2.385     -1.690      0.091      -8.704       0.644\n",
       "==========================================================================================================\n",
       "\"\"\""
      ]
     },
     "execution_count": 32,
     "metadata": {},
     "output_type": "execute_result"
    }
   ],
   "source": [
    "result.summary()"
   ]
  },
  {
   "cell_type": "code",
   "execution_count": 33,
   "metadata": {},
   "outputs": [],
   "source": [
    "prediction = result.predict(X)"
   ]
  },
  {
   "cell_type": "code",
   "execution_count": 34,
   "metadata": {},
   "outputs": [],
   "source": [
    "df1['Prediction_Caculated'] = pd.array(prediction)\n",
    "df1['Prediction_indicator'] = pd.array([1 if i > cutoff else 0 for i in prediction])\n",
    "#print (df1.iloc[-1,18],df1.iloc[-1,19],df1.iloc[-1,20])"
   ]
  },
  {
   "cell_type": "code",
   "execution_count": 35,
   "metadata": {},
   "outputs": [],
   "source": [
    "#print(df1.loc[[i for i in range(len(df1)-20, len(df1)+2)],['Trend_Lag', 'Short_MV_Avg_Span-Long_MV_Avg_Span_Lag', 'Up_Down', 'Prediction_indicator']])"
   ]
  },
  {
   "cell_type": "code",
   "execution_count": 36,
   "metadata": {},
   "outputs": [],
   "source": [
    "y = df1[\"Up_Down\"].values"
   ]
  },
  {
   "cell_type": "code",
   "execution_count": 37,
   "metadata": {},
   "outputs": [],
   "source": [
    "def confusion_matrix(act,pred):\n",
    "    predtrans = ['Up' if i > cutoff else 'Down' for i in pred]\n",
    "    actuals = ['Up' if i > 0 else 'Down' for i in act]\n",
    "    confusion_matrix = pd.crosstab(pd.Series(actuals),\n",
    "                                   pd.Series(predtrans),\n",
    "                                   rownames = [\"Actual\"],\n",
    "                                   colnames = [\"Predict\"]\n",
    "                                  )\n",
    "    return confusion_matrix"
   ]
  },
  {
   "cell_type": "code",
   "execution_count": 38,
   "metadata": {},
   "outputs": [
    {
     "data": {
      "text/html": [
       "<div>\n",
       "<style scoped>\n",
       "    .dataframe tbody tr th:only-of-type {\n",
       "        vertical-align: middle;\n",
       "    }\n",
       "\n",
       "    .dataframe tbody tr th {\n",
       "        vertical-align: top;\n",
       "    }\n",
       "\n",
       "    .dataframe thead th {\n",
       "        text-align: right;\n",
       "    }\n",
       "</style>\n",
       "<table border=\"1\" class=\"dataframe\">\n",
       "  <thead>\n",
       "    <tr style=\"text-align: right;\">\n",
       "      <th>Predict</th>\n",
       "      <th>Down</th>\n",
       "      <th>Up</th>\n",
       "    </tr>\n",
       "    <tr>\n",
       "      <th>Actual</th>\n",
       "      <th></th>\n",
       "      <th></th>\n",
       "    </tr>\n",
       "  </thead>\n",
       "  <tbody>\n",
       "    <tr>\n",
       "      <th>Down</th>\n",
       "      <td>853</td>\n",
       "      <td>1893</td>\n",
       "    </tr>\n",
       "    <tr>\n",
       "      <th>Up</th>\n",
       "      <td>819</td>\n",
       "      <td>2076</td>\n",
       "    </tr>\n",
       "  </tbody>\n",
       "</table>\n",
       "</div>"
      ],
      "text/plain": [
       "Predict  Down    Up\n",
       "Actual             \n",
       "Down      853  1893\n",
       "Up        819  2076"
      ]
     },
     "execution_count": 38,
     "metadata": {},
     "output_type": "execute_result"
    }
   ],
   "source": [
    "confusion_matrix(y,prediction)"
   ]
  },
  {
   "cell_type": "code",
   "execution_count": 39,
   "metadata": {},
   "outputs": [
    {
     "name": "stdout",
     "output_type": "stream",
     "text": [
      "0.5192341783371742\n"
     ]
    }
   ],
   "source": [
    "z = confusion_matrix(y,prediction)\n",
    "try:\n",
    "    print((z.loc['Down','Down'] + z.loc['Up','Up']) / len(df1))\n",
    "except:\n",
    "    pass"
   ]
  },
  {
   "cell_type": "code",
   "execution_count": 40,
   "metadata": {},
   "outputs": [
    {
     "name": "stdout",
     "output_type": "stream",
     "text": [
      "0.6074243052675239\n"
     ]
    }
   ],
   "source": [
    "try:\n",
    "    print( (z.loc['Down', 'Down']+ z.loc['Up','Up']) / (z.loc['Down', 'Down']+ z.loc['Up','Up'] + z.loc['Down','Up']) )\n",
    "except:\n",
    "    pass"
   ]
  },
  {
   "cell_type": "code",
   "execution_count": 41,
   "metadata": {},
   "outputs": [],
   "source": [
    "df1 = df1.assign(share=np.nan,money=np.nan)\n",
    "#df1"
   ]
  },
  {
   "cell_type": "code",
   "execution_count": 42,
   "metadata": {},
   "outputs": [],
   "source": [
    "diff_years = round((df1.iloc[-1,1] - df1.iloc[0,1])/np.timedelta64(1,'Y') + 0.5)   "
   ]
  },
  {
   "cell_type": "code",
   "execution_count": 43,
   "metadata": {},
   "outputs": [],
   "source": [
    "#Simulate Investment transaction buy on opening when predict UP and sell daily average when predict DOWN\n",
    "\n",
    "def buy_sell(open_price, sell_price,prediction, money, share):\n",
    "    if prediction == 1 and money != 0:\n",
    "        share =  money / open_price\n",
    "        money = 0\n",
    "    elif prediction == 0 and share != 0:\n",
    "        money = share * sell_price\n",
    "        share = 0\n",
    "    else: pass\n",
    "    return [money, share]\n",
    "money = invest\n",
    "share = 0\n",
    "for i in range(len(df1)):\n",
    "    [money, share] = buy_sell(df1.iloc[i,2],(df1.iloc[i,3]+df1.iloc[i,4])/2,df1.iloc[i,22], money, share)\n",
    "    df1.iloc[i,23] = share\n",
    "    df1.iloc[i,24] = money"
   ]
  },
  {
   "cell_type": "code",
   "execution_count": 44,
   "metadata": {},
   "outputs": [],
   "source": [
    "#df1.tail(10)"
   ]
  },
  {
   "cell_type": "code",
   "execution_count": 45,
   "metadata": {},
   "outputs": [
    {
     "name": "stdout",
     "output_type": "stream",
     "text": [
      "\n",
      "If $100.00 was invested in [ NVDA ], and Just Hold and Not Trade for 23 years, the ROI = $44,069.71\n"
     ]
    }
   ],
   "source": [
    "print(\"\\nIf ${:,.2f} was invested in [ {} ], and Just Hold and Not Trade for {:,} years, the ROI = ${:,.2f}\".format( invest, stock.upper(), diff_years, invest/data.iloc[0, 0] * data.iloc[-1,0]))"
   ]
  },
  {
   "cell_type": "code",
   "execution_count": 46,
   "metadata": {},
   "outputs": [
    {
     "name": "stdout",
     "output_type": "stream",
     "text": [
      "\n",
      "If $100.00 was invested 23 years ago, buy and sell according this script's recommandation, the ROI = $478,443.72\n"
     ]
    }
   ],
   "source": [
    "print (\"\\nIf ${:,.2f} was invested {:2d} years ago, buy and sell according this script\\'s recommandation, the ROI = ${:,.2f}\".format(invest, diff_years, (money + (share * df1.iloc[-1,6]))))"
   ]
  },
  {
   "cell_type": "code",
   "execution_count": 47,
   "metadata": {
    "scrolled": false
   },
   "outputs": [
    {
     "name": "stdout",
     "output_type": "stream",
     "text": [
      "           Date Stock Market Performance Scribe Predection\n",
      "5630 2021-06-07                       Up              Down\n",
      "5631 2021-06-08                     Down                Up\n",
      "5632 2021-06-09                     Down                Up\n",
      "5633 2021-06-10                       Up                Up\n",
      "5634 2021-06-11                       Up                Up\n",
      "5635 2021-06-14                       Up                Up\n",
      "5636 2021-06-15                     Down                Up\n",
      "5637 2021-06-16                       Up                Up\n",
      "5638 2021-06-17                       Up                Up\n",
      "5639 2021-06-18                     Down              Down\n",
      "5640 2021-06-21                     Down                Up\n",
      "5641 2021-06-22                       Up                Up\n",
      "5642 2021-06-23                       Up                Up\n",
      "5643 2021-06-24                       Up                Up\n",
      "5644 2021-06-25                     Down                Up\n"
     ]
    }
   ],
   "source": [
    "df1_summary=df1[['Date', 'Up_Down','Prediction_indicator']].copy()\n",
    "df1_summary['Stock Market Performance'] = df1_summary['Up_Down'].apply(lambda x: 'Up' if x > 0 else 'Down')\n",
    "df1_summary['Scribe Predection'] = df1_summary['Prediction_indicator'].apply(lambda x: 'Up' if x > 0 else 'Down')\n",
    "print (df1_summary[['Date','Stock Market Performance','Scribe Predection']].tail(15))"
   ]
  },
  {
   "cell_type": "code",
   "execution_count": 48,
   "metadata": {},
   "outputs": [],
   "source": [
    "#print(df1.loc[[i for i in range(len(df1)-20, len(df1)+2)],['Date','Close','Trend_Lag', 'Short_MV_Avg_Span-Long_MV_Avg_Span_Lag']])"
   ]
  },
  {
   "cell_type": "code",
   "execution_count": 49,
   "metadata": {},
   "outputs": [],
   "source": [
    "#print(df1.iloc[len(df1)-1,[1,7,10,11,12,13,14,15,16,17,18,19,20,21,22]])\n",
    "#df1.info()"
   ]
  },
  {
   "cell_type": "code",
   "execution_count": 50,
   "metadata": {},
   "outputs": [
    {
     "name": "stdout",
     "output_type": "stream",
     "text": [
      "\n",
      "Today [ NVDA ] actually went down, --- base on yesterday's data, We Predication [ NVDA ] should be going up.\n",
      "\n",
      "=========> Actual and Predication DO NOT match <=========\n"
     ]
    }
   ],
   "source": [
    "print (\"\\nToday [ %s ] actually went up,\" %stock.upper(), end = ' ') if (df1.iloc[-1,16] == 1) else print (\"\\nToday [ %s ] actually went down,\" %stock.upper(), end = \" \")\n",
    "print (\"--- base on yesterday\\'s data, \", end = '')\n",
    "print (\"We Predication [ %s ] should be going up.\" %stock.upper()) if (df1.iloc[-1,22] == 1) else print (\"We Predicae [ %s ] should be going down.\" %stock.upper())\n",
    "print (\"\\n=========> Actual and Predication MATCH <=========\") if (df1.iloc[-1,16] == df1.iloc[-1,22]) else print(\"\\n=========> Actual and Predication DO NOT match <=========\")"
   ]
  },
  {
   "cell_type": "code",
   "execution_count": 51,
   "metadata": {},
   "outputs": [],
   "source": [
    "x_tran= df1[df1.Date.dt.year < 2021][['const','Trend_Lag','Short_MV_Avg_Span-Long_MV_Avg_Span_Lag','Close-Open_Lag','High-Low_Lag','Volume_Lag']]\n",
    "y_train=df1[df1.Date.dt.year < 2021][\"Up_Down\"]\n",
    "x_test= df1[df1.Date.dt.year >= 2021][['const','Trend_Lag','Short_MV_Avg_Span-Long_MV_Avg_Span_Lag','Close-Open_Lag','High-Low_Lag','Volume_Lag']]\n",
    "y_test= df1[df1.Date.dt.year >= 2021][\"Up_Down\"]"
   ]
  },
  {
   "cell_type": "code",
   "execution_count": 52,
   "metadata": {},
   "outputs": [
    {
     "name": "stdout",
     "output_type": "stream",
     "text": [
      "Optimization terminated successfully.\n",
      "         Current function value: 0.691245\n",
      "         Iterations 4\n"
     ]
    }
   ],
   "source": [
    "model = sm.Logit(y_train,x_tran)\n",
    "result=model.fit()"
   ]
  },
  {
   "cell_type": "code",
   "execution_count": 53,
   "metadata": {},
   "outputs": [
    {
     "data": {
      "text/html": [
       "<table class=\"simpletable\">\n",
       "<caption>Logit Regression Results</caption>\n",
       "<tr>\n",
       "  <th>Dep. Variable:</th>        <td>Up_Down</td>     <th>  No. Observations:  </th>  <td>  5520</td> \n",
       "</tr>\n",
       "<tr>\n",
       "  <th>Model:</th>                 <td>Logit</td>      <th>  Df Residuals:      </th>  <td>  5514</td> \n",
       "</tr>\n",
       "<tr>\n",
       "  <th>Method:</th>                 <td>MLE</td>       <th>  Df Model:          </th>  <td>     5</td> \n",
       "</tr>\n",
       "<tr>\n",
       "  <th>Date:</th>            <td>Fri, 25 Jun 2021</td> <th>  Pseudo R-squ.:     </th> <td>0.002320</td>\n",
       "</tr>\n",
       "<tr>\n",
       "  <th>Time:</th>                <td>17:04:51</td>     <th>  Log-Likelihood:    </th> <td> -3815.7</td>\n",
       "</tr>\n",
       "<tr>\n",
       "  <th>converged:</th>             <td>True</td>       <th>  LL-Null:           </th> <td> -3824.5</td>\n",
       "</tr>\n",
       "<tr>\n",
       "  <th>Covariance Type:</th>     <td>nonrobust</td>    <th>  LLR p-value:       </th> <td>0.003278</td>\n",
       "</tr>\n",
       "</table>\n",
       "<table class=\"simpletable\">\n",
       "<tr>\n",
       "                     <td></td>                       <th>coef</th>     <th>std err</th>      <th>z</th>      <th>P>|z|</th>  <th>[0.025</th>    <th>0.975]</th>  \n",
       "</tr>\n",
       "<tr>\n",
       "  <th>const</th>                                  <td>    0.1584</td> <td>    0.068</td> <td>    2.322</td> <td> 0.020</td> <td>    0.025</td> <td>    0.292</td>\n",
       "</tr>\n",
       "<tr>\n",
       "  <th>Trend_Lag</th>                              <td>   -0.1438</td> <td>    0.096</td> <td>   -1.492</td> <td> 0.136</td> <td>   -0.333</td> <td>    0.045</td>\n",
       "</tr>\n",
       "<tr>\n",
       "  <th>Short_MV_Avg_Span-Long_MV_Avg_Span_Lag</th> <td>    0.0041</td> <td>    0.005</td> <td>    0.754</td> <td> 0.451</td> <td>   -0.006</td> <td>    0.015</td>\n",
       "</tr>\n",
       "<tr>\n",
       "  <th>Close-Open_Lag</th>                         <td>   -0.0210</td> <td>    0.011</td> <td>   -1.829</td> <td> 0.067</td> <td>   -0.044</td> <td>    0.002</td>\n",
       "</tr>\n",
       "<tr>\n",
       "  <th>High-Low_Lag</th>                           <td>    0.0117</td> <td>    0.008</td> <td>    1.403</td> <td> 0.161</td> <td>   -0.005</td> <td>    0.028</td>\n",
       "</tr>\n",
       "<tr>\n",
       "  <th>Volume_Lag</th>                             <td>   -4.1255</td> <td>    2.403</td> <td>   -1.717</td> <td> 0.086</td> <td>   -8.835</td> <td>    0.584</td>\n",
       "</tr>\n",
       "</table>"
      ],
      "text/plain": [
       "<class 'statsmodels.iolib.summary.Summary'>\n",
       "\"\"\"\n",
       "                           Logit Regression Results                           \n",
       "==============================================================================\n",
       "Dep. Variable:                Up_Down   No. Observations:                 5520\n",
       "Model:                          Logit   Df Residuals:                     5514\n",
       "Method:                           MLE   Df Model:                            5\n",
       "Date:                Fri, 25 Jun 2021   Pseudo R-squ.:                0.002320\n",
       "Time:                        17:04:51   Log-Likelihood:                -3815.7\n",
       "converged:                       True   LL-Null:                       -3824.5\n",
       "Covariance Type:            nonrobust   LLR p-value:                  0.003278\n",
       "==========================================================================================================\n",
       "                                             coef    std err          z      P>|z|      [0.025      0.975]\n",
       "----------------------------------------------------------------------------------------------------------\n",
       "const                                      0.1584      0.068      2.322      0.020       0.025       0.292\n",
       "Trend_Lag                                 -0.1438      0.096     -1.492      0.136      -0.333       0.045\n",
       "Short_MV_Avg_Span-Long_MV_Avg_Span_Lag     0.0041      0.005      0.754      0.451      -0.006       0.015\n",
       "Close-Open_Lag                            -0.0210      0.011     -1.829      0.067      -0.044       0.002\n",
       "High-Low_Lag                               0.0117      0.008      1.403      0.161      -0.005       0.028\n",
       "Volume_Lag                                -4.1255      2.403     -1.717      0.086      -8.835       0.584\n",
       "==========================================================================================================\n",
       "\"\"\""
      ]
     },
     "execution_count": 53,
     "metadata": {},
     "output_type": "execute_result"
    }
   ],
   "source": [
    "result.summary()"
   ]
  },
  {
   "cell_type": "code",
   "execution_count": 54,
   "metadata": {},
   "outputs": [],
   "source": [
    "#print(result.summary().as_csv())"
   ]
  },
  {
   "cell_type": "code",
   "execution_count": 55,
   "metadata": {},
   "outputs": [],
   "source": [
    "#summary_list=result.summary().as_csv().split(\",\")"
   ]
  },
  {
   "cell_type": "code",
   "execution_count": 56,
   "metadata": {},
   "outputs": [],
   "source": [
    "#print(summary_list)"
   ]
  },
  {
   "cell_type": "code",
   "execution_count": 57,
   "metadata": {},
   "outputs": [
    {
     "name": "stdout",
     "output_type": "stream",
     "text": [
      "['   -1.492', ' 0.136']\n"
     ]
    }
   ],
   "source": [
    "print(summary_list[37:39])"
   ]
  },
  {
   "cell_type": "code",
   "execution_count": 58,
   "metadata": {},
   "outputs": [
    {
     "data": {
      "text/html": [
       "<div>\n",
       "<style scoped>\n",
       "    .dataframe tbody tr th:only-of-type {\n",
       "        vertical-align: middle;\n",
       "    }\n",
       "\n",
       "    .dataframe tbody tr th {\n",
       "        vertical-align: top;\n",
       "    }\n",
       "\n",
       "    .dataframe thead th {\n",
       "        text-align: right;\n",
       "    }\n",
       "</style>\n",
       "<table border=\"1\" class=\"dataframe\">\n",
       "  <thead>\n",
       "    <tr style=\"text-align: right;\">\n",
       "      <th>Predict</th>\n",
       "      <th>Down</th>\n",
       "      <th>Up</th>\n",
       "    </tr>\n",
       "    <tr>\n",
       "      <th>Actual</th>\n",
       "      <th></th>\n",
       "      <th></th>\n",
       "    </tr>\n",
       "  </thead>\n",
       "  <tbody>\n",
       "    <tr>\n",
       "      <th>Down</th>\n",
       "      <td>11</td>\n",
       "      <td>42</td>\n",
       "    </tr>\n",
       "    <tr>\n",
       "      <th>Up</th>\n",
       "      <td>14</td>\n",
       "      <td>54</td>\n",
       "    </tr>\n",
       "  </tbody>\n",
       "</table>\n",
       "</div>"
      ],
      "text/plain": [
       "Predict  Down  Up\n",
       "Actual           \n",
       "Down       11  42\n",
       "Up         14  54"
      ]
     },
     "execution_count": 58,
     "metadata": {},
     "output_type": "execute_result"
    }
   ],
   "source": [
    "prediction = result.predict(x_test)\n",
    "confusion_matrix(y_test, prediction)"
   ]
  },
  {
   "cell_type": "code",
   "execution_count": 59,
   "metadata": {},
   "outputs": [],
   "source": [
    "z = confusion_matrix(y_test,prediction)"
   ]
  },
  {
   "cell_type": "code",
   "execution_count": 60,
   "metadata": {},
   "outputs": [
    {
     "name": "stdout",
     "output_type": "stream",
     "text": [
      "\n",
      "=========> Prediction Accuracy Rate: 0.5372 <=========\n",
      "\n"
     ]
    }
   ],
   "source": [
    "try:\n",
    "    print (\"\\n=========> Prediction Accuracy Rate: %.4f <=========\\n\"  %((z.loc['Down','Down'] + z.loc['Up','Up']) / len(x_test)))\n",
    "except:\n",
    "    print (\"\\n=========> Predication effectiveness is not avairable <=========\\n\" )"
   ]
  },
  {
   "cell_type": "code",
   "execution_count": 61,
   "metadata": {},
   "outputs": [
    {
     "name": "stdout",
     "output_type": "stream",
     "text": [
      "\n",
      "=========> Current trend = 0.6751,   [ NVDA ] will go up! <=========\n"
     ]
    }
   ],
   "source": [
    "prediction = result.predict(x_test)\n",
    "now_up_down  = result.predict([1.0, df1.iloc[-1, 10], df1.iloc[-1, 19], df1.iloc[-1, 12], df1.iloc[-1, 14], df1.iloc[-1, 7]])\n",
    "print (\"\\n=========> Current trend = %.4f,  \" %now_up_down, end=' ')\n",
    "print (\"[ %s ] will go up! <=========\" %stock.upper()) if now_up_down > cutoff else print (\"[ %s ] will go down! <=========\" %stock.upper()) "
   ]
  },
  {
   "cell_type": "code",
   "execution_count": 62,
   "metadata": {},
   "outputs": [
    {
     "name": "stdout",
     "output_type": "stream",
     "text": [
      "\n",
      " ============> 20 Days over 50 Days Moving Average Indicator \n",
      " ============> 49.2183....50.9922....52.7258....54.3681....55.2016....<=============\n",
      "\n",
      " ============> No Trading Waring at this time! <=============\n"
     ]
    }
   ],
   "source": [
    "#print (\"\\n=========> Current trend = %.4f,  \" %now_up_down, end=' ')\n",
    "print (\"\\n ============> %s Days over %s Days Moving Average Indicator \\n ============> %.4f....%.4f....%.4f....%.4f....%.4f....<=============\" %(short_moving_average_span, long_moving_average_span, df1.iloc[-5,19], df1.iloc[-4,19], df1.iloc[-3,19], df1.iloc[-2,19],df1.iloc[-1,19]))\n",
    "if df1.iloc[-1,19] * df1.iloc[-2,19] < 0:\n",
    "    print (\"\\n ============> Warning, It Is the Time to Sell [ %s ] <=========\" %stock.upper()) if df1.iloc[-1,19] < 0 else print (\"\\n ============> It Is the Time to Buy [ %s ] ! <=========\" %stock.upper())\n",
    "else:\n",
    "    print (\"\\n ============> No Trading Waring at this time! <=============\")"
   ]
  },
  {
   "cell_type": "code",
   "execution_count": null,
   "metadata": {},
   "outputs": [],
   "source": []
  },
  {
   "cell_type": "code",
   "execution_count": 63,
   "metadata": {},
   "outputs": [],
   "source": [
    "#df1.to_csv('fb.csv', index = False)"
   ]
  }
 ],
 "metadata": {
  "kernelspec": {
   "display_name": "Python 3",
   "language": "python",
   "name": "python3"
  },
  "language_info": {
   "codemirror_mode": {
    "name": "ipython",
    "version": 3
   },
   "file_extension": ".py",
   "mimetype": "text/x-python",
   "name": "python",
   "nbconvert_exporter": "python",
   "pygments_lexer": "ipython3",
   "version": "3.8.5"
  }
 },
 "nbformat": 4,
 "nbformat_minor": 4
}
