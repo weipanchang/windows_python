{
 "cells": [
  {
   "cell_type": "code",
   "execution_count": 1,
   "metadata": {},
   "outputs": [],
   "source": [
    "import yfinance as yf"
   ]
  },
  {
   "cell_type": "code",
   "execution_count": 2,
   "metadata": {},
   "outputs": [],
   "source": [
    "import numpy as np"
   ]
  },
  {
   "cell_type": "code",
   "execution_count": 3,
   "metadata": {},
   "outputs": [],
   "source": [
    "import pandas as pd"
   ]
  },
  {
   "cell_type": "code",
   "execution_count": 4,
   "metadata": {},
   "outputs": [],
   "source": [
    "import statsmodels.api as sm"
   ]
  },
  {
   "cell_type": "code",
   "execution_count": 5,
   "metadata": {},
   "outputs": [],
   "source": [
    "import datetime\n",
    "from dateutil.relativedelta import relativedelta\n",
    "from datetime import date"
   ]
  },
  {
   "cell_type": "code",
   "execution_count": 6,
   "metadata": {},
   "outputs": [],
   "source": [
    "stock = 'fb'\n",
    "\n",
    "cutoff=0.52\n",
    "invest = 100\n",
    "years_of_data_to_process = 25"
   ]
  },
  {
   "cell_type": "code",
   "execution_count": 7,
   "metadata": {},
   "outputs": [],
   "source": [
    "currentDateTime = datetime.datetime.now()\n",
    "date = currentDateTime.date()\n",
    "year = date.strftime(\"%Y\")\n",
    "start_year =  int(year) - years_of_data_to_process\n",
    "start = datetime.datetime(start_year, 1, 1)"
   ]
  },
  {
   "cell_type": "code",
   "execution_count": 8,
   "metadata": {},
   "outputs": [
    {
     "name": "stdout",
     "output_type": "stream",
     "text": [
      "[*********************100%***********************]  1 of 1 completed\n"
     ]
    }
   ],
   "source": [
    "data =  yf.download(stock, start=start)"
   ]
  },
  {
   "cell_type": "code",
   "execution_count": 9,
   "metadata": {},
   "outputs": [
    {
     "data": {
      "text/html": [
       "<div>\n",
       "<style scoped>\n",
       "    .dataframe tbody tr th:only-of-type {\n",
       "        vertical-align: middle;\n",
       "    }\n",
       "\n",
       "    .dataframe tbody tr th {\n",
       "        vertical-align: top;\n",
       "    }\n",
       "\n",
       "    .dataframe thead th {\n",
       "        text-align: right;\n",
       "    }\n",
       "</style>\n",
       "<table border=\"1\" class=\"dataframe\">\n",
       "  <thead>\n",
       "    <tr style=\"text-align: right;\">\n",
       "      <th></th>\n",
       "      <th>Open</th>\n",
       "      <th>High</th>\n",
       "      <th>Low</th>\n",
       "      <th>Close</th>\n",
       "      <th>Adj Close</th>\n",
       "      <th>Volume</th>\n",
       "    </tr>\n",
       "    <tr>\n",
       "      <th>Date</th>\n",
       "      <th></th>\n",
       "      <th></th>\n",
       "      <th></th>\n",
       "      <th></th>\n",
       "      <th></th>\n",
       "      <th></th>\n",
       "    </tr>\n",
       "  </thead>\n",
       "  <tbody>\n",
       "    <tr>\n",
       "      <th>2012-05-18</th>\n",
       "      <td>42.049999</td>\n",
       "      <td>45.000000</td>\n",
       "      <td>38.000000</td>\n",
       "      <td>38.230000</td>\n",
       "      <td>38.230000</td>\n",
       "      <td>573576400</td>\n",
       "    </tr>\n",
       "    <tr>\n",
       "      <th>2012-05-21</th>\n",
       "      <td>36.529999</td>\n",
       "      <td>36.660000</td>\n",
       "      <td>33.000000</td>\n",
       "      <td>34.029999</td>\n",
       "      <td>34.029999</td>\n",
       "      <td>168192700</td>\n",
       "    </tr>\n",
       "    <tr>\n",
       "      <th>2012-05-22</th>\n",
       "      <td>32.610001</td>\n",
       "      <td>33.590000</td>\n",
       "      <td>30.940001</td>\n",
       "      <td>31.000000</td>\n",
       "      <td>31.000000</td>\n",
       "      <td>101786600</td>\n",
       "    </tr>\n",
       "    <tr>\n",
       "      <th>2012-05-23</th>\n",
       "      <td>31.370001</td>\n",
       "      <td>32.500000</td>\n",
       "      <td>31.360001</td>\n",
       "      <td>32.000000</td>\n",
       "      <td>32.000000</td>\n",
       "      <td>73600000</td>\n",
       "    </tr>\n",
       "    <tr>\n",
       "      <th>2012-05-24</th>\n",
       "      <td>32.950001</td>\n",
       "      <td>33.209999</td>\n",
       "      <td>31.770000</td>\n",
       "      <td>33.029999</td>\n",
       "      <td>33.029999</td>\n",
       "      <td>50237200</td>\n",
       "    </tr>\n",
       "    <tr>\n",
       "      <th>...</th>\n",
       "      <td>...</td>\n",
       "      <td>...</td>\n",
       "      <td>...</td>\n",
       "      <td>...</td>\n",
       "      <td>...</td>\n",
       "      <td>...</td>\n",
       "    </tr>\n",
       "    <tr>\n",
       "      <th>2021-06-02</th>\n",
       "      <td>330.380005</td>\n",
       "      <td>331.869995</td>\n",
       "      <td>327.119995</td>\n",
       "      <td>329.149994</td>\n",
       "      <td>329.149994</td>\n",
       "      <td>11654300</td>\n",
       "    </tr>\n",
       "    <tr>\n",
       "      <th>2021-06-03</th>\n",
       "      <td>325.779999</td>\n",
       "      <td>327.380005</td>\n",
       "      <td>323.480011</td>\n",
       "      <td>326.040009</td>\n",
       "      <td>326.040009</td>\n",
       "      <td>12610800</td>\n",
       "    </tr>\n",
       "    <tr>\n",
       "      <th>2021-06-04</th>\n",
       "      <td>325.899994</td>\n",
       "      <td>332.459991</td>\n",
       "      <td>325.179993</td>\n",
       "      <td>330.350006</td>\n",
       "      <td>330.350006</td>\n",
       "      <td>13282200</td>\n",
       "    </tr>\n",
       "    <tr>\n",
       "      <th>2021-06-07</th>\n",
       "      <td>329.480011</td>\n",
       "      <td>337.690002</td>\n",
       "      <td>328.929993</td>\n",
       "      <td>336.579987</td>\n",
       "      <td>336.579987</td>\n",
       "      <td>20124800</td>\n",
       "    </tr>\n",
       "    <tr>\n",
       "      <th>2021-06-08</th>\n",
       "      <td>336.700012</td>\n",
       "      <td>338.299896</td>\n",
       "      <td>332.239990</td>\n",
       "      <td>333.679993</td>\n",
       "      <td>333.679993</td>\n",
       "      <td>14367180</td>\n",
       "    </tr>\n",
       "  </tbody>\n",
       "</table>\n",
       "<p>2278 rows × 6 columns</p>\n",
       "</div>"
      ],
      "text/plain": [
       "                  Open        High         Low       Close   Adj Close  \\\n",
       "Date                                                                     \n",
       "2012-05-18   42.049999   45.000000   38.000000   38.230000   38.230000   \n",
       "2012-05-21   36.529999   36.660000   33.000000   34.029999   34.029999   \n",
       "2012-05-22   32.610001   33.590000   30.940001   31.000000   31.000000   \n",
       "2012-05-23   31.370001   32.500000   31.360001   32.000000   32.000000   \n",
       "2012-05-24   32.950001   33.209999   31.770000   33.029999   33.029999   \n",
       "...                ...         ...         ...         ...         ...   \n",
       "2021-06-02  330.380005  331.869995  327.119995  329.149994  329.149994   \n",
       "2021-06-03  325.779999  327.380005  323.480011  326.040009  326.040009   \n",
       "2021-06-04  325.899994  332.459991  325.179993  330.350006  330.350006   \n",
       "2021-06-07  329.480011  337.690002  328.929993  336.579987  336.579987   \n",
       "2021-06-08  336.700012  338.299896  332.239990  333.679993  333.679993   \n",
       "\n",
       "               Volume  \n",
       "Date                   \n",
       "2012-05-18  573576400  \n",
       "2012-05-21  168192700  \n",
       "2012-05-22  101786600  \n",
       "2012-05-23   73600000  \n",
       "2012-05-24   50237200  \n",
       "...               ...  \n",
       "2021-06-02   11654300  \n",
       "2021-06-03   12610800  \n",
       "2021-06-04   13282200  \n",
       "2021-06-07   20124800  \n",
       "2021-06-08   14367180  \n",
       "\n",
       "[2278 rows x 6 columns]"
      ]
     },
     "execution_count": 9,
     "metadata": {},
     "output_type": "execute_result"
    }
   ],
   "source": [
    "data"
   ]
  },
  {
   "cell_type": "code",
   "execution_count": 10,
   "metadata": {},
   "outputs": [],
   "source": [
    "df = data[\"Close\"].pct_change() * 100"
   ]
  },
  {
   "cell_type": "code",
   "execution_count": 11,
   "metadata": {},
   "outputs": [],
   "source": [
    "df = df.rename(\"Today_Change_%\")\n",
    "df = df.reset_index()"
   ]
  },
  {
   "cell_type": "code",
   "execution_count": 12,
   "metadata": {},
   "outputs": [],
   "source": [
    "df1 = pd.merge(data,df, on=\"Date\")\n",
    "#df1"
   ]
  },
  {
   "cell_type": "code",
   "execution_count": 13,
   "metadata": {},
   "outputs": [],
   "source": [
    "df1.insert(7,'Volume_Lag', None)\n",
    "df1['Volume_Lag'] = df1.Volume.shift(1).values/1000000000\n",
    "df1.Volume = df1.Volume/1000000000"
   ]
  },
  {
   "cell_type": "code",
   "execution_count": 14,
   "metadata": {},
   "outputs": [],
   "source": [
    "df1[\"Trend\"] =  (df1[\"Close\"] - df1[\"Low\"])/ ((df1[\"High\"] - df1[\"Low\"]))"
   ]
  },
  {
   "cell_type": "code",
   "execution_count": 15,
   "metadata": {},
   "outputs": [],
   "source": [
    "df1[\"Trend_Lag\"] = df1[\"Trend\"].shift(1)"
   ]
  },
  {
   "cell_type": "code",
   "execution_count": 16,
   "metadata": {},
   "outputs": [],
   "source": [
    "df1['Close-Open'] =  df1['Close'] - df1['Open']\n",
    "df1['Close-Open_Lag'] = df1['Close-Open'].shift(1)"
   ]
  },
  {
   "cell_type": "code",
   "execution_count": 17,
   "metadata": {},
   "outputs": [],
   "source": [
    "df1['High-Low'] =  df1['High'] - df1['Low']\n",
    "df1['High-Low_Lag'] = df1['High-Low'].shift(1)"
   ]
  },
  {
   "cell_type": "code",
   "execution_count": 18,
   "metadata": {},
   "outputs": [],
   "source": [
    "df1 = sm.add_constant(df1)\n",
    "df1[\"Up_Down\"] = [1 if (i > 0) else 0 for i in df1[\"Today_Change_%\"]]"
   ]
  },
  {
   "cell_type": "code",
   "execution_count": 19,
   "metadata": {},
   "outputs": [],
   "source": [
    "df1.dropna(inplace= True)"
   ]
  },
  {
   "cell_type": "code",
   "execution_count": 20,
   "metadata": {},
   "outputs": [],
   "source": [
    "df1['SMA20'] = df1['Close'].ewm(span=20, adjust=False).mean()\n",
    "df1.dropna(inplace= True)\n",
    "#df1"
   ]
  },
  {
   "cell_type": "code",
   "execution_count": 21,
   "metadata": {},
   "outputs": [],
   "source": [
    "df1['SMA50'] = df1['Close'].ewm(span=50, adjust=False).mean()\n",
    "df1.dropna(inplace= True)\n",
    "#df1"
   ]
  },
  {
   "cell_type": "code",
   "execution_count": 22,
   "metadata": {},
   "outputs": [
    {
     "data": {
      "text/html": [
       "<div>\n",
       "<style scoped>\n",
       "    .dataframe tbody tr th:only-of-type {\n",
       "        vertical-align: middle;\n",
       "    }\n",
       "\n",
       "    .dataframe tbody tr th {\n",
       "        vertical-align: top;\n",
       "    }\n",
       "\n",
       "    .dataframe thead th {\n",
       "        text-align: right;\n",
       "    }\n",
       "</style>\n",
       "<table border=\"1\" class=\"dataframe\">\n",
       "  <thead>\n",
       "    <tr style=\"text-align: right;\">\n",
       "      <th></th>\n",
       "      <th>const</th>\n",
       "      <th>Date</th>\n",
       "      <th>Open</th>\n",
       "      <th>High</th>\n",
       "      <th>Low</th>\n",
       "      <th>Close</th>\n",
       "      <th>Adj Close</th>\n",
       "      <th>Volume</th>\n",
       "      <th>Volume_Lag</th>\n",
       "      <th>Today_Change_%</th>\n",
       "      <th>...</th>\n",
       "      <th>Trend_Lag</th>\n",
       "      <th>Close-Open</th>\n",
       "      <th>Close-Open_Lag</th>\n",
       "      <th>High-Low</th>\n",
       "      <th>High-Low_Lag</th>\n",
       "      <th>Up_Down</th>\n",
       "      <th>SMA20</th>\n",
       "      <th>SMA50</th>\n",
       "      <th>SMA20-SMA50</th>\n",
       "      <th>SMA20-SMA50_Lag</th>\n",
       "    </tr>\n",
       "  </thead>\n",
       "  <tbody>\n",
       "    <tr>\n",
       "      <th>1</th>\n",
       "      <td>1.0</td>\n",
       "      <td>2012-05-21</td>\n",
       "      <td>36.529999</td>\n",
       "      <td>36.660000</td>\n",
       "      <td>33.000000</td>\n",
       "      <td>34.029999</td>\n",
       "      <td>34.029999</td>\n",
       "      <td>0.168193</td>\n",
       "      <td>0.573576</td>\n",
       "      <td>-10.986139</td>\n",
       "      <td>...</td>\n",
       "      <td>0.032857</td>\n",
       "      <td>-2.500000</td>\n",
       "      <td>-3.820000</td>\n",
       "      <td>3.660000</td>\n",
       "      <td>7.000000</td>\n",
       "      <td>0</td>\n",
       "      <td>34.029999</td>\n",
       "      <td>34.029999</td>\n",
       "      <td>0.000000</td>\n",
       "      <td>NaN</td>\n",
       "    </tr>\n",
       "    <tr>\n",
       "      <th>2</th>\n",
       "      <td>1.0</td>\n",
       "      <td>2012-05-22</td>\n",
       "      <td>32.610001</td>\n",
       "      <td>33.590000</td>\n",
       "      <td>30.940001</td>\n",
       "      <td>31.000000</td>\n",
       "      <td>31.000000</td>\n",
       "      <td>0.101787</td>\n",
       "      <td>0.168193</td>\n",
       "      <td>-8.903905</td>\n",
       "      <td>...</td>\n",
       "      <td>0.281420</td>\n",
       "      <td>-1.610001</td>\n",
       "      <td>-2.500000</td>\n",
       "      <td>2.650000</td>\n",
       "      <td>3.660000</td>\n",
       "      <td>0</td>\n",
       "      <td>33.741427</td>\n",
       "      <td>33.911175</td>\n",
       "      <td>-0.169748</td>\n",
       "      <td>0.000000</td>\n",
       "    </tr>\n",
       "    <tr>\n",
       "      <th>3</th>\n",
       "      <td>1.0</td>\n",
       "      <td>2012-05-23</td>\n",
       "      <td>31.370001</td>\n",
       "      <td>32.500000</td>\n",
       "      <td>31.360001</td>\n",
       "      <td>32.000000</td>\n",
       "      <td>32.000000</td>\n",
       "      <td>0.073600</td>\n",
       "      <td>0.101787</td>\n",
       "      <td>3.225806</td>\n",
       "      <td>...</td>\n",
       "      <td>0.022641</td>\n",
       "      <td>0.629999</td>\n",
       "      <td>-1.610001</td>\n",
       "      <td>1.139999</td>\n",
       "      <td>2.650000</td>\n",
       "      <td>1</td>\n",
       "      <td>33.575577</td>\n",
       "      <td>33.836227</td>\n",
       "      <td>-0.260650</td>\n",
       "      <td>-0.169748</td>\n",
       "    </tr>\n",
       "    <tr>\n",
       "      <th>4</th>\n",
       "      <td>1.0</td>\n",
       "      <td>2012-05-24</td>\n",
       "      <td>32.950001</td>\n",
       "      <td>33.209999</td>\n",
       "      <td>31.770000</td>\n",
       "      <td>33.029999</td>\n",
       "      <td>33.029999</td>\n",
       "      <td>0.050237</td>\n",
       "      <td>0.073600</td>\n",
       "      <td>3.218746</td>\n",
       "      <td>...</td>\n",
       "      <td>0.561403</td>\n",
       "      <td>0.079998</td>\n",
       "      <td>0.629999</td>\n",
       "      <td>1.439999</td>\n",
       "      <td>1.139999</td>\n",
       "      <td>1</td>\n",
       "      <td>33.523617</td>\n",
       "      <td>33.804610</td>\n",
       "      <td>-0.280993</td>\n",
       "      <td>-0.260650</td>\n",
       "    </tr>\n",
       "    <tr>\n",
       "      <th>5</th>\n",
       "      <td>1.0</td>\n",
       "      <td>2012-05-25</td>\n",
       "      <td>32.900002</td>\n",
       "      <td>32.950001</td>\n",
       "      <td>31.110001</td>\n",
       "      <td>31.910000</td>\n",
       "      <td>31.910000</td>\n",
       "      <td>0.037150</td>\n",
       "      <td>0.050237</td>\n",
       "      <td>-3.390854</td>\n",
       "      <td>...</td>\n",
       "      <td>0.875000</td>\n",
       "      <td>-0.990002</td>\n",
       "      <td>0.079998</td>\n",
       "      <td>1.840000</td>\n",
       "      <td>1.439999</td>\n",
       "      <td>0</td>\n",
       "      <td>33.369940</td>\n",
       "      <td>33.730312</td>\n",
       "      <td>-0.360372</td>\n",
       "      <td>-0.280993</td>\n",
       "    </tr>\n",
       "    <tr>\n",
       "      <th>...</th>\n",
       "      <td>...</td>\n",
       "      <td>...</td>\n",
       "      <td>...</td>\n",
       "      <td>...</td>\n",
       "      <td>...</td>\n",
       "      <td>...</td>\n",
       "      <td>...</td>\n",
       "      <td>...</td>\n",
       "      <td>...</td>\n",
       "      <td>...</td>\n",
       "      <td>...</td>\n",
       "      <td>...</td>\n",
       "      <td>...</td>\n",
       "      <td>...</td>\n",
       "      <td>...</td>\n",
       "      <td>...</td>\n",
       "      <td>...</td>\n",
       "      <td>...</td>\n",
       "      <td>...</td>\n",
       "      <td>...</td>\n",
       "      <td>...</td>\n",
       "    </tr>\n",
       "    <tr>\n",
       "      <th>2273</th>\n",
       "      <td>1.0</td>\n",
       "      <td>2021-06-02</td>\n",
       "      <td>330.380005</td>\n",
       "      <td>331.869995</td>\n",
       "      <td>327.119995</td>\n",
       "      <td>329.149994</td>\n",
       "      <td>329.149994</td>\n",
       "      <td>0.011654</td>\n",
       "      <td>0.011766</td>\n",
       "      <td>0.006073</td>\n",
       "      <td>...</td>\n",
       "      <td>0.520919</td>\n",
       "      <td>-1.230011</td>\n",
       "      <td>-1.019989</td>\n",
       "      <td>4.750000</td>\n",
       "      <td>4.779999</td>\n",
       "      <td>1</td>\n",
       "      <td>320.316770</td>\n",
       "      <td>308.887338</td>\n",
       "      <td>11.429432</td>\n",
       "      <td>11.326666</td>\n",
       "    </tr>\n",
       "    <tr>\n",
       "      <th>2274</th>\n",
       "      <td>1.0</td>\n",
       "      <td>2021-06-03</td>\n",
       "      <td>325.779999</td>\n",
       "      <td>327.380005</td>\n",
       "      <td>323.480011</td>\n",
       "      <td>326.040009</td>\n",
       "      <td>326.040009</td>\n",
       "      <td>0.012611</td>\n",
       "      <td>0.011654</td>\n",
       "      <td>-0.944854</td>\n",
       "      <td>...</td>\n",
       "      <td>0.427368</td>\n",
       "      <td>0.260010</td>\n",
       "      <td>-1.230011</td>\n",
       "      <td>3.899994</td>\n",
       "      <td>4.750000</td>\n",
       "      <td>0</td>\n",
       "      <td>320.861841</td>\n",
       "      <td>309.559992</td>\n",
       "      <td>11.301848</td>\n",
       "      <td>11.429432</td>\n",
       "    </tr>\n",
       "    <tr>\n",
       "      <th>2275</th>\n",
       "      <td>1.0</td>\n",
       "      <td>2021-06-04</td>\n",
       "      <td>325.899994</td>\n",
       "      <td>332.459991</td>\n",
       "      <td>325.179993</td>\n",
       "      <td>330.350006</td>\n",
       "      <td>330.350006</td>\n",
       "      <td>0.013282</td>\n",
       "      <td>0.012611</td>\n",
       "      <td>1.321923</td>\n",
       "      <td>...</td>\n",
       "      <td>0.656411</td>\n",
       "      <td>4.450012</td>\n",
       "      <td>0.260010</td>\n",
       "      <td>7.279999</td>\n",
       "      <td>3.899994</td>\n",
       "      <td>1</td>\n",
       "      <td>321.765475</td>\n",
       "      <td>310.375287</td>\n",
       "      <td>11.390189</td>\n",
       "      <td>11.301848</td>\n",
       "    </tr>\n",
       "    <tr>\n",
       "      <th>2276</th>\n",
       "      <td>1.0</td>\n",
       "      <td>2021-06-07</td>\n",
       "      <td>329.480011</td>\n",
       "      <td>337.690002</td>\n",
       "      <td>328.929993</td>\n",
       "      <td>336.579987</td>\n",
       "      <td>336.579987</td>\n",
       "      <td>0.020125</td>\n",
       "      <td>0.013282</td>\n",
       "      <td>1.885873</td>\n",
       "      <td>...</td>\n",
       "      <td>0.710167</td>\n",
       "      <td>7.099976</td>\n",
       "      <td>4.450012</td>\n",
       "      <td>8.760010</td>\n",
       "      <td>7.279999</td>\n",
       "      <td>1</td>\n",
       "      <td>323.176381</td>\n",
       "      <td>311.402922</td>\n",
       "      <td>11.773459</td>\n",
       "      <td>11.390189</td>\n",
       "    </tr>\n",
       "    <tr>\n",
       "      <th>2277</th>\n",
       "      <td>1.0</td>\n",
       "      <td>2021-06-08</td>\n",
       "      <td>336.700012</td>\n",
       "      <td>338.299896</td>\n",
       "      <td>332.239990</td>\n",
       "      <td>333.679993</td>\n",
       "      <td>333.679993</td>\n",
       "      <td>0.014367</td>\n",
       "      <td>0.020125</td>\n",
       "      <td>-0.861606</td>\n",
       "      <td>...</td>\n",
       "      <td>0.873286</td>\n",
       "      <td>-3.020020</td>\n",
       "      <td>7.099976</td>\n",
       "      <td>6.059906</td>\n",
       "      <td>8.760010</td>\n",
       "      <td>0</td>\n",
       "      <td>324.176725</td>\n",
       "      <td>312.276533</td>\n",
       "      <td>11.900192</td>\n",
       "      <td>11.773459</td>\n",
       "    </tr>\n",
       "  </tbody>\n",
       "</table>\n",
       "<p>2277 rows × 21 columns</p>\n",
       "</div>"
      ],
      "text/plain": [
       "      const       Date        Open        High         Low       Close  \\\n",
       "1       1.0 2012-05-21   36.529999   36.660000   33.000000   34.029999   \n",
       "2       1.0 2012-05-22   32.610001   33.590000   30.940001   31.000000   \n",
       "3       1.0 2012-05-23   31.370001   32.500000   31.360001   32.000000   \n",
       "4       1.0 2012-05-24   32.950001   33.209999   31.770000   33.029999   \n",
       "5       1.0 2012-05-25   32.900002   32.950001   31.110001   31.910000   \n",
       "...     ...        ...         ...         ...         ...         ...   \n",
       "2273    1.0 2021-06-02  330.380005  331.869995  327.119995  329.149994   \n",
       "2274    1.0 2021-06-03  325.779999  327.380005  323.480011  326.040009   \n",
       "2275    1.0 2021-06-04  325.899994  332.459991  325.179993  330.350006   \n",
       "2276    1.0 2021-06-07  329.480011  337.690002  328.929993  336.579987   \n",
       "2277    1.0 2021-06-08  336.700012  338.299896  332.239990  333.679993   \n",
       "\n",
       "       Adj Close    Volume  Volume_Lag  Today_Change_%  ...  Trend_Lag  \\\n",
       "1      34.029999  0.168193    0.573576      -10.986139  ...   0.032857   \n",
       "2      31.000000  0.101787    0.168193       -8.903905  ...   0.281420   \n",
       "3      32.000000  0.073600    0.101787        3.225806  ...   0.022641   \n",
       "4      33.029999  0.050237    0.073600        3.218746  ...   0.561403   \n",
       "5      31.910000  0.037150    0.050237       -3.390854  ...   0.875000   \n",
       "...          ...       ...         ...             ...  ...        ...   \n",
       "2273  329.149994  0.011654    0.011766        0.006073  ...   0.520919   \n",
       "2274  326.040009  0.012611    0.011654       -0.944854  ...   0.427368   \n",
       "2275  330.350006  0.013282    0.012611        1.321923  ...   0.656411   \n",
       "2276  336.579987  0.020125    0.013282        1.885873  ...   0.710167   \n",
       "2277  333.679993  0.014367    0.020125       -0.861606  ...   0.873286   \n",
       "\n",
       "      Close-Open  Close-Open_Lag  High-Low  High-Low_Lag  Up_Down       SMA20  \\\n",
       "1      -2.500000       -3.820000  3.660000      7.000000        0   34.029999   \n",
       "2      -1.610001       -2.500000  2.650000      3.660000        0   33.741427   \n",
       "3       0.629999       -1.610001  1.139999      2.650000        1   33.575577   \n",
       "4       0.079998        0.629999  1.439999      1.139999        1   33.523617   \n",
       "5      -0.990002        0.079998  1.840000      1.439999        0   33.369940   \n",
       "...          ...             ...       ...           ...      ...         ...   \n",
       "2273   -1.230011       -1.019989  4.750000      4.779999        1  320.316770   \n",
       "2274    0.260010       -1.230011  3.899994      4.750000        0  320.861841   \n",
       "2275    4.450012        0.260010  7.279999      3.899994        1  321.765475   \n",
       "2276    7.099976        4.450012  8.760010      7.279999        1  323.176381   \n",
       "2277   -3.020020        7.099976  6.059906      8.760010        0  324.176725   \n",
       "\n",
       "           SMA50  SMA20-SMA50  SMA20-SMA50_Lag  \n",
       "1      34.029999     0.000000              NaN  \n",
       "2      33.911175    -0.169748         0.000000  \n",
       "3      33.836227    -0.260650        -0.169748  \n",
       "4      33.804610    -0.280993        -0.260650  \n",
       "5      33.730312    -0.360372        -0.280993  \n",
       "...          ...          ...              ...  \n",
       "2273  308.887338    11.429432        11.326666  \n",
       "2274  309.559992    11.301848        11.429432  \n",
       "2275  310.375287    11.390189        11.301848  \n",
       "2276  311.402922    11.773459        11.390189  \n",
       "2277  312.276533    11.900192        11.773459  \n",
       "\n",
       "[2277 rows x 21 columns]"
      ]
     },
     "execution_count": 22,
     "metadata": {},
     "output_type": "execute_result"
    }
   ],
   "source": [
    "df1['SMA20-SMA50'] = df1.SMA20 - df1.SMA50\n",
    "df1['SMA20-SMA50_Lag'] = df1['SMA20-SMA50'].shift(1)\n",
    "df1"
   ]
  },
  {
   "cell_type": "code",
   "execution_count": 23,
   "metadata": {},
   "outputs": [],
   "source": [
    "#crossovers = pd.DataFrame()\n",
    "#crossovers['Dates'] = SMA20['Date']\n",
    "#crossovers['Price'] = [i for i in df1.Close]\n",
    "#crossovers['SMA20'] = SMA20['Close']\n",
    "#crossovers['SMA50'] = SMA50['Close']\n",
    "#crossovers"
   ]
  },
  {
   "cell_type": "code",
   "execution_count": 24,
   "metadata": {},
   "outputs": [],
   "source": [
    "df1.dropna(inplace= True)\n",
    "#df1"
   ]
  },
  {
   "cell_type": "code",
   "execution_count": 25,
   "metadata": {},
   "outputs": [],
   "source": [
    "X = df1[['const','Trend_Lag','SMA20-SMA50_Lag','Close-Open_Lag','High-Low_Lag','Volume_Lag']]"
   ]
  },
  {
   "cell_type": "code",
   "execution_count": 26,
   "metadata": {},
   "outputs": [],
   "source": [
    "y = df1[\"Up_Down\"].values"
   ]
  },
  {
   "cell_type": "code",
   "execution_count": 27,
   "metadata": {},
   "outputs": [],
   "source": [
    "model = sm.Logit(y,X)"
   ]
  },
  {
   "cell_type": "code",
   "execution_count": 28,
   "metadata": {},
   "outputs": [
    {
     "name": "stdout",
     "output_type": "stream",
     "text": [
      "Optimization terminated successfully.\n",
      "         Current function value: 0.689180\n",
      "         Iterations 4\n"
     ]
    }
   ],
   "source": [
    "result =  model.fit()"
   ]
  },
  {
   "cell_type": "code",
   "execution_count": 29,
   "metadata": {},
   "outputs": [
    {
     "data": {
      "text/html": [
       "<table class=\"simpletable\">\n",
       "<caption>Logit Regression Results</caption>\n",
       "<tr>\n",
       "  <th>Dep. Variable:</th>           <td>y</td>        <th>  No. Observations:  </th>  <td>  2276</td> \n",
       "</tr>\n",
       "<tr>\n",
       "  <th>Model:</th>                 <td>Logit</td>      <th>  Df Residuals:      </th>  <td>  2270</td> \n",
       "</tr>\n",
       "<tr>\n",
       "  <th>Method:</th>                 <td>MLE</td>       <th>  Df Model:          </th>  <td>     5</td> \n",
       "</tr>\n",
       "<tr>\n",
       "  <th>Date:</th>            <td>Tue, 08 Jun 2021</td> <th>  Pseudo R-squ.:     </th> <td>0.003725</td>\n",
       "</tr>\n",
       "<tr>\n",
       "  <th>Time:</th>                <td>17:14:07</td>     <th>  Log-Likelihood:    </th> <td> -1568.6</td>\n",
       "</tr>\n",
       "<tr>\n",
       "  <th>converged:</th>             <td>True</td>       <th>  LL-Null:           </th> <td> -1574.4</td>\n",
       "</tr>\n",
       "<tr>\n",
       "  <th>Covariance Type:</th>     <td>nonrobust</td>    <th>  LLR p-value:       </th>  <td>0.03869</td>\n",
       "</tr>\n",
       "</table>\n",
       "<table class=\"simpletable\">\n",
       "<tr>\n",
       "         <td></td>            <th>coef</th>     <th>std err</th>      <th>z</th>      <th>P>|z|</th>  <th>[0.025</th>    <th>0.975]</th>  \n",
       "</tr>\n",
       "<tr>\n",
       "  <th>const</th>           <td>    0.3822</td> <td>    0.127</td> <td>    3.000</td> <td> 0.003</td> <td>    0.133</td> <td>    0.632</td>\n",
       "</tr>\n",
       "<tr>\n",
       "  <th>Trend_Lag</th>       <td>   -0.4337</td> <td>    0.186</td> <td>   -2.333</td> <td> 0.020</td> <td>   -0.798</td> <td>   -0.069</td>\n",
       "</tr>\n",
       "<tr>\n",
       "  <th>SMA20-SMA50_Lag</th> <td>   -0.0065</td> <td>    0.010</td> <td>   -0.671</td> <td> 0.502</td> <td>   -0.026</td> <td>    0.013</td>\n",
       "</tr>\n",
       "<tr>\n",
       "  <th>Close-Open_Lag</th>  <td>   -0.0029</td> <td>    0.024</td> <td>   -0.122</td> <td> 0.903</td> <td>   -0.050</td> <td>    0.044</td>\n",
       "</tr>\n",
       "<tr>\n",
       "  <th>High-Low_Lag</th>    <td>    0.0032</td> <td>    0.016</td> <td>    0.199</td> <td> 0.842</td> <td>   -0.028</td> <td>    0.034</td>\n",
       "</tr>\n",
       "<tr>\n",
       "  <th>Volume_Lag</th>      <td>   -1.5837</td> <td>    1.652</td> <td>   -0.959</td> <td> 0.338</td> <td>   -4.821</td> <td>    1.654</td>\n",
       "</tr>\n",
       "</table>"
      ],
      "text/plain": [
       "<class 'statsmodels.iolib.summary.Summary'>\n",
       "\"\"\"\n",
       "                           Logit Regression Results                           \n",
       "==============================================================================\n",
       "Dep. Variable:                      y   No. Observations:                 2276\n",
       "Model:                          Logit   Df Residuals:                     2270\n",
       "Method:                           MLE   Df Model:                            5\n",
       "Date:                Tue, 08 Jun 2021   Pseudo R-squ.:                0.003725\n",
       "Time:                        17:14:07   Log-Likelihood:                -1568.6\n",
       "converged:                       True   LL-Null:                       -1574.4\n",
       "Covariance Type:            nonrobust   LLR p-value:                   0.03869\n",
       "===================================================================================\n",
       "                      coef    std err          z      P>|z|      [0.025      0.975]\n",
       "-----------------------------------------------------------------------------------\n",
       "const               0.3822      0.127      3.000      0.003       0.133       0.632\n",
       "Trend_Lag          -0.4337      0.186     -2.333      0.020      -0.798      -0.069\n",
       "SMA20-SMA50_Lag    -0.0065      0.010     -0.671      0.502      -0.026       0.013\n",
       "Close-Open_Lag     -0.0029      0.024     -0.122      0.903      -0.050       0.044\n",
       "High-Low_Lag        0.0032      0.016      0.199      0.842      -0.028       0.034\n",
       "Volume_Lag         -1.5837      1.652     -0.959      0.338      -4.821       1.654\n",
       "===================================================================================\n",
       "\"\"\""
      ]
     },
     "execution_count": 29,
     "metadata": {},
     "output_type": "execute_result"
    }
   ],
   "source": [
    "result.summary()"
   ]
  },
  {
   "cell_type": "code",
   "execution_count": 30,
   "metadata": {},
   "outputs": [],
   "source": [
    "prediction = result.predict(X)"
   ]
  },
  {
   "cell_type": "code",
   "execution_count": 31,
   "metadata": {},
   "outputs": [],
   "source": [
    "df1['Prediction_Caculated'] = pd.array(prediction)\n",
    "df1['Prediction_indicator'] = pd.array([1 if i > cutoff else 0 for i in prediction])\n",
    "#df1.tail(10)"
   ]
  },
  {
   "cell_type": "code",
   "execution_count": 32,
   "metadata": {},
   "outputs": [],
   "source": [
    "y = df1[\"Up_Down\"].values"
   ]
  },
  {
   "cell_type": "code",
   "execution_count": 33,
   "metadata": {},
   "outputs": [],
   "source": [
    "def confusion_matrix(act,pred):\n",
    "    predtrans = ['Up' if i > cutoff else 'Down' for i in pred]\n",
    "    actuals = ['Up' if i > 0 else 'Down' for i in act]\n",
    "    confusion_matrix = pd.crosstab(pd.Series(actuals),\n",
    "                                   pd.Series(predtrans),\n",
    "                                   rownames = [\"Actual\"],\n",
    "                                   colnames = [\"Predict\"]\n",
    "                                  )\n",
    "    return confusion_matrix"
   ]
  },
  {
   "cell_type": "code",
   "execution_count": 34,
   "metadata": {},
   "outputs": [
    {
     "data": {
      "text/html": [
       "<div>\n",
       "<style scoped>\n",
       "    .dataframe tbody tr th:only-of-type {\n",
       "        vertical-align: middle;\n",
       "    }\n",
       "\n",
       "    .dataframe tbody tr th {\n",
       "        vertical-align: top;\n",
       "    }\n",
       "\n",
       "    .dataframe thead th {\n",
       "        text-align: right;\n",
       "    }\n",
       "</style>\n",
       "<table border=\"1\" class=\"dataframe\">\n",
       "  <thead>\n",
       "    <tr style=\"text-align: right;\">\n",
       "      <th>Predict</th>\n",
       "      <th>Down</th>\n",
       "      <th>Up</th>\n",
       "    </tr>\n",
       "    <tr>\n",
       "      <th>Actual</th>\n",
       "      <th></th>\n",
       "      <th></th>\n",
       "    </tr>\n",
       "  </thead>\n",
       "  <tbody>\n",
       "    <tr>\n",
       "      <th>Down</th>\n",
       "      <td>507</td>\n",
       "      <td>571</td>\n",
       "    </tr>\n",
       "    <tr>\n",
       "      <th>Up</th>\n",
       "      <td>508</td>\n",
       "      <td>690</td>\n",
       "    </tr>\n",
       "  </tbody>\n",
       "</table>\n",
       "</div>"
      ],
      "text/plain": [
       "Predict  Down   Up\n",
       "Actual            \n",
       "Down      507  571\n",
       "Up        508  690"
      ]
     },
     "execution_count": 34,
     "metadata": {},
     "output_type": "execute_result"
    }
   ],
   "source": [
    "confusion_matrix(y,prediction)"
   ]
  },
  {
   "cell_type": "code",
   "execution_count": 35,
   "metadata": {},
   "outputs": [
    {
     "name": "stdout",
     "output_type": "stream",
     "text": [
      "0.5259226713532513\n"
     ]
    }
   ],
   "source": [
    "z = confusion_matrix(y,prediction)\n",
    "try:\n",
    "    print((z.loc['Down','Down'] + z.loc['Up','Up']) / len(df1))\n",
    "except:\n",
    "    pass"
   ]
  },
  {
   "cell_type": "code",
   "execution_count": 36,
   "metadata": {},
   "outputs": [
    {
     "name": "stdout",
     "output_type": "stream",
     "text": [
      "0.6770361990950227\n"
     ]
    }
   ],
   "source": [
    "try:\n",
    "    print( (z.loc['Down', 'Down']+ z.loc['Up','Up']) / (z.loc['Down', 'Down']+ z.loc['Up','Up'] + z.loc['Down','Up']) )\n",
    "except:\n",
    "    pass"
   ]
  },
  {
   "cell_type": "code",
   "execution_count": 37,
   "metadata": {},
   "outputs": [],
   "source": [
    "df1 = df1.assign(share=np.nan,money=np.nan)\n",
    "#df1"
   ]
  },
  {
   "cell_type": "code",
   "execution_count": 38,
   "metadata": {},
   "outputs": [],
   "source": [
    "diff_years = round((df1.iloc[-1,1] - df1.iloc[0,1])/np.timedelta64(1,'Y') + 0.5)   "
   ]
  },
  {
   "cell_type": "code",
   "execution_count": 39,
   "metadata": {},
   "outputs": [],
   "source": [
    "#Simulate Investment transaction buy on opening when predict UP and sell daily average when predict DOWN\n",
    "\n",
    "def buy_sell(open_price, sell_price,prediction, money, share):\n",
    "    if prediction == 1 and money != 0:\n",
    "        share =  money / open_price\n",
    "        money = 0\n",
    "    elif prediction == 0 and share != 0:\n",
    "        money = share * sell_price\n",
    "        share = 0\n",
    "    else: pass\n",
    "    return [money, share]\n",
    "money = invest\n",
    "share = 0\n",
    "for i in range(len(df1)):\n",
    "    [money, share] = buy_sell(df1.iloc[i,2],(df1.iloc[i,3]+df1.iloc[i,4])/2,df1.iloc[i,22], money, share)\n",
    "    df1.iloc[i,23] = share\n",
    "    df1.iloc[i,24] = money\n",
    "    "
   ]
  },
  {
   "cell_type": "code",
   "execution_count": 40,
   "metadata": {},
   "outputs": [],
   "source": [
    "#df1"
   ]
  },
  {
   "cell_type": "code",
   "execution_count": 41,
   "metadata": {},
   "outputs": [
    {
     "name": "stdout",
     "output_type": "stream",
     "text": [
      "\n",
      "If $100.00 was invested in [ FB ], and Just Hold and Not Trade for 10 years, the ROI = $800.71\n"
     ]
    }
   ],
   "source": [
    "print(\"\\nIf ${:,.2f} was invested in [ {} ], and Just Hold and Not Trade for {:,} years, the ROI = ${:,.2f}\".format( invest, stock.upper(), diff_years, invest/data.iloc[0, 0] * data.iloc[-1,0]))"
   ]
  },
  {
   "cell_type": "code",
   "execution_count": 42,
   "metadata": {},
   "outputs": [
    {
     "name": "stdout",
     "output_type": "stream",
     "text": [
      "\n",
      "If $100.00 was invested 10 years ago, buy and sell according this script's recommandation, the ROI = $871.63\n"
     ]
    }
   ],
   "source": [
    "print (\"\\nIf ${:,.2f} was invested {:2d} years ago, buy and sell according this script\\'s recommandation, the ROI = ${:,.2f}\".format(invest, diff_years, (money + (share * df1.iloc[-1,6]))))"
   ]
  },
  {
   "cell_type": "code",
   "execution_count": 43,
   "metadata": {
    "scrolled": false
   },
   "outputs": [
    {
     "name": "stdout",
     "output_type": "stream",
     "text": [
      "           Date Stock Market Performance Scribe Predection\n",
      "2263 2021-05-18                     Down              Down\n",
      "2264 2021-05-19                       Up                Up\n",
      "2265 2021-05-20                       Up              Down\n",
      "2266 2021-05-21                     Down              Down\n",
      "2267 2021-05-24                       Up                Up\n",
      "2268 2021-05-25                       Up              Down\n",
      "2269 2021-05-26                     Down              Down\n",
      "2270 2021-05-27                       Up                Up\n",
      "2271 2021-05-28                     Down              Down\n",
      "2272 2021-06-01                       Up                Up\n",
      "2273 2021-06-02                       Up                Up\n",
      "2274 2021-06-03                     Down                Up\n",
      "2275 2021-06-04                       Up              Down\n",
      "2276 2021-06-07                       Up              Down\n",
      "2277 2021-06-08                     Down              Down\n"
     ]
    }
   ],
   "source": [
    "df1_summary=df1[['Date', 'Up_Down','Prediction_indicator']].copy()\n",
    "df1_summary['Stock Market Performance'] = df1_summary['Up_Down'].apply(lambda x: 'Up' if x > 0 else 'Down')\n",
    "df1_summary['Scribe Predection'] = df1_summary['Prediction_indicator'].apply(lambda x: 'Up' if x > 0 else 'Down')\n",
    "print (df1_summary[['Date','Stock Market Performance','Scribe Predection']].tail(15))"
   ]
  },
  {
   "cell_type": "code",
   "execution_count": 44,
   "metadata": {},
   "outputs": [],
   "source": [
    "#df1"
   ]
  },
  {
   "cell_type": "code",
   "execution_count": 45,
   "metadata": {},
   "outputs": [],
   "source": [
    "#print(df1.iloc[:,[7,10,11,12,13,14,15,16,17,18,19,20,21,22]])"
   ]
  },
  {
   "cell_type": "code",
   "execution_count": 46,
   "metadata": {},
   "outputs": [
    {
     "name": "stdout",
     "output_type": "stream",
     "text": [
      "\n",
      "Today [ FB ] actually went down, --- base on yesterday's data, We Predicae [ FB ] should be going down.\n",
      "\n",
      "=========> Actual and Predication MATCH <=========\n"
     ]
    }
   ],
   "source": [
    "print (\"\\nToday [ %s ] actually went up,\" %stock.upper(), end = ' ') if (df1.iloc[-1,16] == 1) else print (\"\\nToday [ %s ] actually went down,\" %stock.upper(), end = \" \")\n",
    "print (\"--- base on yesterday\\'s data, \", end = '')\n",
    "print (\"We Predication [ %s ] should be going up.\" %stock.upper()) if (df1.iloc[-1,22] == 1) else print (\"We Predicae [ %s ] should be going down.\" %stock.upper())\n",
    "print (\"\\n=========> Actual and Predication MATCH <=========\") if (df1.iloc[-1,16] == df1.iloc[-1,22]) else print(\"\\n=========> Actual and Predication DO NOT match <=========\")"
   ]
  },
  {
   "cell_type": "code",
   "execution_count": 47,
   "metadata": {},
   "outputs": [],
   "source": [
    "x_tran= df1[df1.Date.dt.year < 2021][['const','Trend_Lag','SMA20-SMA50_Lag','Close-Open_Lag','High-Low_Lag','Volume_Lag']]\n",
    "y_train=df1[df1.Date.dt.year < 2021][\"Up_Down\"]\n",
    "x_test= df1[df1.Date.dt.year >= 2021][['const','Trend_Lag','SMA20-SMA50_Lag','Close-Open_Lag','High-Low_Lag','Volume_Lag']]\n",
    "y_test= df1[df1.Date.dt.year >= 2021][\"Up_Down\"]"
   ]
  },
  {
   "cell_type": "code",
   "execution_count": 48,
   "metadata": {},
   "outputs": [
    {
     "name": "stdout",
     "output_type": "stream",
     "text": [
      "Optimization terminated successfully.\n",
      "         Current function value: 0.689699\n",
      "         Iterations 4\n"
     ]
    }
   ],
   "source": [
    "model = sm.Logit(y_train,x_tran)\n",
    "result=model.fit()"
   ]
  },
  {
   "cell_type": "code",
   "execution_count": 49,
   "metadata": {},
   "outputs": [
    {
     "data": {
      "text/html": [
       "<table class=\"simpletable\">\n",
       "<caption>Logit Regression Results</caption>\n",
       "<tr>\n",
       "  <th>Dep. Variable:</th>        <td>Up_Down</td>     <th>  No. Observations:  </th>  <td>  2168</td> \n",
       "</tr>\n",
       "<tr>\n",
       "  <th>Model:</th>                 <td>Logit</td>      <th>  Df Residuals:      </th>  <td>  2162</td> \n",
       "</tr>\n",
       "<tr>\n",
       "  <th>Method:</th>                 <td>MLE</td>       <th>  Df Model:          </th>  <td>     5</td> \n",
       "</tr>\n",
       "<tr>\n",
       "  <th>Date:</th>            <td>Tue, 08 Jun 2021</td> <th>  Pseudo R-squ.:     </th> <td>0.002843</td>\n",
       "</tr>\n",
       "<tr>\n",
       "  <th>Time:</th>                <td>17:14:09</td>     <th>  Log-Likelihood:    </th> <td> -1495.3</td>\n",
       "</tr>\n",
       "<tr>\n",
       "  <th>converged:</th>             <td>True</td>       <th>  LL-Null:           </th> <td> -1499.5</td>\n",
       "</tr>\n",
       "<tr>\n",
       "  <th>Covariance Type:</th>     <td>nonrobust</td>    <th>  LLR p-value:       </th>  <td>0.1295</td> \n",
       "</tr>\n",
       "</table>\n",
       "<table class=\"simpletable\">\n",
       "<tr>\n",
       "         <td></td>            <th>coef</th>     <th>std err</th>      <th>z</th>      <th>P>|z|</th>  <th>[0.025</th>    <th>0.975]</th>  \n",
       "</tr>\n",
       "<tr>\n",
       "  <th>const</th>           <td>    0.3469</td> <td>    0.130</td> <td>    2.675</td> <td> 0.007</td> <td>    0.093</td> <td>    0.601</td>\n",
       "</tr>\n",
       "<tr>\n",
       "  <th>Trend_Lag</th>       <td>   -0.4072</td> <td>    0.191</td> <td>   -2.135</td> <td> 0.033</td> <td>   -0.781</td> <td>   -0.033</td>\n",
       "</tr>\n",
       "<tr>\n",
       "  <th>SMA20-SMA50_Lag</th> <td>   -0.0032</td> <td>    0.010</td> <td>   -0.310</td> <td> 0.757</td> <td>   -0.023</td> <td>    0.017</td>\n",
       "</tr>\n",
       "<tr>\n",
       "  <th>Close-Open_Lag</th>  <td>    0.0045</td> <td>    0.026</td> <td>    0.173</td> <td> 0.863</td> <td>   -0.047</td> <td>    0.056</td>\n",
       "</tr>\n",
       "<tr>\n",
       "  <th>High-Low_Lag</th>    <td>    0.0097</td> <td>    0.018</td> <td>    0.553</td> <td> 0.580</td> <td>   -0.025</td> <td>    0.044</td>\n",
       "</tr>\n",
       "<tr>\n",
       "  <th>Volume_Lag</th>      <td>   -1.5530</td> <td>    1.660</td> <td>   -0.936</td> <td> 0.349</td> <td>   -4.806</td> <td>    1.700</td>\n",
       "</tr>\n",
       "</table>"
      ],
      "text/plain": [
       "<class 'statsmodels.iolib.summary.Summary'>\n",
       "\"\"\"\n",
       "                           Logit Regression Results                           \n",
       "==============================================================================\n",
       "Dep. Variable:                Up_Down   No. Observations:                 2168\n",
       "Model:                          Logit   Df Residuals:                     2162\n",
       "Method:                           MLE   Df Model:                            5\n",
       "Date:                Tue, 08 Jun 2021   Pseudo R-squ.:                0.002843\n",
       "Time:                        17:14:09   Log-Likelihood:                -1495.3\n",
       "converged:                       True   LL-Null:                       -1499.5\n",
       "Covariance Type:            nonrobust   LLR p-value:                    0.1295\n",
       "===================================================================================\n",
       "                      coef    std err          z      P>|z|      [0.025      0.975]\n",
       "-----------------------------------------------------------------------------------\n",
       "const               0.3469      0.130      2.675      0.007       0.093       0.601\n",
       "Trend_Lag          -0.4072      0.191     -2.135      0.033      -0.781      -0.033\n",
       "SMA20-SMA50_Lag    -0.0032      0.010     -0.310      0.757      -0.023       0.017\n",
       "Close-Open_Lag      0.0045      0.026      0.173      0.863      -0.047       0.056\n",
       "High-Low_Lag        0.0097      0.018      0.553      0.580      -0.025       0.044\n",
       "Volume_Lag         -1.5530      1.660     -0.936      0.349      -4.806       1.700\n",
       "===================================================================================\n",
       "\"\"\""
      ]
     },
     "execution_count": 49,
     "metadata": {},
     "output_type": "execute_result"
    }
   ],
   "source": [
    "result.summary()"
   ]
  },
  {
   "cell_type": "code",
   "execution_count": 50,
   "metadata": {},
   "outputs": [
    {
     "data": {
      "text/html": [
       "<div>\n",
       "<style scoped>\n",
       "    .dataframe tbody tr th:only-of-type {\n",
       "        vertical-align: middle;\n",
       "    }\n",
       "\n",
       "    .dataframe tbody tr th {\n",
       "        vertical-align: top;\n",
       "    }\n",
       "\n",
       "    .dataframe thead th {\n",
       "        text-align: right;\n",
       "    }\n",
       "</style>\n",
       "<table border=\"1\" class=\"dataframe\">\n",
       "  <thead>\n",
       "    <tr style=\"text-align: right;\">\n",
       "      <th>Predict</th>\n",
       "      <th>Down</th>\n",
       "      <th>Up</th>\n",
       "    </tr>\n",
       "    <tr>\n",
       "      <th>Actual</th>\n",
       "      <th></th>\n",
       "      <th></th>\n",
       "    </tr>\n",
       "  </thead>\n",
       "  <tbody>\n",
       "    <tr>\n",
       "      <th>Down</th>\n",
       "      <td>16</td>\n",
       "      <td>37</td>\n",
       "    </tr>\n",
       "    <tr>\n",
       "      <th>Up</th>\n",
       "      <td>9</td>\n",
       "      <td>46</td>\n",
       "    </tr>\n",
       "  </tbody>\n",
       "</table>\n",
       "</div>"
      ],
      "text/plain": [
       "Predict  Down  Up\n",
       "Actual           \n",
       "Down       16  37\n",
       "Up          9  46"
      ]
     },
     "execution_count": 50,
     "metadata": {},
     "output_type": "execute_result"
    }
   ],
   "source": [
    "prediction = result.predict(x_test)\n",
    "confusion_matrix(y_test, prediction)"
   ]
  },
  {
   "cell_type": "code",
   "execution_count": 51,
   "metadata": {},
   "outputs": [],
   "source": [
    "z = confusion_matrix(y_test,prediction)"
   ]
  },
  {
   "cell_type": "code",
   "execution_count": 52,
   "metadata": {},
   "outputs": [
    {
     "name": "stdout",
     "output_type": "stream",
     "text": [
      "\n",
      "=========> Prediction Accuracy Rate: 0.5741 <=========\n",
      "\n"
     ]
    }
   ],
   "source": [
    "try:\n",
    "    print (\"\\n=========> Prediction Accuracy Rate: %.4f <=========\\n\"  %((z.loc['Down','Down'] + z.loc['Up','Up']) / len(x_test)))\n",
    "except:\n",
    "    print (\"\\n=========> Predication effectiveness is not avairable <=========\\n\" )"
   ]
  },
  {
   "cell_type": "code",
   "execution_count": 53,
   "metadata": {},
   "outputs": [
    {
     "name": "stdout",
     "output_type": "stream",
     "text": [
      "\n",
      "=========> Current trend = 0.5585,   [ FB ] will go up! <=========\n"
     ]
    }
   ],
   "source": [
    "prediction = result.predict(x_test)\n",
    "now_up_down  = result.predict([1.0, df1.iloc[-1, 10], df1.iloc[-1, 19], df1.iloc[-1, 12], df1.iloc[-1, 14], df1.iloc[-1, 7]])\n",
    "print (\"\\n=========> Current trend = %.4f,  \" %now_up_down, end=' ')\n",
    "print (\"[ %s ] will go up! <=========\" %stock.upper()) if now_up_down > cutoff else print (\"[ %s ] will go down! <=========\" %stock.upper()) "
   ]
  },
  {
   "cell_type": "code",
   "execution_count": 54,
   "metadata": {},
   "outputs": [],
   "source": [
    "#df1.to_csv('fb.csv', index = False)"
   ]
  }
 ],
 "metadata": {
  "kernelspec": {
   "display_name": "Python 3",
   "language": "python",
   "name": "python3"
  },
  "language_info": {
   "codemirror_mode": {
    "name": "ipython",
    "version": 3
   },
   "file_extension": ".py",
   "mimetype": "text/x-python",
   "name": "python",
   "nbconvert_exporter": "python",
   "pygments_lexer": "ipython3",
   "version": "3.8.5"
  }
 },
 "nbformat": 4,
 "nbformat_minor": 4
}
