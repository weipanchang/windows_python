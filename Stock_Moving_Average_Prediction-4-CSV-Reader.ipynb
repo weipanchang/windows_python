{
 "cells": [
  {
   "cell_type": "code",
   "execution_count": 1,
   "metadata": {},
   "outputs": [],
   "source": [
    "import yfinance as yf"
   ]
  },
  {
   "cell_type": "code",
   "execution_count": 2,
   "metadata": {},
   "outputs": [],
   "source": [
    "import numpy as np"
   ]
  },
  {
   "cell_type": "code",
   "execution_count": 3,
   "metadata": {},
   "outputs": [],
   "source": [
    "import pandas as pd"
   ]
  },
  {
   "cell_type": "code",
   "execution_count": 4,
   "metadata": {},
   "outputs": [],
   "source": [
    "import math"
   ]
  },
  {
   "cell_type": "code",
   "execution_count": 5,
   "metadata": {},
   "outputs": [],
   "source": [
    "#import numpy as geek  "
   ]
  },
  {
   "cell_type": "code",
   "execution_count": 6,
   "metadata": {},
   "outputs": [],
   "source": [
    "import matplotlib.pyplot as plt"
   ]
  },
  {
   "cell_type": "code",
   "execution_count": 7,
   "metadata": {},
   "outputs": [],
   "source": [
    "import pandas_datareader as web"
   ]
  },
  {
   "cell_type": "code",
   "execution_count": 8,
   "metadata": {},
   "outputs": [],
   "source": [
    "import statsmodels.api as sm"
   ]
  },
  {
   "cell_type": "code",
   "execution_count": 9,
   "metadata": {},
   "outputs": [],
   "source": [
    "import datetime\n",
    "from dateutil.relativedelta import relativedelta\n",
    "from datetime import date"
   ]
  },
  {
   "cell_type": "code",
   "execution_count": 10,
   "metadata": {},
   "outputs": [],
   "source": [
    "pd.set_option('mode.use_inf_as_na', True)"
   ]
  },
  {
   "cell_type": "code",
   "execution_count": 11,
   "metadata": {},
   "outputs": [],
   "source": [
    "stock = 'adbe'\n",
    "\n",
    "short_moving_average_span = 20\n",
    "long_moving_average_span = 50\n",
    "cutoff=0.50\n",
    "invest = 100\n",
    "years_of_data_to_process = 25\n",
    "period = 15"
   ]
  },
  {
   "cell_type": "code",
   "execution_count": 12,
   "metadata": {},
   "outputs": [],
   "source": [
    "currentDateTime = datetime.datetime.now()\n",
    "date = currentDateTime.date()\n",
    "#print (date)\n",
    "year = date.strftime(\"%Y\")\n",
    "start_year =  int(year) - years_of_data_to_process\n",
    "start = datetime.datetime(start_year, 1, 1)"
   ]
  },
  {
   "cell_type": "code",
   "execution_count": 13,
   "metadata": {},
   "outputs": [],
   "source": [
    "#data =  yf.download(stock, start=start)"
   ]
  },
  {
   "cell_type": "code",
   "execution_count": 14,
   "metadata": {},
   "outputs": [],
   "source": [
    "#data = web.DataReader(stock, data_source='yahoo', start = start, end = date)"
   ]
  },
  {
   "cell_type": "code",
   "execution_count": 15,
   "metadata": {},
   "outputs": [
    {
     "name": "stdout",
     "output_type": "stream",
     "text": [
      "<class 'pandas.core.frame.DataFrame'>\n",
      "RangeIndex: 5408 entries, 0 to 5407\n",
      "Data columns (total 7 columns):\n",
      " #   Column     Non-Null Count  Dtype  \n",
      "---  ------     --------------  -----  \n",
      " 0   Date       5408 non-null   object \n",
      " 1   Open       5408 non-null   float64\n",
      " 2   High       5408 non-null   float64\n",
      " 3   Low        5408 non-null   float64\n",
      " 4   Close      5408 non-null   float64\n",
      " 5   Adj Close  5408 non-null   float64\n",
      " 6   Volume     5408 non-null   int64  \n",
      "dtypes: float64(5), int64(1), object(1)\n",
      "memory usage: 295.9+ KB\n"
     ]
    }
   ],
   "source": [
    "data = pd.read_csv(\".\\\\data\\\\\" + stock.upper() + \".csv\")\n",
    "#data['Date'] = pd.to_datetime(data['Date']).dt.date\n",
    "data.info()"
   ]
  },
  {
   "cell_type": "code",
   "execution_count": 16,
   "metadata": {},
   "outputs": [],
   "source": [
    "df = data[\"Close\"].pct_change() * 100\n",
    "#df.describe()"
   ]
  },
  {
   "cell_type": "code",
   "execution_count": 17,
   "metadata": {},
   "outputs": [],
   "source": [
    "#df = df.rename(columns = \"Today_Change_%\")\n",
    "#df\n",
    "#df = df.reset_index()"
   ]
  },
  {
   "cell_type": "code",
   "execution_count": 18,
   "metadata": {},
   "outputs": [],
   "source": [
    "#df1 = pd.merge(data,df, on=\"Date\")\n",
    "data[\"Today_Change_%\"] = df\n",
    "data['Date'] = pd.to_datetime(data['Date'], format='%Y-%m-%d')\n",
    "df1 = data.copy()"
   ]
  },
  {
   "cell_type": "code",
   "execution_count": 19,
   "metadata": {},
   "outputs": [],
   "source": [
    "#df1.dropna(inplace= True)\n",
    "df1.insert(7,'Volume_Lag', None)\n",
    "df1.Volume = df1.Volume.pct_change() * 100\n",
    "#df1.Volume = df1.Volume *  geek.sign(df1.Volume.values)\n",
    "df1['Volume_Lag'] = df1.Volume.shift(1).values\n"
   ]
  },
  {
   "cell_type": "code",
   "execution_count": 20,
   "metadata": {},
   "outputs": [],
   "source": [
    "df1[\"Trend\"] =  (df1[\"Close\"] - df1[\"Low\"])/ ((df1[\"High\"] - df1[\"Low\"]))"
   ]
  },
  {
   "cell_type": "code",
   "execution_count": 21,
   "metadata": {},
   "outputs": [],
   "source": [
    "df1[\"Trend_Lag\"] = df1[\"Trend\"].shift(1)"
   ]
  },
  {
   "cell_type": "code",
   "execution_count": 22,
   "metadata": {},
   "outputs": [],
   "source": [
    "df1['Close-Open'] =  df1['Close'] - df1['Open']\n",
    "df1['Close-Open_Lag'] = df1['Close-Open'].shift(1)"
   ]
  },
  {
   "cell_type": "code",
   "execution_count": 23,
   "metadata": {},
   "outputs": [],
   "source": [
    "df1['High-Low'] =  df1['High'] - df1['Low']\n",
    "df1['High-Low_Lag'] = df1['High-Low'].shift(1)"
   ]
  },
  {
   "cell_type": "code",
   "execution_count": 24,
   "metadata": {},
   "outputs": [],
   "source": [
    "df1 = sm.add_constant(df1)\n",
    "df1[\"Up_Down\"] = [1 if (i > 0) else 0 for i in df1[\"Today_Change_%\"]]"
   ]
  },
  {
   "cell_type": "code",
   "execution_count": 25,
   "metadata": {},
   "outputs": [],
   "source": [
    "df1.dropna(inplace= True)"
   ]
  },
  {
   "cell_type": "code",
   "execution_count": 26,
   "metadata": {},
   "outputs": [],
   "source": [
    "df1['Short_MV_Avg_Span'] = df1['Close'].ewm(span=short_moving_average_span, adjust=False).mean()\n",
    "df1.dropna(inplace= True)\n",
    "#df1"
   ]
  },
  {
   "cell_type": "code",
   "execution_count": 27,
   "metadata": {},
   "outputs": [],
   "source": [
    "df1['Long_MV_Avg_Span'] = df1['Close'].ewm(span=long_moving_average_span, adjust=False).mean()\n",
    "df1.dropna(inplace= True)\n",
    "#df1"
   ]
  },
  {
   "cell_type": "code",
   "execution_count": 28,
   "metadata": {},
   "outputs": [],
   "source": [
    "df1['Short_MV_Avg_Span-Long_MV_Avg_Span'] = df1.Short_MV_Avg_Span - df1.Long_MV_Avg_Span\n",
    "df1['Short_MV_Avg_Span-Long_MV_Avg_Span_Lag'] = df1['Short_MV_Avg_Span-Long_MV_Avg_Span'].shift(1)\n",
    "#df1"
   ]
  },
  {
   "cell_type": "code",
   "execution_count": 29,
   "metadata": {},
   "outputs": [
    {
     "data": {
      "text/html": [
       "<div>\n",
       "<style scoped>\n",
       "    .dataframe tbody tr th:only-of-type {\n",
       "        vertical-align: middle;\n",
       "    }\n",
       "\n",
       "    .dataframe tbody tr th {\n",
       "        vertical-align: top;\n",
       "    }\n",
       "\n",
       "    .dataframe thead th {\n",
       "        text-align: right;\n",
       "    }\n",
       "</style>\n",
       "<table border=\"1\" class=\"dataframe\">\n",
       "  <thead>\n",
       "    <tr style=\"text-align: right;\">\n",
       "      <th></th>\n",
       "      <th>const</th>\n",
       "      <th>Date</th>\n",
       "      <th>Open</th>\n",
       "      <th>High</th>\n",
       "      <th>Low</th>\n",
       "      <th>Close</th>\n",
       "      <th>Adj Close</th>\n",
       "      <th>Volume</th>\n",
       "      <th>Volume_Lag</th>\n",
       "      <th>Today_Change_%</th>\n",
       "      <th>...</th>\n",
       "      <th>Trend_Lag</th>\n",
       "      <th>Close-Open</th>\n",
       "      <th>Close-Open_Lag</th>\n",
       "      <th>High-Low</th>\n",
       "      <th>High-Low_Lag</th>\n",
       "      <th>Up_Down</th>\n",
       "      <th>Short_MV_Avg_Span</th>\n",
       "      <th>Long_MV_Avg_Span</th>\n",
       "      <th>Short_MV_Avg_Span-Long_MV_Avg_Span</th>\n",
       "      <th>Short_MV_Avg_Span-Long_MV_Avg_Span_Lag</th>\n",
       "    </tr>\n",
       "  </thead>\n",
       "  <tbody>\n",
       "    <tr>\n",
       "      <th>5398</th>\n",
       "      <td>1.0</td>\n",
       "      <td>2021-06-25</td>\n",
       "      <td>578.640015</td>\n",
       "      <td>582.000000</td>\n",
       "      <td>577.059998</td>\n",
       "      <td>579.659973</td>\n",
       "      <td>579.659973</td>\n",
       "      <td>16.267030</td>\n",
       "      <td>13.502814</td>\n",
       "      <td>0.242099</td>\n",
       "      <td>...</td>\n",
       "      <td>0.549088</td>\n",
       "      <td>1.019958</td>\n",
       "      <td>2.359986</td>\n",
       "      <td>4.940002</td>\n",
       "      <td>6.009949</td>\n",
       "      <td>1</td>\n",
       "      <td>544.996109</td>\n",
       "      <td>519.611684</td>\n",
       "      <td>25.384426</td>\n",
       "      <td>24.186548</td>\n",
       "    </tr>\n",
       "    <tr>\n",
       "      <th>5399</th>\n",
       "      <td>1.0</td>\n",
       "      <td>2021-06-28</td>\n",
       "      <td>582.710022</td>\n",
       "      <td>589.409973</td>\n",
       "      <td>581.000000</td>\n",
       "      <td>588.799988</td>\n",
       "      <td>588.799988</td>\n",
       "      <td>-19.662526</td>\n",
       "      <td>16.267030</td>\n",
       "      <td>1.576789</td>\n",
       "      <td>...</td>\n",
       "      <td>0.526311</td>\n",
       "      <td>6.089966</td>\n",
       "      <td>1.019958</td>\n",
       "      <td>8.409973</td>\n",
       "      <td>4.940002</td>\n",
       "      <td>1</td>\n",
       "      <td>549.167907</td>\n",
       "      <td>522.324951</td>\n",
       "      <td>26.842957</td>\n",
       "      <td>25.384426</td>\n",
       "    </tr>\n",
       "    <tr>\n",
       "      <th>5400</th>\n",
       "      <td>1.0</td>\n",
       "      <td>2021-06-29</td>\n",
       "      <td>586.780029</td>\n",
       "      <td>591.340027</td>\n",
       "      <td>583.900024</td>\n",
       "      <td>590.750000</td>\n",
       "      <td>590.750000</td>\n",
       "      <td>-29.708285</td>\n",
       "      <td>-19.662526</td>\n",
       "      <td>0.331184</td>\n",
       "      <td>...</td>\n",
       "      <td>0.927469</td>\n",
       "      <td>3.969971</td>\n",
       "      <td>6.089966</td>\n",
       "      <td>7.440003</td>\n",
       "      <td>8.409973</td>\n",
       "      <td>1</td>\n",
       "      <td>553.128107</td>\n",
       "      <td>525.008286</td>\n",
       "      <td>28.119821</td>\n",
       "      <td>26.842957</td>\n",
       "    </tr>\n",
       "    <tr>\n",
       "      <th>5401</th>\n",
       "      <td>1.0</td>\n",
       "      <td>2021-06-30</td>\n",
       "      <td>590.750000</td>\n",
       "      <td>592.239990</td>\n",
       "      <td>585.000000</td>\n",
       "      <td>585.640015</td>\n",
       "      <td>585.640015</td>\n",
       "      <td>41.450863</td>\n",
       "      <td>-29.708285</td>\n",
       "      <td>-0.865000</td>\n",
       "      <td>...</td>\n",
       "      <td>0.920695</td>\n",
       "      <td>-5.109985</td>\n",
       "      <td>3.969971</td>\n",
       "      <td>7.239990</td>\n",
       "      <td>7.440003</td>\n",
       "      <td>0</td>\n",
       "      <td>556.224479</td>\n",
       "      <td>527.386001</td>\n",
       "      <td>28.838478</td>\n",
       "      <td>28.119821</td>\n",
       "    </tr>\n",
       "    <tr>\n",
       "      <th>5402</th>\n",
       "      <td>1.0</td>\n",
       "      <td>2021-07-01</td>\n",
       "      <td>583.330017</td>\n",
       "      <td>587.780029</td>\n",
       "      <td>581.349976</td>\n",
       "      <td>584.729980</td>\n",
       "      <td>584.729980</td>\n",
       "      <td>-3.409224</td>\n",
       "      <td>41.450863</td>\n",
       "      <td>-0.155392</td>\n",
       "      <td>...</td>\n",
       "      <td>0.088400</td>\n",
       "      <td>1.399963</td>\n",
       "      <td>-5.109985</td>\n",
       "      <td>6.430053</td>\n",
       "      <td>7.239990</td>\n",
       "      <td>0</td>\n",
       "      <td>558.939289</td>\n",
       "      <td>529.634784</td>\n",
       "      <td>29.304504</td>\n",
       "      <td>28.838478</td>\n",
       "    </tr>\n",
       "    <tr>\n",
       "      <th>5403</th>\n",
       "      <td>1.0</td>\n",
       "      <td>2021-07-02</td>\n",
       "      <td>588.669983</td>\n",
       "      <td>594.080017</td>\n",
       "      <td>587.960022</td>\n",
       "      <td>593.070007</td>\n",
       "      <td>593.070007</td>\n",
       "      <td>5.983841</td>\n",
       "      <td>-3.409224</td>\n",
       "      <td>1.426304</td>\n",
       "      <td>...</td>\n",
       "      <td>0.525657</td>\n",
       "      <td>4.400024</td>\n",
       "      <td>1.399963</td>\n",
       "      <td>6.119995</td>\n",
       "      <td>6.430053</td>\n",
       "      <td>1</td>\n",
       "      <td>562.189833</td>\n",
       "      <td>532.122440</td>\n",
       "      <td>30.067393</td>\n",
       "      <td>29.304504</td>\n",
       "    </tr>\n",
       "    <tr>\n",
       "      <th>5404</th>\n",
       "      <td>1.0</td>\n",
       "      <td>2021-07-06</td>\n",
       "      <td>595.869995</td>\n",
       "      <td>600.659973</td>\n",
       "      <td>592.479980</td>\n",
       "      <td>596.900024</td>\n",
       "      <td>596.900024</td>\n",
       "      <td>-4.998280</td>\n",
       "      <td>5.983841</td>\n",
       "      <td>0.645795</td>\n",
       "      <td>...</td>\n",
       "      <td>0.834966</td>\n",
       "      <td>1.030029</td>\n",
       "      <td>4.400024</td>\n",
       "      <td>8.179993</td>\n",
       "      <td>6.119995</td>\n",
       "      <td>1</td>\n",
       "      <td>565.495566</td>\n",
       "      <td>534.662737</td>\n",
       "      <td>30.832828</td>\n",
       "      <td>30.067393</td>\n",
       "    </tr>\n",
       "    <tr>\n",
       "      <th>5405</th>\n",
       "      <td>1.0</td>\n",
       "      <td>2021-07-07</td>\n",
       "      <td>600.000000</td>\n",
       "      <td>607.669983</td>\n",
       "      <td>597.400024</td>\n",
       "      <td>605.770020</td>\n",
       "      <td>605.770020</td>\n",
       "      <td>22.028478</td>\n",
       "      <td>-4.998280</td>\n",
       "      <td>1.486010</td>\n",
       "      <td>...</td>\n",
       "      <td>0.540348</td>\n",
       "      <td>5.770020</td>\n",
       "      <td>1.030029</td>\n",
       "      <td>10.269959</td>\n",
       "      <td>8.179993</td>\n",
       "      <td>1</td>\n",
       "      <td>569.331228</td>\n",
       "      <td>537.451258</td>\n",
       "      <td>31.879970</td>\n",
       "      <td>30.832828</td>\n",
       "    </tr>\n",
       "    <tr>\n",
       "      <th>5406</th>\n",
       "      <td>1.0</td>\n",
       "      <td>2021-07-08</td>\n",
       "      <td>595.640015</td>\n",
       "      <td>607.299988</td>\n",
       "      <td>593.330017</td>\n",
       "      <td>605.950012</td>\n",
       "      <td>605.950012</td>\n",
       "      <td>-8.697157</td>\n",
       "      <td>22.028478</td>\n",
       "      <td>0.029713</td>\n",
       "      <td>...</td>\n",
       "      <td>0.814998</td>\n",
       "      <td>10.309997</td>\n",
       "      <td>5.770020</td>\n",
       "      <td>13.969971</td>\n",
       "      <td>10.269959</td>\n",
       "      <td>1</td>\n",
       "      <td>572.818731</td>\n",
       "      <td>540.137484</td>\n",
       "      <td>32.681247</td>\n",
       "      <td>31.879970</td>\n",
       "    </tr>\n",
       "    <tr>\n",
       "      <th>5407</th>\n",
       "      <td>1.0</td>\n",
       "      <td>2021-07-09</td>\n",
       "      <td>601.429993</td>\n",
       "      <td>605.950012</td>\n",
       "      <td>597.440002</td>\n",
       "      <td>604.500000</td>\n",
       "      <td>604.500000</td>\n",
       "      <td>16.132351</td>\n",
       "      <td>-8.697157</td>\n",
       "      <td>-0.239296</td>\n",
       "      <td>...</td>\n",
       "      <td>0.903366</td>\n",
       "      <td>3.070007</td>\n",
       "      <td>10.309997</td>\n",
       "      <td>8.510010</td>\n",
       "      <td>13.969971</td>\n",
       "      <td>0</td>\n",
       "      <td>575.835995</td>\n",
       "      <td>542.661504</td>\n",
       "      <td>33.174491</td>\n",
       "      <td>32.681247</td>\n",
       "    </tr>\n",
       "  </tbody>\n",
       "</table>\n",
       "<p>10 rows × 21 columns</p>\n",
       "</div>"
      ],
      "text/plain": [
       "      const       Date        Open        High         Low       Close  \\\n",
       "5398    1.0 2021-06-25  578.640015  582.000000  577.059998  579.659973   \n",
       "5399    1.0 2021-06-28  582.710022  589.409973  581.000000  588.799988   \n",
       "5400    1.0 2021-06-29  586.780029  591.340027  583.900024  590.750000   \n",
       "5401    1.0 2021-06-30  590.750000  592.239990  585.000000  585.640015   \n",
       "5402    1.0 2021-07-01  583.330017  587.780029  581.349976  584.729980   \n",
       "5403    1.0 2021-07-02  588.669983  594.080017  587.960022  593.070007   \n",
       "5404    1.0 2021-07-06  595.869995  600.659973  592.479980  596.900024   \n",
       "5405    1.0 2021-07-07  600.000000  607.669983  597.400024  605.770020   \n",
       "5406    1.0 2021-07-08  595.640015  607.299988  593.330017  605.950012   \n",
       "5407    1.0 2021-07-09  601.429993  605.950012  597.440002  604.500000   \n",
       "\n",
       "       Adj Close     Volume  Volume_Lag  Today_Change_%  ...  Trend_Lag  \\\n",
       "5398  579.659973  16.267030   13.502814        0.242099  ...   0.549088   \n",
       "5399  588.799988 -19.662526   16.267030        1.576789  ...   0.526311   \n",
       "5400  590.750000 -29.708285  -19.662526        0.331184  ...   0.927469   \n",
       "5401  585.640015  41.450863  -29.708285       -0.865000  ...   0.920695   \n",
       "5402  584.729980  -3.409224   41.450863       -0.155392  ...   0.088400   \n",
       "5403  593.070007   5.983841   -3.409224        1.426304  ...   0.525657   \n",
       "5404  596.900024  -4.998280    5.983841        0.645795  ...   0.834966   \n",
       "5405  605.770020  22.028478   -4.998280        1.486010  ...   0.540348   \n",
       "5406  605.950012  -8.697157   22.028478        0.029713  ...   0.814998   \n",
       "5407  604.500000  16.132351   -8.697157       -0.239296  ...   0.903366   \n",
       "\n",
       "      Close-Open  Close-Open_Lag   High-Low  High-Low_Lag  Up_Down  \\\n",
       "5398    1.019958        2.359986   4.940002      6.009949        1   \n",
       "5399    6.089966        1.019958   8.409973      4.940002        1   \n",
       "5400    3.969971        6.089966   7.440003      8.409973        1   \n",
       "5401   -5.109985        3.969971   7.239990      7.440003        0   \n",
       "5402    1.399963       -5.109985   6.430053      7.239990        0   \n",
       "5403    4.400024        1.399963   6.119995      6.430053        1   \n",
       "5404    1.030029        4.400024   8.179993      6.119995        1   \n",
       "5405    5.770020        1.030029  10.269959      8.179993        1   \n",
       "5406   10.309997        5.770020  13.969971     10.269959        1   \n",
       "5407    3.070007       10.309997   8.510010     13.969971        0   \n",
       "\n",
       "      Short_MV_Avg_Span  Long_MV_Avg_Span  Short_MV_Avg_Span-Long_MV_Avg_Span  \\\n",
       "5398         544.996109        519.611684                           25.384426   \n",
       "5399         549.167907        522.324951                           26.842957   \n",
       "5400         553.128107        525.008286                           28.119821   \n",
       "5401         556.224479        527.386001                           28.838478   \n",
       "5402         558.939289        529.634784                           29.304504   \n",
       "5403         562.189833        532.122440                           30.067393   \n",
       "5404         565.495566        534.662737                           30.832828   \n",
       "5405         569.331228        537.451258                           31.879970   \n",
       "5406         572.818731        540.137484                           32.681247   \n",
       "5407         575.835995        542.661504                           33.174491   \n",
       "\n",
       "      Short_MV_Avg_Span-Long_MV_Avg_Span_Lag  \n",
       "5398                               24.186548  \n",
       "5399                               25.384426  \n",
       "5400                               26.842957  \n",
       "5401                               28.119821  \n",
       "5402                               28.838478  \n",
       "5403                               29.304504  \n",
       "5404                               30.067393  \n",
       "5405                               30.832828  \n",
       "5406                               31.879970  \n",
       "5407                               32.681247  \n",
       "\n",
       "[10 rows x 21 columns]"
      ]
     },
     "execution_count": 29,
     "metadata": {},
     "output_type": "execute_result"
    }
   ],
   "source": [
    "df1.dropna(inplace= True)\n",
    "df1.tail(10)"
   ]
  },
  {
   "cell_type": "code",
   "execution_count": 30,
   "metadata": {},
   "outputs": [],
   "source": [
    "#X = df1[['const','Trend_Lag','Short_MV_Avg_Span-Long_MV_Avg_Span_Lag','Close-Open_Lag','High-Low_Lag','Volume_Lag']]"
   ]
  },
  {
   "cell_type": "code",
   "execution_count": 31,
   "metadata": {},
   "outputs": [],
   "source": [
    "#df1['Close'][-150:].plot(figsize=(16,6))\n",
    "#df1['Short_MV_Avg_Span'][-150:].plot(figsize=(16,6))\n",
    "#df1['Long_MV_Avg_Span'][-150:].plot(figsize=(16,6))\n",
    "#plt.xlim([len(df1)-100, len(df1)])\n",
    "#plt.xlabel('Index', fontsize=18)\n",
    "#plt.ylabel('Close Price USD ($)', fontsize =18)\n",
    "#plt.legend(['Close', str(short_moving_average_span) + ' Days Moving Average', str(long_moving_average_span) + ' days Moving Average'], loc = 'lower left')\n",
    "#plt.title(\"Moving Average for \" + stock.upper(), fontsize = 16)\n",
    "#plt.show\n",
    "#plt.close"
   ]
  },
  {
   "cell_type": "code",
   "execution_count": 32,
   "metadata": {},
   "outputs": [
    {
     "data": {
      "text/plain": [
       "<function matplotlib.pyplot.close(fig=None)>"
      ]
     },
     "execution_count": 32,
     "metadata": {},
     "output_type": "execute_result"
    },
    {
     "data": {
      "image/png": "[encoded data removed]",
      "text/plain": [
       "<Figure size 1152x432 with 2 Axes>"
      ]
     },
     "metadata": {
      "needs_background": "light"
     },
     "output_type": "display_data"
    }
   ],
   "source": [
    "fig, ax1 = plt.subplots()\n",
    "ax2 =  ax1.twinx()\n",
    "df1['Close'][-150:].plot(x = 'Index', color='tab:blue', figsize=(16,6), label = 'Close Price USA ($)', fontsize = 12, ax = ax1)\n",
    "df1['Short_MV_Avg_Span'][-150:].plot(x = 'Index', color='tab:red', figsize=(16,6), label = str(short_moving_average_span) + ' Days Moving Average', fontsize = 12, ax = ax1)\n",
    "df1['Long_MV_Avg_Span'][-150:].plot(x = 'Index', color='tab:green', figsize=(16,6), label = str(long_moving_average_span) + ' days Moving Average', fontsize = 12, ax = ax1)\n",
    "df1['Short_MV_Avg_Span-Long_MV_Avg_Span_Lag'][-150:].plot(x = 'Index', color='tab:brown', figsize=(16,6), label = 'Signal_line', fontsize = 12, ax = ax2)\n",
    "#df1['RSI'][-170:].plot(x = 'Index', color='tab:red', figsize=(16,6), label = 'Relative Strength Index', fontsize = 12,ax = ax1)\n",
    "#df1['Close'][-150:].plot(x = 'Index',color = 'tab:blue', figsize=(16,6),  label = 'Close Price',fontsize = 12,ax = ax2)\n",
    "#df1['Close'][-100:].plot(figsize=(16,6))\n",
    "plt.xlim([len(df1)-120, len(df1)])\n",
    "ax1.set_ylabel('Close Price USD ($)', fontsize = 18)\n",
    "ax2.set_ylabel('Signal_line', fontsize = 18)\n",
    "#df1.xlabel('Index', fontsize=18)\n",
    "#df1.ylabel('Relative Strength Index', fontsize =18)\n",
    "ax2.grid(color='tab:brown')\n",
    "ax1.set_title(\"Moving Average & Signal Line for \" + stock.upper(), fontsize = 16)\n",
    "ax1.legend(loc=2, fontsize = 16)\n",
    "ax2.legend(loc=4,fontsize = 16)\n",
    "plt.show\n",
    "plt.close"
   ]
  },
  {
   "cell_type": "code",
   "execution_count": 33,
   "metadata": {},
   "outputs": [],
   "source": [
    "df1['Signal_Line'] = df1['Short_MV_Avg_Span-Long_MV_Avg_Span_Lag'].ewm(span = period, adjust=False ).mean()\n",
    "#column_list = list(df1)\n",
    "#print (column_list)\n",
    "#df1=df1[['const', 'Date', 'Open', 'High', 'Low', 'Close', 'Adj Close', 'Volume', 'Volume_Lag', 'Today_Change_%', 'Trend', 'Trend_Lag', 'Close-Open', 'Close-Open_Lag', 'High-Low', 'High-Low_Lag', 'Up_Down', 'Short_MV_Avg_Span', 'Long_MV_Avg_Span', 'Short_MV_Avg_Span-Long_MV_Avg_Span', 'Short_MV_Avg_Span-Long_MV_Avg_Span_Lag', 'Prediction_Caculated', 'Prediction_indicator', 'share', 'money', 'Up', 'Down', 'Signal_Line']]\n",
    "df1['Signal_Line_Lag'] =  df1['Signal_Line'].shift(1)\n",
    "df1.dropna(inplace= True)\n",
    "#df1.info()"
   ]
  },
  {
   "cell_type": "code",
   "execution_count": 34,
   "metadata": {},
   "outputs": [],
   "source": [
    "X = df1[['const','Trend_Lag','Signal_Line_Lag','Volume_Lag']]"
   ]
  },
  {
   "cell_type": "code",
   "execution_count": 35,
   "metadata": {},
   "outputs": [],
   "source": [
    "y = df1[\"Up_Down\"].values"
   ]
  },
  {
   "cell_type": "code",
   "execution_count": 36,
   "metadata": {},
   "outputs": [],
   "source": [
    "model = sm.Logit(y,X)"
   ]
  },
  {
   "cell_type": "code",
   "execution_count": 37,
   "metadata": {},
   "outputs": [
    {
     "name": "stdout",
     "output_type": "stream",
     "text": [
      "Optimization terminated successfully.\n",
      "         Current function value: 0.690088\n",
      "         Iterations 4\n"
     ]
    }
   ],
   "source": [
    "result =  model.fit()"
   ]
  },
  {
   "cell_type": "code",
   "execution_count": 38,
   "metadata": {},
   "outputs": [
    {
     "data": {
      "text/html": [
       "<table class=\"simpletable\">\n",
       "<caption>Logit Regression Results</caption>\n",
       "<tr>\n",
       "  <th>Dep. Variable:</th>           <td>y</td>        <th>  No. Observations:  </th>  <td>  5404</td>  \n",
       "</tr>\n",
       "<tr>\n",
       "  <th>Model:</th>                 <td>Logit</td>      <th>  Df Residuals:      </th>  <td>  5400</td>  \n",
       "</tr>\n",
       "<tr>\n",
       "  <th>Method:</th>                 <td>MLE</td>       <th>  Df Model:          </th>  <td>     3</td>  \n",
       "</tr>\n",
       "<tr>\n",
       "  <th>Date:</th>            <td>Sun, 11 Jul 2021</td> <th>  Pseudo R-squ.:     </th> <td>0.002923</td> \n",
       "</tr>\n",
       "<tr>\n",
       "  <th>Time:</th>                <td>13:11:14</td>     <th>  Log-Likelihood:    </th> <td> -3729.2</td> \n",
       "</tr>\n",
       "<tr>\n",
       "  <th>converged:</th>             <td>True</td>       <th>  LL-Null:           </th> <td> -3740.2</td> \n",
       "</tr>\n",
       "<tr>\n",
       "  <th>Covariance Type:</th>     <td>nonrobust</td>    <th>  LLR p-value:       </th> <td>6.958e-05</td>\n",
       "</tr>\n",
       "</table>\n",
       "<table class=\"simpletable\">\n",
       "<tr>\n",
       "         <td></td>            <th>coef</th>     <th>std err</th>      <th>z</th>      <th>P>|z|</th>  <th>[0.025</th>    <th>0.975]</th>  \n",
       "</tr>\n",
       "<tr>\n",
       "  <th>const</th>           <td>    0.3088</td> <td>    0.056</td> <td>    5.509</td> <td> 0.000</td> <td>    0.199</td> <td>    0.419</td>\n",
       "</tr>\n",
       "<tr>\n",
       "  <th>Trend_Lag</th>       <td>   -0.4159</td> <td>    0.090</td> <td>   -4.617</td> <td> 0.000</td> <td>   -0.592</td> <td>   -0.239</td>\n",
       "</tr>\n",
       "<tr>\n",
       "  <th>Signal_Line_Lag</th> <td>    0.0044</td> <td>    0.007</td> <td>    0.637</td> <td> 0.524</td> <td>   -0.009</td> <td>    0.018</td>\n",
       "</tr>\n",
       "<tr>\n",
       "  <th>Volume_Lag</th>      <td>   -0.0003</td> <td>    0.001</td> <td>   -0.637</td> <td> 0.524</td> <td>   -0.001</td> <td>    0.001</td>\n",
       "</tr>\n",
       "</table>"
      ],
      "text/plain": [
       "<class 'statsmodels.iolib.summary.Summary'>\n",
       "\"\"\"\n",
       "                           Logit Regression Results                           \n",
       "==============================================================================\n",
       "Dep. Variable:                      y   No. Observations:                 5404\n",
       "Model:                          Logit   Df Residuals:                     5400\n",
       "Method:                           MLE   Df Model:                            3\n",
       "Date:                Sun, 11 Jul 2021   Pseudo R-squ.:                0.002923\n",
       "Time:                        13:11:14   Log-Likelihood:                -3729.2\n",
       "converged:                       True   LL-Null:                       -3740.2\n",
       "Covariance Type:            nonrobust   LLR p-value:                 6.958e-05\n",
       "===================================================================================\n",
       "                      coef    std err          z      P>|z|      [0.025      0.975]\n",
       "-----------------------------------------------------------------------------------\n",
       "const               0.3088      0.056      5.509      0.000       0.199       0.419\n",
       "Trend_Lag          -0.4159      0.090     -4.617      0.000      -0.592      -0.239\n",
       "Signal_Line_Lag     0.0044      0.007      0.637      0.524      -0.009       0.018\n",
       "Volume_Lag         -0.0003      0.001     -0.637      0.524      -0.001       0.001\n",
       "===================================================================================\n",
       "\"\"\""
      ]
     },
     "execution_count": 38,
     "metadata": {},
     "output_type": "execute_result"
    }
   ],
   "source": [
    "result.summary()"
   ]
  },
  {
   "cell_type": "code",
   "execution_count": 39,
   "metadata": {},
   "outputs": [],
   "source": [
    "prediction = result.predict(X)"
   ]
  },
  {
   "cell_type": "code",
   "execution_count": 40,
   "metadata": {},
   "outputs": [],
   "source": [
    "df1['Prediction_Caculated'] = pd.array(prediction)\n",
    "df1['Prediction_indicator'] = pd.array([1 if i > cutoff else 0 for i in prediction])\n",
    "#print (df1.iloc[-1,18],df1.iloc[-1,19],df1.iloc[-1,20])"
   ]
  },
  {
   "cell_type": "code",
   "execution_count": 41,
   "metadata": {},
   "outputs": [],
   "source": [
    "#print(df1.loc[[i for i in range(len(df1)-20, len(df1)+2)],['Trend_Lag', 'Short_MV_Avg_Span-Long_MV_Avg_Span_Lag', 'Up_Down', 'Prediction_indicator']])"
   ]
  },
  {
   "cell_type": "code",
   "execution_count": 42,
   "metadata": {},
   "outputs": [],
   "source": [
    "y = df1[\"Up_Down\"].values"
   ]
  },
  {
   "cell_type": "code",
   "execution_count": 43,
   "metadata": {},
   "outputs": [],
   "source": [
    "def confusion_matrix(act,pred):\n",
    "    predtrans = ['Up' if i > cutoff else 'Down' for i in pred]\n",
    "    actuals = ['Up' if i > 0 else 'Down' for i in act]\n",
    "    confusion_matrix = pd.crosstab(pd.Series(actuals),\n",
    "                                   pd.Series(predtrans),\n",
    "                                   rownames = [\"Actual\"],\n",
    "                                   colnames = [\"Predict\"]\n",
    "                                  )\n",
    "    return confusion_matrix"
   ]
  },
  {
   "cell_type": "code",
   "execution_count": 44,
   "metadata": {},
   "outputs": [
    {
     "data": {
      "text/html": [
       "<div>\n",
       "<style scoped>\n",
       "    .dataframe tbody tr th:only-of-type {\n",
       "        vertical-align: middle;\n",
       "    }\n",
       "\n",
       "    .dataframe tbody tr th {\n",
       "        vertical-align: top;\n",
       "    }\n",
       "\n",
       "    .dataframe thead th {\n",
       "        text-align: right;\n",
       "    }\n",
       "</style>\n",
       "<table border=\"1\" class=\"dataframe\">\n",
       "  <thead>\n",
       "    <tr style=\"text-align: right;\">\n",
       "      <th>Predict</th>\n",
       "      <th>Down</th>\n",
       "      <th>Up</th>\n",
       "    </tr>\n",
       "    <tr>\n",
       "      <th>Actual</th>\n",
       "      <th></th>\n",
       "      <th></th>\n",
       "    </tr>\n",
       "  </thead>\n",
       "  <tbody>\n",
       "    <tr>\n",
       "      <th>Down</th>\n",
       "      <td>854</td>\n",
       "      <td>1725</td>\n",
       "    </tr>\n",
       "    <tr>\n",
       "      <th>Up</th>\n",
       "      <td>802</td>\n",
       "      <td>2023</td>\n",
       "    </tr>\n",
       "  </tbody>\n",
       "</table>\n",
       "</div>"
      ],
      "text/plain": [
       "Predict  Down    Up\n",
       "Actual             \n",
       "Down      854  1725\n",
       "Up        802  2023"
      ]
     },
     "execution_count": 44,
     "metadata": {},
     "output_type": "execute_result"
    }
   ],
   "source": [
    "confusion_matrix(y,prediction)"
   ]
  },
  {
   "cell_type": "code",
   "execution_count": 45,
   "metadata": {},
   "outputs": [
    {
     "name": "stdout",
     "output_type": "stream",
     "text": [
      "0.5323834196891192\n"
     ]
    }
   ],
   "source": [
    "z = confusion_matrix(y,prediction)\n",
    "try:\n",
    "    print((z.loc['Down','Down'] + z.loc['Up','Up']) / len(df1))\n",
    "except:\n",
    "    pass"
   ]
  },
  {
   "cell_type": "code",
   "execution_count": 46,
   "metadata": {},
   "outputs": [
    {
     "name": "stdout",
     "output_type": "stream",
     "text": [
      "0.6251629726205997\n"
     ]
    }
   ],
   "source": [
    "try:\n",
    "    print( (z.loc['Down', 'Down']+ z.loc['Up','Up']) / (z.loc['Down', 'Down']+ z.loc['Up','Up'] + z.loc['Down','Up']) )\n",
    "except:\n",
    "    pass"
   ]
  },
  {
   "cell_type": "code",
   "execution_count": 47,
   "metadata": {},
   "outputs": [],
   "source": [
    "df1 = df1.assign(share=np.nan,money=np.nan)\n",
    "#df1"
   ]
  },
  {
   "cell_type": "code",
   "execution_count": 48,
   "metadata": {},
   "outputs": [],
   "source": [
    "diff_years = round((df1.iloc[-1,1] - df1.iloc[0,1])/np.timedelta64(1,'Y') + 0.5)   "
   ]
  },
  {
   "cell_type": "code",
   "execution_count": 49,
   "metadata": {},
   "outputs": [],
   "source": [
    "#df1.info()\n",
    "#column_list = list(df1)\n",
    "#print (column_list)\n",
    "df1['Signal_Line_Lag'] = df1['Signal_Line'].shift(1)\n",
    "df1=df1[['const', 'Date', 'Open', 'High', 'Low', 'Close', 'Adj Close', 'Volume', 'Volume_Lag', 'Today_Change_%', 'Trend', 'Trend_Lag', 'Close-Open', 'Close-Open_Lag', 'High-Low', 'High-Low_Lag', 'Up_Down', 'Short_MV_Avg_Span', 'Long_MV_Avg_Span', 'Short_MV_Avg_Span-Long_MV_Avg_Span', 'Short_MV_Avg_Span-Long_MV_Avg_Span_Lag', 'Prediction_Caculated', 'Prediction_indicator', 'share', 'money', 'Signal_Line', 'Signal_Line_Lag']]\n",
    "#df1.info()"
   ]
  },
  {
   "cell_type": "code",
   "execution_count": 50,
   "metadata": {},
   "outputs": [],
   "source": [
    "#Simulate Investment transaction buy on opening when predict UP and sell daily average when predict DOWN\n",
    "\n",
    "def buy_sell(open_price, sell_price,prediction, money, share):\n",
    "    if prediction == 1 and money != 0:\n",
    "        share =  money / open_price\n",
    "        money = 0\n",
    "    elif prediction == 0 and share != 0:\n",
    "        money = share * sell_price\n",
    "        share = 0\n",
    "    else: pass\n",
    "    return [money, share]\n",
    "money = invest\n",
    "share = 0\n",
    "for i in range(len(df1)):\n",
    "    [money, share] = buy_sell(df1.iloc[i,2],(df1.iloc[i,3]+df1.iloc[i,4])/2,df1.iloc[i,22], money, share)\n",
    "    df1.iloc[i,23] = share\n",
    "    df1.iloc[i,24] = money"
   ]
  },
  {
   "cell_type": "code",
   "execution_count": 51,
   "metadata": {},
   "outputs": [],
   "source": [
    "#df1.info()"
   ]
  },
  {
   "cell_type": "code",
   "execution_count": 52,
   "metadata": {},
   "outputs": [],
   "source": [
    "df1 = df1.assign(Up=np.nan,Down=np.nan)\n",
    "#df1.info()"
   ]
  },
  {
   "cell_type": "code",
   "execution_count": 53,
   "metadata": {},
   "outputs": [],
   "source": [
    "for i in range(len(df1)):\n",
    "    if df1.iloc[i,9] <= 0:\n",
    "        df1.iloc[i,27] = 0\n",
    "        df1.iloc[i,28] = df1.iloc[i,9]\n",
    "    else:\n",
    "        df1.iloc[i,28] = 0\n",
    "        df1.iloc[i,27] = df1.iloc[i,9]\n",
    "\n",
    "AVG_Gain = df1.Up.ewm(span=period, adjust=False).mean()\n",
    "AVG_Loss = df1.Down.ewm(span=period, adjust=False).mean().abs()"
   ]
  },
  {
   "cell_type": "code",
   "execution_count": 54,
   "metadata": {},
   "outputs": [],
   "source": [
    "RS = AVG_Gain /AVG_Loss\n",
    "RSI = 100.0 - (100.0 / (1.0 + RS))\n",
    "df1['RSI'] = RSI\n",
    "df1['RSI_Lag'] = df1['RSI'].shift(1)\n",
    "#df1.tail(10)"
   ]
  },
  {
   "cell_type": "code",
   "execution_count": 55,
   "metadata": {},
   "outputs": [
    {
     "data": {
      "text/plain": [
       "<function matplotlib.pyplot.close(fig=None)>"
      ]
     },
     "execution_count": 55,
     "metadata": {},
     "output_type": "execute_result"
    },
    {
     "data": {
      "image/png": "[encoded data removed]",
      "text/plain": [
       "<Figure size 1152x432 with 2 Axes>"
      ]
     },
     "metadata": {
      "needs_background": "light"
     },
     "output_type": "display_data"
    }
   ],
   "source": [
    "fig, ax1 = plt.subplots()\n",
    "ax2 =  ax1.twinx()\n",
    "df1['RSI'][-170:].plot(x = 'Index', color='tab:red', figsize=(16,6), label = 'Relative Strength Index', fontsize = 12,ax = ax2)\n",
    "df1['Close'][-150:].plot(x = 'Index',color = 'tab:blue', figsize=(16,6),  label = 'Close Price',fontsize = 12,ax = ax1)\n",
    "#df1['Close'][-100:].plot(figsize=(16,6))\n",
    "plt.xlim([len(df1)-100, len(df1)])\n",
    "ax2.set_ylabel('Relative Strength Index', fontsize = 18)\n",
    "ax1.set_ylabel('Close Price USD ($)', fontsize = 18)\n",
    "#df1.xlabel('Index', fontsize=18)\n",
    "#df1.ylabel('Relative Strength Index', fontsize =18)\n",
    "ax2.grid(color='tab:red')\n",
    "ax1.set_title(\"Relative Strength Index for \" + stock.upper(), fontsize = 16)\n",
    "ax2.legend(loc=3, fontsize = 16)\n",
    "ax1.legend(loc=2,fontsize = 16)\n",
    "plt.show\n",
    "plt.close"
   ]
  },
  {
   "cell_type": "code",
   "execution_count": 56,
   "metadata": {},
   "outputs": [
    {
     "data": {
      "text/plain": [
       "<function matplotlib.pyplot.close(fig=None)>"
      ]
     },
     "execution_count": 56,
     "metadata": {},
     "output_type": "execute_result"
    },
    {
     "data": {
      "image/png": "[encoded data removed]",
      "text/plain": [
       "<Figure size 1152x432 with 2 Axes>"
      ]
     },
     "metadata": {
      "needs_background": "light"
     },
     "output_type": "display_data"
    }
   ],
   "source": [
    "fig, ax1 = plt.subplots()\n",
    "ax2 =  ax1.twinx()\n",
    "df1['Trend_Lag'][-150:].ewm(span = period *2, adjust=False ).mean().plot(x = 'Index', color='tab:red', figsize=(16,6), label = 'Buying Trend', fontsize = 12,ax = ax2)\n",
    "df1['Close'][-150:].plot(x = 'Index',color = 'tab:blue', figsize=(16,6),  label = 'Close Price',fontsize = 12,ax = ax1)\n",
    "ax2.set_ylabel('Buying Trend', fontsize = 18)\n",
    "ax1.set_ylabel('Close Price USD ($)', fontsize = 18)\n",
    "plt.xlim([len(df1)-100, len(df1)])\n",
    "ax2.grid(color='tab:red')\n",
    "ax1.set_title(\"Buying Trend for \" + stock.upper(), fontsize = 16)\n",
    "ax2.legend(loc=3, fontsize = 16)\n",
    "ax1.legend(loc=2,fontsize = 16)\n",
    "plt.close"
   ]
  },
  {
   "cell_type": "code",
   "execution_count": 57,
   "metadata": {},
   "outputs": [
    {
     "name": "stdout",
     "output_type": "stream",
     "text": [
      "Optimization terminated successfully.\n",
      "         Current function value: 0.689750\n",
      "         Iterations 4\n"
     ]
    },
    {
     "data": {
      "text/html": [
       "<table class=\"simpletable\">\n",
       "<caption>Logit Regression Results</caption>\n",
       "<tr>\n",
       "  <th>Dep. Variable:</th>           <td>y</td>        <th>  No. Observations:  </th>  <td>  5403</td>  \n",
       "</tr>\n",
       "<tr>\n",
       "  <th>Model:</th>                 <td>Logit</td>      <th>  Df Residuals:      </th>  <td>  5398</td>  \n",
       "</tr>\n",
       "<tr>\n",
       "  <th>Method:</th>                 <td>MLE</td>       <th>  Df Model:          </th>  <td>     4</td>  \n",
       "</tr>\n",
       "<tr>\n",
       "  <th>Date:</th>            <td>Sun, 11 Jul 2021</td> <th>  Pseudo R-squ.:     </th> <td>0.003398</td> \n",
       "</tr>\n",
       "<tr>\n",
       "  <th>Time:</th>                <td>13:11:19</td>     <th>  Log-Likelihood:    </th> <td> -3726.7</td> \n",
       "</tr>\n",
       "<tr>\n",
       "  <th>converged:</th>             <td>True</td>       <th>  LL-Null:           </th> <td> -3739.4</td> \n",
       "</tr>\n",
       "<tr>\n",
       "  <th>Covariance Type:</th>     <td>nonrobust</td>    <th>  LLR p-value:       </th> <td>4.150e-05</td>\n",
       "</tr>\n",
       "</table>\n",
       "<table class=\"simpletable\">\n",
       "<tr>\n",
       "         <td></td>            <th>coef</th>     <th>std err</th>      <th>z</th>      <th>P>|z|</th>  <th>[0.025</th>    <th>0.975]</th>  \n",
       "</tr>\n",
       "<tr>\n",
       "  <th>const</th>           <td>    0.4714</td> <td>    0.103</td> <td>    4.563</td> <td> 0.000</td> <td>    0.269</td> <td>    0.674</td>\n",
       "</tr>\n",
       "<tr>\n",
       "  <th>Trend_Lag</th>       <td>   -0.3508</td> <td>    0.097</td> <td>   -3.628</td> <td> 0.000</td> <td>   -0.540</td> <td>   -0.161</td>\n",
       "</tr>\n",
       "<tr>\n",
       "  <th>RSI_Lag</th>         <td>   -0.0037</td> <td>    0.002</td> <td>   -1.867</td> <td> 0.062</td> <td>   -0.007</td> <td>    0.000</td>\n",
       "</tr>\n",
       "<tr>\n",
       "  <th>Signal_Line_Lag</th> <td>    0.0065</td> <td>    0.007</td> <td>    0.916</td> <td> 0.360</td> <td>   -0.007</td> <td>    0.020</td>\n",
       "</tr>\n",
       "<tr>\n",
       "  <th>Volume_Lag</th>      <td>   -0.0004</td> <td>    0.001</td> <td>   -0.675</td> <td> 0.500</td> <td>   -0.001</td> <td>    0.001</td>\n",
       "</tr>\n",
       "</table>"
      ],
      "text/plain": [
       "<class 'statsmodels.iolib.summary.Summary'>\n",
       "\"\"\"\n",
       "                           Logit Regression Results                           \n",
       "==============================================================================\n",
       "Dep. Variable:                      y   No. Observations:                 5403\n",
       "Model:                          Logit   Df Residuals:                     5398\n",
       "Method:                           MLE   Df Model:                            4\n",
       "Date:                Sun, 11 Jul 2021   Pseudo R-squ.:                0.003398\n",
       "Time:                        13:11:19   Log-Likelihood:                -3726.7\n",
       "converged:                       True   LL-Null:                       -3739.4\n",
       "Covariance Type:            nonrobust   LLR p-value:                 4.150e-05\n",
       "===================================================================================\n",
       "                      coef    std err          z      P>|z|      [0.025      0.975]\n",
       "-----------------------------------------------------------------------------------\n",
       "const               0.4714      0.103      4.563      0.000       0.269       0.674\n",
       "Trend_Lag          -0.3508      0.097     -3.628      0.000      -0.540      -0.161\n",
       "RSI_Lag            -0.0037      0.002     -1.867      0.062      -0.007       0.000\n",
       "Signal_Line_Lag     0.0065      0.007      0.916      0.360      -0.007       0.020\n",
       "Volume_Lag         -0.0004      0.001     -0.675      0.500      -0.001       0.001\n",
       "===================================================================================\n",
       "\"\"\""
      ]
     },
     "execution_count": 57,
     "metadata": {},
     "output_type": "execute_result"
    }
   ],
   "source": [
    "df1.dropna(inplace= True)\n",
    "X = df1[['const','Trend_Lag', 'RSI_Lag', 'Signal_Line_Lag','Volume_Lag']]\n",
    "y = df1[\"Up_Down\"].values\n",
    "model = sm.Logit(y,X)\n",
    "result =  model.fit()\n",
    "result.summary()"
   ]
  },
  {
   "cell_type": "code",
   "execution_count": 58,
   "metadata": {},
   "outputs": [
    {
     "name": "stdout",
     "output_type": "stream",
     "text": [
      "<class 'pandas.core.frame.DataFrame'>\n",
      "RangeIndex: 5408 entries, 0 to 5407\n",
      "Data columns (total 8 columns):\n",
      " #   Column          Non-Null Count  Dtype         \n",
      "---  ------          --------------  -----         \n",
      " 0   Date            5408 non-null   datetime64[ns]\n",
      " 1   Open            5408 non-null   float64       \n",
      " 2   High            5408 non-null   float64       \n",
      " 3   Low             5408 non-null   float64       \n",
      " 4   Close           5408 non-null   float64       \n",
      " 5   Adj Close       5408 non-null   float64       \n",
      " 6   Volume          5408 non-null   int64         \n",
      " 7   Today_Change_%  5407 non-null   float64       \n",
      "dtypes: datetime64[ns](1), float64(6), int64(1)\n",
      "memory usage: 338.1 KB\n"
     ]
    }
   ],
   "source": [
    "data.info()"
   ]
  },
  {
   "cell_type": "code",
   "execution_count": 59,
   "metadata": {},
   "outputs": [
    {
     "name": "stdout",
     "output_type": "stream",
     "text": [
      "\n",
      "If $100 was invested in [ ADBE ], and Just Hold and Not Trade for 22 years, the ROI = $3,581\n"
     ]
    }
   ],
   "source": [
    "print(\"\\nIf ${:,.0f} was invested in [ {} ], and Just Hold and Not Trade for {:2d} years, the ROI = ${:,.0f}\".format( invest, stock.upper(), diff_years, invest/data.iloc[0, 1] * data.iloc[-1,1]))"
   ]
  },
  {
   "cell_type": "code",
   "execution_count": 60,
   "metadata": {},
   "outputs": [
    {
     "name": "stdout",
     "output_type": "stream",
     "text": [
      "\n",
      "If $100 was invested 22 years ago, buy and sell according this script's recommandation, the ROI = $3,342\n"
     ]
    }
   ],
   "source": [
    "print (\"\\nIf ${:,.0f} was invested {:2d} years ago, buy and sell according this script\\'s recommandation, the ROI = ${:,.0f}\".format(invest, diff_years, (money + (share * df1.iloc[-1,4]))))"
   ]
  },
  {
   "cell_type": "code",
   "execution_count": 61,
   "metadata": {},
   "outputs": [
    {
     "name": "stdout",
     "output_type": "stream",
     "text": [
      "           Date Stock Market Performance Scribe Predection\n",
      "5393 2021-06-18                       Up              Down\n",
      "5394 2021-06-21                       Up                Up\n",
      "5395 2021-06-22                       Up                Up\n",
      "5396 2021-06-23                     Down              Down\n",
      "5397 2021-06-24                       Up                Up\n",
      "5398 2021-06-25                       Up                Up\n",
      "5399 2021-06-28                       Up                Up\n",
      "5400 2021-06-29                       Up                Up\n",
      "5401 2021-06-30                     Down                Up\n",
      "5402 2021-07-01                     Down                Up\n",
      "5403 2021-07-02                       Up                Up\n",
      "5404 2021-07-06                       Up                Up\n",
      "5405 2021-07-07                       Up                Up\n",
      "5406 2021-07-08                       Up                Up\n",
      "5407 2021-07-09                     Down                Up\n"
     ]
    }
   ],
   "source": [
    "df1_summary=df1[['Date', 'Up_Down','Prediction_indicator']].copy()\n",
    "df1_summary['Stock Market Performance'] = df1_summary['Up_Down'].apply(lambda x: 'Up' if x > 0 else 'Down')\n",
    "df1_summary['Scribe Predection'] = df1_summary['Prediction_indicator'].apply(lambda x: 'Up' if x > 0 else 'Down')\n",
    "print (df1_summary[['Date','Stock Market Performance','Scribe Predection']].tail(15))"
   ]
  },
  {
   "cell_type": "code",
   "execution_count": 62,
   "metadata": {},
   "outputs": [],
   "source": [
    "#print(df1.loc[[i for i in range(len(df1)-20, len(df1)+2)],['Date','Close','Trend_Lag', 'Short_MV_Avg_Span-Long_MV_Avg_Span_Lag']])"
   ]
  },
  {
   "cell_type": "code",
   "execution_count": 63,
   "metadata": {},
   "outputs": [
    {
     "name": "stdout",
     "output_type": "stream",
     "text": [
      "\n",
      "Today [ ADBE ] actually went down, --- base on yesterday's data, We Predication [ ADBE ] should be going up.\n",
      "\n",
      "=========> Actual and Predication DO NOT match <=========\n"
     ]
    }
   ],
   "source": [
    "print (\"\\nToday [ %s ] actually went up,\" %stock.upper(), end = ' ') if (df1.iloc[-1,16] == 1) else print (\"\\nToday [ %s ] actually went down,\" %stock.upper(), end = \" \")\n",
    "print (\"--- base on yesterday\\'s data, \", end = '')\n",
    "print (\"We Predication [ %s ] should be going up.\" %stock.upper()) if (df1.iloc[-1,22] == 1) else print (\"We Predicae [ %s ] should be going down.\" %stock.upper())\n",
    "print (\"\\n=========> Actual and Predication MATCH <=========\") if (df1.iloc[-1,16] == df1.iloc[-1,22]) else print(\"\\n=========> Actual and Predication DO NOT match <=========\")"
   ]
  },
  {
   "cell_type": "code",
   "execution_count": 64,
   "metadata": {},
   "outputs": [],
   "source": [
    "x_tran= df1[df1.Date.dt.year < 2021][['const','Trend_Lag', 'RSI_Lag','Signal_Line_Lag','Volume_Lag']]\n",
    "y_train=df1[df1.Date.dt.year < 2021][\"Up_Down\"]\n",
    "x_test= df1[df1.Date.dt.year >= 2021][['const','Trend_Lag', 'RSI_Lag','Signal_Line_Lag','Volume_Lag']]\n",
    "y_test= df1[df1.Date.dt.year >= 2021][\"Up_Down\"]"
   ]
  },
  {
   "cell_type": "code",
   "execution_count": 65,
   "metadata": {},
   "outputs": [
    {
     "name": "stdout",
     "output_type": "stream",
     "text": [
      "Optimization terminated successfully.\n",
      "         Current function value: 0.689587\n",
      "         Iterations 4\n"
     ]
    }
   ],
   "source": [
    "model = sm.Logit(y_train,x_tran)\n",
    "result=model.fit()"
   ]
  },
  {
   "cell_type": "code",
   "execution_count": 66,
   "metadata": {},
   "outputs": [
    {
     "data": {
      "text/html": [
       "<table class=\"simpletable\">\n",
       "<caption>Logit Regression Results</caption>\n",
       "<tr>\n",
       "  <th>Dep. Variable:</th>        <td>Up_Down</td>     <th>  No. Observations:  </th>  <td>  5273</td>  \n",
       "</tr>\n",
       "<tr>\n",
       "  <th>Model:</th>                 <td>Logit</td>      <th>  Df Residuals:      </th>  <td>  5268</td>  \n",
       "</tr>\n",
       "<tr>\n",
       "  <th>Method:</th>                 <td>MLE</td>       <th>  Df Model:          </th>  <td>     4</td>  \n",
       "</tr>\n",
       "<tr>\n",
       "  <th>Date:</th>            <td>Sun, 11 Jul 2021</td> <th>  Pseudo R-squ.:     </th> <td>0.003781</td> \n",
       "</tr>\n",
       "<tr>\n",
       "  <th>Time:</th>                <td>13:11:19</td>     <th>  Log-Likelihood:    </th> <td> -3636.2</td> \n",
       "</tr>\n",
       "<tr>\n",
       "  <th>converged:</th>             <td>True</td>       <th>  LL-Null:           </th> <td> -3650.0</td> \n",
       "</tr>\n",
       "<tr>\n",
       "  <th>Covariance Type:</th>     <td>nonrobust</td>    <th>  LLR p-value:       </th> <td>1.501e-05</td>\n",
       "</tr>\n",
       "</table>\n",
       "<table class=\"simpletable\">\n",
       "<tr>\n",
       "         <td></td>            <th>coef</th>     <th>std err</th>      <th>z</th>      <th>P>|z|</th>  <th>[0.025</th>    <th>0.975]</th>  \n",
       "</tr>\n",
       "<tr>\n",
       "  <th>const</th>           <td>    0.4962</td> <td>    0.105</td> <td>    4.726</td> <td> 0.000</td> <td>    0.290</td> <td>    0.702</td>\n",
       "</tr>\n",
       "<tr>\n",
       "  <th>Trend_Lag</th>       <td>   -0.3538</td> <td>    0.098</td> <td>   -3.616</td> <td> 0.000</td> <td>   -0.545</td> <td>   -0.162</td>\n",
       "</tr>\n",
       "<tr>\n",
       "  <th>RSI_Lag</th>         <td>   -0.0042</td> <td>    0.002</td> <td>   -2.119</td> <td> 0.034</td> <td>   -0.008</td> <td>   -0.000</td>\n",
       "</tr>\n",
       "<tr>\n",
       "  <th>Signal_Line_Lag</th> <td>    0.0090</td> <td>    0.007</td> <td>    1.218</td> <td> 0.223</td> <td>   -0.006</td> <td>    0.024</td>\n",
       "</tr>\n",
       "<tr>\n",
       "  <th>Volume_Lag</th>      <td>   -0.0004</td> <td>    0.001</td> <td>   -0.760</td> <td> 0.447</td> <td>   -0.001</td> <td>    0.001</td>\n",
       "</tr>\n",
       "</table>"
      ],
      "text/plain": [
       "<class 'statsmodels.iolib.summary.Summary'>\n",
       "\"\"\"\n",
       "                           Logit Regression Results                           \n",
       "==============================================================================\n",
       "Dep. Variable:                Up_Down   No. Observations:                 5273\n",
       "Model:                          Logit   Df Residuals:                     5268\n",
       "Method:                           MLE   Df Model:                            4\n",
       "Date:                Sun, 11 Jul 2021   Pseudo R-squ.:                0.003781\n",
       "Time:                        13:11:19   Log-Likelihood:                -3636.2\n",
       "converged:                       True   LL-Null:                       -3650.0\n",
       "Covariance Type:            nonrobust   LLR p-value:                 1.501e-05\n",
       "===================================================================================\n",
       "                      coef    std err          z      P>|z|      [0.025      0.975]\n",
       "-----------------------------------------------------------------------------------\n",
       "const               0.4962      0.105      4.726      0.000       0.290       0.702\n",
       "Trend_Lag          -0.3538      0.098     -3.616      0.000      -0.545      -0.162\n",
       "RSI_Lag            -0.0042      0.002     -2.119      0.034      -0.008      -0.000\n",
       "Signal_Line_Lag     0.0090      0.007      1.218      0.223      -0.006       0.024\n",
       "Volume_Lag         -0.0004      0.001     -0.760      0.447      -0.001       0.001\n",
       "===================================================================================\n",
       "\"\"\""
      ]
     },
     "execution_count": 66,
     "metadata": {},
     "output_type": "execute_result"
    }
   ],
   "source": [
    "result.summary()"
   ]
  },
  {
   "cell_type": "code",
   "execution_count": 67,
   "metadata": {},
   "outputs": [],
   "source": [
    "#summary_list=result.summary().as_csv().split(\",\")"
   ]
  },
  {
   "cell_type": "code",
   "execution_count": 68,
   "metadata": {},
   "outputs": [],
   "source": [
    "#print(summary_list)"
   ]
  },
  {
   "cell_type": "code",
   "execution_count": 69,
   "metadata": {},
   "outputs": [],
   "source": [
    "#print(summary_list[37:39])"
   ]
  },
  {
   "cell_type": "code",
   "execution_count": 70,
   "metadata": {},
   "outputs": [
    {
     "data": {
      "text/html": [
       "<div>\n",
       "<style scoped>\n",
       "    .dataframe tbody tr th:only-of-type {\n",
       "        vertical-align: middle;\n",
       "    }\n",
       "\n",
       "    .dataframe tbody tr th {\n",
       "        vertical-align: top;\n",
       "    }\n",
       "\n",
       "    .dataframe thead th {\n",
       "        text-align: right;\n",
       "    }\n",
       "</style>\n",
       "<table border=\"1\" class=\"dataframe\">\n",
       "  <thead>\n",
       "    <tr style=\"text-align: right;\">\n",
       "      <th>Predict</th>\n",
       "      <th>Down</th>\n",
       "      <th>Up</th>\n",
       "    </tr>\n",
       "    <tr>\n",
       "      <th>Actual</th>\n",
       "      <th></th>\n",
       "      <th></th>\n",
       "    </tr>\n",
       "  </thead>\n",
       "  <tbody>\n",
       "    <tr>\n",
       "      <th>Down</th>\n",
       "      <td>16</td>\n",
       "      <td>40</td>\n",
       "    </tr>\n",
       "    <tr>\n",
       "      <th>Up</th>\n",
       "      <td>22</td>\n",
       "      <td>52</td>\n",
       "    </tr>\n",
       "  </tbody>\n",
       "</table>\n",
       "</div>"
      ],
      "text/plain": [
       "Predict  Down  Up\n",
       "Actual           \n",
       "Down       16  40\n",
       "Up         22  52"
      ]
     },
     "execution_count": 70,
     "metadata": {},
     "output_type": "execute_result"
    }
   ],
   "source": [
    "prediction = result.predict(x_test)\n",
    "confusion_matrix(y_test, prediction)"
   ]
  },
  {
   "cell_type": "code",
   "execution_count": 71,
   "metadata": {},
   "outputs": [],
   "source": [
    "z = confusion_matrix(y_test,prediction)"
   ]
  },
  {
   "cell_type": "code",
   "execution_count": 72,
   "metadata": {},
   "outputs": [
    {
     "name": "stdout",
     "output_type": "stream",
     "text": [
      "\n",
      "=========> Prediction Accuracy Rate: 0.5231 <=========\n",
      "\n"
     ]
    }
   ],
   "source": [
    "try:\n",
    "    print (\"\\n=========> Prediction Accuracy Rate: %.4f <=========\\n\"  %((z.loc['Down','Down'] + z.loc['Up','Up']) / len(x_test)))\n",
    "except:\n",
    "    print (\"\\n=========> Predication effectiveness is not avairable <=========\\n\" )"
   ]
  },
  {
   "cell_type": "code",
   "execution_count": 73,
   "metadata": {},
   "outputs": [],
   "source": [
    "#df1.info()"
   ]
  },
  {
   "cell_type": "code",
   "execution_count": 74,
   "metadata": {},
   "outputs": [
    {
     "name": "stdout",
     "output_type": "stream",
     "text": [
      "\n",
      "=========> Current trend = 0.5502,   [ ADBE ] will go up! <=========\n"
     ]
    }
   ],
   "source": [
    "prediction = result.predict(x_test)\n",
    "now_up_down  = result.predict([1.0, df1.iloc[-1, 10], df1.iloc[-1, 28], df1.iloc[-1, 21], df1.iloc[-1, 7]])\n",
    "print (\"\\n=========> Current trend = %.4f,  \" %now_up_down, end=' ')\n",
    "print (\"[ %s ] will go up! <=========\" %stock.upper()) if now_up_down > cutoff else print (\"[ %s ] will go down! <=========\" %stock.upper()) "
   ]
  },
  {
   "cell_type": "code",
   "execution_count": 75,
   "metadata": {},
   "outputs": [
    {
     "name": "stdout",
     "output_type": "stream",
     "text": [
      "\n",
      " ============> 20 Days over 50 Days Moving Average Indicator \n",
      " ============> 30.0674....30.8328....31.8800....32.6812....33.1745....<=============\n",
      "\n",
      " ============> No Trading Waring at this time! <=============\n"
     ]
    }
   ],
   "source": [
    "#print (\"\\n=========> Current trend = %.4f,  \" %now_up_down, end=' ')\n",
    "print (\"\\n ============> %s Days over %s Days Moving Average Indicator \\n ============> %.4f....%.4f....%.4f....%.4f....%.4f....<=============\" %(short_moving_average_span, long_moving_average_span, df1.iloc[-5,19], df1.iloc[-4,19], df1.iloc[-3,19], df1.iloc[-2,19],df1.iloc[-1,19]))\n",
    "if df1.iloc[-1,19] * df1.iloc[-2,19] < 0:\n",
    "    print (\"\\n ============> Warning, It Is the Time to Sell [ %s ] <=========\" %stock.upper()) if df1.iloc[-1,19] < 0 else print (\"\\n ============> It Is the Time to Buy [ %s ] ! <=========\" %stock.upper())\n",
    "else:\n",
    "    print (\"\\n ============> No Trading Waring at this time! <=============\")"
   ]
  },
  {
   "cell_type": "code",
   "execution_count": 76,
   "metadata": {},
   "outputs": [],
   "source": [
    "#df1.to_csv('fb.csv', index = False)"
   ]
  }
 ],
 "metadata": {
  "kernelspec": {
   "display_name": "Python 3",
   "language": "python",
   "name": "python3"
  },
  "language_info": {
   "codemirror_mode": {
    "name": "ipython",
    "version": 3
   },
   "file_extension": ".py",
   "mimetype": "text/x-python",
   "name": "python",
   "nbconvert_exporter": "python",
   "pygments_lexer": "ipython3",
   "version": "3.8.5"
  }
 },
 "nbformat": 4,
 "nbformat_minor": 4
}
