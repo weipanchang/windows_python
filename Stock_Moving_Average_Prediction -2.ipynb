{
 "cells": [
  {
   "cell_type": "code",
   "execution_count": 1,
   "metadata": {},
   "outputs": [],
   "source": [
    "import yfinance as yf"
   ]
  },
  {
   "cell_type": "code",
   "execution_count": 2,
   "metadata": {},
   "outputs": [],
   "source": [
    "import numpy as np"
   ]
  },
  {
   "cell_type": "code",
   "execution_count": 3,
   "metadata": {},
   "outputs": [],
   "source": [
    "import pandas as pd"
   ]
  },
  {
   "cell_type": "code",
   "execution_count": 4,
   "metadata": {},
   "outputs": [],
   "source": [
    "import math"
   ]
  },
  {
   "cell_type": "code",
   "execution_count": 5,
   "metadata": {},
   "outputs": [],
   "source": [
    "#import numpy as geek  "
   ]
  },
  {
   "cell_type": "code",
   "execution_count": 6,
   "metadata": {},
   "outputs": [],
   "source": [
    "import matplotlib.pyplot as plt"
   ]
  },
  {
   "cell_type": "code",
   "execution_count": 7,
   "metadata": {},
   "outputs": [],
   "source": [
    "import pandas_datareader as web"
   ]
  },
  {
   "cell_type": "code",
   "execution_count": 8,
   "metadata": {},
   "outputs": [],
   "source": [
    "import statsmodels.api as sm"
   ]
  },
  {
   "cell_type": "code",
   "execution_count": 9,
   "metadata": {},
   "outputs": [],
   "source": [
    "import datetime\n",
    "from dateutil.relativedelta import relativedelta\n",
    "from datetime import date"
   ]
  },
  {
   "cell_type": "code",
   "execution_count": 10,
   "metadata": {},
   "outputs": [],
   "source": [
    "stock = '^ixic'\n",
    "\n",
    "short_moving_average_span = 20\n",
    "long_moving_average_span = 50\n",
    "cutoff=0.50\n",
    "invest = 100\n",
    "years_of_data_to_process = 25"
   ]
  },
  {
   "cell_type": "code",
   "execution_count": 11,
   "metadata": {},
   "outputs": [],
   "source": [
    "currentDateTime = datetime.datetime.now()\n",
    "date = currentDateTime.date()\n",
    "#print (date)\n",
    "year = date.strftime(\"%Y\")\n",
    "start_year =  int(year) - years_of_data_to_process\n",
    "start = datetime.datetime(start_year, 1, 1)"
   ]
  },
  {
   "cell_type": "code",
   "execution_count": 12,
   "metadata": {},
   "outputs": [
    {
     "name": "stdout",
     "output_type": "stream",
     "text": [
      "[*********************100%***********************]  1 of 1 completed\n"
     ]
    }
   ],
   "source": [
    "data =  yf.download(stock, start=start)"
   ]
  },
  {
   "cell_type": "code",
   "execution_count": 13,
   "metadata": {},
   "outputs": [],
   "source": [
    "#data = web.DataReader(stock, data_source='yahoo', start = start, end = '2008-7-14')"
   ]
  },
  {
   "cell_type": "code",
   "execution_count": 14,
   "metadata": {},
   "outputs": [],
   "source": [
    "df = data[\"Close\"].pct_change() * 100"
   ]
  },
  {
   "cell_type": "code",
   "execution_count": 15,
   "metadata": {},
   "outputs": [],
   "source": [
    "df = df.rename(\"Today_Change_%\")\n",
    "df = df.reset_index()"
   ]
  },
  {
   "cell_type": "code",
   "execution_count": 16,
   "metadata": {},
   "outputs": [],
   "source": [
    "df1 = pd.merge(data,df, on=\"Date\")\n",
    "#df1"
   ]
  },
  {
   "cell_type": "code",
   "execution_count": 17,
   "metadata": {},
   "outputs": [],
   "source": [
    "#df1.dropna(inplace= True)\n",
    "df1.insert(7,'Volume_Lag', None)\n",
    "df1.Volume = df1.Volume.pct_change() * 100\n",
    "#df1.Volume = df1.Volume *  geek.sign(df1.Volume.values)\n",
    "df1['Volume_Lag'] = df1.Volume.shift(1).values\n"
   ]
  },
  {
   "cell_type": "code",
   "execution_count": 18,
   "metadata": {},
   "outputs": [],
   "source": [
    "df1[\"Trend\"] =  (df1[\"Close\"] - df1[\"Low\"])/ ((df1[\"High\"] - df1[\"Low\"]))"
   ]
  },
  {
   "cell_type": "code",
   "execution_count": 19,
   "metadata": {},
   "outputs": [],
   "source": [
    "df1[\"Trend_Lag\"] = df1[\"Trend\"].shift(1)"
   ]
  },
  {
   "cell_type": "code",
   "execution_count": 20,
   "metadata": {},
   "outputs": [],
   "source": [
    "df1['Close-Open'] =  df1['Close'] - df1['Open']\n",
    "df1['Close-Open_Lag'] = df1['Close-Open'].shift(1)"
   ]
  },
  {
   "cell_type": "code",
   "execution_count": 21,
   "metadata": {},
   "outputs": [],
   "source": [
    "df1['High-Low'] =  df1['High'] - df1['Low']\n",
    "df1['High-Low_Lag'] = df1['High-Low'].shift(1)"
   ]
  },
  {
   "cell_type": "code",
   "execution_count": 22,
   "metadata": {},
   "outputs": [],
   "source": [
    "df1 = sm.add_constant(df1)\n",
    "df1[\"Up_Down\"] = [1 if (i > 0) else 0 for i in df1[\"Today_Change_%\"]]"
   ]
  },
  {
   "cell_type": "code",
   "execution_count": 23,
   "metadata": {},
   "outputs": [],
   "source": [
    "df1.dropna(inplace= True)"
   ]
  },
  {
   "cell_type": "code",
   "execution_count": 24,
   "metadata": {},
   "outputs": [],
   "source": [
    "df1['Short_MV_Avg_Span'] = df1['Close'].ewm(span=short_moving_average_span, adjust=False).mean()\n",
    "df1.dropna(inplace= True)\n",
    "#df1"
   ]
  },
  {
   "cell_type": "code",
   "execution_count": 25,
   "metadata": {},
   "outputs": [],
   "source": [
    "df1['Long_MV_Avg_Span'] = df1['Close'].ewm(span=long_moving_average_span, adjust=False).mean()\n",
    "df1.dropna(inplace= True)\n",
    "#df1"
   ]
  },
  {
   "cell_type": "code",
   "execution_count": 26,
   "metadata": {},
   "outputs": [],
   "source": [
    "df1['Short_MV_Avg_Span-Long_MV_Avg_Span'] = df1.Short_MV_Avg_Span - df1.Long_MV_Avg_Span\n",
    "df1['Short_MV_Avg_Span-Long_MV_Avg_Span_Lag'] = df1['Short_MV_Avg_Span-Long_MV_Avg_Span'].shift(1)\n",
    "#df1"
   ]
  },
  {
   "cell_type": "code",
   "execution_count": 27,
   "metadata": {},
   "outputs": [],
   "source": [
    "#crossovers = pd.DataFrame()\n",
    "#crossovers['Dates'] = Short_MV_Avg_Span['Date']\n",
    "#crossovers['Price'] = [i for i in df1.Close]\n",
    "#crossovers['Short_MV_Avg_Span'] = Short_MV_Avg_Span['Close']\n",
    "#crossovers['Long_MV_Avg_Span'] = Long_MV_Avg_Span['Close']\n",
    "#crossovers"
   ]
  },
  {
   "cell_type": "code",
   "execution_count": 28,
   "metadata": {},
   "outputs": [
    {
     "data": {
      "text/html": [
       "<div>\n",
       "<style scoped>\n",
       "    .dataframe tbody tr th:only-of-type {\n",
       "        vertical-align: middle;\n",
       "    }\n",
       "\n",
       "    .dataframe tbody tr th {\n",
       "        vertical-align: top;\n",
       "    }\n",
       "\n",
       "    .dataframe thead th {\n",
       "        text-align: right;\n",
       "    }\n",
       "</style>\n",
       "<table border=\"1\" class=\"dataframe\">\n",
       "  <thead>\n",
       "    <tr style=\"text-align: right;\">\n",
       "      <th></th>\n",
       "      <th>const</th>\n",
       "      <th>Date</th>\n",
       "      <th>Open</th>\n",
       "      <th>High</th>\n",
       "      <th>Low</th>\n",
       "      <th>Close</th>\n",
       "      <th>Adj Close</th>\n",
       "      <th>Volume</th>\n",
       "      <th>Volume_Lag</th>\n",
       "      <th>Today_Change_%</th>\n",
       "      <th>...</th>\n",
       "      <th>Trend_Lag</th>\n",
       "      <th>Close-Open</th>\n",
       "      <th>Close-Open_Lag</th>\n",
       "      <th>High-Low</th>\n",
       "      <th>High-Low_Lag</th>\n",
       "      <th>Up_Down</th>\n",
       "      <th>Short_MV_Avg_Span</th>\n",
       "      <th>Long_MV_Avg_Span</th>\n",
       "      <th>Short_MV_Avg_Span-Long_MV_Avg_Span</th>\n",
       "      <th>Short_MV_Avg_Span-Long_MV_Avg_Span_Lag</th>\n",
       "    </tr>\n",
       "  </thead>\n",
       "  <tbody>\n",
       "    <tr>\n",
       "      <th>6396</th>\n",
       "      <td>1.0</td>\n",
       "      <td>2021-05-28</td>\n",
       "      <td>13792.049805</td>\n",
       "      <td>13820.870117</td>\n",
       "      <td>13747.610352</td>\n",
       "      <td>13748.740234</td>\n",
       "      <td>13748.740234</td>\n",
       "      <td>-12.304970</td>\n",
       "      <td>19.531616</td>\n",
       "      <td>0.090708</td>\n",
       "      <td>...</td>\n",
       "      <td>0.462686</td>\n",
       "      <td>-43.309570</td>\n",
       "      <td>-6.309570</td>\n",
       "      <td>73.259766</td>\n",
       "      <td>74.889648</td>\n",
       "      <td>1</td>\n",
       "      <td>13595.924386</td>\n",
       "      <td>13568.062462</td>\n",
       "      <td>27.861924</td>\n",
       "      <td>19.150648</td>\n",
       "    </tr>\n",
       "    <tr>\n",
       "      <th>6397</th>\n",
       "      <td>1.0</td>\n",
       "      <td>2021-06-01</td>\n",
       "      <td>13829.059570</td>\n",
       "      <td>13836.169922</td>\n",
       "      <td>13678.769531</td>\n",
       "      <td>13736.480469</td>\n",
       "      <td>13736.480469</td>\n",
       "      <td>-6.302957</td>\n",
       "      <td>-12.304970</td>\n",
       "      <td>-0.089170</td>\n",
       "      <td>...</td>\n",
       "      <td>0.015423</td>\n",
       "      <td>-92.579102</td>\n",
       "      <td>-43.309570</td>\n",
       "      <td>157.400391</td>\n",
       "      <td>73.259766</td>\n",
       "      <td>0</td>\n",
       "      <td>13609.310679</td>\n",
       "      <td>13574.667090</td>\n",
       "      <td>34.643590</td>\n",
       "      <td>27.861924</td>\n",
       "    </tr>\n",
       "    <tr>\n",
       "      <th>6398</th>\n",
       "      <td>1.0</td>\n",
       "      <td>2021-06-02</td>\n",
       "      <td>13743.240234</td>\n",
       "      <td>13775.889648</td>\n",
       "      <td>13689.740234</td>\n",
       "      <td>13756.330078</td>\n",
       "      <td>13756.330078</td>\n",
       "      <td>21.756780</td>\n",
       "      <td>-6.302957</td>\n",
       "      <td>0.144503</td>\n",
       "      <td>...</td>\n",
       "      <td>0.366651</td>\n",
       "      <td>13.089844</td>\n",
       "      <td>-92.579102</td>\n",
       "      <td>86.149414</td>\n",
       "      <td>157.400391</td>\n",
       "      <td>1</td>\n",
       "      <td>13623.312527</td>\n",
       "      <td>13581.791128</td>\n",
       "      <td>41.521399</td>\n",
       "      <td>34.643590</td>\n",
       "    </tr>\n",
       "    <tr>\n",
       "      <th>6399</th>\n",
       "      <td>1.0</td>\n",
       "      <td>2021-06-03</td>\n",
       "      <td>13655.750000</td>\n",
       "      <td>13684.129883</td>\n",
       "      <td>13548.929688</td>\n",
       "      <td>13614.509766</td>\n",
       "      <td>13614.509766</td>\n",
       "      <td>6.080268</td>\n",
       "      <td>21.756780</td>\n",
       "      <td>-1.030946</td>\n",
       "      <td>...</td>\n",
       "      <td>0.772958</td>\n",
       "      <td>-41.240234</td>\n",
       "      <td>13.089844</td>\n",
       "      <td>135.200195</td>\n",
       "      <td>86.149414</td>\n",
       "      <td>0</td>\n",
       "      <td>13622.474169</td>\n",
       "      <td>13583.074212</td>\n",
       "      <td>39.399957</td>\n",
       "      <td>41.521399</td>\n",
       "    </tr>\n",
       "    <tr>\n",
       "      <th>6400</th>\n",
       "      <td>1.0</td>\n",
       "      <td>2021-06-04</td>\n",
       "      <td>13697.250000</td>\n",
       "      <td>13826.820312</td>\n",
       "      <td>13692.009766</td>\n",
       "      <td>13814.490234</td>\n",
       "      <td>13814.490234</td>\n",
       "      <td>-19.108852</td>\n",
       "      <td>6.080268</td>\n",
       "      <td>1.468877</td>\n",
       "      <td>...</td>\n",
       "      <td>0.485059</td>\n",
       "      <td>117.240234</td>\n",
       "      <td>-41.240234</td>\n",
       "      <td>134.810547</td>\n",
       "      <td>135.200195</td>\n",
       "      <td>1</td>\n",
       "      <td>13640.761413</td>\n",
       "      <td>13592.149350</td>\n",
       "      <td>48.612063</td>\n",
       "      <td>39.399957</td>\n",
       "    </tr>\n",
       "    <tr>\n",
       "      <th>6401</th>\n",
       "      <td>1.0</td>\n",
       "      <td>2021-06-07</td>\n",
       "      <td>13802.820312</td>\n",
       "      <td>13889.110352</td>\n",
       "      <td>13784.889648</td>\n",
       "      <td>13881.719727</td>\n",
       "      <td>13881.719727</td>\n",
       "      <td>6.014556</td>\n",
       "      <td>-19.108852</td>\n",
       "      <td>0.486659</td>\n",
       "      <td>...</td>\n",
       "      <td>0.908538</td>\n",
       "      <td>78.899414</td>\n",
       "      <td>117.240234</td>\n",
       "      <td>104.220703</td>\n",
       "      <td>134.810547</td>\n",
       "      <td>1</td>\n",
       "      <td>13663.709824</td>\n",
       "      <td>13603.505051</td>\n",
       "      <td>60.204773</td>\n",
       "      <td>48.612063</td>\n",
       "    </tr>\n",
       "    <tr>\n",
       "      <th>6402</th>\n",
       "      <td>1.0</td>\n",
       "      <td>2021-06-08</td>\n",
       "      <td>13946.320312</td>\n",
       "      <td>13981.719727</td>\n",
       "      <td>13831.980469</td>\n",
       "      <td>13924.910156</td>\n",
       "      <td>13924.910156</td>\n",
       "      <td>28.051637</td>\n",
       "      <td>6.014556</td>\n",
       "      <td>0.311132</td>\n",
       "      <td>...</td>\n",
       "      <td>0.929087</td>\n",
       "      <td>-21.410156</td>\n",
       "      <td>78.899414</td>\n",
       "      <td>149.739258</td>\n",
       "      <td>104.220703</td>\n",
       "      <td>1</td>\n",
       "      <td>13688.586046</td>\n",
       "      <td>13616.109173</td>\n",
       "      <td>72.476873</td>\n",
       "      <td>60.204773</td>\n",
       "    </tr>\n",
       "    <tr>\n",
       "      <th>6403</th>\n",
       "      <td>1.0</td>\n",
       "      <td>2021-06-09</td>\n",
       "      <td>13980.230469</td>\n",
       "      <td>14003.500000</td>\n",
       "      <td>13906.450195</td>\n",
       "      <td>13911.750000</td>\n",
       "      <td>13911.750000</td>\n",
       "      <td>-4.859403</td>\n",
       "      <td>28.051637</td>\n",
       "      <td>-0.094508</td>\n",
       "      <td>...</td>\n",
       "      <td>0.620610</td>\n",
       "      <td>-68.480469</td>\n",
       "      <td>-21.410156</td>\n",
       "      <td>97.049805</td>\n",
       "      <td>149.739258</td>\n",
       "      <td>0</td>\n",
       "      <td>13709.839756</td>\n",
       "      <td>13627.702931</td>\n",
       "      <td>82.136825</td>\n",
       "      <td>72.476873</td>\n",
       "    </tr>\n",
       "    <tr>\n",
       "      <th>6404</th>\n",
       "      <td>1.0</td>\n",
       "      <td>2021-06-10</td>\n",
       "      <td>13933.879883</td>\n",
       "      <td>14031.190430</td>\n",
       "      <td>13904.400391</td>\n",
       "      <td>14020.330078</td>\n",
       "      <td>14020.330078</td>\n",
       "      <td>-12.807701</td>\n",
       "      <td>-4.859403</td>\n",
       "      <td>0.780492</td>\n",
       "      <td>...</td>\n",
       "      <td>0.054609</td>\n",
       "      <td>86.450195</td>\n",
       "      <td>-68.480469</td>\n",
       "      <td>126.790039</td>\n",
       "      <td>97.049805</td>\n",
       "      <td>1</td>\n",
       "      <td>13739.410263</td>\n",
       "      <td>13643.100074</td>\n",
       "      <td>96.310189</td>\n",
       "      <td>82.136825</td>\n",
       "    </tr>\n",
       "    <tr>\n",
       "      <th>6405</th>\n",
       "      <td>1.0</td>\n",
       "      <td>2021-06-11</td>\n",
       "      <td>14030.849609</td>\n",
       "      <td>14069.419922</td>\n",
       "      <td>14006.589844</td>\n",
       "      <td>14069.419922</td>\n",
       "      <td>14069.419922</td>\n",
       "      <td>-15.324880</td>\n",
       "      <td>-12.807701</td>\n",
       "      <td>0.350133</td>\n",
       "      <td>...</td>\n",
       "      <td>0.914344</td>\n",
       "      <td>38.570312</td>\n",
       "      <td>86.450195</td>\n",
       "      <td>62.830078</td>\n",
       "      <td>126.790039</td>\n",
       "      <td>1</td>\n",
       "      <td>13770.839754</td>\n",
       "      <td>13659.818499</td>\n",
       "      <td>111.021255</td>\n",
       "      <td>96.310189</td>\n",
       "    </tr>\n",
       "    <tr>\n",
       "      <th>6406</th>\n",
       "      <td>1.0</td>\n",
       "      <td>2021-06-14</td>\n",
       "      <td>14083.469727</td>\n",
       "      <td>14175.450195</td>\n",
       "      <td>14056.669922</td>\n",
       "      <td>14174.139648</td>\n",
       "      <td>14174.139648</td>\n",
       "      <td>6.139573</td>\n",
       "      <td>-15.324880</td>\n",
       "      <td>0.744307</td>\n",
       "      <td>...</td>\n",
       "      <td>1.000000</td>\n",
       "      <td>90.669922</td>\n",
       "      <td>38.570312</td>\n",
       "      <td>118.780273</td>\n",
       "      <td>62.830078</td>\n",
       "      <td>1</td>\n",
       "      <td>13809.249268</td>\n",
       "      <td>13679.987956</td>\n",
       "      <td>129.261312</td>\n",
       "      <td>111.021255</td>\n",
       "    </tr>\n",
       "    <tr>\n",
       "      <th>6407</th>\n",
       "      <td>1.0</td>\n",
       "      <td>2021-06-15</td>\n",
       "      <td>14166.639648</td>\n",
       "      <td>14171.019531</td>\n",
       "      <td>14052.160156</td>\n",
       "      <td>14072.860352</td>\n",
       "      <td>14072.860352</td>\n",
       "      <td>2.807905</td>\n",
       "      <td>6.139573</td>\n",
       "      <td>-0.714536</td>\n",
       "      <td>...</td>\n",
       "      <td>0.988967</td>\n",
       "      <td>-93.779297</td>\n",
       "      <td>90.669922</td>\n",
       "      <td>118.859375</td>\n",
       "      <td>118.780273</td>\n",
       "      <td>0</td>\n",
       "      <td>13834.355085</td>\n",
       "      <td>13695.394717</td>\n",
       "      <td>138.960369</td>\n",
       "      <td>129.261312</td>\n",
       "    </tr>\n",
       "    <tr>\n",
       "      <th>6408</th>\n",
       "      <td>1.0</td>\n",
       "      <td>2021-06-16</td>\n",
       "      <td>14085.549805</td>\n",
       "      <td>14129.690430</td>\n",
       "      <td>13903.730469</td>\n",
       "      <td>14039.679688</td>\n",
       "      <td>14039.679688</td>\n",
       "      <td>2.539085</td>\n",
       "      <td>2.807905</td>\n",
       "      <td>-0.235778</td>\n",
       "      <td>...</td>\n",
       "      <td>0.174157</td>\n",
       "      <td>-45.870117</td>\n",
       "      <td>-93.779297</td>\n",
       "      <td>225.959961</td>\n",
       "      <td>118.859375</td>\n",
       "      <td>0</td>\n",
       "      <td>13853.909809</td>\n",
       "      <td>13708.896088</td>\n",
       "      <td>145.013721</td>\n",
       "      <td>138.960369</td>\n",
       "    </tr>\n",
       "    <tr>\n",
       "      <th>6409</th>\n",
       "      <td>1.0</td>\n",
       "      <td>2021-06-17</td>\n",
       "      <td>13999.129883</td>\n",
       "      <td>14196.209961</td>\n",
       "      <td>13998.929688</td>\n",
       "      <td>14161.349609</td>\n",
       "      <td>14161.349609</td>\n",
       "      <td>-2.281715</td>\n",
       "      <td>2.539085</td>\n",
       "      <td>0.866615</td>\n",
       "      <td>...</td>\n",
       "      <td>0.601652</td>\n",
       "      <td>162.219727</td>\n",
       "      <td>-45.870117</td>\n",
       "      <td>197.280273</td>\n",
       "      <td>225.959961</td>\n",
       "      <td>1</td>\n",
       "      <td>13883.189790</td>\n",
       "      <td>13726.639364</td>\n",
       "      <td>156.550427</td>\n",
       "      <td>145.013721</td>\n",
       "    </tr>\n",
       "    <tr>\n",
       "      <th>6410</th>\n",
       "      <td>1.0</td>\n",
       "      <td>2021-06-18</td>\n",
       "      <td>14096.929688</td>\n",
       "      <td>14129.219727</td>\n",
       "      <td>14009.040039</td>\n",
       "      <td>14030.379883</td>\n",
       "      <td>14030.379883</td>\n",
       "      <td>34.885283</td>\n",
       "      <td>-2.281715</td>\n",
       "      <td>-0.924839</td>\n",
       "      <td>...</td>\n",
       "      <td>0.823295</td>\n",
       "      <td>-66.549805</td>\n",
       "      <td>162.219727</td>\n",
       "      <td>120.179688</td>\n",
       "      <td>197.280273</td>\n",
       "      <td>0</td>\n",
       "      <td>13897.207894</td>\n",
       "      <td>13738.550756</td>\n",
       "      <td>158.657138</td>\n",
       "      <td>156.550427</td>\n",
       "    </tr>\n",
       "    <tr>\n",
       "      <th>6411</th>\n",
       "      <td>1.0</td>\n",
       "      <td>2021-06-21</td>\n",
       "      <td>14047.419922</td>\n",
       "      <td>14150.780273</td>\n",
       "      <td>13960.040039</td>\n",
       "      <td>14141.480469</td>\n",
       "      <td>14141.480469</td>\n",
       "      <td>-25.922869</td>\n",
       "      <td>34.885283</td>\n",
       "      <td>0.791857</td>\n",
       "      <td>...</td>\n",
       "      <td>0.177566</td>\n",
       "      <td>94.060547</td>\n",
       "      <td>-66.549805</td>\n",
       "      <td>190.740234</td>\n",
       "      <td>120.179688</td>\n",
       "      <td>1</td>\n",
       "      <td>13920.471949</td>\n",
       "      <td>13754.351922</td>\n",
       "      <td>166.120027</td>\n",
       "      <td>158.657138</td>\n",
       "    </tr>\n",
       "    <tr>\n",
       "      <th>6412</th>\n",
       "      <td>1.0</td>\n",
       "      <td>2021-06-22</td>\n",
       "      <td>14138.290039</td>\n",
       "      <td>14269.769531</td>\n",
       "      <td>14121.000000</td>\n",
       "      <td>14253.269531</td>\n",
       "      <td>14253.269531</td>\n",
       "      <td>-2.605723</td>\n",
       "      <td>-25.922869</td>\n",
       "      <td>0.790505</td>\n",
       "      <td>...</td>\n",
       "      <td>0.951244</td>\n",
       "      <td>114.979492</td>\n",
       "      <td>94.060547</td>\n",
       "      <td>148.769531</td>\n",
       "      <td>190.740234</td>\n",
       "      <td>1</td>\n",
       "      <td>13952.166957</td>\n",
       "      <td>13773.917318</td>\n",
       "      <td>178.249639</td>\n",
       "      <td>166.120027</td>\n",
       "    </tr>\n",
       "    <tr>\n",
       "      <th>6413</th>\n",
       "      <td>1.0</td>\n",
       "      <td>2021-06-23</td>\n",
       "      <td>14263.379883</td>\n",
       "      <td>14317.660156</td>\n",
       "      <td>14246.299805</td>\n",
       "      <td>14271.730469</td>\n",
       "      <td>14271.730469</td>\n",
       "      <td>-0.241983</td>\n",
       "      <td>-2.605723</td>\n",
       "      <td>0.129521</td>\n",
       "      <td>...</td>\n",
       "      <td>0.889090</td>\n",
       "      <td>8.350586</td>\n",
       "      <td>114.979492</td>\n",
       "      <td>71.360352</td>\n",
       "      <td>148.769531</td>\n",
       "      <td>1</td>\n",
       "      <td>13982.601577</td>\n",
       "      <td>13793.439402</td>\n",
       "      <td>189.162175</td>\n",
       "      <td>178.249639</td>\n",
       "    </tr>\n",
       "    <tr>\n",
       "      <th>6414</th>\n",
       "      <td>1.0</td>\n",
       "      <td>2021-06-24</td>\n",
       "      <td>14357.269531</td>\n",
       "      <td>14414.459961</td>\n",
       "      <td>14333.700195</td>\n",
       "      <td>14369.709961</td>\n",
       "      <td>14369.709961</td>\n",
       "      <td>-2.214536</td>\n",
       "      <td>-0.241983</td>\n",
       "      <td>0.686528</td>\n",
       "      <td>...</td>\n",
       "      <td>0.356370</td>\n",
       "      <td>12.440430</td>\n",
       "      <td>8.350586</td>\n",
       "      <td>80.759766</td>\n",
       "      <td>71.360352</td>\n",
       "      <td>1</td>\n",
       "      <td>14019.469042</td>\n",
       "      <td>13816.038248</td>\n",
       "      <td>203.430794</td>\n",
       "      <td>189.162175</td>\n",
       "    </tr>\n",
       "    <tr>\n",
       "      <th>6415</th>\n",
       "      <td>1.0</td>\n",
       "      <td>2021-06-25</td>\n",
       "      <td>14400.799805</td>\n",
       "      <td>14409.081055</td>\n",
       "      <td>14337.652344</td>\n",
       "      <td>14360.387695</td>\n",
       "      <td>14360.387695</td>\n",
       "      <td>60.581484</td>\n",
       "      <td>-2.214536</td>\n",
       "      <td>-0.064874</td>\n",
       "      <td>...</td>\n",
       "      <td>0.445887</td>\n",
       "      <td>-40.412109</td>\n",
       "      <td>12.440430</td>\n",
       "      <td>71.428711</td>\n",
       "      <td>80.759766</td>\n",
       "      <td>0</td>\n",
       "      <td>14051.937485</td>\n",
       "      <td>13837.385285</td>\n",
       "      <td>214.552200</td>\n",
       "      <td>203.430794</td>\n",
       "    </tr>\n",
       "  </tbody>\n",
       "</table>\n",
       "<p>20 rows × 21 columns</p>\n",
       "</div>"
      ],
      "text/plain": [
       "      const       Date          Open          High           Low  \\\n",
       "6396    1.0 2021-05-28  13792.049805  13820.870117  13747.610352   \n",
       "6397    1.0 2021-06-01  13829.059570  13836.169922  13678.769531   \n",
       "6398    1.0 2021-06-02  13743.240234  13775.889648  13689.740234   \n",
       "6399    1.0 2021-06-03  13655.750000  13684.129883  13548.929688   \n",
       "6400    1.0 2021-06-04  13697.250000  13826.820312  13692.009766   \n",
       "6401    1.0 2021-06-07  13802.820312  13889.110352  13784.889648   \n",
       "6402    1.0 2021-06-08  13946.320312  13981.719727  13831.980469   \n",
       "6403    1.0 2021-06-09  13980.230469  14003.500000  13906.450195   \n",
       "6404    1.0 2021-06-10  13933.879883  14031.190430  13904.400391   \n",
       "6405    1.0 2021-06-11  14030.849609  14069.419922  14006.589844   \n",
       "6406    1.0 2021-06-14  14083.469727  14175.450195  14056.669922   \n",
       "6407    1.0 2021-06-15  14166.639648  14171.019531  14052.160156   \n",
       "6408    1.0 2021-06-16  14085.549805  14129.690430  13903.730469   \n",
       "6409    1.0 2021-06-17  13999.129883  14196.209961  13998.929688   \n",
       "6410    1.0 2021-06-18  14096.929688  14129.219727  14009.040039   \n",
       "6411    1.0 2021-06-21  14047.419922  14150.780273  13960.040039   \n",
       "6412    1.0 2021-06-22  14138.290039  14269.769531  14121.000000   \n",
       "6413    1.0 2021-06-23  14263.379883  14317.660156  14246.299805   \n",
       "6414    1.0 2021-06-24  14357.269531  14414.459961  14333.700195   \n",
       "6415    1.0 2021-06-25  14400.799805  14409.081055  14337.652344   \n",
       "\n",
       "             Close     Adj Close     Volume  Volume_Lag  Today_Change_%  ...  \\\n",
       "6396  13748.740234  13748.740234 -12.304970   19.531616        0.090708  ...   \n",
       "6397  13736.480469  13736.480469  -6.302957  -12.304970       -0.089170  ...   \n",
       "6398  13756.330078  13756.330078  21.756780   -6.302957        0.144503  ...   \n",
       "6399  13614.509766  13614.509766   6.080268   21.756780       -1.030946  ...   \n",
       "6400  13814.490234  13814.490234 -19.108852    6.080268        1.468877  ...   \n",
       "6401  13881.719727  13881.719727   6.014556  -19.108852        0.486659  ...   \n",
       "6402  13924.910156  13924.910156  28.051637    6.014556        0.311132  ...   \n",
       "6403  13911.750000  13911.750000  -4.859403   28.051637       -0.094508  ...   \n",
       "6404  14020.330078  14020.330078 -12.807701   -4.859403        0.780492  ...   \n",
       "6405  14069.419922  14069.419922 -15.324880  -12.807701        0.350133  ...   \n",
       "6406  14174.139648  14174.139648   6.139573  -15.324880        0.744307  ...   \n",
       "6407  14072.860352  14072.860352   2.807905    6.139573       -0.714536  ...   \n",
       "6408  14039.679688  14039.679688   2.539085    2.807905       -0.235778  ...   \n",
       "6409  14161.349609  14161.349609  -2.281715    2.539085        0.866615  ...   \n",
       "6410  14030.379883  14030.379883  34.885283   -2.281715       -0.924839  ...   \n",
       "6411  14141.480469  14141.480469 -25.922869   34.885283        0.791857  ...   \n",
       "6412  14253.269531  14253.269531  -2.605723  -25.922869        0.790505  ...   \n",
       "6413  14271.730469  14271.730469  -0.241983   -2.605723        0.129521  ...   \n",
       "6414  14369.709961  14369.709961  -2.214536   -0.241983        0.686528  ...   \n",
       "6415  14360.387695  14360.387695  60.581484   -2.214536       -0.064874  ...   \n",
       "\n",
       "      Trend_Lag  Close-Open  Close-Open_Lag    High-Low  High-Low_Lag  \\\n",
       "6396   0.462686  -43.309570       -6.309570   73.259766     74.889648   \n",
       "6397   0.015423  -92.579102      -43.309570  157.400391     73.259766   \n",
       "6398   0.366651   13.089844      -92.579102   86.149414    157.400391   \n",
       "6399   0.772958  -41.240234       13.089844  135.200195     86.149414   \n",
       "6400   0.485059  117.240234      -41.240234  134.810547    135.200195   \n",
       "6401   0.908538   78.899414      117.240234  104.220703    134.810547   \n",
       "6402   0.929087  -21.410156       78.899414  149.739258    104.220703   \n",
       "6403   0.620610  -68.480469      -21.410156   97.049805    149.739258   \n",
       "6404   0.054609   86.450195      -68.480469  126.790039     97.049805   \n",
       "6405   0.914344   38.570312       86.450195   62.830078    126.790039   \n",
       "6406   1.000000   90.669922       38.570312  118.780273     62.830078   \n",
       "6407   0.988967  -93.779297       90.669922  118.859375    118.780273   \n",
       "6408   0.174157  -45.870117      -93.779297  225.959961    118.859375   \n",
       "6409   0.601652  162.219727      -45.870117  197.280273    225.959961   \n",
       "6410   0.823295  -66.549805      162.219727  120.179688    197.280273   \n",
       "6411   0.177566   94.060547      -66.549805  190.740234    120.179688   \n",
       "6412   0.951244  114.979492       94.060547  148.769531    190.740234   \n",
       "6413   0.889090    8.350586      114.979492   71.360352    148.769531   \n",
       "6414   0.356370   12.440430        8.350586   80.759766     71.360352   \n",
       "6415   0.445887  -40.412109       12.440430   71.428711     80.759766   \n",
       "\n",
       "      Up_Down  Short_MV_Avg_Span  Long_MV_Avg_Span  \\\n",
       "6396        1       13595.924386      13568.062462   \n",
       "6397        0       13609.310679      13574.667090   \n",
       "6398        1       13623.312527      13581.791128   \n",
       "6399        0       13622.474169      13583.074212   \n",
       "6400        1       13640.761413      13592.149350   \n",
       "6401        1       13663.709824      13603.505051   \n",
       "6402        1       13688.586046      13616.109173   \n",
       "6403        0       13709.839756      13627.702931   \n",
       "6404        1       13739.410263      13643.100074   \n",
       "6405        1       13770.839754      13659.818499   \n",
       "6406        1       13809.249268      13679.987956   \n",
       "6407        0       13834.355085      13695.394717   \n",
       "6408        0       13853.909809      13708.896088   \n",
       "6409        1       13883.189790      13726.639364   \n",
       "6410        0       13897.207894      13738.550756   \n",
       "6411        1       13920.471949      13754.351922   \n",
       "6412        1       13952.166957      13773.917318   \n",
       "6413        1       13982.601577      13793.439402   \n",
       "6414        1       14019.469042      13816.038248   \n",
       "6415        0       14051.937485      13837.385285   \n",
       "\n",
       "      Short_MV_Avg_Span-Long_MV_Avg_Span  \\\n",
       "6396                           27.861924   \n",
       "6397                           34.643590   \n",
       "6398                           41.521399   \n",
       "6399                           39.399957   \n",
       "6400                           48.612063   \n",
       "6401                           60.204773   \n",
       "6402                           72.476873   \n",
       "6403                           82.136825   \n",
       "6404                           96.310189   \n",
       "6405                          111.021255   \n",
       "6406                          129.261312   \n",
       "6407                          138.960369   \n",
       "6408                          145.013721   \n",
       "6409                          156.550427   \n",
       "6410                          158.657138   \n",
       "6411                          166.120027   \n",
       "6412                          178.249639   \n",
       "6413                          189.162175   \n",
       "6414                          203.430794   \n",
       "6415                          214.552200   \n",
       "\n",
       "      Short_MV_Avg_Span-Long_MV_Avg_Span_Lag  \n",
       "6396                               19.150648  \n",
       "6397                               27.861924  \n",
       "6398                               34.643590  \n",
       "6399                               41.521399  \n",
       "6400                               39.399957  \n",
       "6401                               48.612063  \n",
       "6402                               60.204773  \n",
       "6403                               72.476873  \n",
       "6404                               82.136825  \n",
       "6405                               96.310189  \n",
       "6406                              111.021255  \n",
       "6407                              129.261312  \n",
       "6408                              138.960369  \n",
       "6409                              145.013721  \n",
       "6410                              156.550427  \n",
       "6411                              158.657138  \n",
       "6412                              166.120027  \n",
       "6413                              178.249639  \n",
       "6414                              189.162175  \n",
       "6415                              203.430794  \n",
       "\n",
       "[20 rows x 21 columns]"
      ]
     },
     "execution_count": 28,
     "metadata": {},
     "output_type": "execute_result"
    }
   ],
   "source": [
    "df1.dropna(inplace= True)\n",
    "df1.tail(20)"
   ]
  },
  {
   "cell_type": "code",
   "execution_count": 29,
   "metadata": {},
   "outputs": [],
   "source": [
    "X = df1[['const','Trend_Lag','Short_MV_Avg_Span-Long_MV_Avg_Span_Lag','Close-Open_Lag','High-Low_Lag','Volume_Lag']]"
   ]
  },
  {
   "cell_type": "code",
   "execution_count": 30,
   "metadata": {},
   "outputs": [
    {
     "data": {
      "text/plain": [
       "<function matplotlib.pyplot.show(close=None, block=None)>"
      ]
     },
     "execution_count": 30,
     "metadata": {},
     "output_type": "execute_result"
    },
    {
     "data": {
      "image/png": "[encoded data removed]",
      "text/plain": [
       "<Figure size 1152x432 with 1 Axes>"
      ]
     },
     "metadata": {
      "needs_background": "light"
     },
     "output_type": "display_data"
    }
   ],
   "source": [
    "df1['Close'][-100:].plot(figsize=(16,6))\n",
    "df1['Short_MV_Avg_Span'][-100:].plot(figsize=(16,6))\n",
    "df1['Long_MV_Avg_Span'][-100:].plot(figsize=(16,6))\n",
    "plt.xlabel('Index', fontsize=18)\n",
    "plt.ylabel('Close Price USD ($)', fontsize =18)\n",
    "plt.legend(['Close', str(short_moving_average_span) + ' Days Moving Average', str(long_moving_average_span) + ' days Moving Average'], loc = 'lower left')\n",
    "plt.title(stock.upper())\n",
    "plt.show"
   ]
  },
  {
   "cell_type": "code",
   "execution_count": 31,
   "metadata": {},
   "outputs": [],
   "source": [
    "y = df1[\"Up_Down\"].values"
   ]
  },
  {
   "cell_type": "code",
   "execution_count": 32,
   "metadata": {},
   "outputs": [],
   "source": [
    "model = sm.Logit(y,X)"
   ]
  },
  {
   "cell_type": "code",
   "execution_count": 33,
   "metadata": {},
   "outputs": [
    {
     "name": "stdout",
     "output_type": "stream",
     "text": [
      "Optimization terminated successfully.\n",
      "         Current function value: 0.687177\n",
      "         Iterations 4\n"
     ]
    }
   ],
   "source": [
    "result =  model.fit()"
   ]
  },
  {
   "cell_type": "code",
   "execution_count": 34,
   "metadata": {},
   "outputs": [
    {
     "data": {
      "text/html": [
       "<table class=\"simpletable\">\n",
       "<caption>Logit Regression Results</caption>\n",
       "<tr>\n",
       "  <th>Dep. Variable:</th>           <td>y</td>        <th>  No. Observations:  </th>  <td>  6413</td> \n",
       "</tr>\n",
       "<tr>\n",
       "  <th>Model:</th>                 <td>Logit</td>      <th>  Df Residuals:      </th>  <td>  6407</td> \n",
       "</tr>\n",
       "<tr>\n",
       "  <th>Method:</th>                 <td>MLE</td>       <th>  Df Model:          </th>  <td>     5</td> \n",
       "</tr>\n",
       "<tr>\n",
       "  <th>Date:</th>            <td>Fri, 25 Jun 2021</td> <th>  Pseudo R-squ.:     </th> <td>0.001495</td>\n",
       "</tr>\n",
       "<tr>\n",
       "  <th>Time:</th>                <td>13:24:43</td>     <th>  Log-Likelihood:    </th> <td> -4406.9</td>\n",
       "</tr>\n",
       "<tr>\n",
       "  <th>converged:</th>             <td>True</td>       <th>  LL-Null:           </th> <td> -4413.5</td>\n",
       "</tr>\n",
       "<tr>\n",
       "  <th>Covariance Type:</th>     <td>nonrobust</td>    <th>  LLR p-value:       </th>  <td>0.02160</td>\n",
       "</tr>\n",
       "</table>\n",
       "<table class=\"simpletable\">\n",
       "<tr>\n",
       "                     <td></td>                       <th>coef</th>     <th>std err</th>      <th>z</th>      <th>P>|z|</th>  <th>[0.025</th>    <th>0.975]</th>  \n",
       "</tr>\n",
       "<tr>\n",
       "  <th>const</th>                                  <td>    0.1806</td> <td>    0.062</td> <td>    2.916</td> <td> 0.004</td> <td>    0.059</td> <td>    0.302</td>\n",
       "</tr>\n",
       "<tr>\n",
       "  <th>Trend_Lag</th>                              <td>    0.0390</td> <td>    0.094</td> <td>    0.414</td> <td> 0.679</td> <td>   -0.146</td> <td>    0.224</td>\n",
       "</tr>\n",
       "<tr>\n",
       "  <th>Short_MV_Avg_Span-Long_MV_Avg_Span_Lag</th> <td>    0.0008</td> <td>    0.000</td> <td>    3.283</td> <td> 0.001</td> <td>    0.000</td> <td>    0.001</td>\n",
       "</tr>\n",
       "<tr>\n",
       "  <th>Close-Open_Lag</th>                         <td>   -0.0008</td> <td>    0.001</td> <td>   -1.197</td> <td> 0.231</td> <td>   -0.002</td> <td>    0.001</td>\n",
       "</tr>\n",
       "<tr>\n",
       "  <th>High-Low_Lag</th>                           <td>   -0.0005</td> <td>    0.000</td> <td>   -1.114</td> <td> 0.265</td> <td>   -0.001</td> <td>    0.000</td>\n",
       "</tr>\n",
       "<tr>\n",
       "  <th>Volume_Lag</th>                             <td>    0.0003</td> <td>    0.001</td> <td>    0.257</td> <td> 0.798</td> <td>   -0.002</td> <td>    0.002</td>\n",
       "</tr>\n",
       "</table>"
      ],
      "text/plain": [
       "<class 'statsmodels.iolib.summary.Summary'>\n",
       "\"\"\"\n",
       "                           Logit Regression Results                           \n",
       "==============================================================================\n",
       "Dep. Variable:                      y   No. Observations:                 6413\n",
       "Model:                          Logit   Df Residuals:                     6407\n",
       "Method:                           MLE   Df Model:                            5\n",
       "Date:                Fri, 25 Jun 2021   Pseudo R-squ.:                0.001495\n",
       "Time:                        13:24:43   Log-Likelihood:                -4406.9\n",
       "converged:                       True   LL-Null:                       -4413.5\n",
       "Covariance Type:            nonrobust   LLR p-value:                   0.02160\n",
       "==========================================================================================================\n",
       "                                             coef    std err          z      P>|z|      [0.025      0.975]\n",
       "----------------------------------------------------------------------------------------------------------\n",
       "const                                      0.1806      0.062      2.916      0.004       0.059       0.302\n",
       "Trend_Lag                                  0.0390      0.094      0.414      0.679      -0.146       0.224\n",
       "Short_MV_Avg_Span-Long_MV_Avg_Span_Lag     0.0008      0.000      3.283      0.001       0.000       0.001\n",
       "Close-Open_Lag                            -0.0008      0.001     -1.197      0.231      -0.002       0.001\n",
       "High-Low_Lag                              -0.0005      0.000     -1.114      0.265      -0.001       0.000\n",
       "Volume_Lag                                 0.0003      0.001      0.257      0.798      -0.002       0.002\n",
       "==========================================================================================================\n",
       "\"\"\""
      ]
     },
     "execution_count": 34,
     "metadata": {},
     "output_type": "execute_result"
    }
   ],
   "source": [
    "result.summary()"
   ]
  },
  {
   "cell_type": "code",
   "execution_count": 35,
   "metadata": {},
   "outputs": [],
   "source": [
    "prediction = result.predict(X)"
   ]
  },
  {
   "cell_type": "code",
   "execution_count": 36,
   "metadata": {},
   "outputs": [],
   "source": [
    "df1['Prediction_Caculated'] = pd.array(prediction)\n",
    "df1['Prediction_indicator'] = pd.array([1 if i > cutoff else 0 for i in prediction])\n",
    "#print (df1.iloc[-1,18],df1.iloc[-1,19],df1.iloc[-1,20])"
   ]
  },
  {
   "cell_type": "code",
   "execution_count": 37,
   "metadata": {},
   "outputs": [],
   "source": [
    "#print(df1.loc[[i for i in range(len(df1)-20, len(df1)+2)],['Trend_Lag', 'Short_MV_Avg_Span-Long_MV_Avg_Span_Lag', 'Up_Down', 'Prediction_indicator']])"
   ]
  },
  {
   "cell_type": "code",
   "execution_count": 38,
   "metadata": {},
   "outputs": [],
   "source": [
    "y = df1[\"Up_Down\"].values"
   ]
  },
  {
   "cell_type": "code",
   "execution_count": 39,
   "metadata": {},
   "outputs": [],
   "source": [
    "def confusion_matrix(act,pred):\n",
    "    predtrans = ['Up' if i > cutoff else 'Down' for i in pred]\n",
    "    actuals = ['Up' if i > 0 else 'Down' for i in act]\n",
    "    confusion_matrix = pd.crosstab(pd.Series(actuals),\n",
    "                                   pd.Series(predtrans),\n",
    "                                   rownames = [\"Actual\"],\n",
    "                                   colnames = [\"Predict\"]\n",
    "                                  )\n",
    "    return confusion_matrix"
   ]
  },
  {
   "cell_type": "code",
   "execution_count": 40,
   "metadata": {},
   "outputs": [
    {
     "data": {
      "text/html": [
       "<div>\n",
       "<style scoped>\n",
       "    .dataframe tbody tr th:only-of-type {\n",
       "        vertical-align: middle;\n",
       "    }\n",
       "\n",
       "    .dataframe tbody tr th {\n",
       "        vertical-align: top;\n",
       "    }\n",
       "\n",
       "    .dataframe thead th {\n",
       "        text-align: right;\n",
       "    }\n",
       "</style>\n",
       "<table border=\"1\" class=\"dataframe\">\n",
       "  <thead>\n",
       "    <tr style=\"text-align: right;\">\n",
       "      <th>Predict</th>\n",
       "      <th>Down</th>\n",
       "      <th>Up</th>\n",
       "    </tr>\n",
       "    <tr>\n",
       "      <th>Actual</th>\n",
       "      <th></th>\n",
       "      <th></th>\n",
       "    </tr>\n",
       "  </thead>\n",
       "  <tbody>\n",
       "    <tr>\n",
       "      <th>Down</th>\n",
       "      <td>94</td>\n",
       "      <td>2794</td>\n",
       "    </tr>\n",
       "    <tr>\n",
       "      <th>Up</th>\n",
       "      <td>103</td>\n",
       "      <td>3422</td>\n",
       "    </tr>\n",
       "  </tbody>\n",
       "</table>\n",
       "</div>"
      ],
      "text/plain": [
       "Predict  Down    Up\n",
       "Actual             \n",
       "Down       94  2794\n",
       "Up        103  3422"
      ]
     },
     "execution_count": 40,
     "metadata": {},
     "output_type": "execute_result"
    }
   ],
   "source": [
    "confusion_matrix(y,prediction)"
   ]
  },
  {
   "cell_type": "code",
   "execution_count": 41,
   "metadata": {},
   "outputs": [
    {
     "name": "stdout",
     "output_type": "stream",
     "text": [
      "0.5482613441447061\n"
     ]
    }
   ],
   "source": [
    "z = confusion_matrix(y,prediction)\n",
    "try:\n",
    "    print((z.loc['Down','Down'] + z.loc['Up','Up']) / len(df1))\n",
    "except:\n",
    "    pass"
   ]
  },
  {
   "cell_type": "code",
   "execution_count": 42,
   "metadata": {},
   "outputs": [
    {
     "name": "stdout",
     "output_type": "stream",
     "text": [
      "0.5572107765451664\n"
     ]
    }
   ],
   "source": [
    "try:\n",
    "    print( (z.loc['Down', 'Down']+ z.loc['Up','Up']) / (z.loc['Down', 'Down']+ z.loc['Up','Up'] + z.loc['Down','Up']) )\n",
    "except:\n",
    "    pass"
   ]
  },
  {
   "cell_type": "code",
   "execution_count": 43,
   "metadata": {},
   "outputs": [],
   "source": [
    "df1 = df1.assign(share=np.nan,money=np.nan)\n",
    "#df1"
   ]
  },
  {
   "cell_type": "code",
   "execution_count": 44,
   "metadata": {},
   "outputs": [],
   "source": [
    "diff_years = round((df1.iloc[-1,1] - df1.iloc[0,1])/np.timedelta64(1,'Y') + 0.5)   "
   ]
  },
  {
   "cell_type": "code",
   "execution_count": 45,
   "metadata": {},
   "outputs": [],
   "source": [
    "#Simulate Investment transaction buy on opening when predict UP and sell daily average when predict DOWN\n",
    "\n",
    "def buy_sell(open_price, sell_price,prediction, money, share):\n",
    "    if prediction == 1 and money != 0:\n",
    "        share =  money / open_price\n",
    "        money = 0\n",
    "    elif prediction == 0 and share != 0:\n",
    "        money = share * sell_price\n",
    "        share = 0\n",
    "    else: pass\n",
    "    return [money, share]\n",
    "money = invest\n",
    "share = 0\n",
    "for i in range(len(df1)):\n",
    "    [money, share] = buy_sell(df1.iloc[i,2],(df1.iloc[i,3]+df1.iloc[i,4])/2,df1.iloc[i,22], money, share)\n",
    "    df1.iloc[i,23] = share\n",
    "    df1.iloc[i,24] = money"
   ]
  },
  {
   "cell_type": "code",
   "execution_count": 46,
   "metadata": {},
   "outputs": [],
   "source": [
    "#df1.tail(10)"
   ]
  },
  {
   "cell_type": "code",
   "execution_count": 47,
   "metadata": {},
   "outputs": [
    {
     "name": "stdout",
     "output_type": "stream",
     "text": [
      "\n",
      "If $100.00 was invested in [ ^IXIC ], and Just Hold and Not Trade for 26 years, the ROI = $1,367.82\n"
     ]
    }
   ],
   "source": [
    "print(\"\\nIf ${:,.2f} was invested in [ {} ], and Just Hold and Not Trade for {:,} years, the ROI = ${:,.2f}\".format( invest, stock.upper(), diff_years, invest/data.iloc[0, 0] * data.iloc[-1,0]))"
   ]
  },
  {
   "cell_type": "code",
   "execution_count": 48,
   "metadata": {},
   "outputs": [
    {
     "name": "stdout",
     "output_type": "stream",
     "text": [
      "\n",
      "If $100.00 was invested 26 years ago, buy and sell according this script's recommandation, the ROI = $1,293.03\n"
     ]
    }
   ],
   "source": [
    "print (\"\\nIf ${:,.2f} was invested {:2d} years ago, buy and sell according this script\\'s recommandation, the ROI = ${:,.2f}\".format(invest, diff_years, (money + (share * df1.iloc[-1,6]))))"
   ]
  },
  {
   "cell_type": "code",
   "execution_count": 49,
   "metadata": {
    "scrolled": false
   },
   "outputs": [
    {
     "name": "stdout",
     "output_type": "stream",
     "text": [
      "           Date Stock Market Performance Scribe Predection\n",
      "6401 2021-06-07                       Up                Up\n",
      "6402 2021-06-08                       Up                Up\n",
      "6403 2021-06-09                     Down                Up\n",
      "6404 2021-06-10                       Up                Up\n",
      "6405 2021-06-11                       Up                Up\n",
      "6406 2021-06-14                       Up                Up\n",
      "6407 2021-06-15                     Down                Up\n",
      "6408 2021-06-16                     Down                Up\n",
      "6409 2021-06-17                       Up                Up\n",
      "6410 2021-06-18                     Down                Up\n",
      "6411 2021-06-21                       Up                Up\n",
      "6412 2021-06-22                       Up                Up\n",
      "6413 2021-06-23                       Up                Up\n",
      "6414 2021-06-24                       Up                Up\n",
      "6415 2021-06-25                     Down                Up\n"
     ]
    }
   ],
   "source": [
    "df1_summary=df1[['Date', 'Up_Down','Prediction_indicator']].copy()\n",
    "df1_summary['Stock Market Performance'] = df1_summary['Up_Down'].apply(lambda x: 'Up' if x > 0 else 'Down')\n",
    "df1_summary['Scribe Predection'] = df1_summary['Prediction_indicator'].apply(lambda x: 'Up' if x > 0 else 'Down')\n",
    "print (df1_summary[['Date','Stock Market Performance','Scribe Predection']].tail(15))"
   ]
  },
  {
   "cell_type": "code",
   "execution_count": 50,
   "metadata": {},
   "outputs": [],
   "source": [
    "#print(df1.loc[[i for i in range(len(df1)-20, len(df1)+2)],['Date','Close','Trend_Lag', 'Short_MV_Avg_Span-Long_MV_Avg_Span_Lag']])"
   ]
  },
  {
   "cell_type": "code",
   "execution_count": 51,
   "metadata": {},
   "outputs": [],
   "source": [
    "#print(df1.iloc[len(df1)-1,[1,7,10,11,12,13,14,15,16,17,18,19,20,21,22]])\n",
    "#df1.info()"
   ]
  },
  {
   "cell_type": "code",
   "execution_count": 52,
   "metadata": {},
   "outputs": [
    {
     "name": "stdout",
     "output_type": "stream",
     "text": [
      "\n",
      "Today [ ^IXIC ] actually went down, --- base on yesterday's data, We Predication [ ^IXIC ] should be going up.\n",
      "\n",
      "=========> Actual and Predication DO NOT match <=========\n"
     ]
    }
   ],
   "source": [
    "print (\"\\nToday [ %s ] actually went up,\" %stock.upper(), end = ' ') if (df1.iloc[-1,16] == 1) else print (\"\\nToday [ %s ] actually went down,\" %stock.upper(), end = \" \")\n",
    "print (\"--- base on yesterday\\'s data, \", end = '')\n",
    "print (\"We Predication [ %s ] should be going up.\" %stock.upper()) if (df1.iloc[-1,22] == 1) else print (\"We Predicae [ %s ] should be going down.\" %stock.upper())\n",
    "print (\"\\n=========> Actual and Predication MATCH <=========\") if (df1.iloc[-1,16] == df1.iloc[-1,22]) else print(\"\\n=========> Actual and Predication DO NOT match <=========\")"
   ]
  },
  {
   "cell_type": "code",
   "execution_count": 53,
   "metadata": {},
   "outputs": [],
   "source": [
    "x_tran= df1[df1.Date.dt.year < 2021][['const','Trend_Lag','Short_MV_Avg_Span-Long_MV_Avg_Span_Lag','Close-Open_Lag','High-Low_Lag','Volume_Lag']]\n",
    "y_train=df1[df1.Date.dt.year < 2021][\"Up_Down\"]\n",
    "x_test= df1[df1.Date.dt.year >= 2021][['const','Trend_Lag','Short_MV_Avg_Span-Long_MV_Avg_Span_Lag','Close-Open_Lag','High-Low_Lag','Volume_Lag']]\n",
    "y_test= df1[df1.Date.dt.year >= 2021][\"Up_Down\"]"
   ]
  },
  {
   "cell_type": "code",
   "execution_count": 54,
   "metadata": {},
   "outputs": [
    {
     "name": "stdout",
     "output_type": "stream",
     "text": [
      "Optimization terminated successfully.\n",
      "         Current function value: 0.687053\n",
      "         Iterations 4\n"
     ]
    }
   ],
   "source": [
    "model = sm.Logit(y_train,x_tran)\n",
    "result=model.fit()"
   ]
  },
  {
   "cell_type": "code",
   "execution_count": 55,
   "metadata": {},
   "outputs": [
    {
     "data": {
      "text/html": [
       "<table class=\"simpletable\">\n",
       "<caption>Logit Regression Results</caption>\n",
       "<tr>\n",
       "  <th>Dep. Variable:</th>        <td>Up_Down</td>     <th>  No. Observations:  </th>  <td>  6292</td> \n",
       "</tr>\n",
       "<tr>\n",
       "  <th>Model:</th>                 <td>Logit</td>      <th>  Df Residuals:      </th>  <td>  6286</td> \n",
       "</tr>\n",
       "<tr>\n",
       "  <th>Method:</th>                 <td>MLE</td>       <th>  Df Model:          </th>  <td>     5</td> \n",
       "</tr>\n",
       "<tr>\n",
       "  <th>Date:</th>            <td>Fri, 25 Jun 2021</td> <th>  Pseudo R-squ.:     </th> <td>0.001606</td>\n",
       "</tr>\n",
       "<tr>\n",
       "  <th>Time:</th>                <td>13:24:45</td>     <th>  Log-Likelihood:    </th> <td> -4322.9</td>\n",
       "</tr>\n",
       "<tr>\n",
       "  <th>converged:</th>             <td>True</td>       <th>  LL-Null:           </th> <td> -4329.9</td>\n",
       "</tr>\n",
       "<tr>\n",
       "  <th>Covariance Type:</th>     <td>nonrobust</td>    <th>  LLR p-value:       </th>  <td>0.01623</td>\n",
       "</tr>\n",
       "</table>\n",
       "<table class=\"simpletable\">\n",
       "<tr>\n",
       "                     <td></td>                       <th>coef</th>     <th>std err</th>      <th>z</th>      <th>P>|z|</th>  <th>[0.025</th>    <th>0.975]</th>  \n",
       "</tr>\n",
       "<tr>\n",
       "  <th>const</th>                                  <td>    0.1969</td> <td>    0.063</td> <td>    3.107</td> <td> 0.002</td> <td>    0.073</td> <td>    0.321</td>\n",
       "</tr>\n",
       "<tr>\n",
       "  <th>Trend_Lag</th>                              <td>    0.0034</td> <td>    0.096</td> <td>    0.036</td> <td> 0.972</td> <td>   -0.185</td> <td>    0.192</td>\n",
       "</tr>\n",
       "<tr>\n",
       "  <th>Short_MV_Avg_Span-Long_MV_Avg_Span_Lag</th> <td>    0.0009</td> <td>    0.000</td> <td>    3.542</td> <td> 0.000</td> <td>    0.000</td> <td>    0.001</td>\n",
       "</tr>\n",
       "<tr>\n",
       "  <th>Close-Open_Lag</th>                         <td>   -0.0004</td> <td>    0.001</td> <td>   -0.560</td> <td> 0.576</td> <td>   -0.002</td> <td>    0.001</td>\n",
       "</tr>\n",
       "<tr>\n",
       "  <th>High-Low_Lag</th>                           <td>   -0.0004</td> <td>    0.000</td> <td>   -0.888</td> <td> 0.375</td> <td>   -0.001</td> <td>    0.001</td>\n",
       "</tr>\n",
       "<tr>\n",
       "  <th>Volume_Lag</th>                             <td>    0.0002</td> <td>    0.001</td> <td>    0.167</td> <td> 0.867</td> <td>   -0.002</td> <td>    0.002</td>\n",
       "</tr>\n",
       "</table>"
      ],
      "text/plain": [
       "<class 'statsmodels.iolib.summary.Summary'>\n",
       "\"\"\"\n",
       "                           Logit Regression Results                           \n",
       "==============================================================================\n",
       "Dep. Variable:                Up_Down   No. Observations:                 6292\n",
       "Model:                          Logit   Df Residuals:                     6286\n",
       "Method:                           MLE   Df Model:                            5\n",
       "Date:                Fri, 25 Jun 2021   Pseudo R-squ.:                0.001606\n",
       "Time:                        13:24:45   Log-Likelihood:                -4322.9\n",
       "converged:                       True   LL-Null:                       -4329.9\n",
       "Covariance Type:            nonrobust   LLR p-value:                   0.01623\n",
       "==========================================================================================================\n",
       "                                             coef    std err          z      P>|z|      [0.025      0.975]\n",
       "----------------------------------------------------------------------------------------------------------\n",
       "const                                      0.1969      0.063      3.107      0.002       0.073       0.321\n",
       "Trend_Lag                                  0.0034      0.096      0.036      0.972      -0.185       0.192\n",
       "Short_MV_Avg_Span-Long_MV_Avg_Span_Lag     0.0009      0.000      3.542      0.000       0.000       0.001\n",
       "Close-Open_Lag                            -0.0004      0.001     -0.560      0.576      -0.002       0.001\n",
       "High-Low_Lag                              -0.0004      0.000     -0.888      0.375      -0.001       0.001\n",
       "Volume_Lag                                 0.0002      0.001      0.167      0.867      -0.002       0.002\n",
       "==========================================================================================================\n",
       "\"\"\""
      ]
     },
     "execution_count": 55,
     "metadata": {},
     "output_type": "execute_result"
    }
   ],
   "source": [
    "result.summary()"
   ]
  },
  {
   "cell_type": "code",
   "execution_count": 56,
   "metadata": {},
   "outputs": [],
   "source": [
    "#print(result.summary().as_csv())"
   ]
  },
  {
   "cell_type": "code",
   "execution_count": 57,
   "metadata": {},
   "outputs": [],
   "source": [
    "summary_list=result.summary().as_csv().split(\",\")"
   ]
  },
  {
   "cell_type": "code",
   "execution_count": 58,
   "metadata": {},
   "outputs": [],
   "source": [
    "#print(summary_list)"
   ]
  },
  {
   "cell_type": "code",
   "execution_count": 59,
   "metadata": {},
   "outputs": [],
   "source": [
    "#print(summary_list[37:39])"
   ]
  },
  {
   "cell_type": "code",
   "execution_count": 60,
   "metadata": {},
   "outputs": [
    {
     "data": {
      "text/html": [
       "<div>\n",
       "<style scoped>\n",
       "    .dataframe tbody tr th:only-of-type {\n",
       "        vertical-align: middle;\n",
       "    }\n",
       "\n",
       "    .dataframe tbody tr th {\n",
       "        vertical-align: top;\n",
       "    }\n",
       "\n",
       "    .dataframe thead th {\n",
       "        text-align: right;\n",
       "    }\n",
       "</style>\n",
       "<table border=\"1\" class=\"dataframe\">\n",
       "  <thead>\n",
       "    <tr style=\"text-align: right;\">\n",
       "      <th>Predict</th>\n",
       "      <th>Down</th>\n",
       "      <th>Up</th>\n",
       "    </tr>\n",
       "    <tr>\n",
       "      <th>Actual</th>\n",
       "      <th></th>\n",
       "      <th></th>\n",
       "    </tr>\n",
       "  </thead>\n",
       "  <tbody>\n",
       "    <tr>\n",
       "      <th>Down</th>\n",
       "      <td>0</td>\n",
       "      <td>56</td>\n",
       "    </tr>\n",
       "    <tr>\n",
       "      <th>Up</th>\n",
       "      <td>1</td>\n",
       "      <td>64</td>\n",
       "    </tr>\n",
       "  </tbody>\n",
       "</table>\n",
       "</div>"
      ],
      "text/plain": [
       "Predict  Down  Up\n",
       "Actual           \n",
       "Down        0  56\n",
       "Up          1  64"
      ]
     },
     "execution_count": 60,
     "metadata": {},
     "output_type": "execute_result"
    }
   ],
   "source": [
    "prediction = result.predict(x_test)\n",
    "confusion_matrix(y_test, prediction)"
   ]
  },
  {
   "cell_type": "code",
   "execution_count": 61,
   "metadata": {},
   "outputs": [],
   "source": [
    "z = confusion_matrix(y_test,prediction)"
   ]
  },
  {
   "cell_type": "code",
   "execution_count": 62,
   "metadata": {},
   "outputs": [
    {
     "name": "stdout",
     "output_type": "stream",
     "text": [
      "\n",
      "=========> Prediction Accuracy Rate: 0.5289 <=========\n",
      "\n"
     ]
    }
   ],
   "source": [
    "try:\n",
    "    print (\"\\n=========> Prediction Accuracy Rate: %.4f <=========\\n\"  %((z.loc['Down','Down'] + z.loc['Up','Up']) / len(x_test)))\n",
    "except:\n",
    "    print (\"\\n=========> Predication effectiveness is not avairable <=========\\n\" )"
   ]
  },
  {
   "cell_type": "code",
   "execution_count": 63,
   "metadata": {},
   "outputs": [
    {
     "name": "stdout",
     "output_type": "stream",
     "text": [
      "\n",
      "=========> Current trend = 0.5962,   [ ^IXIC ] will go up! <=========\n"
     ]
    }
   ],
   "source": [
    "prediction = result.predict(x_test)\n",
    "now_up_down  = result.predict([1.0, df1.iloc[-1, 10], df1.iloc[-1, 19], df1.iloc[-1, 12], df1.iloc[-1, 14], df1.iloc[-1, 7]])\n",
    "print (\"\\n=========> Current trend = %.4f,  \" %now_up_down, end=' ')\n",
    "print (\"[ %s ] will go up! <=========\" %stock.upper()) if now_up_down > cutoff else print (\"[ %s ] will go down! <=========\" %stock.upper()) "
   ]
  },
  {
   "cell_type": "code",
   "execution_count": 64,
   "metadata": {},
   "outputs": [
    {
     "name": "stdout",
     "output_type": "stream",
     "text": [
      "\n",
      " ============> 20 Days over 50 Days Moving Average Indicator \n",
      " ============> 166.1200....178.2496....189.1622....203.4308....214.5522....<=============\n",
      "\n",
      " ============> No Trading Waring at this time! <=============\n"
     ]
    }
   ],
   "source": [
    "#print (\"\\n=========> Current trend = %.4f,  \" %now_up_down, end=' ')\n",
    "print (\"\\n ============> %s Days over %s Days Moving Average Indicator \\n ============> %.4f....%.4f....%.4f....%.4f....%.4f....<=============\" %(short_moving_average_span, long_moving_average_span, df1.iloc[-5,19], df1.iloc[-4,19], df1.iloc[-3,19], df1.iloc[-2,19],df1.iloc[-1,19]))\n",
    "if df1.iloc[-1,19] * df1.iloc[-2,19] < 0:\n",
    "    print (\"\\n ============> Warning, It Is the Time to Sell [ %s ] <=========\" %stock.upper()) if df1.iloc[-1,19] < 0 else print (\"\\n ============> It Is the Time to Buy [ %s ] ! <=========\" %stock.upper())\n",
    "else:\n",
    "    print (\"\\n ============> No Trading Waring at this time! <=============\")"
   ]
  },
  {
   "cell_type": "code",
   "execution_count": null,
   "metadata": {},
   "outputs": [],
   "source": []
  },
  {
   "cell_type": "code",
   "execution_count": 65,
   "metadata": {},
   "outputs": [],
   "source": [
    "#df1.to_csv('fb.csv', index = False)"
   ]
  }
 ],
 "metadata": {
  "kernelspec": {
   "display_name": "Python 3",
   "language": "python",
   "name": "python3"
  },
  "language_info": {
   "codemirror_mode": {
    "name": "ipython",
    "version": 3
   },
   "file_extension": ".py",
   "mimetype": "text/x-python",
   "name": "python",
   "nbconvert_exporter": "python",
   "pygments_lexer": "ipython3",
   "version": "3.8.5"
  }
 },
 "nbformat": 4,
 "nbformat_minor": 4
}
