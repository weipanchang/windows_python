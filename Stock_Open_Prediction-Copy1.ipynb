{
 "cells": [
  {
   "cell_type": "code",
   "execution_count": 1,
   "metadata": {},
   "outputs": [],
   "source": [
    "import yfinance as yf"
   ]
  },
  {
   "cell_type": "code",
   "execution_count": 2,
   "metadata": {},
   "outputs": [],
   "source": [
    "import numpy as np"
   ]
  },
  {
   "cell_type": "code",
   "execution_count": 3,
   "metadata": {},
   "outputs": [],
   "source": [
    "import pandas as pd"
   ]
  },
  {
   "cell_type": "code",
   "execution_count": 4,
   "metadata": {},
   "outputs": [],
   "source": [
    "import statsmodels.api as sm"
   ]
  },
  {
   "cell_type": "code",
   "execution_count": 5,
   "metadata": {},
   "outputs": [],
   "source": [
    "import datetime\n",
    "from dateutil.relativedelta import relativedelta\n",
    "from datetime import date"
   ]
  },
  {
   "cell_type": "code",
   "execution_count": 6,
   "metadata": {},
   "outputs": [],
   "source": [
    "stock = 'smci'\n",
    "\n",
    "cutoff=0.52\n",
    "invest = 100\n",
    "years_of_data_to_process = 25"
   ]
  },
  {
   "cell_type": "code",
   "execution_count": 7,
   "metadata": {},
   "outputs": [],
   "source": [
    "currentDateTime = datetime.datetime.now()\n",
    "date = currentDateTime.date()\n",
    "year = date.strftime(\"%Y\")\n",
    "start_year =  int(year) - years_of_data_to_process\n",
    "start = datetime.datetime(start_year, 1, 1)"
   ]
  },
  {
   "cell_type": "code",
   "execution_count": 8,
   "metadata": {},
   "outputs": [
    {
     "name": "stdout",
     "output_type": "stream",
     "text": [
      "[*********************100%***********************]  1 of 1 completed\n"
     ]
    }
   ],
   "source": [
    "data =  yf.download(stock, start=start)"
   ]
  },
  {
   "cell_type": "code",
   "execution_count": 9,
   "metadata": {},
   "outputs": [
    {
     "data": {
      "text/html": [
       "<div>\n",
       "<style scoped>\n",
       "    .dataframe tbody tr th:only-of-type {\n",
       "        vertical-align: middle;\n",
       "    }\n",
       "\n",
       "    .dataframe tbody tr th {\n",
       "        vertical-align: top;\n",
       "    }\n",
       "\n",
       "    .dataframe thead th {\n",
       "        text-align: right;\n",
       "    }\n",
       "</style>\n",
       "<table border=\"1\" class=\"dataframe\">\n",
       "  <thead>\n",
       "    <tr style=\"text-align: right;\">\n",
       "      <th></th>\n",
       "      <th>Open</th>\n",
       "      <th>High</th>\n",
       "      <th>Low</th>\n",
       "      <th>Close</th>\n",
       "      <th>Adj Close</th>\n",
       "      <th>Volume</th>\n",
       "    </tr>\n",
       "    <tr>\n",
       "      <th>Date</th>\n",
       "      <th></th>\n",
       "      <th></th>\n",
       "      <th></th>\n",
       "      <th></th>\n",
       "      <th></th>\n",
       "      <th></th>\n",
       "    </tr>\n",
       "  </thead>\n",
       "  <tbody>\n",
       "    <tr>\n",
       "      <th>2007-03-29</th>\n",
       "      <td>8.850000</td>\n",
       "      <td>9.310000</td>\n",
       "      <td>8.660000</td>\n",
       "      <td>8.760000</td>\n",
       "      <td>8.760000</td>\n",
       "      <td>6079800</td>\n",
       "    </tr>\n",
       "    <tr>\n",
       "      <th>2007-03-30</th>\n",
       "      <td>8.830000</td>\n",
       "      <td>9.000000</td>\n",
       "      <td>8.550000</td>\n",
       "      <td>8.990000</td>\n",
       "      <td>8.990000</td>\n",
       "      <td>419500</td>\n",
       "    </tr>\n",
       "    <tr>\n",
       "      <th>2007-04-02</th>\n",
       "      <td>9.000000</td>\n",
       "      <td>10.590000</td>\n",
       "      <td>8.990000</td>\n",
       "      <td>10.380000</td>\n",
       "      <td>10.380000</td>\n",
       "      <td>749100</td>\n",
       "    </tr>\n",
       "    <tr>\n",
       "      <th>2007-04-03</th>\n",
       "      <td>10.700000</td>\n",
       "      <td>11.660000</td>\n",
       "      <td>10.400000</td>\n",
       "      <td>10.580000</td>\n",
       "      <td>10.580000</td>\n",
       "      <td>835700</td>\n",
       "    </tr>\n",
       "    <tr>\n",
       "      <th>2007-04-04</th>\n",
       "      <td>10.400000</td>\n",
       "      <td>10.990000</td>\n",
       "      <td>10.030000</td>\n",
       "      <td>10.160000</td>\n",
       "      <td>10.160000</td>\n",
       "      <td>309500</td>\n",
       "    </tr>\n",
       "    <tr>\n",
       "      <th>...</th>\n",
       "      <td>...</td>\n",
       "      <td>...</td>\n",
       "      <td>...</td>\n",
       "      <td>...</td>\n",
       "      <td>...</td>\n",
       "      <td>...</td>\n",
       "    </tr>\n",
       "    <tr>\n",
       "      <th>2021-06-02</th>\n",
       "      <td>35.349998</td>\n",
       "      <td>36.389999</td>\n",
       "      <td>34.840000</td>\n",
       "      <td>36.279999</td>\n",
       "      <td>36.279999</td>\n",
       "      <td>456400</td>\n",
       "    </tr>\n",
       "    <tr>\n",
       "      <th>2021-06-03</th>\n",
       "      <td>36.220001</td>\n",
       "      <td>36.450001</td>\n",
       "      <td>35.770000</td>\n",
       "      <td>36.410000</td>\n",
       "      <td>36.410000</td>\n",
       "      <td>108000</td>\n",
       "    </tr>\n",
       "    <tr>\n",
       "      <th>2021-06-04</th>\n",
       "      <td>36.439999</td>\n",
       "      <td>36.770000</td>\n",
       "      <td>36.150002</td>\n",
       "      <td>36.689999</td>\n",
       "      <td>36.689999</td>\n",
       "      <td>97300</td>\n",
       "    </tr>\n",
       "    <tr>\n",
       "      <th>2021-06-07</th>\n",
       "      <td>36.790001</td>\n",
       "      <td>37.150002</td>\n",
       "      <td>36.470001</td>\n",
       "      <td>37.000000</td>\n",
       "      <td>37.000000</td>\n",
       "      <td>167100</td>\n",
       "    </tr>\n",
       "    <tr>\n",
       "      <th>2021-06-08</th>\n",
       "      <td>37.200001</td>\n",
       "      <td>37.330002</td>\n",
       "      <td>36.820000</td>\n",
       "      <td>36.849998</td>\n",
       "      <td>36.849998</td>\n",
       "      <td>125099</td>\n",
       "    </tr>\n",
       "  </tbody>\n",
       "</table>\n",
       "<p>3574 rows × 6 columns</p>\n",
       "</div>"
      ],
      "text/plain": [
       "                 Open       High        Low      Close  Adj Close   Volume\n",
       "Date                                                                      \n",
       "2007-03-29   8.850000   9.310000   8.660000   8.760000   8.760000  6079800\n",
       "2007-03-30   8.830000   9.000000   8.550000   8.990000   8.990000   419500\n",
       "2007-04-02   9.000000  10.590000   8.990000  10.380000  10.380000   749100\n",
       "2007-04-03  10.700000  11.660000  10.400000  10.580000  10.580000   835700\n",
       "2007-04-04  10.400000  10.990000  10.030000  10.160000  10.160000   309500\n",
       "...               ...        ...        ...        ...        ...      ...\n",
       "2021-06-02  35.349998  36.389999  34.840000  36.279999  36.279999   456400\n",
       "2021-06-03  36.220001  36.450001  35.770000  36.410000  36.410000   108000\n",
       "2021-06-04  36.439999  36.770000  36.150002  36.689999  36.689999    97300\n",
       "2021-06-07  36.790001  37.150002  36.470001  37.000000  37.000000   167100\n",
       "2021-06-08  37.200001  37.330002  36.820000  36.849998  36.849998   125099\n",
       "\n",
       "[3574 rows x 6 columns]"
      ]
     },
     "execution_count": 9,
     "metadata": {},
     "output_type": "execute_result"
    }
   ],
   "source": [
    "data"
   ]
  },
  {
   "cell_type": "code",
   "execution_count": 10,
   "metadata": {},
   "outputs": [],
   "source": [
    "df = data[\"Close\"].pct_change() * 100"
   ]
  },
  {
   "cell_type": "code",
   "execution_count": 11,
   "metadata": {},
   "outputs": [],
   "source": [
    "df = df.rename(\"Today_Change_%\")\n",
    "df = df.reset_index()"
   ]
  },
  {
   "cell_type": "code",
   "execution_count": 12,
   "metadata": {},
   "outputs": [],
   "source": [
    "df1 = pd.merge(data,df, on=\"Date\")\n",
    "#df1"
   ]
  },
  {
   "cell_type": "code",
   "execution_count": 13,
   "metadata": {},
   "outputs": [],
   "source": [
    "df1.insert(7,'Volume_Lag', None)\n",
    "df1['Volume_Lag'] = df1.Volume.shift(1).values/1000000000\n",
    "df1.Volume = df1.Volume/1000000000"
   ]
  },
  {
   "cell_type": "code",
   "execution_count": 14,
   "metadata": {},
   "outputs": [],
   "source": [
    "df1[\"Trend\"] =  (df1[\"Close\"] - df1[\"Low\"])/ ((df1[\"High\"] - df1[\"Low\"]))"
   ]
  },
  {
   "cell_type": "code",
   "execution_count": 15,
   "metadata": {},
   "outputs": [],
   "source": [
    "df1[\"Trend_Lag\"] = df1[\"Trend\"].shift(1)"
   ]
  },
  {
   "cell_type": "code",
   "execution_count": 16,
   "metadata": {},
   "outputs": [],
   "source": [
    "df1['Close-Open'] =  df1['Close'] - df1['Open']\n",
    "df1['Close-Open_Lag'] = df1['Close-Open'].shift(1)"
   ]
  },
  {
   "cell_type": "code",
   "execution_count": 17,
   "metadata": {},
   "outputs": [],
   "source": [
    "df1['High-Low'] =  df1['High'] - df1['Low']\n",
    "df1['High-Low_Lag'] = df1['High-Low'].shift(1)"
   ]
  },
  {
   "cell_type": "code",
   "execution_count": 18,
   "metadata": {},
   "outputs": [],
   "source": [
    "df1 = sm.add_constant(df1)\n",
    "df1[\"Up_Down\"] = [1 if (i > 0) else 0 for i in df1[\"Today_Change_%\"]]"
   ]
  },
  {
   "cell_type": "code",
   "execution_count": 19,
   "metadata": {},
   "outputs": [],
   "source": [
    "df1.dropna(inplace= True)"
   ]
  },
  {
   "cell_type": "code",
   "execution_count": 20,
   "metadata": {},
   "outputs": [],
   "source": [
    "df1['SMA20'] = df1['Close'].ewm(span=20, adjust=False).mean()\n",
    "df1.dropna(inplace= True)\n",
    "#df1"
   ]
  },
  {
   "cell_type": "code",
   "execution_count": 21,
   "metadata": {},
   "outputs": [],
   "source": [
    "df1['SMA50'] = df1['Close'].ewm(span=50, adjust=False).mean()\n",
    "df1.dropna(inplace= True)\n",
    "#df1"
   ]
  },
  {
   "cell_type": "code",
   "execution_count": 22,
   "metadata": {},
   "outputs": [
    {
     "data": {
      "text/html": [
       "<div>\n",
       "<style scoped>\n",
       "    .dataframe tbody tr th:only-of-type {\n",
       "        vertical-align: middle;\n",
       "    }\n",
       "\n",
       "    .dataframe tbody tr th {\n",
       "        vertical-align: top;\n",
       "    }\n",
       "\n",
       "    .dataframe thead th {\n",
       "        text-align: right;\n",
       "    }\n",
       "</style>\n",
       "<table border=\"1\" class=\"dataframe\">\n",
       "  <thead>\n",
       "    <tr style=\"text-align: right;\">\n",
       "      <th></th>\n",
       "      <th>const</th>\n",
       "      <th>Date</th>\n",
       "      <th>Open</th>\n",
       "      <th>High</th>\n",
       "      <th>Low</th>\n",
       "      <th>Close</th>\n",
       "      <th>Adj Close</th>\n",
       "      <th>Volume</th>\n",
       "      <th>Volume_Lag</th>\n",
       "      <th>Today_Change_%</th>\n",
       "      <th>...</th>\n",
       "      <th>Trend_Lag</th>\n",
       "      <th>Close-Open</th>\n",
       "      <th>Close-Open_Lag</th>\n",
       "      <th>High-Low</th>\n",
       "      <th>High-Low_Lag</th>\n",
       "      <th>Up_Down</th>\n",
       "      <th>SMA20</th>\n",
       "      <th>SMA50</th>\n",
       "      <th>SMA20-SMA50</th>\n",
       "      <th>SMA20-SMA50_Lag</th>\n",
       "    </tr>\n",
       "  </thead>\n",
       "  <tbody>\n",
       "    <tr>\n",
       "      <th>1</th>\n",
       "      <td>1.0</td>\n",
       "      <td>2007-03-30</td>\n",
       "      <td>8.830000</td>\n",
       "      <td>9.000000</td>\n",
       "      <td>8.550000</td>\n",
       "      <td>8.990000</td>\n",
       "      <td>8.990000</td>\n",
       "      <td>0.000420</td>\n",
       "      <td>0.006080</td>\n",
       "      <td>2.625565</td>\n",
       "      <td>...</td>\n",
       "      <td>0.153847</td>\n",
       "      <td>0.160000</td>\n",
       "      <td>-0.090000</td>\n",
       "      <td>0.450000</td>\n",
       "      <td>0.650001</td>\n",
       "      <td>1</td>\n",
       "      <td>8.990000</td>\n",
       "      <td>8.990000</td>\n",
       "      <td>0.000000</td>\n",
       "      <td>NaN</td>\n",
       "    </tr>\n",
       "    <tr>\n",
       "      <th>2</th>\n",
       "      <td>1.0</td>\n",
       "      <td>2007-04-02</td>\n",
       "      <td>9.000000</td>\n",
       "      <td>10.590000</td>\n",
       "      <td>8.990000</td>\n",
       "      <td>10.380000</td>\n",
       "      <td>10.380000</td>\n",
       "      <td>0.000749</td>\n",
       "      <td>0.000420</td>\n",
       "      <td>15.461628</td>\n",
       "      <td>...</td>\n",
       "      <td>0.977777</td>\n",
       "      <td>1.380000</td>\n",
       "      <td>0.160000</td>\n",
       "      <td>1.600000</td>\n",
       "      <td>0.450000</td>\n",
       "      <td>1</td>\n",
       "      <td>9.122381</td>\n",
       "      <td>9.044510</td>\n",
       "      <td>0.077871</td>\n",
       "      <td>0.000000</td>\n",
       "    </tr>\n",
       "    <tr>\n",
       "      <th>3</th>\n",
       "      <td>1.0</td>\n",
       "      <td>2007-04-03</td>\n",
       "      <td>10.700000</td>\n",
       "      <td>11.660000</td>\n",
       "      <td>10.400000</td>\n",
       "      <td>10.580000</td>\n",
       "      <td>10.580000</td>\n",
       "      <td>0.000836</td>\n",
       "      <td>0.000749</td>\n",
       "      <td>1.926780</td>\n",
       "      <td>...</td>\n",
       "      <td>0.868750</td>\n",
       "      <td>-0.120000</td>\n",
       "      <td>1.380000</td>\n",
       "      <td>1.260000</td>\n",
       "      <td>1.600000</td>\n",
       "      <td>1</td>\n",
       "      <td>9.261202</td>\n",
       "      <td>9.104725</td>\n",
       "      <td>0.156477</td>\n",
       "      <td>0.077871</td>\n",
       "    </tr>\n",
       "    <tr>\n",
       "      <th>4</th>\n",
       "      <td>1.0</td>\n",
       "      <td>2007-04-04</td>\n",
       "      <td>10.400000</td>\n",
       "      <td>10.990000</td>\n",
       "      <td>10.030000</td>\n",
       "      <td>10.160000</td>\n",
       "      <td>10.160000</td>\n",
       "      <td>0.000309</td>\n",
       "      <td>0.000836</td>\n",
       "      <td>-3.969755</td>\n",
       "      <td>...</td>\n",
       "      <td>0.142857</td>\n",
       "      <td>-0.240000</td>\n",
       "      <td>-0.120000</td>\n",
       "      <td>0.960000</td>\n",
       "      <td>1.260000</td>\n",
       "      <td>0</td>\n",
       "      <td>9.346801</td>\n",
       "      <td>9.146108</td>\n",
       "      <td>0.200693</td>\n",
       "      <td>0.156477</td>\n",
       "    </tr>\n",
       "    <tr>\n",
       "      <th>5</th>\n",
       "      <td>1.0</td>\n",
       "      <td>2007-04-05</td>\n",
       "      <td>10.020000</td>\n",
       "      <td>10.250000</td>\n",
       "      <td>9.520000</td>\n",
       "      <td>9.800000</td>\n",
       "      <td>9.800000</td>\n",
       "      <td>0.000425</td>\n",
       "      <td>0.000309</td>\n",
       "      <td>-3.543304</td>\n",
       "      <td>...</td>\n",
       "      <td>0.135417</td>\n",
       "      <td>-0.220000</td>\n",
       "      <td>-0.240000</td>\n",
       "      <td>0.730000</td>\n",
       "      <td>0.960000</td>\n",
       "      <td>0</td>\n",
       "      <td>9.389963</td>\n",
       "      <td>9.171751</td>\n",
       "      <td>0.218212</td>\n",
       "      <td>0.200693</td>\n",
       "    </tr>\n",
       "    <tr>\n",
       "      <th>...</th>\n",
       "      <td>...</td>\n",
       "      <td>...</td>\n",
       "      <td>...</td>\n",
       "      <td>...</td>\n",
       "      <td>...</td>\n",
       "      <td>...</td>\n",
       "      <td>...</td>\n",
       "      <td>...</td>\n",
       "      <td>...</td>\n",
       "      <td>...</td>\n",
       "      <td>...</td>\n",
       "      <td>...</td>\n",
       "      <td>...</td>\n",
       "      <td>...</td>\n",
       "      <td>...</td>\n",
       "      <td>...</td>\n",
       "      <td>...</td>\n",
       "      <td>...</td>\n",
       "      <td>...</td>\n",
       "      <td>...</td>\n",
       "      <td>...</td>\n",
       "    </tr>\n",
       "    <tr>\n",
       "      <th>3569</th>\n",
       "      <td>1.0</td>\n",
       "      <td>2021-06-02</td>\n",
       "      <td>35.349998</td>\n",
       "      <td>36.389999</td>\n",
       "      <td>34.840000</td>\n",
       "      <td>36.279999</td>\n",
       "      <td>36.279999</td>\n",
       "      <td>0.000456</td>\n",
       "      <td>0.000195</td>\n",
       "      <td>3.038909</td>\n",
       "      <td>...</td>\n",
       "      <td>0.662161</td>\n",
       "      <td>0.930000</td>\n",
       "      <td>0.129997</td>\n",
       "      <td>1.549999</td>\n",
       "      <td>0.739998</td>\n",
       "      <td>1</td>\n",
       "      <td>35.925109</td>\n",
       "      <td>36.231447</td>\n",
       "      <td>-0.306338</td>\n",
       "      <td>-0.341713</td>\n",
       "    </tr>\n",
       "    <tr>\n",
       "      <th>3570</th>\n",
       "      <td>1.0</td>\n",
       "      <td>2021-06-03</td>\n",
       "      <td>36.220001</td>\n",
       "      <td>36.450001</td>\n",
       "      <td>35.770000</td>\n",
       "      <td>36.410000</td>\n",
       "      <td>36.410000</td>\n",
       "      <td>0.000108</td>\n",
       "      <td>0.000456</td>\n",
       "      <td>0.358327</td>\n",
       "      <td>...</td>\n",
       "      <td>0.929032</td>\n",
       "      <td>0.189999</td>\n",
       "      <td>0.930000</td>\n",
       "      <td>0.680000</td>\n",
       "      <td>1.549999</td>\n",
       "      <td>1</td>\n",
       "      <td>35.971289</td>\n",
       "      <td>36.238449</td>\n",
       "      <td>-0.267160</td>\n",
       "      <td>-0.306338</td>\n",
       "    </tr>\n",
       "    <tr>\n",
       "      <th>3571</th>\n",
       "      <td>1.0</td>\n",
       "      <td>2021-06-04</td>\n",
       "      <td>36.439999</td>\n",
       "      <td>36.770000</td>\n",
       "      <td>36.150002</td>\n",
       "      <td>36.689999</td>\n",
       "      <td>36.689999</td>\n",
       "      <td>0.000097</td>\n",
       "      <td>0.000108</td>\n",
       "      <td>0.769016</td>\n",
       "      <td>...</td>\n",
       "      <td>0.941175</td>\n",
       "      <td>0.250000</td>\n",
       "      <td>0.189999</td>\n",
       "      <td>0.619999</td>\n",
       "      <td>0.680000</td>\n",
       "      <td>1</td>\n",
       "      <td>36.039737</td>\n",
       "      <td>36.256157</td>\n",
       "      <td>-0.216420</td>\n",
       "      <td>-0.267160</td>\n",
       "    </tr>\n",
       "    <tr>\n",
       "      <th>3572</th>\n",
       "      <td>1.0</td>\n",
       "      <td>2021-06-07</td>\n",
       "      <td>36.790001</td>\n",
       "      <td>37.150002</td>\n",
       "      <td>36.470001</td>\n",
       "      <td>37.000000</td>\n",
       "      <td>37.000000</td>\n",
       "      <td>0.000167</td>\n",
       "      <td>0.000097</td>\n",
       "      <td>0.844921</td>\n",
       "      <td>...</td>\n",
       "      <td>0.870965</td>\n",
       "      <td>0.209999</td>\n",
       "      <td>0.250000</td>\n",
       "      <td>0.680000</td>\n",
       "      <td>0.619999</td>\n",
       "      <td>1</td>\n",
       "      <td>36.131191</td>\n",
       "      <td>36.285327</td>\n",
       "      <td>-0.154136</td>\n",
       "      <td>-0.216420</td>\n",
       "    </tr>\n",
       "    <tr>\n",
       "      <th>3573</th>\n",
       "      <td>1.0</td>\n",
       "      <td>2021-06-08</td>\n",
       "      <td>37.200001</td>\n",
       "      <td>37.330002</td>\n",
       "      <td>36.820000</td>\n",
       "      <td>36.849998</td>\n",
       "      <td>36.849998</td>\n",
       "      <td>0.000125</td>\n",
       "      <td>0.000167</td>\n",
       "      <td>-0.405410</td>\n",
       "      <td>...</td>\n",
       "      <td>0.779410</td>\n",
       "      <td>-0.350002</td>\n",
       "      <td>0.209999</td>\n",
       "      <td>0.510002</td>\n",
       "      <td>0.680000</td>\n",
       "      <td>0</td>\n",
       "      <td>36.199649</td>\n",
       "      <td>36.307471</td>\n",
       "      <td>-0.107822</td>\n",
       "      <td>-0.154136</td>\n",
       "    </tr>\n",
       "  </tbody>\n",
       "</table>\n",
       "<p>3571 rows × 21 columns</p>\n",
       "</div>"
      ],
      "text/plain": [
       "      const       Date       Open       High        Low      Close  Adj Close  \\\n",
       "1       1.0 2007-03-30   8.830000   9.000000   8.550000   8.990000   8.990000   \n",
       "2       1.0 2007-04-02   9.000000  10.590000   8.990000  10.380000  10.380000   \n",
       "3       1.0 2007-04-03  10.700000  11.660000  10.400000  10.580000  10.580000   \n",
       "4       1.0 2007-04-04  10.400000  10.990000  10.030000  10.160000  10.160000   \n",
       "5       1.0 2007-04-05  10.020000  10.250000   9.520000   9.800000   9.800000   \n",
       "...     ...        ...        ...        ...        ...        ...        ...   \n",
       "3569    1.0 2021-06-02  35.349998  36.389999  34.840000  36.279999  36.279999   \n",
       "3570    1.0 2021-06-03  36.220001  36.450001  35.770000  36.410000  36.410000   \n",
       "3571    1.0 2021-06-04  36.439999  36.770000  36.150002  36.689999  36.689999   \n",
       "3572    1.0 2021-06-07  36.790001  37.150002  36.470001  37.000000  37.000000   \n",
       "3573    1.0 2021-06-08  37.200001  37.330002  36.820000  36.849998  36.849998   \n",
       "\n",
       "        Volume  Volume_Lag  Today_Change_%  ...  Trend_Lag  Close-Open  \\\n",
       "1     0.000420    0.006080        2.625565  ...   0.153847    0.160000   \n",
       "2     0.000749    0.000420       15.461628  ...   0.977777    1.380000   \n",
       "3     0.000836    0.000749        1.926780  ...   0.868750   -0.120000   \n",
       "4     0.000309    0.000836       -3.969755  ...   0.142857   -0.240000   \n",
       "5     0.000425    0.000309       -3.543304  ...   0.135417   -0.220000   \n",
       "...        ...         ...             ...  ...        ...         ...   \n",
       "3569  0.000456    0.000195        3.038909  ...   0.662161    0.930000   \n",
       "3570  0.000108    0.000456        0.358327  ...   0.929032    0.189999   \n",
       "3571  0.000097    0.000108        0.769016  ...   0.941175    0.250000   \n",
       "3572  0.000167    0.000097        0.844921  ...   0.870965    0.209999   \n",
       "3573  0.000125    0.000167       -0.405410  ...   0.779410   -0.350002   \n",
       "\n",
       "      Close-Open_Lag  High-Low  High-Low_Lag  Up_Down      SMA20      SMA50  \\\n",
       "1          -0.090000  0.450000      0.650001        1   8.990000   8.990000   \n",
       "2           0.160000  1.600000      0.450000        1   9.122381   9.044510   \n",
       "3           1.380000  1.260000      1.600000        1   9.261202   9.104725   \n",
       "4          -0.120000  0.960000      1.260000        0   9.346801   9.146108   \n",
       "5          -0.240000  0.730000      0.960000        0   9.389963   9.171751   \n",
       "...              ...       ...           ...      ...        ...        ...   \n",
       "3569        0.129997  1.549999      0.739998        1  35.925109  36.231447   \n",
       "3570        0.930000  0.680000      1.549999        1  35.971289  36.238449   \n",
       "3571        0.189999  0.619999      0.680000        1  36.039737  36.256157   \n",
       "3572        0.250000  0.680000      0.619999        1  36.131191  36.285327   \n",
       "3573        0.209999  0.510002      0.680000        0  36.199649  36.307471   \n",
       "\n",
       "      SMA20-SMA50  SMA20-SMA50_Lag  \n",
       "1        0.000000              NaN  \n",
       "2        0.077871         0.000000  \n",
       "3        0.156477         0.077871  \n",
       "4        0.200693         0.156477  \n",
       "5        0.218212         0.200693  \n",
       "...           ...              ...  \n",
       "3569    -0.306338        -0.341713  \n",
       "3570    -0.267160        -0.306338  \n",
       "3571    -0.216420        -0.267160  \n",
       "3572    -0.154136        -0.216420  \n",
       "3573    -0.107822        -0.154136  \n",
       "\n",
       "[3571 rows x 21 columns]"
      ]
     },
     "execution_count": 22,
     "metadata": {},
     "output_type": "execute_result"
    }
   ],
   "source": [
    "df1['SMA20-SMA50'] = df1.SMA20 - df1.SMA50\n",
    "df1['SMA20-SMA50_Lag'] = df1['SMA20-SMA50'].shift(1)\n",
    "df1"
   ]
  },
  {
   "cell_type": "code",
   "execution_count": 23,
   "metadata": {},
   "outputs": [],
   "source": [
    "#crossovers = pd.DataFrame()\n",
    "#crossovers['Dates'] = SMA20['Date']\n",
    "#crossovers['Price'] = [i for i in df1.Close]\n",
    "#crossovers['SMA20'] = SMA20['Close']\n",
    "#crossovers['SMA50'] = SMA50['Close']\n",
    "#crossovers"
   ]
  },
  {
   "cell_type": "code",
   "execution_count": 24,
   "metadata": {},
   "outputs": [],
   "source": [
    "df1.dropna(inplace= True)\n",
    "#df1"
   ]
  },
  {
   "cell_type": "code",
   "execution_count": 25,
   "metadata": {},
   "outputs": [],
   "source": [
    "X = df1[['const','Trend_Lag','SMA20-SMA50_Lag','Close-Open_Lag','High-Low_Lag','Volume_Lag']]"
   ]
  },
  {
   "cell_type": "code",
   "execution_count": 26,
   "metadata": {},
   "outputs": [],
   "source": [
    "y = df1[\"Up_Down\"].values"
   ]
  },
  {
   "cell_type": "code",
   "execution_count": 27,
   "metadata": {},
   "outputs": [],
   "source": [
    "model = sm.Logit(y,X)"
   ]
  },
  {
   "cell_type": "code",
   "execution_count": 28,
   "metadata": {},
   "outputs": [
    {
     "name": "stdout",
     "output_type": "stream",
     "text": [
      "Optimization terminated successfully.\n",
      "         Current function value: 0.692216\n",
      "         Iterations 5\n"
     ]
    }
   ],
   "source": [
    "result =  model.fit()"
   ]
  },
  {
   "cell_type": "code",
   "execution_count": 29,
   "metadata": {},
   "outputs": [
    {
     "data": {
      "text/html": [
       "<table class=\"simpletable\">\n",
       "<caption>Logit Regression Results</caption>\n",
       "<tr>\n",
       "  <th>Dep. Variable:</th>           <td>y</td>        <th>  No. Observations:  </th>  <td>  3570</td>  \n",
       "</tr>\n",
       "<tr>\n",
       "  <th>Model:</th>                 <td>Logit</td>      <th>  Df Residuals:      </th>  <td>  3564</td>  \n",
       "</tr>\n",
       "<tr>\n",
       "  <th>Method:</th>                 <td>MLE</td>       <th>  Df Model:          </th>  <td>     5</td>  \n",
       "</tr>\n",
       "<tr>\n",
       "  <th>Date:</th>            <td>Tue, 08 Jun 2021</td> <th>  Pseudo R-squ.:     </th> <td>0.0007778</td>\n",
       "</tr>\n",
       "<tr>\n",
       "  <th>Time:</th>                <td>17:27:06</td>     <th>  Log-Likelihood:    </th> <td> -2471.2</td> \n",
       "</tr>\n",
       "<tr>\n",
       "  <th>converged:</th>             <td>True</td>       <th>  LL-Null:           </th> <td> -2473.1</td> \n",
       "</tr>\n",
       "<tr>\n",
       "  <th>Covariance Type:</th>     <td>nonrobust</td>    <th>  LLR p-value:       </th>  <td>0.5716</td>  \n",
       "</tr>\n",
       "</table>\n",
       "<table class=\"simpletable\">\n",
       "<tr>\n",
       "         <td></td>            <th>coef</th>     <th>std err</th>      <th>z</th>      <th>P>|z|</th>  <th>[0.025</th>    <th>0.975]</th>  \n",
       "</tr>\n",
       "<tr>\n",
       "  <th>const</th>           <td>    0.0848</td> <td>    0.092</td> <td>    0.917</td> <td> 0.359</td> <td>   -0.096</td> <td>    0.266</td>\n",
       "</tr>\n",
       "<tr>\n",
       "  <th>Trend_Lag</th>       <td>   -0.1218</td> <td>    0.144</td> <td>   -0.847</td> <td> 0.397</td> <td>   -0.404</td> <td>    0.160</td>\n",
       "</tr>\n",
       "<tr>\n",
       "  <th>SMA20-SMA50_Lag</th> <td>   -0.0546</td> <td>    0.037</td> <td>   -1.474</td> <td> 0.140</td> <td>   -0.127</td> <td>    0.018</td>\n",
       "</tr>\n",
       "<tr>\n",
       "  <th>Close-Open_Lag</th>  <td>    0.0237</td> <td>    0.089</td> <td>    0.266</td> <td> 0.790</td> <td>   -0.151</td> <td>    0.199</td>\n",
       "</tr>\n",
       "<tr>\n",
       "  <th>High-Low_Lag</th>    <td>    0.0629</td> <td>    0.078</td> <td>    0.811</td> <td> 0.417</td> <td>   -0.089</td> <td>    0.215</td>\n",
       "</tr>\n",
       "<tr>\n",
       "  <th>Volume_Lag</th>      <td>   -0.8990</td> <td>   62.850</td> <td>   -0.014</td> <td> 0.989</td> <td> -124.084</td> <td>  122.286</td>\n",
       "</tr>\n",
       "</table>"
      ],
      "text/plain": [
       "<class 'statsmodels.iolib.summary.Summary'>\n",
       "\"\"\"\n",
       "                           Logit Regression Results                           \n",
       "==============================================================================\n",
       "Dep. Variable:                      y   No. Observations:                 3570\n",
       "Model:                          Logit   Df Residuals:                     3564\n",
       "Method:                           MLE   Df Model:                            5\n",
       "Date:                Tue, 08 Jun 2021   Pseudo R-squ.:               0.0007778\n",
       "Time:                        17:27:06   Log-Likelihood:                -2471.2\n",
       "converged:                       True   LL-Null:                       -2473.1\n",
       "Covariance Type:            nonrobust   LLR p-value:                    0.5716\n",
       "===================================================================================\n",
       "                      coef    std err          z      P>|z|      [0.025      0.975]\n",
       "-----------------------------------------------------------------------------------\n",
       "const               0.0848      0.092      0.917      0.359      -0.096       0.266\n",
       "Trend_Lag          -0.1218      0.144     -0.847      0.397      -0.404       0.160\n",
       "SMA20-SMA50_Lag    -0.0546      0.037     -1.474      0.140      -0.127       0.018\n",
       "Close-Open_Lag      0.0237      0.089      0.266      0.790      -0.151       0.199\n",
       "High-Low_Lag        0.0629      0.078      0.811      0.417      -0.089       0.215\n",
       "Volume_Lag         -0.8990     62.850     -0.014      0.989    -124.084     122.286\n",
       "===================================================================================\n",
       "\"\"\""
      ]
     },
     "execution_count": 29,
     "metadata": {},
     "output_type": "execute_result"
    }
   ],
   "source": [
    "result.summary()"
   ]
  },
  {
   "cell_type": "code",
   "execution_count": 30,
   "metadata": {},
   "outputs": [],
   "source": [
    "prediction = result.predict(X)"
   ]
  },
  {
   "cell_type": "code",
   "execution_count": 31,
   "metadata": {},
   "outputs": [],
   "source": [
    "df1['Prediction_Caculated'] = pd.array(prediction)\n",
    "df1['Prediction_indicator'] = pd.array([1 if i > cutoff else 0 for i in prediction])\n",
    "#df1.tail(10)"
   ]
  },
  {
   "cell_type": "code",
   "execution_count": 32,
   "metadata": {},
   "outputs": [],
   "source": [
    "y = df1[\"Up_Down\"].values"
   ]
  },
  {
   "cell_type": "code",
   "execution_count": 33,
   "metadata": {},
   "outputs": [],
   "source": [
    "def confusion_matrix(act,pred):\n",
    "    predtrans = ['Up' if i > cutoff else 'Down' for i in pred]\n",
    "    actuals = ['Up' if i > 0 else 'Down' for i in act]\n",
    "    confusion_matrix = pd.crosstab(pd.Series(actuals),\n",
    "                                   pd.Series(predtrans),\n",
    "                                   rownames = [\"Actual\"],\n",
    "                                   colnames = [\"Predict\"]\n",
    "                                  )\n",
    "    return confusion_matrix"
   ]
  },
  {
   "cell_type": "code",
   "execution_count": 34,
   "metadata": {},
   "outputs": [
    {
     "data": {
      "text/html": [
       "<div>\n",
       "<style scoped>\n",
       "    .dataframe tbody tr th:only-of-type {\n",
       "        vertical-align: middle;\n",
       "    }\n",
       "\n",
       "    .dataframe tbody tr th {\n",
       "        vertical-align: top;\n",
       "    }\n",
       "\n",
       "    .dataframe thead th {\n",
       "        text-align: right;\n",
       "    }\n",
       "</style>\n",
       "<table border=\"1\" class=\"dataframe\">\n",
       "  <thead>\n",
       "    <tr style=\"text-align: right;\">\n",
       "      <th>Predict</th>\n",
       "      <th>Down</th>\n",
       "      <th>Up</th>\n",
       "    </tr>\n",
       "    <tr>\n",
       "      <th>Actual</th>\n",
       "      <th></th>\n",
       "      <th></th>\n",
       "    </tr>\n",
       "  </thead>\n",
       "  <tbody>\n",
       "    <tr>\n",
       "      <th>Down</th>\n",
       "      <td>1175</td>\n",
       "      <td>560</td>\n",
       "    </tr>\n",
       "    <tr>\n",
       "      <th>Up</th>\n",
       "      <td>1197</td>\n",
       "      <td>638</td>\n",
       "    </tr>\n",
       "  </tbody>\n",
       "</table>\n",
       "</div>"
      ],
      "text/plain": [
       "Predict  Down   Up\n",
       "Actual            \n",
       "Down     1175  560\n",
       "Up       1197  638"
      ]
     },
     "execution_count": 34,
     "metadata": {},
     "output_type": "execute_result"
    }
   ],
   "source": [
    "confusion_matrix(y,prediction)"
   ]
  },
  {
   "cell_type": "code",
   "execution_count": 35,
   "metadata": {},
   "outputs": [
    {
     "name": "stdout",
     "output_type": "stream",
     "text": [
      "0.5078431372549019\n"
     ]
    }
   ],
   "source": [
    "z = confusion_matrix(y,prediction)\n",
    "try:\n",
    "    print((z.loc['Down','Down'] + z.loc['Up','Up']) / len(df1))\n",
    "except:\n",
    "    pass"
   ]
  },
  {
   "cell_type": "code",
   "execution_count": 36,
   "metadata": {},
   "outputs": [
    {
     "name": "stdout",
     "output_type": "stream",
     "text": [
      "0.7640117994100295\n"
     ]
    }
   ],
   "source": [
    "try:\n",
    "    print( (z.loc['Down', 'Down']+ z.loc['Up','Up']) / (z.loc['Down', 'Down']+ z.loc['Up','Up'] + z.loc['Down','Up']) )\n",
    "except:\n",
    "    pass"
   ]
  },
  {
   "cell_type": "code",
   "execution_count": 37,
   "metadata": {},
   "outputs": [],
   "source": [
    "df1 = df1.assign(share=np.nan,money=np.nan)\n",
    "#df1"
   ]
  },
  {
   "cell_type": "code",
   "execution_count": 38,
   "metadata": {},
   "outputs": [],
   "source": [
    "diff_years = round((df1.iloc[-1,1] - df1.iloc[0,1])/np.timedelta64(1,'Y') + 0.5)   "
   ]
  },
  {
   "cell_type": "code",
   "execution_count": 39,
   "metadata": {},
   "outputs": [],
   "source": [
    "#Simulate Investment transaction buy on opening when predict UP and sell daily average when predict DOWN\n",
    "\n",
    "def buy_sell(open_price, sell_price,prediction, money, share):\n",
    "    if prediction == 1 and money != 0:\n",
    "        share =  money / open_price\n",
    "        money = 0\n",
    "    elif prediction == 0 and share != 0:\n",
    "        money = share * sell_price\n",
    "        share = 0\n",
    "    else: pass\n",
    "    return [money, share]\n",
    "money = invest\n",
    "share = 0\n",
    "for i in range(len(df1)):\n",
    "    [money, share] = buy_sell(df1.iloc[i,2],(df1.iloc[i,3]+df1.iloc[i,4])/2,df1.iloc[i,22], money, share)\n",
    "    df1.iloc[i,23] = share\n",
    "    df1.iloc[i,24] = money\n",
    "    "
   ]
  },
  {
   "cell_type": "code",
   "execution_count": 40,
   "metadata": {},
   "outputs": [],
   "source": [
    "#df1"
   ]
  },
  {
   "cell_type": "code",
   "execution_count": 41,
   "metadata": {},
   "outputs": [
    {
     "name": "stdout",
     "output_type": "stream",
     "text": [
      "\n",
      "If $100.00 was invested in [ SMCI ], and Just Hold and Not Trade for 15 years, the ROI = $420.34\n"
     ]
    }
   ],
   "source": [
    "print(\"\\nIf ${:,.2f} was invested in [ {} ], and Just Hold and Not Trade for {:,} years, the ROI = ${:,.2f}\".format( invest, stock.upper(), diff_years, invest/data.iloc[0, 0] * data.iloc[-1,0]))"
   ]
  },
  {
   "cell_type": "code",
   "execution_count": 42,
   "metadata": {},
   "outputs": [
    {
     "name": "stdout",
     "output_type": "stream",
     "text": [
      "\n",
      "If $100.00 was invested 15 years ago, buy and sell according this script's recommandation, the ROI = $342.33\n"
     ]
    }
   ],
   "source": [
    "print (\"\\nIf ${:,.2f} was invested {:2d} years ago, buy and sell according this script\\'s recommandation, the ROI = ${:,.2f}\".format(invest, diff_years, (money + (share * df1.iloc[-1,6]))))"
   ]
  },
  {
   "cell_type": "code",
   "execution_count": 43,
   "metadata": {
    "scrolled": false
   },
   "outputs": [
    {
     "name": "stdout",
     "output_type": "stream",
     "text": [
      "           Date Stock Market Performance Scribe Predection\n",
      "3559 2021-05-18                     Down              Down\n",
      "3560 2021-05-19                     Down                Up\n",
      "3561 2021-05-20                       Up              Down\n",
      "3562 2021-05-21                     Down              Down\n",
      "3563 2021-05-24                       Up                Up\n",
      "3564 2021-05-25                     Down              Down\n",
      "3565 2021-05-26                       Up                Up\n",
      "3566 2021-05-27                       Up              Down\n",
      "3567 2021-05-28                     Down                Up\n",
      "3568 2021-06-01                       Up                Up\n",
      "3569 2021-06-02                       Up              Down\n",
      "3570 2021-06-03                       Up                Up\n",
      "3571 2021-06-04                       Up              Down\n",
      "3572 2021-06-07                       Up              Down\n",
      "3573 2021-06-08                     Down              Down\n"
     ]
    }
   ],
   "source": [
    "df1_summary=df1[['Date', 'Up_Down','Prediction_indicator']].copy()\n",
    "df1_summary['Stock Market Performance'] = df1_summary['Up_Down'].apply(lambda x: 'Up' if x > 0 else 'Down')\n",
    "df1_summary['Scribe Predection'] = df1_summary['Prediction_indicator'].apply(lambda x: 'Up' if x > 0 else 'Down')\n",
    "print (df1_summary[['Date','Stock Market Performance','Scribe Predection']].tail(15))"
   ]
  },
  {
   "cell_type": "code",
   "execution_count": 44,
   "metadata": {},
   "outputs": [],
   "source": [
    "#df1"
   ]
  },
  {
   "cell_type": "code",
   "execution_count": 45,
   "metadata": {},
   "outputs": [],
   "source": [
    "#print(df1.iloc[:,[7,10,11,12,13,14,15,16,17,18,19,20,21,22]])"
   ]
  },
  {
   "cell_type": "code",
   "execution_count": 46,
   "metadata": {},
   "outputs": [
    {
     "name": "stdout",
     "output_type": "stream",
     "text": [
      "\n",
      "Today [ SMCI ] actually went down, --- base on yesterday's data, We Predicae [ SMCI ] should be going down.\n",
      "\n",
      "=========> Actual and Predication MATCH <=========\n"
     ]
    }
   ],
   "source": [
    "print (\"\\nToday [ %s ] actually went up,\" %stock.upper(), end = ' ') if (df1.iloc[-1,16] == 1) else print (\"\\nToday [ %s ] actually went down,\" %stock.upper(), end = \" \")\n",
    "print (\"--- base on yesterday\\'s data, \", end = '')\n",
    "print (\"We Predication [ %s ] should be going up.\" %stock.upper()) if (df1.iloc[-1,22] == 1) else print (\"We Predicae [ %s ] should be going down.\" %stock.upper())\n",
    "print (\"\\n=========> Actual and Predication MATCH <=========\") if (df1.iloc[-1,16] == df1.iloc[-1,22]) else print(\"\\n=========> Actual and Predication DO NOT match <=========\")"
   ]
  },
  {
   "cell_type": "code",
   "execution_count": 47,
   "metadata": {},
   "outputs": [],
   "source": [
    "x_tran= df1[df1.Date.dt.year < 2021][['const','Trend_Lag','SMA20-SMA50_Lag','Close-Open_Lag','High-Low_Lag','Volume_Lag']]\n",
    "y_train=df1[df1.Date.dt.year < 2021][\"Up_Down\"]\n",
    "x_test= df1[df1.Date.dt.year >= 2021][['const','Trend_Lag','SMA20-SMA50_Lag','Close-Open_Lag','High-Low_Lag','Volume_Lag']]\n",
    "y_test= df1[df1.Date.dt.year >= 2021][\"Up_Down\"]"
   ]
  },
  {
   "cell_type": "code",
   "execution_count": 48,
   "metadata": {},
   "outputs": [
    {
     "name": "stdout",
     "output_type": "stream",
     "text": [
      "Optimization terminated successfully.\n",
      "         Current function value: 0.692211\n",
      "         Iterations 5\n"
     ]
    }
   ],
   "source": [
    "model = sm.Logit(y_train,x_tran)\n",
    "result=model.fit()"
   ]
  },
  {
   "cell_type": "code",
   "execution_count": 49,
   "metadata": {},
   "outputs": [
    {
     "data": {
      "text/html": [
       "<table class=\"simpletable\">\n",
       "<caption>Logit Regression Results</caption>\n",
       "<tr>\n",
       "  <th>Dep. Variable:</th>        <td>Up_Down</td>     <th>  No. Observations:  </th>  <td>  3462</td>  \n",
       "</tr>\n",
       "<tr>\n",
       "  <th>Model:</th>                 <td>Logit</td>      <th>  Df Residuals:      </th>  <td>  3456</td>  \n",
       "</tr>\n",
       "<tr>\n",
       "  <th>Method:</th>                 <td>MLE</td>       <th>  Df Model:          </th>  <td>     5</td>  \n",
       "</tr>\n",
       "<tr>\n",
       "  <th>Date:</th>            <td>Tue, 08 Jun 2021</td> <th>  Pseudo R-squ.:     </th> <td>0.0008848</td>\n",
       "</tr>\n",
       "<tr>\n",
       "  <th>Time:</th>                <td>17:27:08</td>     <th>  Log-Likelihood:    </th> <td> -2396.4</td> \n",
       "</tr>\n",
       "<tr>\n",
       "  <th>converged:</th>             <td>True</td>       <th>  LL-Null:           </th> <td> -2398.6</td> \n",
       "</tr>\n",
       "<tr>\n",
       "  <th>Covariance Type:</th>     <td>nonrobust</td>    <th>  LLR p-value:       </th>  <td>0.5148</td>  \n",
       "</tr>\n",
       "</table>\n",
       "<table class=\"simpletable\">\n",
       "<tr>\n",
       "         <td></td>            <th>coef</th>     <th>std err</th>      <th>z</th>      <th>P>|z|</th>  <th>[0.025</th>    <th>0.975]</th>  \n",
       "</tr>\n",
       "<tr>\n",
       "  <th>const</th>           <td>    0.0873</td> <td>    0.093</td> <td>    0.937</td> <td> 0.349</td> <td>   -0.095</td> <td>    0.270</td>\n",
       "</tr>\n",
       "<tr>\n",
       "  <th>Trend_Lag</th>       <td>   -0.1313</td> <td>    0.145</td> <td>   -0.904</td> <td> 0.366</td> <td>   -0.416</td> <td>    0.153</td>\n",
       "</tr>\n",
       "<tr>\n",
       "  <th>SMA20-SMA50_Lag</th> <td>   -0.0583</td> <td>    0.038</td> <td>   -1.534</td> <td> 0.125</td> <td>   -0.133</td> <td>    0.016</td>\n",
       "</tr>\n",
       "<tr>\n",
       "  <th>Close-Open_Lag</th>  <td>    0.0163</td> <td>    0.091</td> <td>    0.179</td> <td> 0.858</td> <td>   -0.162</td> <td>    0.195</td>\n",
       "</tr>\n",
       "<tr>\n",
       "  <th>High-Low_Lag</th>    <td>    0.0578</td> <td>    0.079</td> <td>    0.727</td> <td> 0.467</td> <td>   -0.098</td> <td>    0.214</td>\n",
       "</tr>\n",
       "<tr>\n",
       "  <th>Volume_Lag</th>      <td>   -0.1279</td> <td>   63.206</td> <td>   -0.002</td> <td> 0.998</td> <td> -124.009</td> <td>  123.754</td>\n",
       "</tr>\n",
       "</table>"
      ],
      "text/plain": [
       "<class 'statsmodels.iolib.summary.Summary'>\n",
       "\"\"\"\n",
       "                           Logit Regression Results                           \n",
       "==============================================================================\n",
       "Dep. Variable:                Up_Down   No. Observations:                 3462\n",
       "Model:                          Logit   Df Residuals:                     3456\n",
       "Method:                           MLE   Df Model:                            5\n",
       "Date:                Tue, 08 Jun 2021   Pseudo R-squ.:               0.0008848\n",
       "Time:                        17:27:08   Log-Likelihood:                -2396.4\n",
       "converged:                       True   LL-Null:                       -2398.6\n",
       "Covariance Type:            nonrobust   LLR p-value:                    0.5148\n",
       "===================================================================================\n",
       "                      coef    std err          z      P>|z|      [0.025      0.975]\n",
       "-----------------------------------------------------------------------------------\n",
       "const               0.0873      0.093      0.937      0.349      -0.095       0.270\n",
       "Trend_Lag          -0.1313      0.145     -0.904      0.366      -0.416       0.153\n",
       "SMA20-SMA50_Lag    -0.0583      0.038     -1.534      0.125      -0.133       0.016\n",
       "Close-Open_Lag      0.0163      0.091      0.179      0.858      -0.162       0.195\n",
       "High-Low_Lag        0.0578      0.079      0.727      0.467      -0.098       0.214\n",
       "Volume_Lag         -0.1279     63.206     -0.002      0.998    -124.009     123.754\n",
       "===================================================================================\n",
       "\"\"\""
      ]
     },
     "execution_count": 49,
     "metadata": {},
     "output_type": "execute_result"
    }
   ],
   "source": [
    "result.summary()"
   ]
  },
  {
   "cell_type": "code",
   "execution_count": 50,
   "metadata": {},
   "outputs": [
    {
     "data": {
      "text/html": [
       "<div>\n",
       "<style scoped>\n",
       "    .dataframe tbody tr th:only-of-type {\n",
       "        vertical-align: middle;\n",
       "    }\n",
       "\n",
       "    .dataframe tbody tr th {\n",
       "        vertical-align: top;\n",
       "    }\n",
       "\n",
       "    .dataframe thead th {\n",
       "        text-align: right;\n",
       "    }\n",
       "</style>\n",
       "<table border=\"1\" class=\"dataframe\">\n",
       "  <thead>\n",
       "    <tr style=\"text-align: right;\">\n",
       "      <th>Predict</th>\n",
       "      <th>Down</th>\n",
       "      <th>Up</th>\n",
       "    </tr>\n",
       "    <tr>\n",
       "      <th>Actual</th>\n",
       "      <th></th>\n",
       "      <th></th>\n",
       "    </tr>\n",
       "  </thead>\n",
       "  <tbody>\n",
       "    <tr>\n",
       "      <th>Down</th>\n",
       "      <td>41</td>\n",
       "      <td>7</td>\n",
       "    </tr>\n",
       "    <tr>\n",
       "      <th>Up</th>\n",
       "      <td>52</td>\n",
       "      <td>8</td>\n",
       "    </tr>\n",
       "  </tbody>\n",
       "</table>\n",
       "</div>"
      ],
      "text/plain": [
       "Predict  Down  Up\n",
       "Actual           \n",
       "Down       41   7\n",
       "Up         52   8"
      ]
     },
     "execution_count": 50,
     "metadata": {},
     "output_type": "execute_result"
    }
   ],
   "source": [
    "prediction = result.predict(x_test)\n",
    "confusion_matrix(y_test, prediction)"
   ]
  },
  {
   "cell_type": "code",
   "execution_count": 51,
   "metadata": {},
   "outputs": [],
   "source": [
    "z = confusion_matrix(y_test,prediction)"
   ]
  },
  {
   "cell_type": "code",
   "execution_count": 52,
   "metadata": {},
   "outputs": [
    {
     "name": "stdout",
     "output_type": "stream",
     "text": [
      "\n",
      "=========> Prediction Accuracy Rate: 0.4537 <=========\n",
      "\n"
     ]
    }
   ],
   "source": [
    "try:\n",
    "    print (\"\\n=========> Prediction Accuracy Rate: %.4f <=========\\n\"  %((z.loc['Down','Down'] + z.loc['Up','Up']) / len(x_test)))\n",
    "except:\n",
    "    print (\"\\n=========> Predication effectiveness is not avairable <=========\\n\" )"
   ]
  },
  {
   "cell_type": "code",
   "execution_count": 53,
   "metadata": {},
   "outputs": [
    {
     "name": "stdout",
     "output_type": "stream",
     "text": [
      "\n",
      "=========> Current trend = 0.5274,   [ SMCI ] will go up! <=========\n"
     ]
    }
   ],
   "source": [
    "prediction = result.predict(x_test)\n",
    "now_up_down  = result.predict([1.0, df1.iloc[-1, 10], df1.iloc[-1, 19], df1.iloc[-1, 12], df1.iloc[-1, 14], df1.iloc[-1, 7]])\n",
    "print (\"\\n=========> Current trend = %.4f,  \" %now_up_down, end=' ')\n",
    "print (\"[ %s ] will go up! <=========\" %stock.upper()) if now_up_down > cutoff else print (\"[ %s ] will go down! <=========\" %stock.upper()) "
   ]
  },
  {
   "cell_type": "code",
   "execution_count": 54,
   "metadata": {},
   "outputs": [],
   "source": [
    "#df1.to_csv('fb.csv', index = False)"
   ]
  }
 ],
 "metadata": {
  "kernelspec": {
   "display_name": "Python 3",
   "language": "python",
   "name": "python3"
  },
  "language_info": {
   "codemirror_mode": {
    "name": "ipython",
    "version": 3
   },
   "file_extension": ".py",
   "mimetype": "text/x-python",
   "name": "python",
   "nbconvert_exporter": "python",
   "pygments_lexer": "ipython3",
   "version": "3.8.5"
  }
 },
 "nbformat": 4,
 "nbformat_minor": 4
}
