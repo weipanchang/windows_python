{
 "cells": [
  {
   "cell_type": "code",
   "execution_count": 1,
   "metadata": {},
   "outputs": [],
   "source": [
    "import yfinance as yf"
   ]
  },
  {
   "cell_type": "code",
   "execution_count": 2,
   "metadata": {},
   "outputs": [],
   "source": [
    "import numpy as np"
   ]
  },
  {
   "cell_type": "code",
   "execution_count": 3,
   "metadata": {},
   "outputs": [],
   "source": [
    "import pandas as pd"
   ]
  },
  {
   "cell_type": "code",
   "execution_count": 4,
   "metadata": {},
   "outputs": [],
   "source": [
    "import statsmodels.api as sm"
   ]
  },
  {
   "cell_type": "code",
   "execution_count": 5,
   "metadata": {},
   "outputs": [],
   "source": [
    "import datetime\n",
    "from dateutil.relativedelta import relativedelta\n",
    "from datetime import date"
   ]
  },
  {
   "cell_type": "code",
   "execution_count": 6,
   "metadata": {},
   "outputs": [],
   "source": [
    "stock = 'fb'\n",
    "\n",
    "cutoff=0.50\n",
    "invest = 100\n",
    "years_of_data_to_process = 25"
   ]
  },
  {
   "cell_type": "code",
   "execution_count": 7,
   "metadata": {},
   "outputs": [],
   "source": [
    "currentDateTime = datetime.datetime.now()\n",
    "date = currentDateTime.date()\n",
    "year = date.strftime(\"%Y\")\n",
    "start_year =  int(year) - years_of_data_to_process\n",
    "start = datetime.datetime(start_year, 1, 1)"
   ]
  },
  {
   "cell_type": "code",
   "execution_count": 8,
   "metadata": {},
   "outputs": [
    {
     "name": "stdout",
     "output_type": "stream",
     "text": [
      "[*********************100%***********************]  1 of 1 completed\n"
     ]
    }
   ],
   "source": [
    "data =  yf.download(stock, start=start)"
   ]
  },
  {
   "cell_type": "code",
   "execution_count": 9,
   "metadata": {},
   "outputs": [
    {
     "data": {
      "text/html": [
       "<div>\n",
       "<style scoped>\n",
       "    .dataframe tbody tr th:only-of-type {\n",
       "        vertical-align: middle;\n",
       "    }\n",
       "\n",
       "    .dataframe tbody tr th {\n",
       "        vertical-align: top;\n",
       "    }\n",
       "\n",
       "    .dataframe thead th {\n",
       "        text-align: right;\n",
       "    }\n",
       "</style>\n",
       "<table border=\"1\" class=\"dataframe\">\n",
       "  <thead>\n",
       "    <tr style=\"text-align: right;\">\n",
       "      <th></th>\n",
       "      <th>Open</th>\n",
       "      <th>High</th>\n",
       "      <th>Low</th>\n",
       "      <th>Close</th>\n",
       "      <th>Adj Close</th>\n",
       "      <th>Volume</th>\n",
       "    </tr>\n",
       "    <tr>\n",
       "      <th>Date</th>\n",
       "      <th></th>\n",
       "      <th></th>\n",
       "      <th></th>\n",
       "      <th></th>\n",
       "      <th></th>\n",
       "      <th></th>\n",
       "    </tr>\n",
       "  </thead>\n",
       "  <tbody>\n",
       "    <tr>\n",
       "      <th>2012-05-18</th>\n",
       "      <td>42.049999</td>\n",
       "      <td>45.000000</td>\n",
       "      <td>38.000000</td>\n",
       "      <td>38.230000</td>\n",
       "      <td>38.230000</td>\n",
       "      <td>573576400</td>\n",
       "    </tr>\n",
       "    <tr>\n",
       "      <th>2012-05-21</th>\n",
       "      <td>36.529999</td>\n",
       "      <td>36.660000</td>\n",
       "      <td>33.000000</td>\n",
       "      <td>34.029999</td>\n",
       "      <td>34.029999</td>\n",
       "      <td>168192700</td>\n",
       "    </tr>\n",
       "    <tr>\n",
       "      <th>2012-05-22</th>\n",
       "      <td>32.610001</td>\n",
       "      <td>33.590000</td>\n",
       "      <td>30.940001</td>\n",
       "      <td>31.000000</td>\n",
       "      <td>31.000000</td>\n",
       "      <td>101786600</td>\n",
       "    </tr>\n",
       "    <tr>\n",
       "      <th>2012-05-23</th>\n",
       "      <td>31.370001</td>\n",
       "      <td>32.500000</td>\n",
       "      <td>31.360001</td>\n",
       "      <td>32.000000</td>\n",
       "      <td>32.000000</td>\n",
       "      <td>73600000</td>\n",
       "    </tr>\n",
       "    <tr>\n",
       "      <th>2012-05-24</th>\n",
       "      <td>32.950001</td>\n",
       "      <td>33.209999</td>\n",
       "      <td>31.770000</td>\n",
       "      <td>33.029999</td>\n",
       "      <td>33.029999</td>\n",
       "      <td>50237200</td>\n",
       "    </tr>\n",
       "    <tr>\n",
       "      <th>...</th>\n",
       "      <td>...</td>\n",
       "      <td>...</td>\n",
       "      <td>...</td>\n",
       "      <td>...</td>\n",
       "      <td>...</td>\n",
       "      <td>...</td>\n",
       "    </tr>\n",
       "    <tr>\n",
       "      <th>2021-06-02</th>\n",
       "      <td>330.380005</td>\n",
       "      <td>331.869995</td>\n",
       "      <td>327.119995</td>\n",
       "      <td>329.149994</td>\n",
       "      <td>329.149994</td>\n",
       "      <td>11654300</td>\n",
       "    </tr>\n",
       "    <tr>\n",
       "      <th>2021-06-03</th>\n",
       "      <td>325.779999</td>\n",
       "      <td>327.380005</td>\n",
       "      <td>323.480011</td>\n",
       "      <td>326.040009</td>\n",
       "      <td>326.040009</td>\n",
       "      <td>12610800</td>\n",
       "    </tr>\n",
       "    <tr>\n",
       "      <th>2021-06-04</th>\n",
       "      <td>325.899994</td>\n",
       "      <td>332.459991</td>\n",
       "      <td>325.179993</td>\n",
       "      <td>330.350006</td>\n",
       "      <td>330.350006</td>\n",
       "      <td>13282200</td>\n",
       "    </tr>\n",
       "    <tr>\n",
       "      <th>2021-06-07</th>\n",
       "      <td>329.480011</td>\n",
       "      <td>337.690002</td>\n",
       "      <td>328.929993</td>\n",
       "      <td>336.579987</td>\n",
       "      <td>336.579987</td>\n",
       "      <td>20124800</td>\n",
       "    </tr>\n",
       "    <tr>\n",
       "      <th>2021-06-08</th>\n",
       "      <td>336.700012</td>\n",
       "      <td>338.299896</td>\n",
       "      <td>332.239990</td>\n",
       "      <td>333.394989</td>\n",
       "      <td>333.394989</td>\n",
       "      <td>9129748</td>\n",
       "    </tr>\n",
       "  </tbody>\n",
       "</table>\n",
       "<p>2278 rows × 6 columns</p>\n",
       "</div>"
      ],
      "text/plain": [
       "                  Open        High         Low       Close   Adj Close  \\\n",
       "Date                                                                     \n",
       "2012-05-18   42.049999   45.000000   38.000000   38.230000   38.230000   \n",
       "2012-05-21   36.529999   36.660000   33.000000   34.029999   34.029999   \n",
       "2012-05-22   32.610001   33.590000   30.940001   31.000000   31.000000   \n",
       "2012-05-23   31.370001   32.500000   31.360001   32.000000   32.000000   \n",
       "2012-05-24   32.950001   33.209999   31.770000   33.029999   33.029999   \n",
       "...                ...         ...         ...         ...         ...   \n",
       "2021-06-02  330.380005  331.869995  327.119995  329.149994  329.149994   \n",
       "2021-06-03  325.779999  327.380005  323.480011  326.040009  326.040009   \n",
       "2021-06-04  325.899994  332.459991  325.179993  330.350006  330.350006   \n",
       "2021-06-07  329.480011  337.690002  328.929993  336.579987  336.579987   \n",
       "2021-06-08  336.700012  338.299896  332.239990  333.394989  333.394989   \n",
       "\n",
       "               Volume  \n",
       "Date                   \n",
       "2012-05-18  573576400  \n",
       "2012-05-21  168192700  \n",
       "2012-05-22  101786600  \n",
       "2012-05-23   73600000  \n",
       "2012-05-24   50237200  \n",
       "...               ...  \n",
       "2021-06-02   11654300  \n",
       "2021-06-03   12610800  \n",
       "2021-06-04   13282200  \n",
       "2021-06-07   20124800  \n",
       "2021-06-08    9129748  \n",
       "\n",
       "[2278 rows x 6 columns]"
      ]
     },
     "execution_count": 9,
     "metadata": {},
     "output_type": "execute_result"
    }
   ],
   "source": [
    "data"
   ]
  },
  {
   "cell_type": "code",
   "execution_count": 10,
   "metadata": {},
   "outputs": [],
   "source": [
    "df = data[\"Close\"].pct_change() * 100"
   ]
  },
  {
   "cell_type": "code",
   "execution_count": 11,
   "metadata": {},
   "outputs": [],
   "source": [
    "df = df.rename(\"Today_Change_%\")\n",
    "df = df.reset_index()"
   ]
  },
  {
   "cell_type": "code",
   "execution_count": 12,
   "metadata": {},
   "outputs": [],
   "source": [
    "df1 = pd.merge(data,df, on=\"Date\")\n",
    "#df1"
   ]
  },
  {
   "cell_type": "code",
   "execution_count": 13,
   "metadata": {},
   "outputs": [],
   "source": [
    "df1.insert(7,'Volume_Lag', None)\n",
    "df1['Volume_Lag'] = df1.Volume.shift(1).values/1000000000\n",
    "df1.Volume = df1.Volume/1000000000"
   ]
  },
  {
   "cell_type": "code",
   "execution_count": 14,
   "metadata": {},
   "outputs": [],
   "source": [
    "df1[\"Trend\"] =  (df1[\"Close\"] - df1[\"Low\"])/ ((df1[\"High\"] - df1[\"Low\"]))"
   ]
  },
  {
   "cell_type": "code",
   "execution_count": 15,
   "metadata": {},
   "outputs": [],
   "source": [
    "df1[\"Trend_Lag\"] = df1[\"Trend\"].shift(1)"
   ]
  },
  {
   "cell_type": "code",
   "execution_count": 16,
   "metadata": {},
   "outputs": [],
   "source": [
    "df1['Close-Open'] =  df1['Close'] - df1['Open']\n",
    "df1['Close-Open_Lag'] = df1['Close-Open'].shift(1)"
   ]
  },
  {
   "cell_type": "code",
   "execution_count": 17,
   "metadata": {},
   "outputs": [],
   "source": [
    "df1['High-Low'] =  df1['High'] - df1['Low']\n",
    "df1['High-Low_Lag'] = df1['High-Low'].shift(1)"
   ]
  },
  {
   "cell_type": "code",
   "execution_count": 18,
   "metadata": {},
   "outputs": [],
   "source": [
    "df1 = sm.add_constant(df1)\n",
    "df1[\"Up_Down\"] = [1 if (i > 0) else 0 for i in df1[\"Today_Change_%\"]]"
   ]
  },
  {
   "cell_type": "code",
   "execution_count": 19,
   "metadata": {},
   "outputs": [],
   "source": [
    "df1.dropna(inplace= True)\n",
    "#df1"
   ]
  },
  {
   "cell_type": "code",
   "execution_count": 20,
   "metadata": {},
   "outputs": [],
   "source": [
    "X = df1[['const','Trend_Lag','Close-Open_Lag','High-Low_Lag','Volume_Lag']]"
   ]
  },
  {
   "cell_type": "code",
   "execution_count": 21,
   "metadata": {},
   "outputs": [],
   "source": [
    "y = df1[\"Up_Down\"].values"
   ]
  },
  {
   "cell_type": "code",
   "execution_count": 22,
   "metadata": {},
   "outputs": [],
   "source": [
    "model = sm.Logit(y,X)"
   ]
  },
  {
   "cell_type": "code",
   "execution_count": 23,
   "metadata": {},
   "outputs": [
    {
     "name": "stdout",
     "output_type": "stream",
     "text": [
      "Optimization terminated successfully.\n",
      "         Current function value: 0.689167\n",
      "         Iterations 4\n"
     ]
    }
   ],
   "source": [
    "result =  model.fit()"
   ]
  },
  {
   "cell_type": "code",
   "execution_count": 24,
   "metadata": {},
   "outputs": [
    {
     "data": {
      "text/html": [
       "<table class=\"simpletable\">\n",
       "<caption>Logit Regression Results</caption>\n",
       "<tr>\n",
       "  <th>Dep. Variable:</th>           <td>y</td>        <th>  No. Observations:  </th>  <td>  2277</td> \n",
       "</tr>\n",
       "<tr>\n",
       "  <th>Model:</th>                 <td>Logit</td>      <th>  Df Residuals:      </th>  <td>  2272</td> \n",
       "</tr>\n",
       "<tr>\n",
       "  <th>Method:</th>                 <td>MLE</td>       <th>  Df Model:          </th>  <td>     4</td> \n",
       "</tr>\n",
       "<tr>\n",
       "  <th>Date:</th>            <td>Tue, 08 Jun 2021</td> <th>  Pseudo R-squ.:     </th> <td>0.003778</td>\n",
       "</tr>\n",
       "<tr>\n",
       "  <th>Time:</th>                <td>10:22:34</td>     <th>  Log-Likelihood:    </th> <td> -1569.2</td>\n",
       "</tr>\n",
       "<tr>\n",
       "  <th>converged:</th>             <td>True</td>       <th>  LL-Null:           </th> <td> -1575.2</td>\n",
       "</tr>\n",
       "<tr>\n",
       "  <th>Covariance Type:</th>     <td>nonrobust</td>    <th>  LLR p-value:       </th>  <td>0.01809</td>\n",
       "</tr>\n",
       "</table>\n",
       "<table class=\"simpletable\">\n",
       "<tr>\n",
       "         <td></td>           <th>coef</th>     <th>std err</th>      <th>z</th>      <th>P>|z|</th>  <th>[0.025</th>    <th>0.975]</th>  \n",
       "</tr>\n",
       "<tr>\n",
       "  <th>const</th>          <td>    0.3873</td> <td>    0.125</td> <td>    3.097</td> <td> 0.002</td> <td>    0.142</td> <td>    0.632</td>\n",
       "</tr>\n",
       "<tr>\n",
       "  <th>Trend_Lag</th>      <td>   -0.4341</td> <td>    0.186</td> <td>   -2.336</td> <td> 0.020</td> <td>   -0.798</td> <td>   -0.070</td>\n",
       "</tr>\n",
       "<tr>\n",
       "  <th>Close-Open_Lag</th> <td>   -0.0028</td> <td>    0.024</td> <td>   -0.119</td> <td> 0.905</td> <td>   -0.050</td> <td>    0.044</td>\n",
       "</tr>\n",
       "<tr>\n",
       "  <th>High-Low_Lag</th>   <td>    0.0015</td> <td>    0.016</td> <td>    0.097</td> <td> 0.923</td> <td>   -0.029</td> <td>    0.033</td>\n",
       "</tr>\n",
       "<tr>\n",
       "  <th>Volume_Lag</th>     <td>   -1.9664</td> <td>    1.521</td> <td>   -1.292</td> <td> 0.196</td> <td>   -4.949</td> <td>    1.016</td>\n",
       "</tr>\n",
       "</table>"
      ],
      "text/plain": [
       "<class 'statsmodels.iolib.summary.Summary'>\n",
       "\"\"\"\n",
       "                           Logit Regression Results                           \n",
       "==============================================================================\n",
       "Dep. Variable:                      y   No. Observations:                 2277\n",
       "Model:                          Logit   Df Residuals:                     2272\n",
       "Method:                           MLE   Df Model:                            4\n",
       "Date:                Tue, 08 Jun 2021   Pseudo R-squ.:                0.003778\n",
       "Time:                        10:22:34   Log-Likelihood:                -1569.2\n",
       "converged:                       True   LL-Null:                       -1575.2\n",
       "Covariance Type:            nonrobust   LLR p-value:                   0.01809\n",
       "==================================================================================\n",
       "                     coef    std err          z      P>|z|      [0.025      0.975]\n",
       "----------------------------------------------------------------------------------\n",
       "const              0.3873      0.125      3.097      0.002       0.142       0.632\n",
       "Trend_Lag         -0.4341      0.186     -2.336      0.020      -0.798      -0.070\n",
       "Close-Open_Lag    -0.0028      0.024     -0.119      0.905      -0.050       0.044\n",
       "High-Low_Lag       0.0015      0.016      0.097      0.923      -0.029       0.033\n",
       "Volume_Lag        -1.9664      1.521     -1.292      0.196      -4.949       1.016\n",
       "==================================================================================\n",
       "\"\"\""
      ]
     },
     "execution_count": 24,
     "metadata": {},
     "output_type": "execute_result"
    }
   ],
   "source": [
    "result.summary()"
   ]
  },
  {
   "cell_type": "code",
   "execution_count": 25,
   "metadata": {},
   "outputs": [],
   "source": [
    "prediction = result.predict(X)"
   ]
  },
  {
   "cell_type": "code",
   "execution_count": 26,
   "metadata": {},
   "outputs": [],
   "source": [
    "df1['Prediction_Caculated'] = pd.array(prediction)\n",
    "df1['Prediction_indicator'] = pd.array([1 if i > cutoff else 0 for i in prediction])\n",
    "#df1.tail(10)"
   ]
  },
  {
   "cell_type": "code",
   "execution_count": 27,
   "metadata": {},
   "outputs": [],
   "source": [
    "y = df1[\"Up_Down\"].values"
   ]
  },
  {
   "cell_type": "code",
   "execution_count": 28,
   "metadata": {},
   "outputs": [],
   "source": [
    "def confusion_matrix(act,pred):\n",
    "    predtrans = ['Up' if i > cutoff else 'Down' for i in pred]\n",
    "    actuals = ['Up' if i > 0 else 'Down' for i in act]\n",
    "    confusion_matrix = pd.crosstab(pd.Series(actuals),\n",
    "                                   pd.Series(predtrans),\n",
    "                                   rownames = [\"Actual\"],\n",
    "                                   colnames = [\"Predict\"]\n",
    "                                  )\n",
    "    return confusion_matrix"
   ]
  },
  {
   "cell_type": "code",
   "execution_count": 29,
   "metadata": {},
   "outputs": [
    {
     "data": {
      "text/html": [
       "<div>\n",
       "<style scoped>\n",
       "    .dataframe tbody tr th:only-of-type {\n",
       "        vertical-align: middle;\n",
       "    }\n",
       "\n",
       "    .dataframe tbody tr th {\n",
       "        vertical-align: top;\n",
       "    }\n",
       "\n",
       "    .dataframe thead th {\n",
       "        text-align: right;\n",
       "    }\n",
       "</style>\n",
       "<table border=\"1\" class=\"dataframe\">\n",
       "  <thead>\n",
       "    <tr style=\"text-align: right;\">\n",
       "      <th>Predict</th>\n",
       "      <th>Down</th>\n",
       "      <th>Up</th>\n",
       "    </tr>\n",
       "    <tr>\n",
       "      <th>Actual</th>\n",
       "      <th></th>\n",
       "      <th></th>\n",
       "    </tr>\n",
       "  </thead>\n",
       "  <tbody>\n",
       "    <tr>\n",
       "      <th>Down</th>\n",
       "      <td>327</td>\n",
       "      <td>752</td>\n",
       "    </tr>\n",
       "    <tr>\n",
       "      <th>Up</th>\n",
       "      <td>323</td>\n",
       "      <td>875</td>\n",
       "    </tr>\n",
       "  </tbody>\n",
       "</table>\n",
       "</div>"
      ],
      "text/plain": [
       "Predict  Down   Up\n",
       "Actual            \n",
       "Down      327  752\n",
       "Up        323  875"
      ]
     },
     "execution_count": 29,
     "metadata": {},
     "output_type": "execute_result"
    }
   ],
   "source": [
    "confusion_matrix(y,prediction)"
   ]
  },
  {
   "cell_type": "code",
   "execution_count": 30,
   "metadata": {},
   "outputs": [
    {
     "name": "stdout",
     "output_type": "stream",
     "text": [
      "0.5278875713658322\n"
     ]
    }
   ],
   "source": [
    "z = confusion_matrix(y,prediction)\n",
    "try:\n",
    "    print((z.loc['Down','Down'] + z.loc['Up','Up']) / len(df1))\n",
    "except:\n",
    "    pass"
   ]
  },
  {
   "cell_type": "code",
   "execution_count": 31,
   "metadata": {},
   "outputs": [
    {
     "name": "stdout",
     "output_type": "stream",
     "text": [
      "0.6151484135107472\n"
     ]
    }
   ],
   "source": [
    "try:\n",
    "    print( (z.loc['Down', 'Down']+ z.loc['Up','Up']) / (z.loc['Down', 'Down']+ z.loc['Up','Up'] + z.loc['Down','Up']) )\n",
    "except:\n",
    "    pass"
   ]
  },
  {
   "cell_type": "code",
   "execution_count": 32,
   "metadata": {},
   "outputs": [],
   "source": [
    "df1 = df1.assign(share=np.nan,money=np.nan)\n",
    "#df1"
   ]
  },
  {
   "cell_type": "code",
   "execution_count": 33,
   "metadata": {},
   "outputs": [],
   "source": [
    "diff_years = round((df1.iloc[-1,1] - df1.iloc[0,1])/np.timedelta64(1,'Y') + 0.5)   "
   ]
  },
  {
   "cell_type": "code",
   "execution_count": 34,
   "metadata": {},
   "outputs": [],
   "source": [
    "#Simulate Investment transaction buy on opening when predict UP and sell daily average when predict DOWN\n",
    "\n",
    "def buy_sell(open_price, sell_price,prediction, money, share):\n",
    "    if prediction == 1 and money != 0:\n",
    "        share =  money / open_price\n",
    "        money = 0\n",
    "    elif prediction == 0 and share != 0:\n",
    "        money = share * sell_price\n",
    "        share = 0\n",
    "    else: pass\n",
    "    return [money, share]\n",
    "money = invest\n",
    "share = 0\n",
    "for i in range(len(df1)):\n",
    "    [money, share] = buy_sell(df1.iloc[i,2],(df1.iloc[i,3]+df1.iloc[i,4])/2,df1.iloc[i,18], money, share)\n",
    "    df1.iloc[i,19] = share\n",
    "    df1.iloc[i,20] = money\n",
    "    "
   ]
  },
  {
   "cell_type": "code",
   "execution_count": 35,
   "metadata": {},
   "outputs": [
    {
     "name": "stdout",
     "output_type": "stream",
     "text": [
      "\n",
      "If $100.00 was invested in [ FB ], and Just Hold and Not Trade for 10 years, the ROI = $800.71\n"
     ]
    }
   ],
   "source": [
    "print(\"\\nIf ${:,.2f} was invested in [ {} ], and Just Hold and Not Trade for {:,} years, the ROI = ${:,.2f}\".format( invest, stock.upper(), diff_years, invest/data.iloc[0, 0] * data.iloc[-1,0]))"
   ]
  },
  {
   "cell_type": "code",
   "execution_count": 36,
   "metadata": {},
   "outputs": [
    {
     "name": "stdout",
     "output_type": "stream",
     "text": [
      "\n",
      "If $100.00 was invested 10 years ago, buy and sell according this script's recommandation, the ROI = $887.52\n"
     ]
    }
   ],
   "source": [
    "print (\"\\nIf ${:,.2f} was invested {:2d} years ago, buy and sell according this script\\'s recommandation, the ROI = ${:,.2f}\".format(invest, diff_years, (money + (share * df1.iloc[-1,6]))))"
   ]
  },
  {
   "cell_type": "code",
   "execution_count": 37,
   "metadata": {
    "scrolled": false
   },
   "outputs": [
    {
     "name": "stdout",
     "output_type": "stream",
     "text": [
      "           Date Stock Market Performance Scribe Predection\n",
      "2263 2021-05-18                     Down              Down\n",
      "2264 2021-05-19                       Up                Up\n",
      "2265 2021-05-20                       Up              Down\n",
      "2266 2021-05-21                     Down              Down\n",
      "2267 2021-05-24                       Up                Up\n",
      "2268 2021-05-25                       Up              Down\n",
      "2269 2021-05-26                     Down                Up\n",
      "2270 2021-05-27                       Up                Up\n",
      "2271 2021-05-28                     Down              Down\n",
      "2272 2021-06-01                       Up                Up\n",
      "2273 2021-06-02                       Up                Up\n",
      "2274 2021-06-03                     Down                Up\n",
      "2275 2021-06-04                       Up                Up\n",
      "2276 2021-06-07                       Up                Up\n",
      "2277 2021-06-08                     Down              Down\n"
     ]
    }
   ],
   "source": [
    "df1_summary=df1[['Date', 'Up_Down','Prediction_indicator']].copy()\n",
    "df1_summary['Stock Market Performance'] = df1_summary['Up_Down'].apply(lambda x: 'Up' if x > 0 else 'Down')\n",
    "df1_summary['Scribe Predection'] = df1_summary['Prediction_indicator'].apply(lambda x: 'Up' if x > 0 else 'Down')\n",
    "print (df1_summary[['Date','Stock Market Performance','Scribe Predection']].tail(15))"
   ]
  },
  {
   "cell_type": "code",
   "execution_count": 38,
   "metadata": {},
   "outputs": [
    {
     "name": "stdout",
     "output_type": "stream",
     "text": [
      "\n",
      "Today [ FB ] actually went down, --- base on yesterday's data, We Predicae [ FB ] should be going down.\n",
      "\n",
      "=========> Actual and Predication MATCH <=========\n"
     ]
    }
   ],
   "source": [
    "print (\"\\nToday [ %s ] actually went up,\" %stock.upper(), end = ' ') if (df1.iloc[-1,16] == 1) else print (\"\\nToday [ %s ] actually went down,\" %stock.upper(), end = \" \")\n",
    "print (\"--- base on yesterday\\'s data, \", end = '')\n",
    "print (\"We Predication [ %s ] should be going up.\" %stock.upper()) if (df1.iloc[-1,18] == 1) else print (\"We Predicae [ %s ] should be going down.\" %stock.upper())\n",
    "print (\"\\n=========> Actual and Predication MATCH <=========\") if (df1.iloc[-1,16] == df1.iloc[-1,18]) else print(\"\\n=========> Actual and Predication DO NOT match <=========\")"
   ]
  },
  {
   "cell_type": "code",
   "execution_count": 39,
   "metadata": {},
   "outputs": [],
   "source": [
    "x_tran= df1[df1.Date.dt.year < 2021][['const','Trend_Lag','Close-Open_Lag','High-Low_Lag','Volume_Lag']]\n",
    "y_train=df1[df1.Date.dt.year < 2021][\"Up_Down\"]\n",
    "x_test= df1[df1.Date.dt.year >= 2021][['const','Trend_Lag','Close-Open_Lag','High-Low_Lag','Volume_Lag']]\n",
    "y_test= df1[df1.Date.dt.year >= 2021][\"Up_Down\"]"
   ]
  },
  {
   "cell_type": "code",
   "execution_count": 40,
   "metadata": {},
   "outputs": [
    {
     "name": "stdout",
     "output_type": "stream",
     "text": [
      "Optimization terminated successfully.\n",
      "         Current function value: 0.689600\n",
      "         Iterations 4\n"
     ]
    }
   ],
   "source": [
    "model = sm.Logit(y_train,x_tran)\n",
    "result=model.fit()"
   ]
  },
  {
   "cell_type": "code",
   "execution_count": 41,
   "metadata": {},
   "outputs": [
    {
     "data": {
      "text/html": [
       "<table class=\"simpletable\">\n",
       "<caption>Logit Regression Results</caption>\n",
       "<tr>\n",
       "  <th>Dep. Variable:</th>        <td>Up_Down</td>     <th>  No. Observations:  </th>  <td>  2169</td> \n",
       "</tr>\n",
       "<tr>\n",
       "  <th>Model:</th>                 <td>Logit</td>      <th>  Df Residuals:      </th>  <td>  2164</td> \n",
       "</tr>\n",
       "<tr>\n",
       "  <th>Method:</th>                 <td>MLE</td>       <th>  Df Model:          </th>  <td>     4</td> \n",
       "</tr>\n",
       "<tr>\n",
       "  <th>Date:</th>            <td>Tue, 08 Jun 2021</td> <th>  Pseudo R-squ.:     </th> <td>0.003024</td>\n",
       "</tr>\n",
       "<tr>\n",
       "  <th>Time:</th>                <td>10:22:35</td>     <th>  Log-Likelihood:    </th> <td> -1495.7</td>\n",
       "</tr>\n",
       "<tr>\n",
       "  <th>converged:</th>             <td>True</td>       <th>  LL-Null:           </th> <td> -1500.3</td>\n",
       "</tr>\n",
       "<tr>\n",
       "  <th>Covariance Type:</th>     <td>nonrobust</td>    <th>  LLR p-value:       </th>  <td>0.05929</td>\n",
       "</tr>\n",
       "</table>\n",
       "<table class=\"simpletable\">\n",
       "<tr>\n",
       "         <td></td>           <th>coef</th>     <th>std err</th>      <th>z</th>      <th>P>|z|</th>  <th>[0.025</th>    <th>0.975]</th>  \n",
       "</tr>\n",
       "<tr>\n",
       "  <th>const</th>          <td>    0.3578</td> <td>    0.128</td> <td>    2.806</td> <td> 0.005</td> <td>    0.108</td> <td>    0.608</td>\n",
       "</tr>\n",
       "<tr>\n",
       "  <th>Trend_Lag</th>      <td>   -0.4071</td> <td>    0.191</td> <td>   -2.135</td> <td> 0.033</td> <td>   -0.781</td> <td>   -0.033</td>\n",
       "</tr>\n",
       "<tr>\n",
       "  <th>Close-Open_Lag</th> <td>    0.0048</td> <td>    0.026</td> <td>    0.183</td> <td> 0.855</td> <td>   -0.046</td> <td>    0.056</td>\n",
       "</tr>\n",
       "<tr>\n",
       "  <th>High-Low_Lag</th>   <td>    0.0087</td> <td>    0.017</td> <td>    0.499</td> <td> 0.618</td> <td>   -0.025</td> <td>    0.043</td>\n",
       "</tr>\n",
       "<tr>\n",
       "  <th>Volume_Lag</th>     <td>   -1.9883</td> <td>    1.530</td> <td>   -1.299</td> <td> 0.194</td> <td>   -4.988</td> <td>    1.011</td>\n",
       "</tr>\n",
       "</table>"
      ],
      "text/plain": [
       "<class 'statsmodels.iolib.summary.Summary'>\n",
       "\"\"\"\n",
       "                           Logit Regression Results                           \n",
       "==============================================================================\n",
       "Dep. Variable:                Up_Down   No. Observations:                 2169\n",
       "Model:                          Logit   Df Residuals:                     2164\n",
       "Method:                           MLE   Df Model:                            4\n",
       "Date:                Tue, 08 Jun 2021   Pseudo R-squ.:                0.003024\n",
       "Time:                        10:22:35   Log-Likelihood:                -1495.7\n",
       "converged:                       True   LL-Null:                       -1500.3\n",
       "Covariance Type:            nonrobust   LLR p-value:                   0.05929\n",
       "==================================================================================\n",
       "                     coef    std err          z      P>|z|      [0.025      0.975]\n",
       "----------------------------------------------------------------------------------\n",
       "const              0.3578      0.128      2.806      0.005       0.108       0.608\n",
       "Trend_Lag         -0.4071      0.191     -2.135      0.033      -0.781      -0.033\n",
       "Close-Open_Lag     0.0048      0.026      0.183      0.855      -0.046       0.056\n",
       "High-Low_Lag       0.0087      0.017      0.499      0.618      -0.025       0.043\n",
       "Volume_Lag        -1.9883      1.530     -1.299      0.194      -4.988       1.011\n",
       "==================================================================================\n",
       "\"\"\""
      ]
     },
     "execution_count": 41,
     "metadata": {},
     "output_type": "execute_result"
    }
   ],
   "source": [
    "result.summary()"
   ]
  },
  {
   "cell_type": "code",
   "execution_count": 42,
   "metadata": {},
   "outputs": [
    {
     "data": {
      "text/html": [
       "<div>\n",
       "<style scoped>\n",
       "    .dataframe tbody tr th:only-of-type {\n",
       "        vertical-align: middle;\n",
       "    }\n",
       "\n",
       "    .dataframe tbody tr th {\n",
       "        vertical-align: top;\n",
       "    }\n",
       "\n",
       "    .dataframe thead th {\n",
       "        text-align: right;\n",
       "    }\n",
       "</style>\n",
       "<table border=\"1\" class=\"dataframe\">\n",
       "  <thead>\n",
       "    <tr style=\"text-align: right;\">\n",
       "      <th>Predict</th>\n",
       "      <th>Down</th>\n",
       "      <th>Up</th>\n",
       "    </tr>\n",
       "    <tr>\n",
       "      <th>Actual</th>\n",
       "      <th></th>\n",
       "      <th></th>\n",
       "    </tr>\n",
       "  </thead>\n",
       "  <tbody>\n",
       "    <tr>\n",
       "      <th>Down</th>\n",
       "      <td>1</td>\n",
       "      <td>52</td>\n",
       "    </tr>\n",
       "    <tr>\n",
       "      <th>Up</th>\n",
       "      <td>0</td>\n",
       "      <td>55</td>\n",
       "    </tr>\n",
       "  </tbody>\n",
       "</table>\n",
       "</div>"
      ],
      "text/plain": [
       "Predict  Down  Up\n",
       "Actual           \n",
       "Down        1  52\n",
       "Up          0  55"
      ]
     },
     "execution_count": 42,
     "metadata": {},
     "output_type": "execute_result"
    }
   ],
   "source": [
    "prediction = result.predict(x_test)\n",
    "confusion_matrix(y_test, prediction)"
   ]
  },
  {
   "cell_type": "code",
   "execution_count": 43,
   "metadata": {},
   "outputs": [],
   "source": [
    "z = confusion_matrix(y_test,prediction)"
   ]
  },
  {
   "cell_type": "code",
   "execution_count": 44,
   "metadata": {},
   "outputs": [
    {
     "name": "stdout",
     "output_type": "stream",
     "text": [
      "\n",
      "=========> Prediction Accuracy Rate: 0.5185 <=========\n",
      "\n"
     ]
    }
   ],
   "source": [
    "try:\n",
    "    print (\"\\n=========> Prediction Accuracy Rate: %.4f <=========\\n\"  %((z.loc['Down','Down'] + z.loc['Up','Up']) / len(x_test)))\n",
    "except:\n",
    "    print (\"\\n=========> Predication effectiveness is not avairable <=========\\n\" )"
   ]
  },
  {
   "cell_type": "code",
   "execution_count": 45,
   "metadata": {},
   "outputs": [
    {
     "name": "stdout",
     "output_type": "stream",
     "text": [
      "\n",
      "=========> Current trend = 0.5742,   [ FB ] will go up! <=========\n"
     ]
    }
   ],
   "source": [
    "prediction = result.predict(x_test)\n",
    "now_up_down  = result.predict([1.0, df1.iloc[-1, 10], df1.iloc[-1, 12], df1.iloc[-1, 14], df1.iloc[-1, 7]])\n",
    "print (\"\\n=========> Current trend = %.4f,  \" %now_up_down, end=' ')\n",
    "print (\"[ %s ] will go up! <=========\" %stock.upper()) if now_up_down > cutoff else print (\"[ %s ] will go down! <=========\" %stock.upper()) "
   ]
  },
  {
   "cell_type": "code",
   "execution_count": 46,
   "metadata": {},
   "outputs": [],
   "source": [
    "#df1.to_csv('fb.csv', index = False)"
   ]
  }
 ],
 "metadata": {
  "kernelspec": {
   "display_name": "Python 3",
   "language": "python",
   "name": "python3"
  },
  "language_info": {
   "codemirror_mode": {
    "name": "ipython",
    "version": 3
   },
   "file_extension": ".py",
   "mimetype": "text/x-python",
   "name": "python",
   "nbconvert_exporter": "python",
   "pygments_lexer": "ipython3",
   "version": "3.8.5"
  }
 },
 "nbformat": 4,
 "nbformat_minor": 4
}
