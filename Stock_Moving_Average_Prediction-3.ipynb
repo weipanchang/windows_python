{
 "cells": [
  {
   "cell_type": "code",
   "execution_count": 1,
   "metadata": {},
   "outputs": [],
   "source": [
    "import yfinance as yf"
   ]
  },
  {
   "cell_type": "code",
   "execution_count": 2,
   "metadata": {},
   "outputs": [],
   "source": [
    "import numpy as np"
   ]
  },
  {
   "cell_type": "code",
   "execution_count": 3,
   "metadata": {},
   "outputs": [],
   "source": [
    "import pandas as pd"
   ]
  },
  {
   "cell_type": "code",
   "execution_count": 4,
   "metadata": {},
   "outputs": [],
   "source": [
    "import math"
   ]
  },
  {
   "cell_type": "code",
   "execution_count": 5,
   "metadata": {},
   "outputs": [],
   "source": [
    "#import numpy as geek  "
   ]
  },
  {
   "cell_type": "code",
   "execution_count": 6,
   "metadata": {},
   "outputs": [],
   "source": [
    "import matplotlib.pyplot as plt"
   ]
  },
  {
   "cell_type": "code",
   "execution_count": 7,
   "metadata": {},
   "outputs": [],
   "source": [
    "import pandas_datareader as web"
   ]
  },
  {
   "cell_type": "code",
   "execution_count": 8,
   "metadata": {},
   "outputs": [],
   "source": [
    "import statsmodels.api as sm"
   ]
  },
  {
   "cell_type": "code",
   "execution_count": 9,
   "metadata": {},
   "outputs": [],
   "source": [
    "import datetime\n",
    "from dateutil.relativedelta import relativedelta\n",
    "from datetime import date"
   ]
  },
  {
   "cell_type": "code",
   "execution_count": 10,
   "metadata": {},
   "outputs": [],
   "source": [
    "pd.set_option('mode.use_inf_as_na', True)"
   ]
  },
  {
   "cell_type": "code",
   "execution_count": 11,
   "metadata": {},
   "outputs": [],
   "source": [
    "stock = 'twtr'\n",
    "\n",
    "short_moving_average_span = 20\n",
    "long_moving_average_span = 50\n",
    "cutoff=0.50\n",
    "invest = 100\n",
    "years_of_data_to_process = 25\n",
    "period = 15"
   ]
  },
  {
   "cell_type": "code",
   "execution_count": 12,
   "metadata": {},
   "outputs": [],
   "source": [
    "currentDateTime = datetime.datetime.now()\n",
    "date = currentDateTime.date()\n",
    "#print (date)\n",
    "year = date.strftime(\"%Y\")\n",
    "start_year =  int(year) - years_of_data_to_process\n",
    "start = datetime.datetime(start_year, 1, 1)"
   ]
  },
  {
   "cell_type": "code",
   "execution_count": 13,
   "metadata": {},
   "outputs": [
    {
     "name": "stdout",
     "output_type": "stream",
     "text": [
      "[*********************100%***********************]  1 of 1 completed\n"
     ]
    }
   ],
   "source": [
    "data =  yf.download(stock, start=start)"
   ]
  },
  {
   "cell_type": "code",
   "execution_count": 14,
   "metadata": {},
   "outputs": [],
   "source": [
    "#data = web.DataReader(stock, data_source='yahoo', start = start, end = '2008-7-14')"
   ]
  },
  {
   "cell_type": "code",
   "execution_count": 15,
   "metadata": {},
   "outputs": [],
   "source": [
    "df = data[\"Close\"].pct_change() * 100"
   ]
  },
  {
   "cell_type": "code",
   "execution_count": 16,
   "metadata": {},
   "outputs": [],
   "source": [
    "df = df.rename(\"Today_Change_%\")\n",
    "df = df.reset_index()"
   ]
  },
  {
   "cell_type": "code",
   "execution_count": 17,
   "metadata": {},
   "outputs": [],
   "source": [
    "df1 = pd.merge(data,df, on=\"Date\")\n",
    "#df1"
   ]
  },
  {
   "cell_type": "code",
   "execution_count": 18,
   "metadata": {},
   "outputs": [],
   "source": [
    "#df1.dropna(inplace= True)\n",
    "df1.insert(7,'Volume_Lag', None)\n",
    "df1.Volume = df1.Volume.pct_change() * 100\n",
    "#df1.Volume = df1.Volume *  geek.sign(df1.Volume.values)\n",
    "df1['Volume_Lag'] = df1.Volume.shift(1).values\n"
   ]
  },
  {
   "cell_type": "code",
   "execution_count": 19,
   "metadata": {},
   "outputs": [],
   "source": [
    "df1[\"Trend\"] =  (df1[\"Close\"] - df1[\"Low\"])/ ((df1[\"High\"] - df1[\"Low\"]))"
   ]
  },
  {
   "cell_type": "code",
   "execution_count": 20,
   "metadata": {},
   "outputs": [],
   "source": [
    "df1[\"Trend_Lag\"] = df1[\"Trend\"].shift(1)"
   ]
  },
  {
   "cell_type": "code",
   "execution_count": 21,
   "metadata": {},
   "outputs": [],
   "source": [
    "df1['Close-Open'] =  df1['Close'] - df1['Open']\n",
    "df1['Close-Open_Lag'] = df1['Close-Open'].shift(1)"
   ]
  },
  {
   "cell_type": "code",
   "execution_count": 22,
   "metadata": {},
   "outputs": [],
   "source": [
    "df1['High-Low'] =  df1['High'] - df1['Low']\n",
    "df1['High-Low_Lag'] = df1['High-Low'].shift(1)"
   ]
  },
  {
   "cell_type": "code",
   "execution_count": 23,
   "metadata": {},
   "outputs": [],
   "source": [
    "df1 = sm.add_constant(df1)\n",
    "df1[\"Up_Down\"] = [1 if (i > 0) else 0 for i in df1[\"Today_Change_%\"]]"
   ]
  },
  {
   "cell_type": "code",
   "execution_count": 24,
   "metadata": {},
   "outputs": [],
   "source": [
    "df1.dropna(inplace= True)"
   ]
  },
  {
   "cell_type": "code",
   "execution_count": 25,
   "metadata": {},
   "outputs": [],
   "source": [
    "df1['Short_MV_Avg_Span'] = df1['Close'].ewm(span=short_moving_average_span, adjust=False).mean()\n",
    "df1.dropna(inplace= True)\n",
    "#df1"
   ]
  },
  {
   "cell_type": "code",
   "execution_count": 26,
   "metadata": {},
   "outputs": [],
   "source": [
    "df1['Long_MV_Avg_Span'] = df1['Close'].ewm(span=long_moving_average_span, adjust=False).mean()\n",
    "df1.dropna(inplace= True)\n",
    "#df1"
   ]
  },
  {
   "cell_type": "code",
   "execution_count": 27,
   "metadata": {},
   "outputs": [],
   "source": [
    "df1['Short_MV_Avg_Span-Long_MV_Avg_Span'] = df1.Short_MV_Avg_Span - df1.Long_MV_Avg_Span\n",
    "df1['Short_MV_Avg_Span-Long_MV_Avg_Span_Lag'] = df1['Short_MV_Avg_Span-Long_MV_Avg_Span'].shift(1)\n",
    "#df1"
   ]
  },
  {
   "cell_type": "code",
   "execution_count": null,
   "metadata": {},
   "outputs": [],
   "source": []
  },
  {
   "cell_type": "code",
   "execution_count": 28,
   "metadata": {},
   "outputs": [
    {
     "data": {
      "text/html": [
       "<div>\n",
       "<style scoped>\n",
       "    .dataframe tbody tr th:only-of-type {\n",
       "        vertical-align: middle;\n",
       "    }\n",
       "\n",
       "    .dataframe tbody tr th {\n",
       "        vertical-align: top;\n",
       "    }\n",
       "\n",
       "    .dataframe thead th {\n",
       "        text-align: right;\n",
       "    }\n",
       "</style>\n",
       "<table border=\"1\" class=\"dataframe\">\n",
       "  <thead>\n",
       "    <tr style=\"text-align: right;\">\n",
       "      <th></th>\n",
       "      <th>const</th>\n",
       "      <th>Date</th>\n",
       "      <th>Open</th>\n",
       "      <th>High</th>\n",
       "      <th>Low</th>\n",
       "      <th>Close</th>\n",
       "      <th>Adj Close</th>\n",
       "      <th>Volume</th>\n",
       "      <th>Volume_Lag</th>\n",
       "      <th>Today_Change_%</th>\n",
       "      <th>...</th>\n",
       "      <th>Trend_Lag</th>\n",
       "      <th>Close-Open</th>\n",
       "      <th>Close-Open_Lag</th>\n",
       "      <th>High-Low</th>\n",
       "      <th>High-Low_Lag</th>\n",
       "      <th>Up_Down</th>\n",
       "      <th>Short_MV_Avg_Span</th>\n",
       "      <th>Long_MV_Avg_Span</th>\n",
       "      <th>Short_MV_Avg_Span-Long_MV_Avg_Span</th>\n",
       "      <th>Short_MV_Avg_Span-Long_MV_Avg_Span_Lag</th>\n",
       "    </tr>\n",
       "  </thead>\n",
       "  <tbody>\n",
       "    <tr>\n",
       "      <th>1902</th>\n",
       "      <td>1.0</td>\n",
       "      <td>2021-06-01</td>\n",
       "      <td>58.200001</td>\n",
       "      <td>58.200001</td>\n",
       "      <td>56.270000</td>\n",
       "      <td>57.439999</td>\n",
       "      <td>57.439999</td>\n",
       "      <td>49.927451</td>\n",
       "      <td>-3.963177</td>\n",
       "      <td>-0.965520</td>\n",
       "      <td>...</td>\n",
       "      <td>0.232874</td>\n",
       "      <td>-0.760002</td>\n",
       "      <td>-0.200001</td>\n",
       "      <td>1.930000</td>\n",
       "      <td>0.730000</td>\n",
       "      <td>0</td>\n",
       "      <td>56.666149</td>\n",
       "      <td>59.262782</td>\n",
       "      <td>-2.596633</td>\n",
       "      <td>-2.752490</td>\n",
       "    </tr>\n",
       "    <tr>\n",
       "      <th>1903</th>\n",
       "      <td>1.0</td>\n",
       "      <td>2021-06-02</td>\n",
       "      <td>57.279999</td>\n",
       "      <td>57.639999</td>\n",
       "      <td>56.320000</td>\n",
       "      <td>57.160000</td>\n",
       "      <td>57.160000</td>\n",
       "      <td>-27.812874</td>\n",
       "      <td>49.927451</td>\n",
       "      <td>-0.487463</td>\n",
       "      <td>...</td>\n",
       "      <td>0.606217</td>\n",
       "      <td>-0.119999</td>\n",
       "      <td>-0.760002</td>\n",
       "      <td>1.320000</td>\n",
       "      <td>1.930000</td>\n",
       "      <td>0</td>\n",
       "      <td>56.713183</td>\n",
       "      <td>59.180320</td>\n",
       "      <td>-2.467137</td>\n",
       "      <td>-2.596633</td>\n",
       "    </tr>\n",
       "    <tr>\n",
       "      <th>1904</th>\n",
       "      <td>1.0</td>\n",
       "      <td>2021-06-03</td>\n",
       "      <td>56.959999</td>\n",
       "      <td>58.669998</td>\n",
       "      <td>55.830002</td>\n",
       "      <td>57.009998</td>\n",
       "      <td>57.009998</td>\n",
       "      <td>132.090490</td>\n",
       "      <td>-27.812874</td>\n",
       "      <td>-0.262424</td>\n",
       "      <td>...</td>\n",
       "      <td>0.636364</td>\n",
       "      <td>0.049999</td>\n",
       "      <td>-0.119999</td>\n",
       "      <td>2.839996</td>\n",
       "      <td>1.320000</td>\n",
       "      <td>0</td>\n",
       "      <td>56.741451</td>\n",
       "      <td>59.095209</td>\n",
       "      <td>-2.353758</td>\n",
       "      <td>-2.467137</td>\n",
       "    </tr>\n",
       "    <tr>\n",
       "      <th>1905</th>\n",
       "      <td>1.0</td>\n",
       "      <td>2021-06-04</td>\n",
       "      <td>57.410000</td>\n",
       "      <td>59.299999</td>\n",
       "      <td>57.320000</td>\n",
       "      <td>59.000000</td>\n",
       "      <td>59.000000</td>\n",
       "      <td>-44.254220</td>\n",
       "      <td>132.090490</td>\n",
       "      <td>3.490619</td>\n",
       "      <td>...</td>\n",
       "      <td>0.415492</td>\n",
       "      <td>1.590000</td>\n",
       "      <td>0.049999</td>\n",
       "      <td>1.980000</td>\n",
       "      <td>2.839996</td>\n",
       "      <td>1</td>\n",
       "      <td>56.956551</td>\n",
       "      <td>59.091476</td>\n",
       "      <td>-2.134925</td>\n",
       "      <td>-2.353758</td>\n",
       "    </tr>\n",
       "    <tr>\n",
       "      <th>1906</th>\n",
       "      <td>1.0</td>\n",
       "      <td>2021-06-07</td>\n",
       "      <td>58.619999</td>\n",
       "      <td>59.830002</td>\n",
       "      <td>57.720001</td>\n",
       "      <td>59.630001</td>\n",
       "      <td>59.630001</td>\n",
       "      <td>-14.013430</td>\n",
       "      <td>-44.254220</td>\n",
       "      <td>1.067798</td>\n",
       "      <td>...</td>\n",
       "      <td>0.848485</td>\n",
       "      <td>1.010002</td>\n",
       "      <td>1.590000</td>\n",
       "      <td>2.110001</td>\n",
       "      <td>1.980000</td>\n",
       "      <td>1</td>\n",
       "      <td>57.211165</td>\n",
       "      <td>59.112594</td>\n",
       "      <td>-1.901429</td>\n",
       "      <td>-2.134925</td>\n",
       "    </tr>\n",
       "    <tr>\n",
       "      <th>1907</th>\n",
       "      <td>1.0</td>\n",
       "      <td>2021-06-08</td>\n",
       "      <td>59.790001</td>\n",
       "      <td>60.090000</td>\n",
       "      <td>57.820000</td>\n",
       "      <td>58.810001</td>\n",
       "      <td>58.810001</td>\n",
       "      <td>21.201108</td>\n",
       "      <td>-14.013430</td>\n",
       "      <td>-1.375146</td>\n",
       "      <td>...</td>\n",
       "      <td>0.905213</td>\n",
       "      <td>-0.980000</td>\n",
       "      <td>1.010002</td>\n",
       "      <td>2.270000</td>\n",
       "      <td>2.110001</td>\n",
       "      <td>0</td>\n",
       "      <td>57.363435</td>\n",
       "      <td>59.100728</td>\n",
       "      <td>-1.737293</td>\n",
       "      <td>-1.901429</td>\n",
       "    </tr>\n",
       "    <tr>\n",
       "      <th>1908</th>\n",
       "      <td>1.0</td>\n",
       "      <td>2021-06-09</td>\n",
       "      <td>59.590000</td>\n",
       "      <td>61.049999</td>\n",
       "      <td>59.410000</td>\n",
       "      <td>59.709999</td>\n",
       "      <td>59.709999</td>\n",
       "      <td>26.546047</td>\n",
       "      <td>21.201108</td>\n",
       "      <td>1.530348</td>\n",
       "      <td>...</td>\n",
       "      <td>0.436124</td>\n",
       "      <td>0.119999</td>\n",
       "      <td>-0.980000</td>\n",
       "      <td>1.639999</td>\n",
       "      <td>2.270000</td>\n",
       "      <td>1</td>\n",
       "      <td>57.586917</td>\n",
       "      <td>59.124621</td>\n",
       "      <td>-1.537703</td>\n",
       "      <td>-1.737293</td>\n",
       "    </tr>\n",
       "    <tr>\n",
       "      <th>1909</th>\n",
       "      <td>1.0</td>\n",
       "      <td>2021-06-10</td>\n",
       "      <td>59.799999</td>\n",
       "      <td>60.380001</td>\n",
       "      <td>58.740002</td>\n",
       "      <td>60.299999</td>\n",
       "      <td>60.299999</td>\n",
       "      <td>-46.067089</td>\n",
       "      <td>26.546047</td>\n",
       "      <td>0.988109</td>\n",
       "      <td>...</td>\n",
       "      <td>0.182926</td>\n",
       "      <td>0.500000</td>\n",
       "      <td>0.119999</td>\n",
       "      <td>1.639999</td>\n",
       "      <td>1.639999</td>\n",
       "      <td>1</td>\n",
       "      <td>57.845306</td>\n",
       "      <td>59.170714</td>\n",
       "      <td>-1.325408</td>\n",
       "      <td>-1.537703</td>\n",
       "    </tr>\n",
       "    <tr>\n",
       "      <th>1910</th>\n",
       "      <td>1.0</td>\n",
       "      <td>2021-06-11</td>\n",
       "      <td>59.950001</td>\n",
       "      <td>60.630001</td>\n",
       "      <td>59.869999</td>\n",
       "      <td>60.500000</td>\n",
       "      <td>60.500000</td>\n",
       "      <td>-19.926584</td>\n",
       "      <td>-46.067089</td>\n",
       "      <td>0.331676</td>\n",
       "      <td>...</td>\n",
       "      <td>0.951218</td>\n",
       "      <td>0.549999</td>\n",
       "      <td>0.500000</td>\n",
       "      <td>0.760002</td>\n",
       "      <td>1.639999</td>\n",
       "      <td>1</td>\n",
       "      <td>58.098134</td>\n",
       "      <td>59.222843</td>\n",
       "      <td>-1.124709</td>\n",
       "      <td>-1.325408</td>\n",
       "    </tr>\n",
       "    <tr>\n",
       "      <th>1911</th>\n",
       "      <td>1.0</td>\n",
       "      <td>2021-06-14</td>\n",
       "      <td>60.849998</td>\n",
       "      <td>61.549999</td>\n",
       "      <td>60.450001</td>\n",
       "      <td>60.830002</td>\n",
       "      <td>60.830002</td>\n",
       "      <td>33.467996</td>\n",
       "      <td>-19.926584</td>\n",
       "      <td>0.545458</td>\n",
       "      <td>...</td>\n",
       "      <td>0.828946</td>\n",
       "      <td>-0.019997</td>\n",
       "      <td>0.549999</td>\n",
       "      <td>1.099998</td>\n",
       "      <td>0.760002</td>\n",
       "      <td>1</td>\n",
       "      <td>58.358312</td>\n",
       "      <td>59.285869</td>\n",
       "      <td>-0.927557</td>\n",
       "      <td>-1.124709</td>\n",
       "    </tr>\n",
       "    <tr>\n",
       "      <th>1912</th>\n",
       "      <td>1.0</td>\n",
       "      <td>2021-06-15</td>\n",
       "      <td>61.090000</td>\n",
       "      <td>61.320000</td>\n",
       "      <td>60.189999</td>\n",
       "      <td>60.230000</td>\n",
       "      <td>60.230000</td>\n",
       "      <td>2.826138</td>\n",
       "      <td>33.467996</td>\n",
       "      <td>-0.986359</td>\n",
       "      <td>...</td>\n",
       "      <td>0.345456</td>\n",
       "      <td>-0.860001</td>\n",
       "      <td>-0.019997</td>\n",
       "      <td>1.130001</td>\n",
       "      <td>1.099998</td>\n",
       "      <td>0</td>\n",
       "      <td>58.536568</td>\n",
       "      <td>59.322893</td>\n",
       "      <td>-0.786325</td>\n",
       "      <td>-0.927557</td>\n",
       "    </tr>\n",
       "    <tr>\n",
       "      <th>1913</th>\n",
       "      <td>1.0</td>\n",
       "      <td>2021-06-16</td>\n",
       "      <td>60.119999</td>\n",
       "      <td>61.150002</td>\n",
       "      <td>59.150002</td>\n",
       "      <td>59.930000</td>\n",
       "      <td>59.930000</td>\n",
       "      <td>-2.540736</td>\n",
       "      <td>2.826138</td>\n",
       "      <td>-0.498089</td>\n",
       "      <td>...</td>\n",
       "      <td>0.035399</td>\n",
       "      <td>-0.189999</td>\n",
       "      <td>-0.860001</td>\n",
       "      <td>2.000000</td>\n",
       "      <td>1.130001</td>\n",
       "      <td>0</td>\n",
       "      <td>58.669276</td>\n",
       "      <td>59.346702</td>\n",
       "      <td>-0.677426</td>\n",
       "      <td>-0.786325</td>\n",
       "    </tr>\n",
       "    <tr>\n",
       "      <th>1914</th>\n",
       "      <td>1.0</td>\n",
       "      <td>2021-06-17</td>\n",
       "      <td>59.610001</td>\n",
       "      <td>61.619999</td>\n",
       "      <td>59.529999</td>\n",
       "      <td>60.709999</td>\n",
       "      <td>60.709999</td>\n",
       "      <td>9.262572</td>\n",
       "      <td>-2.540736</td>\n",
       "      <td>1.301516</td>\n",
       "      <td>...</td>\n",
       "      <td>0.389999</td>\n",
       "      <td>1.099998</td>\n",
       "      <td>-0.189999</td>\n",
       "      <td>2.090000</td>\n",
       "      <td>2.000000</td>\n",
       "      <td>1</td>\n",
       "      <td>58.863630</td>\n",
       "      <td>59.400164</td>\n",
       "      <td>-0.536534</td>\n",
       "      <td>-0.677426</td>\n",
       "    </tr>\n",
       "    <tr>\n",
       "      <th>1915</th>\n",
       "      <td>1.0</td>\n",
       "      <td>2021-06-18</td>\n",
       "      <td>60.200001</td>\n",
       "      <td>60.970001</td>\n",
       "      <td>59.529999</td>\n",
       "      <td>60.849998</td>\n",
       "      <td>60.849998</td>\n",
       "      <td>30.060875</td>\n",
       "      <td>9.262572</td>\n",
       "      <td>0.230604</td>\n",
       "      <td>...</td>\n",
       "      <td>0.564593</td>\n",
       "      <td>0.649998</td>\n",
       "      <td>1.099998</td>\n",
       "      <td>1.440002</td>\n",
       "      <td>2.090000</td>\n",
       "      <td>1</td>\n",
       "      <td>59.052808</td>\n",
       "      <td>59.457020</td>\n",
       "      <td>-0.404212</td>\n",
       "      <td>-0.536534</td>\n",
       "    </tr>\n",
       "    <tr>\n",
       "      <th>1916</th>\n",
       "      <td>1.0</td>\n",
       "      <td>2021-06-21</td>\n",
       "      <td>60.849998</td>\n",
       "      <td>62.090000</td>\n",
       "      <td>59.740002</td>\n",
       "      <td>61.959999</td>\n",
       "      <td>61.959999</td>\n",
       "      <td>-9.351894</td>\n",
       "      <td>30.060875</td>\n",
       "      <td>1.824159</td>\n",
       "      <td>...</td>\n",
       "      <td>0.916665</td>\n",
       "      <td>1.110001</td>\n",
       "      <td>0.649998</td>\n",
       "      <td>2.349998</td>\n",
       "      <td>1.440002</td>\n",
       "      <td>1</td>\n",
       "      <td>59.329684</td>\n",
       "      <td>59.555176</td>\n",
       "      <td>-0.225493</td>\n",
       "      <td>-0.404212</td>\n",
       "    </tr>\n",
       "    <tr>\n",
       "      <th>1917</th>\n",
       "      <td>1.0</td>\n",
       "      <td>2021-06-22</td>\n",
       "      <td>61.919998</td>\n",
       "      <td>64.050003</td>\n",
       "      <td>61.910000</td>\n",
       "      <td>63.779999</td>\n",
       "      <td>63.779999</td>\n",
       "      <td>38.738349</td>\n",
       "      <td>-9.351894</td>\n",
       "      <td>2.937379</td>\n",
       "      <td>...</td>\n",
       "      <td>0.944680</td>\n",
       "      <td>1.860001</td>\n",
       "      <td>1.110001</td>\n",
       "      <td>2.140003</td>\n",
       "      <td>2.349998</td>\n",
       "      <td>1</td>\n",
       "      <td>59.753523</td>\n",
       "      <td>59.720856</td>\n",
       "      <td>0.032667</td>\n",
       "      <td>-0.225493</td>\n",
       "    </tr>\n",
       "    <tr>\n",
       "      <th>1918</th>\n",
       "      <td>1.0</td>\n",
       "      <td>2021-06-23</td>\n",
       "      <td>63.910000</td>\n",
       "      <td>66.769997</td>\n",
       "      <td>63.790001</td>\n",
       "      <td>66.489998</td>\n",
       "      <td>66.489998</td>\n",
       "      <td>11.157723</td>\n",
       "      <td>38.738349</td>\n",
       "      <td>4.248980</td>\n",
       "      <td>...</td>\n",
       "      <td>0.873830</td>\n",
       "      <td>2.579998</td>\n",
       "      <td>1.860001</td>\n",
       "      <td>2.979996</td>\n",
       "      <td>2.140003</td>\n",
       "      <td>1</td>\n",
       "      <td>60.395092</td>\n",
       "      <td>59.986312</td>\n",
       "      <td>0.408780</td>\n",
       "      <td>0.032667</td>\n",
       "    </tr>\n",
       "    <tr>\n",
       "      <th>1919</th>\n",
       "      <td>1.0</td>\n",
       "      <td>2021-06-24</td>\n",
       "      <td>66.750000</td>\n",
       "      <td>68.739998</td>\n",
       "      <td>66.750000</td>\n",
       "      <td>68.250000</td>\n",
       "      <td>68.250000</td>\n",
       "      <td>24.783265</td>\n",
       "      <td>11.157723</td>\n",
       "      <td>2.647018</td>\n",
       "      <td>...</td>\n",
       "      <td>0.906041</td>\n",
       "      <td>1.500000</td>\n",
       "      <td>2.579998</td>\n",
       "      <td>1.989998</td>\n",
       "      <td>2.979996</td>\n",
       "      <td>1</td>\n",
       "      <td>61.143179</td>\n",
       "      <td>60.310379</td>\n",
       "      <td>0.832800</td>\n",
       "      <td>0.408780</td>\n",
       "    </tr>\n",
       "    <tr>\n",
       "      <th>1920</th>\n",
       "      <td>1.0</td>\n",
       "      <td>2021-06-25</td>\n",
       "      <td>68.290001</td>\n",
       "      <td>68.919998</td>\n",
       "      <td>67.279999</td>\n",
       "      <td>67.930000</td>\n",
       "      <td>67.930000</td>\n",
       "      <td>-40.000778</td>\n",
       "      <td>24.783265</td>\n",
       "      <td>-0.468864</td>\n",
       "      <td>...</td>\n",
       "      <td>0.753770</td>\n",
       "      <td>-0.360001</td>\n",
       "      <td>1.500000</td>\n",
       "      <td>1.639999</td>\n",
       "      <td>1.989998</td>\n",
       "      <td>0</td>\n",
       "      <td>61.789543</td>\n",
       "      <td>60.609187</td>\n",
       "      <td>1.180355</td>\n",
       "      <td>0.832800</td>\n",
       "    </tr>\n",
       "    <tr>\n",
       "      <th>1921</th>\n",
       "      <td>1.0</td>\n",
       "      <td>2021-06-28</td>\n",
       "      <td>68.160004</td>\n",
       "      <td>68.628403</td>\n",
       "      <td>67.074997</td>\n",
       "      <td>67.675003</td>\n",
       "      <td>67.675003</td>\n",
       "      <td>-59.677173</td>\n",
       "      <td>-40.000778</td>\n",
       "      <td>-0.375382</td>\n",
       "      <td>...</td>\n",
       "      <td>0.396343</td>\n",
       "      <td>-0.485001</td>\n",
       "      <td>-0.360001</td>\n",
       "      <td>1.553406</td>\n",
       "      <td>1.639999</td>\n",
       "      <td>0</td>\n",
       "      <td>62.350063</td>\n",
       "      <td>60.886278</td>\n",
       "      <td>1.463785</td>\n",
       "      <td>1.180355</td>\n",
       "    </tr>\n",
       "  </tbody>\n",
       "</table>\n",
       "<p>20 rows × 21 columns</p>\n",
       "</div>"
      ],
      "text/plain": [
       "      const       Date       Open       High        Low      Close  Adj Close  \\\n",
       "1902    1.0 2021-06-01  58.200001  58.200001  56.270000  57.439999  57.439999   \n",
       "1903    1.0 2021-06-02  57.279999  57.639999  56.320000  57.160000  57.160000   \n",
       "1904    1.0 2021-06-03  56.959999  58.669998  55.830002  57.009998  57.009998   \n",
       "1905    1.0 2021-06-04  57.410000  59.299999  57.320000  59.000000  59.000000   \n",
       "1906    1.0 2021-06-07  58.619999  59.830002  57.720001  59.630001  59.630001   \n",
       "1907    1.0 2021-06-08  59.790001  60.090000  57.820000  58.810001  58.810001   \n",
       "1908    1.0 2021-06-09  59.590000  61.049999  59.410000  59.709999  59.709999   \n",
       "1909    1.0 2021-06-10  59.799999  60.380001  58.740002  60.299999  60.299999   \n",
       "1910    1.0 2021-06-11  59.950001  60.630001  59.869999  60.500000  60.500000   \n",
       "1911    1.0 2021-06-14  60.849998  61.549999  60.450001  60.830002  60.830002   \n",
       "1912    1.0 2021-06-15  61.090000  61.320000  60.189999  60.230000  60.230000   \n",
       "1913    1.0 2021-06-16  60.119999  61.150002  59.150002  59.930000  59.930000   \n",
       "1914    1.0 2021-06-17  59.610001  61.619999  59.529999  60.709999  60.709999   \n",
       "1915    1.0 2021-06-18  60.200001  60.970001  59.529999  60.849998  60.849998   \n",
       "1916    1.0 2021-06-21  60.849998  62.090000  59.740002  61.959999  61.959999   \n",
       "1917    1.0 2021-06-22  61.919998  64.050003  61.910000  63.779999  63.779999   \n",
       "1918    1.0 2021-06-23  63.910000  66.769997  63.790001  66.489998  66.489998   \n",
       "1919    1.0 2021-06-24  66.750000  68.739998  66.750000  68.250000  68.250000   \n",
       "1920    1.0 2021-06-25  68.290001  68.919998  67.279999  67.930000  67.930000   \n",
       "1921    1.0 2021-06-28  68.160004  68.628403  67.074997  67.675003  67.675003   \n",
       "\n",
       "          Volume  Volume_Lag  Today_Change_%  ...  Trend_Lag  Close-Open  \\\n",
       "1902   49.927451   -3.963177       -0.965520  ...   0.232874   -0.760002   \n",
       "1903  -27.812874   49.927451       -0.487463  ...   0.606217   -0.119999   \n",
       "1904  132.090490  -27.812874       -0.262424  ...   0.636364    0.049999   \n",
       "1905  -44.254220  132.090490        3.490619  ...   0.415492    1.590000   \n",
       "1906  -14.013430  -44.254220        1.067798  ...   0.848485    1.010002   \n",
       "1907   21.201108  -14.013430       -1.375146  ...   0.905213   -0.980000   \n",
       "1908   26.546047   21.201108        1.530348  ...   0.436124    0.119999   \n",
       "1909  -46.067089   26.546047        0.988109  ...   0.182926    0.500000   \n",
       "1910  -19.926584  -46.067089        0.331676  ...   0.951218    0.549999   \n",
       "1911   33.467996  -19.926584        0.545458  ...   0.828946   -0.019997   \n",
       "1912    2.826138   33.467996       -0.986359  ...   0.345456   -0.860001   \n",
       "1913   -2.540736    2.826138       -0.498089  ...   0.035399   -0.189999   \n",
       "1914    9.262572   -2.540736        1.301516  ...   0.389999    1.099998   \n",
       "1915   30.060875    9.262572        0.230604  ...   0.564593    0.649998   \n",
       "1916   -9.351894   30.060875        1.824159  ...   0.916665    1.110001   \n",
       "1917   38.738349   -9.351894        2.937379  ...   0.944680    1.860001   \n",
       "1918   11.157723   38.738349        4.248980  ...   0.873830    2.579998   \n",
       "1919   24.783265   11.157723        2.647018  ...   0.906041    1.500000   \n",
       "1920  -40.000778   24.783265       -0.468864  ...   0.753770   -0.360001   \n",
       "1921  -59.677173  -40.000778       -0.375382  ...   0.396343   -0.485001   \n",
       "\n",
       "      Close-Open_Lag  High-Low  High-Low_Lag  Up_Down  Short_MV_Avg_Span  \\\n",
       "1902       -0.200001  1.930000      0.730000        0          56.666149   \n",
       "1903       -0.760002  1.320000      1.930000        0          56.713183   \n",
       "1904       -0.119999  2.839996      1.320000        0          56.741451   \n",
       "1905        0.049999  1.980000      2.839996        1          56.956551   \n",
       "1906        1.590000  2.110001      1.980000        1          57.211165   \n",
       "1907        1.010002  2.270000      2.110001        0          57.363435   \n",
       "1908       -0.980000  1.639999      2.270000        1          57.586917   \n",
       "1909        0.119999  1.639999      1.639999        1          57.845306   \n",
       "1910        0.500000  0.760002      1.639999        1          58.098134   \n",
       "1911        0.549999  1.099998      0.760002        1          58.358312   \n",
       "1912       -0.019997  1.130001      1.099998        0          58.536568   \n",
       "1913       -0.860001  2.000000      1.130001        0          58.669276   \n",
       "1914       -0.189999  2.090000      2.000000        1          58.863630   \n",
       "1915        1.099998  1.440002      2.090000        1          59.052808   \n",
       "1916        0.649998  2.349998      1.440002        1          59.329684   \n",
       "1917        1.110001  2.140003      2.349998        1          59.753523   \n",
       "1918        1.860001  2.979996      2.140003        1          60.395092   \n",
       "1919        2.579998  1.989998      2.979996        1          61.143179   \n",
       "1920        1.500000  1.639999      1.989998        0          61.789543   \n",
       "1921       -0.360001  1.553406      1.639999        0          62.350063   \n",
       "\n",
       "      Long_MV_Avg_Span  Short_MV_Avg_Span-Long_MV_Avg_Span  \\\n",
       "1902         59.262782                           -2.596633   \n",
       "1903         59.180320                           -2.467137   \n",
       "1904         59.095209                           -2.353758   \n",
       "1905         59.091476                           -2.134925   \n",
       "1906         59.112594                           -1.901429   \n",
       "1907         59.100728                           -1.737293   \n",
       "1908         59.124621                           -1.537703   \n",
       "1909         59.170714                           -1.325408   \n",
       "1910         59.222843                           -1.124709   \n",
       "1911         59.285869                           -0.927557   \n",
       "1912         59.322893                           -0.786325   \n",
       "1913         59.346702                           -0.677426   \n",
       "1914         59.400164                           -0.536534   \n",
       "1915         59.457020                           -0.404212   \n",
       "1916         59.555176                           -0.225493   \n",
       "1917         59.720856                            0.032667   \n",
       "1918         59.986312                            0.408780   \n",
       "1919         60.310379                            0.832800   \n",
       "1920         60.609187                            1.180355   \n",
       "1921         60.886278                            1.463785   \n",
       "\n",
       "      Short_MV_Avg_Span-Long_MV_Avg_Span_Lag  \n",
       "1902                               -2.752490  \n",
       "1903                               -2.596633  \n",
       "1904                               -2.467137  \n",
       "1905                               -2.353758  \n",
       "1906                               -2.134925  \n",
       "1907                               -1.901429  \n",
       "1908                               -1.737293  \n",
       "1909                               -1.537703  \n",
       "1910                               -1.325408  \n",
       "1911                               -1.124709  \n",
       "1912                               -0.927557  \n",
       "1913                               -0.786325  \n",
       "1914                               -0.677426  \n",
       "1915                               -0.536534  \n",
       "1916                               -0.404212  \n",
       "1917                               -0.225493  \n",
       "1918                                0.032667  \n",
       "1919                                0.408780  \n",
       "1920                                0.832800  \n",
       "1921                                1.180355  \n",
       "\n",
       "[20 rows x 21 columns]"
      ]
     },
     "execution_count": 28,
     "metadata": {},
     "output_type": "execute_result"
    }
   ],
   "source": [
    "df1.dropna(inplace= True)\n",
    "df1.tail(20)"
   ]
  },
  {
   "cell_type": "code",
   "execution_count": 29,
   "metadata": {},
   "outputs": [],
   "source": [
    "#X = df1[['const','Trend_Lag','Short_MV_Avg_Span-Long_MV_Avg_Span_Lag','Close-Open_Lag','High-Low_Lag','Volume_Lag']]"
   ]
  },
  {
   "cell_type": "code",
   "execution_count": 30,
   "metadata": {},
   "outputs": [
    {
     "data": {
      "text/plain": [
       "<function matplotlib.pyplot.close(fig=None)>"
      ]
     },
     "execution_count": 30,
     "metadata": {},
     "output_type": "execute_result"
    },
    {
     "data": {
      "image/png": "[encoded data removed]",
      "text/plain": [
       "<Figure size 1152x432 with 1 Axes>"
      ]
     },
     "metadata": {
      "needs_background": "light"
     },
     "output_type": "display_data"
    }
   ],
   "source": [
    "df1['Close'][-100:].plot(figsize=(16,6))\n",
    "df1['Short_MV_Avg_Span'][-100:].plot(figsize=(16,6))\n",
    "df1['Long_MV_Avg_Span'][-100:].plot(figsize=(16,6))\n",
    "plt.xlabel('Index', fontsize=18)\n",
    "plt.ylabel('Close Price USD ($)', fontsize =18)\n",
    "plt.legend(['Close', str(short_moving_average_span) + ' Days Moving Average', str(long_moving_average_span) + ' days Moving Average'], loc = 'lower left')\n",
    "plt.title(\"Moving Average for \" + stock.upper())\n",
    "plt.show\n",
    "plt.close"
   ]
  },
  {
   "cell_type": "code",
   "execution_count": 31,
   "metadata": {},
   "outputs": [],
   "source": [
    "df1['Signal_Line'] = df1['Short_MV_Avg_Span-Long_MV_Avg_Span_Lag'].ewm(span = 12, adjust=False ).mean()\n",
    "#column_list = list(df1)\n",
    "#print (column_list)\n",
    "#df1=df1[['const', 'Date', 'Open', 'High', 'Low', 'Close', 'Adj Close', 'Volume', 'Volume_Lag', 'Today_Change_%', 'Trend', 'Trend_Lag', 'Close-Open', 'Close-Open_Lag', 'High-Low', 'High-Low_Lag', 'Up_Down', 'Short_MV_Avg_Span', 'Long_MV_Avg_Span', 'Short_MV_Avg_Span-Long_MV_Avg_Span', 'Short_MV_Avg_Span-Long_MV_Avg_Span_Lag', 'Prediction_Caculated', 'Prediction_indicator', 'share', 'money', 'Up', 'Down', 'Signal_Line']]\n",
    "#df1.info()"
   ]
  },
  {
   "cell_type": "code",
   "execution_count": 32,
   "metadata": {},
   "outputs": [],
   "source": [
    "X = df1[['const','Trend_Lag','Short_MV_Avg_Span-Long_MV_Avg_Span_Lag','Volume_Lag']]"
   ]
  },
  {
   "cell_type": "code",
   "execution_count": 33,
   "metadata": {},
   "outputs": [],
   "source": [
    "y = df1[\"Up_Down\"].values"
   ]
  },
  {
   "cell_type": "code",
   "execution_count": 34,
   "metadata": {},
   "outputs": [],
   "source": [
    "model = sm.Logit(y,X)"
   ]
  },
  {
   "cell_type": "code",
   "execution_count": 35,
   "metadata": {},
   "outputs": [
    {
     "name": "stdout",
     "output_type": "stream",
     "text": [
      "Optimization terminated successfully.\n",
      "         Current function value: 0.690523\n",
      "         Iterations 4\n"
     ]
    }
   ],
   "source": [
    "result =  model.fit()"
   ]
  },
  {
   "cell_type": "code",
   "execution_count": 36,
   "metadata": {},
   "outputs": [
    {
     "data": {
      "text/html": [
       "<table class=\"simpletable\">\n",
       "<caption>Logit Regression Results</caption>\n",
       "<tr>\n",
       "  <th>Dep. Variable:</th>           <td>y</td>        <th>  No. Observations:  </th>  <td>  1919</td> \n",
       "</tr>\n",
       "<tr>\n",
       "  <th>Model:</th>                 <td>Logit</td>      <th>  Df Residuals:      </th>  <td>  1915</td> \n",
       "</tr>\n",
       "<tr>\n",
       "  <th>Method:</th>                 <td>MLE</td>       <th>  Df Model:          </th>  <td>     3</td> \n",
       "</tr>\n",
       "<tr>\n",
       "  <th>Date:</th>            <td>Mon, 28 Jun 2021</td> <th>  Pseudo R-squ.:     </th> <td>0.003106</td>\n",
       "</tr>\n",
       "<tr>\n",
       "  <th>Time:</th>                <td>09:44:28</td>     <th>  Log-Likelihood:    </th> <td> -1325.1</td>\n",
       "</tr>\n",
       "<tr>\n",
       "  <th>converged:</th>             <td>True</td>       <th>  LL-Null:           </th> <td> -1329.2</td>\n",
       "</tr>\n",
       "<tr>\n",
       "  <th>Covariance Type:</th>     <td>nonrobust</td>    <th>  LLR p-value:       </th>  <td>0.04099</td>\n",
       "</tr>\n",
       "</table>\n",
       "<table class=\"simpletable\">\n",
       "<tr>\n",
       "                     <td></td>                       <th>coef</th>     <th>std err</th>      <th>z</th>      <th>P>|z|</th>  <th>[0.025</th>    <th>0.975]</th>  \n",
       "</tr>\n",
       "<tr>\n",
       "  <th>const</th>                                  <td>    0.2630</td> <td>    0.090</td> <td>    2.918</td> <td> 0.004</td> <td>    0.086</td> <td>    0.440</td>\n",
       "</tr>\n",
       "<tr>\n",
       "  <th>Trend_Lag</th>                              <td>   -0.3886</td> <td>    0.156</td> <td>   -2.485</td> <td> 0.013</td> <td>   -0.695</td> <td>   -0.082</td>\n",
       "</tr>\n",
       "<tr>\n",
       "  <th>Short_MV_Avg_Span-Long_MV_Avg_Span_Lag</th> <td>    0.0094</td> <td>    0.022</td> <td>    0.432</td> <td> 0.666</td> <td>   -0.033</td> <td>    0.052</td>\n",
       "</tr>\n",
       "<tr>\n",
       "  <th>Volume_Lag</th>                             <td>   -0.0009</td> <td>    0.001</td> <td>   -1.327</td> <td> 0.184</td> <td>   -0.002</td> <td>    0.000</td>\n",
       "</tr>\n",
       "</table>"
      ],
      "text/plain": [
       "<class 'statsmodels.iolib.summary.Summary'>\n",
       "\"\"\"\n",
       "                           Logit Regression Results                           \n",
       "==============================================================================\n",
       "Dep. Variable:                      y   No. Observations:                 1919\n",
       "Model:                          Logit   Df Residuals:                     1915\n",
       "Method:                           MLE   Df Model:                            3\n",
       "Date:                Mon, 28 Jun 2021   Pseudo R-squ.:                0.003106\n",
       "Time:                        09:44:28   Log-Likelihood:                -1325.1\n",
       "converged:                       True   LL-Null:                       -1329.2\n",
       "Covariance Type:            nonrobust   LLR p-value:                   0.04099\n",
       "==========================================================================================================\n",
       "                                             coef    std err          z      P>|z|      [0.025      0.975]\n",
       "----------------------------------------------------------------------------------------------------------\n",
       "const                                      0.2630      0.090      2.918      0.004       0.086       0.440\n",
       "Trend_Lag                                 -0.3886      0.156     -2.485      0.013      -0.695      -0.082\n",
       "Short_MV_Avg_Span-Long_MV_Avg_Span_Lag     0.0094      0.022      0.432      0.666      -0.033       0.052\n",
       "Volume_Lag                                -0.0009      0.001     -1.327      0.184      -0.002       0.000\n",
       "==========================================================================================================\n",
       "\"\"\""
      ]
     },
     "execution_count": 36,
     "metadata": {},
     "output_type": "execute_result"
    }
   ],
   "source": [
    "result.summary()"
   ]
  },
  {
   "cell_type": "code",
   "execution_count": 37,
   "metadata": {},
   "outputs": [],
   "source": [
    "prediction = result.predict(X)"
   ]
  },
  {
   "cell_type": "code",
   "execution_count": 38,
   "metadata": {},
   "outputs": [],
   "source": [
    "df1['Prediction_Caculated'] = pd.array(prediction)\n",
    "df1['Prediction_indicator'] = pd.array([1 if i > cutoff else 0 for i in prediction])\n",
    "#print (df1.iloc[-1,18],df1.iloc[-1,19],df1.iloc[-1,20])"
   ]
  },
  {
   "cell_type": "code",
   "execution_count": 39,
   "metadata": {},
   "outputs": [],
   "source": [
    "#print(df1.loc[[i for i in range(len(df1)-20, len(df1)+2)],['Trend_Lag', 'Short_MV_Avg_Span-Long_MV_Avg_Span_Lag', 'Up_Down', 'Prediction_indicator']])"
   ]
  },
  {
   "cell_type": "code",
   "execution_count": 40,
   "metadata": {},
   "outputs": [],
   "source": [
    "y = df1[\"Up_Down\"].values"
   ]
  },
  {
   "cell_type": "code",
   "execution_count": 41,
   "metadata": {},
   "outputs": [],
   "source": [
    "def confusion_matrix(act,pred):\n",
    "    predtrans = ['Up' if i > cutoff else 'Down' for i in pred]\n",
    "    actuals = ['Up' if i > 0 else 'Down' for i in act]\n",
    "    confusion_matrix = pd.crosstab(pd.Series(actuals),\n",
    "                                   pd.Series(predtrans),\n",
    "                                   rownames = [\"Actual\"],\n",
    "                                   colnames = [\"Predict\"]\n",
    "                                  )\n",
    "    return confusion_matrix"
   ]
  },
  {
   "cell_type": "code",
   "execution_count": 42,
   "metadata": {},
   "outputs": [
    {
     "data": {
      "text/html": [
       "<div>\n",
       "<style scoped>\n",
       "    .dataframe tbody tr th:only-of-type {\n",
       "        vertical-align: middle;\n",
       "    }\n",
       "\n",
       "    .dataframe tbody tr th {\n",
       "        vertical-align: top;\n",
       "    }\n",
       "\n",
       "    .dataframe thead th {\n",
       "        text-align: right;\n",
       "    }\n",
       "</style>\n",
       "<table border=\"1\" class=\"dataframe\">\n",
       "  <thead>\n",
       "    <tr style=\"text-align: right;\">\n",
       "      <th>Predict</th>\n",
       "      <th>Down</th>\n",
       "      <th>Up</th>\n",
       "    </tr>\n",
       "    <tr>\n",
       "      <th>Actual</th>\n",
       "      <th></th>\n",
       "      <th></th>\n",
       "    </tr>\n",
       "  </thead>\n",
       "  <tbody>\n",
       "    <tr>\n",
       "      <th>Down</th>\n",
       "      <td>350</td>\n",
       "      <td>580</td>\n",
       "    </tr>\n",
       "    <tr>\n",
       "      <th>Up</th>\n",
       "      <td>304</td>\n",
       "      <td>685</td>\n",
       "    </tr>\n",
       "  </tbody>\n",
       "</table>\n",
       "</div>"
      ],
      "text/plain": [
       "Predict  Down   Up\n",
       "Actual            \n",
       "Down      350  580\n",
       "Up        304  685"
      ]
     },
     "execution_count": 42,
     "metadata": {},
     "output_type": "execute_result"
    }
   ],
   "source": [
    "confusion_matrix(y,prediction)"
   ]
  },
  {
   "cell_type": "code",
   "execution_count": 43,
   "metadata": {},
   "outputs": [
    {
     "name": "stdout",
     "output_type": "stream",
     "text": [
      "0.539343408025013\n"
     ]
    }
   ],
   "source": [
    "z = confusion_matrix(y,prediction)\n",
    "try:\n",
    "    print((z.loc['Down','Down'] + z.loc['Up','Up']) / len(df1))\n",
    "except:\n",
    "    pass"
   ]
  },
  {
   "cell_type": "code",
   "execution_count": 44,
   "metadata": {},
   "outputs": [
    {
     "name": "stdout",
     "output_type": "stream",
     "text": [
      "0.6408668730650154\n"
     ]
    }
   ],
   "source": [
    "try:\n",
    "    print( (z.loc['Down', 'Down']+ z.loc['Up','Up']) / (z.loc['Down', 'Down']+ z.loc['Up','Up'] + z.loc['Down','Up']) )\n",
    "except:\n",
    "    pass"
   ]
  },
  {
   "cell_type": "code",
   "execution_count": 45,
   "metadata": {},
   "outputs": [],
   "source": [
    "df1 = df1.assign(share=np.nan,money=np.nan)\n",
    "#df1"
   ]
  },
  {
   "cell_type": "code",
   "execution_count": 46,
   "metadata": {},
   "outputs": [],
   "source": [
    "diff_years = round((df1.iloc[-1,1] - df1.iloc[0,1])/np.timedelta64(1,'Y') + 0.5)   "
   ]
  },
  {
   "cell_type": "code",
   "execution_count": 47,
   "metadata": {},
   "outputs": [],
   "source": [
    "#df1.info()\n",
    "#column_list = list(df1)\n",
    "#print (column_list)\n",
    "df1=df1[['const', 'Date', 'Open', 'High', 'Low', 'Close', 'Adj Close', 'Volume', 'Volume_Lag', 'Today_Change_%', 'Trend', 'Trend_Lag', 'Close-Open', 'Close-Open_Lag', 'High-Low', 'High-Low_Lag', 'Up_Down', 'Short_MV_Avg_Span', 'Long_MV_Avg_Span', 'Short_MV_Avg_Span-Long_MV_Avg_Span', 'Short_MV_Avg_Span-Long_MV_Avg_Span_Lag', 'Prediction_Caculated', 'Prediction_indicator', 'share', 'money', 'Signal_Line']]\n",
    "#df1.info()"
   ]
  },
  {
   "cell_type": "code",
   "execution_count": 48,
   "metadata": {},
   "outputs": [],
   "source": [
    "#Simulate Investment transaction buy on opening when predict UP and sell daily average when predict DOWN\n",
    "\n",
    "def buy_sell(open_price, sell_price,prediction, money, share):\n",
    "    if prediction == 1 and money != 0:\n",
    "        share =  money / open_price\n",
    "        money = 0\n",
    "    elif prediction == 0 and share != 0:\n",
    "        money = share * sell_price\n",
    "        share = 0\n",
    "    else: pass\n",
    "    return [money, share]\n",
    "money = invest\n",
    "share = 0\n",
    "for i in range(len(df1)):\n",
    "    [money, share] = buy_sell(df1.iloc[i,2],(df1.iloc[i,3]+df1.iloc[i,4])/2,df1.iloc[i,22], money, share)\n",
    "    df1.iloc[i,23] = share\n",
    "    df1.iloc[i,24] = money"
   ]
  },
  {
   "cell_type": "code",
   "execution_count": 49,
   "metadata": {},
   "outputs": [],
   "source": [
    "#df1.info()"
   ]
  },
  {
   "cell_type": "code",
   "execution_count": 50,
   "metadata": {},
   "outputs": [],
   "source": [
    "df1 = df1.assign(Up=np.nan,Down=np.nan)\n",
    "#df1.info()"
   ]
  },
  {
   "cell_type": "code",
   "execution_count": 51,
   "metadata": {},
   "outputs": [],
   "source": [
    "for i in range(len(df1)):\n",
    "    if df1.iloc[i,9] <= 0:\n",
    "        df1.iloc[i,26] = 0\n",
    "        df1.iloc[i,27] = df1.iloc[i,9]\n",
    "    else:\n",
    "        df1.iloc[i,27] = 0\n",
    "        df1.iloc[i,26] = df1.iloc[i,9]\n",
    "\n",
    "AVG_Gain = df1.Up.ewm(span=period, adjust=False).mean()\n",
    "AVG_Loss = df1.Down.ewm(span=period, adjust=False).mean().abs()"
   ]
  },
  {
   "cell_type": "code",
   "execution_count": 52,
   "metadata": {},
   "outputs": [],
   "source": [
    "RS = AVG_Gain /AVG_Loss\n",
    "RSI = 100.0 - (100.0 / (1.0 + RS))\n",
    "df1['RSI'] = RSI\n",
    "df1['RSI_Lag'] = df1['RSI'].shift(1)"
   ]
  },
  {
   "cell_type": "code",
   "execution_count": 53,
   "metadata": {},
   "outputs": [
    {
     "data": {
      "text/plain": [
       "<function matplotlib.pyplot.close(fig=None)>"
      ]
     },
     "execution_count": 53,
     "metadata": {},
     "output_type": "execute_result"
    },
    {
     "data": {
      "image/png": "[encoded data removed]",
      "text/plain": [
       "<Figure size 1152x432 with 2 Axes>"
      ]
     },
     "metadata": {
      "needs_background": "light"
     },
     "output_type": "display_data"
    }
   ],
   "source": [
    "fig, ax1 = plt.subplots()\n",
    "ax2 =  ax1.twinx()\n",
    "df1['RSI'][-100:].plot(x = 'Index', color='tab:red', figsize=(16,6), label = 'Relative Strength Index',ax = ax1)\n",
    "df1['Close'][-100:].plot(x = 'Index', y = 'Close',color = 'tab:blue', figsize=(16,6),  label = 'Close Price',ax = ax2)\n",
    "#df1['Close'][-100:].plot(figsize=(16,6))\n",
    "ax1.set_ylabel('Relative Strength Index', fontsize = 18)\n",
    "ax2.set_ylabel('Close Price USD ($)', fontsize = 18)\n",
    "#df1.xlabel('Index', fontsize=18)\n",
    "#df1.ylabel('Relative Strength Index', fontsize =18)\n",
    "ax1.grid()\n",
    "ax1.set_title(\"Relative Strength Index for \" + stock.upper(), fontsize = 18)\n",
    "ax1.legend(loc=2)\n",
    "ax2.legend(loc=3)\n",
    "plt.show\n",
    "plt.close"
   ]
  },
  {
   "cell_type": "code",
   "execution_count": 54,
   "metadata": {},
   "outputs": [
    {
     "name": "stdout",
     "output_type": "stream",
     "text": [
      "Optimization terminated successfully.\n",
      "         Current function value: 0.690411\n",
      "         Iterations 4\n"
     ]
    },
    {
     "data": {
      "text/html": [
       "<table class=\"simpletable\">\n",
       "<caption>Logit Regression Results</caption>\n",
       "<tr>\n",
       "  <th>Dep. Variable:</th>           <td>y</td>        <th>  No. Observations:  </th>  <td>  1918</td> \n",
       "</tr>\n",
       "<tr>\n",
       "  <th>Model:</th>                 <td>Logit</td>      <th>  Df Residuals:      </th>  <td>  1913</td> \n",
       "</tr>\n",
       "<tr>\n",
       "  <th>Method:</th>                 <td>MLE</td>       <th>  Df Model:          </th>  <td>     4</td> \n",
       "</tr>\n",
       "<tr>\n",
       "  <th>Date:</th>            <td>Mon, 28 Jun 2021</td> <th>  Pseudo R-squ.:     </th> <td>0.003244</td>\n",
       "</tr>\n",
       "<tr>\n",
       "  <th>Time:</th>                <td>09:44:30</td>     <th>  Log-Likelihood:    </th> <td> -1324.2</td>\n",
       "</tr>\n",
       "<tr>\n",
       "  <th>converged:</th>             <td>True</td>       <th>  LL-Null:           </th> <td> -1328.5</td>\n",
       "</tr>\n",
       "<tr>\n",
       "  <th>Covariance Type:</th>     <td>nonrobust</td>    <th>  LLR p-value:       </th>  <td>0.07134</td>\n",
       "</tr>\n",
       "</table>\n",
       "<table class=\"simpletable\">\n",
       "<tr>\n",
       "                     <td></td>                       <th>coef</th>     <th>std err</th>      <th>z</th>      <th>P>|z|</th>  <th>[0.025</th>    <th>0.975]</th>  \n",
       "</tr>\n",
       "<tr>\n",
       "  <th>const</th>                                  <td>    0.1685</td> <td>    0.159</td> <td>    1.057</td> <td> 0.291</td> <td>   -0.144</td> <td>    0.481</td>\n",
       "</tr>\n",
       "<tr>\n",
       "  <th>Trend_Lag</th>                              <td>   -0.4222</td> <td>    0.166</td> <td>   -2.542</td> <td> 0.011</td> <td>   -0.748</td> <td>   -0.097</td>\n",
       "</tr>\n",
       "<tr>\n",
       "  <th>RSI_Lag</th>                                <td>    0.0022</td> <td>    0.003</td> <td>    0.706</td> <td> 0.480</td> <td>   -0.004</td> <td>    0.008</td>\n",
       "</tr>\n",
       "<tr>\n",
       "  <th>Short_MV_Avg_Span-Long_MV_Avg_Span_Lag</th> <td>    0.0019</td> <td>    0.024</td> <td>    0.080</td> <td> 0.936</td> <td>   -0.045</td> <td>    0.049</td>\n",
       "</tr>\n",
       "<tr>\n",
       "  <th>Volume_Lag</th>                             <td>   -0.0009</td> <td>    0.001</td> <td>   -1.365</td> <td> 0.172</td> <td>   -0.002</td> <td>    0.000</td>\n",
       "</tr>\n",
       "</table>"
      ],
      "text/plain": [
       "<class 'statsmodels.iolib.summary.Summary'>\n",
       "\"\"\"\n",
       "                           Logit Regression Results                           \n",
       "==============================================================================\n",
       "Dep. Variable:                      y   No. Observations:                 1918\n",
       "Model:                          Logit   Df Residuals:                     1913\n",
       "Method:                           MLE   Df Model:                            4\n",
       "Date:                Mon, 28 Jun 2021   Pseudo R-squ.:                0.003244\n",
       "Time:                        09:44:30   Log-Likelihood:                -1324.2\n",
       "converged:                       True   LL-Null:                       -1328.5\n",
       "Covariance Type:            nonrobust   LLR p-value:                   0.07134\n",
       "==========================================================================================================\n",
       "                                             coef    std err          z      P>|z|      [0.025      0.975]\n",
       "----------------------------------------------------------------------------------------------------------\n",
       "const                                      0.1685      0.159      1.057      0.291      -0.144       0.481\n",
       "Trend_Lag                                 -0.4222      0.166     -2.542      0.011      -0.748      -0.097\n",
       "RSI_Lag                                    0.0022      0.003      0.706      0.480      -0.004       0.008\n",
       "Short_MV_Avg_Span-Long_MV_Avg_Span_Lag     0.0019      0.024      0.080      0.936      -0.045       0.049\n",
       "Volume_Lag                                -0.0009      0.001     -1.365      0.172      -0.002       0.000\n",
       "==========================================================================================================\n",
       "\"\"\""
      ]
     },
     "execution_count": 54,
     "metadata": {},
     "output_type": "execute_result"
    }
   ],
   "source": [
    "df1.dropna(inplace= True)\n",
    "X = df1[['const','Trend_Lag', 'RSI_Lag', 'Short_MV_Avg_Span-Long_MV_Avg_Span_Lag','Volume_Lag']]\n",
    "y = df1[\"Up_Down\"].values\n",
    "model = sm.Logit(y,X)\n",
    "result =  model.fit()\n",
    "result.summary()"
   ]
  },
  {
   "cell_type": "code",
   "execution_count": 55,
   "metadata": {},
   "outputs": [
    {
     "name": "stdout",
     "output_type": "stream",
     "text": [
      "\n",
      "If $100 was invested in [ TWTR ], and Just Hold and Not Trade for  8 years, the ROI = $151\n"
     ]
    }
   ],
   "source": [
    "print(\"\\nIf ${:,.0f} was invested in [ {} ], and Just Hold and Not Trade for {:2d} years, the ROI = ${:,.0f}\".format( invest, stock.upper(), diff_years, invest/data.iloc[0, 0] * data.iloc[-1,0]))"
   ]
  },
  {
   "cell_type": "code",
   "execution_count": 56,
   "metadata": {},
   "outputs": [
    {
     "name": "stdout",
     "output_type": "stream",
     "text": [
      "\n",
      "If $100 was invested  8 years ago, buy and sell according this script's recommandation, the ROI = $418\n"
     ]
    }
   ],
   "source": [
    "print (\"\\nIf ${:,.0f} was invested {:2d} years ago, buy and sell according this script\\'s recommandation, the ROI = ${:,.0f}\".format(invest, diff_years, (money + (share * df1.iloc[-1,5]))))"
   ]
  },
  {
   "cell_type": "code",
   "execution_count": 57,
   "metadata": {
    "scrolled": false
   },
   "outputs": [
    {
     "name": "stdout",
     "output_type": "stream",
     "text": [
      "           Date Stock Market Performance Scribe Predection\n",
      "1907 2021-06-08                     Down              Down\n",
      "1908 2021-06-09                       Up                Up\n",
      "1909 2021-06-10                       Up                Up\n",
      "1910 2021-06-11                       Up              Down\n",
      "1911 2021-06-14                       Up              Down\n",
      "1912 2021-06-15                     Down                Up\n",
      "1913 2021-06-16                     Down                Up\n",
      "1914 2021-06-17                       Up                Up\n",
      "1915 2021-06-18                       Up                Up\n",
      "1916 2021-06-21                       Up              Down\n",
      "1917 2021-06-22                       Up              Down\n",
      "1918 2021-06-23                       Up              Down\n",
      "1919 2021-06-24                       Up              Down\n",
      "1920 2021-06-25                     Down              Down\n",
      "1921 2021-06-28                     Down                Up\n"
     ]
    }
   ],
   "source": [
    "df1_summary=df1[['Date', 'Up_Down','Prediction_indicator']].copy()\n",
    "df1_summary['Stock Market Performance'] = df1_summary['Up_Down'].apply(lambda x: 'Up' if x > 0 else 'Down')\n",
    "df1_summary['Scribe Predection'] = df1_summary['Prediction_indicator'].apply(lambda x: 'Up' if x > 0 else 'Down')\n",
    "print (df1_summary[['Date','Stock Market Performance','Scribe Predection']].tail(15))"
   ]
  },
  {
   "cell_type": "code",
   "execution_count": 58,
   "metadata": {},
   "outputs": [],
   "source": [
    "#print(df1.loc[[i for i in range(len(df1)-20, len(df1)+2)],['Date','Close','Trend_Lag', 'Short_MV_Avg_Span-Long_MV_Avg_Span_Lag']])"
   ]
  },
  {
   "cell_type": "code",
   "execution_count": 59,
   "metadata": {},
   "outputs": [
    {
     "name": "stdout",
     "output_type": "stream",
     "text": [
      "\n",
      "Today [ TWTR ] actually went down, --- base on yesterday's data, We Predication [ TWTR ] should be going up.\n",
      "\n",
      "=========> Actual and Predication DO NOT match <=========\n"
     ]
    }
   ],
   "source": [
    "print (\"\\nToday [ %s ] actually went up,\" %stock.upper(), end = ' ') if (df1.iloc[-1,16] == 1) else print (\"\\nToday [ %s ] actually went down,\" %stock.upper(), end = \" \")\n",
    "print (\"--- base on yesterday\\'s data, \", end = '')\n",
    "print (\"We Predication [ %s ] should be going up.\" %stock.upper()) if (df1.iloc[-1,22] == 1) else print (\"We Predicae [ %s ] should be going down.\" %stock.upper())\n",
    "print (\"\\n=========> Actual and Predication MATCH <=========\") if (df1.iloc[-1,16] == df1.iloc[-1,22]) else print(\"\\n=========> Actual and Predication DO NOT match <=========\")"
   ]
  },
  {
   "cell_type": "code",
   "execution_count": 60,
   "metadata": {},
   "outputs": [],
   "source": [
    "x_tran= df1[df1.Date.dt.year < 2021][['const','Trend_Lag', 'RSI_Lag','Short_MV_Avg_Span-Long_MV_Avg_Span_Lag','Volume_Lag']]\n",
    "y_train=df1[df1.Date.dt.year < 2021][\"Up_Down\"]\n",
    "x_test= df1[df1.Date.dt.year >= 2021][['const','Trend_Lag', 'RSI_Lag','Short_MV_Avg_Span-Long_MV_Avg_Span_Lag','Volume_Lag']]\n",
    "y_test= df1[df1.Date.dt.year >= 2021][\"Up_Down\"]"
   ]
  },
  {
   "cell_type": "code",
   "execution_count": 61,
   "metadata": {},
   "outputs": [
    {
     "name": "stdout",
     "output_type": "stream",
     "text": [
      "Optimization terminated successfully.\n",
      "         Current function value: 0.690492\n",
      "         Iterations 4\n"
     ]
    }
   ],
   "source": [
    "model = sm.Logit(y_train,x_tran)\n",
    "result=model.fit()"
   ]
  },
  {
   "cell_type": "code",
   "execution_count": 62,
   "metadata": {},
   "outputs": [
    {
     "data": {
      "text/html": [
       "<table class=\"simpletable\">\n",
       "<caption>Logit Regression Results</caption>\n",
       "<tr>\n",
       "  <th>Dep. Variable:</th>        <td>Up_Down</td>     <th>  No. Observations:  </th>  <td>  1796</td> \n",
       "</tr>\n",
       "<tr>\n",
       "  <th>Model:</th>                 <td>Logit</td>      <th>  Df Residuals:      </th>  <td>  1791</td> \n",
       "</tr>\n",
       "<tr>\n",
       "  <th>Method:</th>                 <td>MLE</td>       <th>  Df Model:          </th>  <td>     4</td> \n",
       "</tr>\n",
       "<tr>\n",
       "  <th>Date:</th>            <td>Mon, 28 Jun 2021</td> <th>  Pseudo R-squ.:     </th> <td>0.003131</td>\n",
       "</tr>\n",
       "<tr>\n",
       "  <th>Time:</th>                <td>09:44:30</td>     <th>  Log-Likelihood:    </th> <td> -1240.1</td>\n",
       "</tr>\n",
       "<tr>\n",
       "  <th>converged:</th>             <td>True</td>       <th>  LL-Null:           </th> <td> -1244.0</td>\n",
       "</tr>\n",
       "<tr>\n",
       "  <th>Covariance Type:</th>     <td>nonrobust</td>    <th>  LLR p-value:       </th>  <td>0.09955</td>\n",
       "</tr>\n",
       "</table>\n",
       "<table class=\"simpletable\">\n",
       "<tr>\n",
       "                     <td></td>                       <th>coef</th>     <th>std err</th>      <th>z</th>      <th>P>|z|</th>  <th>[0.025</th>    <th>0.975]</th>  \n",
       "</tr>\n",
       "<tr>\n",
       "  <th>const</th>                                  <td>    0.2795</td> <td>    0.170</td> <td>    1.645</td> <td> 0.100</td> <td>   -0.053</td> <td>    0.613</td>\n",
       "</tr>\n",
       "<tr>\n",
       "  <th>Trend_Lag</th>                              <td>   -0.3848</td> <td>    0.172</td> <td>   -2.234</td> <td> 0.026</td> <td>   -0.722</td> <td>   -0.047</td>\n",
       "</tr>\n",
       "<tr>\n",
       "  <th>RSI_Lag</th>                                <td>   -0.0004</td> <td>    0.003</td> <td>   -0.112</td> <td> 0.910</td> <td>   -0.007</td> <td>    0.006</td>\n",
       "</tr>\n",
       "<tr>\n",
       "  <th>Short_MV_Avg_Span-Long_MV_Avg_Span_Lag</th> <td>    0.0214</td> <td>    0.027</td> <td>    0.793</td> <td> 0.428</td> <td>   -0.032</td> <td>    0.074</td>\n",
       "</tr>\n",
       "<tr>\n",
       "  <th>Volume_Lag</th>                             <td>   -0.0008</td> <td>    0.001</td> <td>   -1.130</td> <td> 0.259</td> <td>   -0.002</td> <td>    0.001</td>\n",
       "</tr>\n",
       "</table>"
      ],
      "text/plain": [
       "<class 'statsmodels.iolib.summary.Summary'>\n",
       "\"\"\"\n",
       "                           Logit Regression Results                           \n",
       "==============================================================================\n",
       "Dep. Variable:                Up_Down   No. Observations:                 1796\n",
       "Model:                          Logit   Df Residuals:                     1791\n",
       "Method:                           MLE   Df Model:                            4\n",
       "Date:                Mon, 28 Jun 2021   Pseudo R-squ.:                0.003131\n",
       "Time:                        09:44:30   Log-Likelihood:                -1240.1\n",
       "converged:                       True   LL-Null:                       -1244.0\n",
       "Covariance Type:            nonrobust   LLR p-value:                   0.09955\n",
       "==========================================================================================================\n",
       "                                             coef    std err          z      P>|z|      [0.025      0.975]\n",
       "----------------------------------------------------------------------------------------------------------\n",
       "const                                      0.2795      0.170      1.645      0.100      -0.053       0.613\n",
       "Trend_Lag                                 -0.3848      0.172     -2.234      0.026      -0.722      -0.047\n",
       "RSI_Lag                                   -0.0004      0.003     -0.112      0.910      -0.007       0.006\n",
       "Short_MV_Avg_Span-Long_MV_Avg_Span_Lag     0.0214      0.027      0.793      0.428      -0.032       0.074\n",
       "Volume_Lag                                -0.0008      0.001     -1.130      0.259      -0.002       0.001\n",
       "==========================================================================================================\n",
       "\"\"\""
      ]
     },
     "execution_count": 62,
     "metadata": {},
     "output_type": "execute_result"
    }
   ],
   "source": [
    "result.summary()"
   ]
  },
  {
   "cell_type": "code",
   "execution_count": 63,
   "metadata": {},
   "outputs": [],
   "source": [
    "#print(result.summary().as_csv())"
   ]
  },
  {
   "cell_type": "code",
   "execution_count": 64,
   "metadata": {},
   "outputs": [],
   "source": [
    "summary_list=result.summary().as_csv().split(\",\")"
   ]
  },
  {
   "cell_type": "code",
   "execution_count": 65,
   "metadata": {},
   "outputs": [],
   "source": [
    "#print(summary_list)"
   ]
  },
  {
   "cell_type": "code",
   "execution_count": 66,
   "metadata": {},
   "outputs": [],
   "source": [
    "#print(summary_list[37:39])"
   ]
  },
  {
   "cell_type": "code",
   "execution_count": 67,
   "metadata": {},
   "outputs": [
    {
     "data": {
      "text/html": [
       "<div>\n",
       "<style scoped>\n",
       "    .dataframe tbody tr th:only-of-type {\n",
       "        vertical-align: middle;\n",
       "    }\n",
       "\n",
       "    .dataframe tbody tr th {\n",
       "        vertical-align: top;\n",
       "    }\n",
       "\n",
       "    .dataframe thead th {\n",
       "        text-align: right;\n",
       "    }\n",
       "</style>\n",
       "<table border=\"1\" class=\"dataframe\">\n",
       "  <thead>\n",
       "    <tr style=\"text-align: right;\">\n",
       "      <th>Predict</th>\n",
       "      <th>Down</th>\n",
       "      <th>Up</th>\n",
       "    </tr>\n",
       "    <tr>\n",
       "      <th>Actual</th>\n",
       "      <th></th>\n",
       "      <th></th>\n",
       "    </tr>\n",
       "  </thead>\n",
       "  <tbody>\n",
       "    <tr>\n",
       "      <th>Down</th>\n",
       "      <td>19</td>\n",
       "      <td>40</td>\n",
       "    </tr>\n",
       "    <tr>\n",
       "      <th>Up</th>\n",
       "      <td>21</td>\n",
       "      <td>42</td>\n",
       "    </tr>\n",
       "  </tbody>\n",
       "</table>\n",
       "</div>"
      ],
      "text/plain": [
       "Predict  Down  Up\n",
       "Actual           \n",
       "Down       19  40\n",
       "Up         21  42"
      ]
     },
     "execution_count": 67,
     "metadata": {},
     "output_type": "execute_result"
    }
   ],
   "source": [
    "prediction = result.predict(x_test)\n",
    "confusion_matrix(y_test, prediction)"
   ]
  },
  {
   "cell_type": "code",
   "execution_count": 68,
   "metadata": {},
   "outputs": [],
   "source": [
    "z = confusion_matrix(y_test,prediction)"
   ]
  },
  {
   "cell_type": "code",
   "execution_count": 69,
   "metadata": {},
   "outputs": [
    {
     "name": "stdout",
     "output_type": "stream",
     "text": [
      "\n",
      "=========> Prediction Accuracy Rate: 0.5000 <=========\n",
      "\n"
     ]
    }
   ],
   "source": [
    "try:\n",
    "    print (\"\\n=========> Prediction Accuracy Rate: %.4f <=========\\n\"  %((z.loc['Down','Down'] + z.loc['Up','Up']) / len(x_test)))\n",
    "except:\n",
    "    print (\"\\n=========> Predication effectiveness is not avairable <=========\\n\" )"
   ]
  },
  {
   "cell_type": "code",
   "execution_count": 70,
   "metadata": {},
   "outputs": [],
   "source": [
    "#df1.info()"
   ]
  },
  {
   "cell_type": "code",
   "execution_count": 71,
   "metadata": {},
   "outputs": [
    {
     "name": "stdout",
     "output_type": "stream",
     "text": [
      "\n",
      "=========> Current trend = 0.5444,   [ TWTR ] will go up! <=========\n"
     ]
    }
   ],
   "source": [
    "prediction = result.predict(x_test)\n",
    "now_up_down  = result.predict([1.0, df1.iloc[-1, 10], df1.iloc[-1, 28], df1.iloc[-1, 19], df1.iloc[-1, 7]])\n",
    "print (\"\\n=========> Current trend = %.4f,  \" %now_up_down, end=' ')\n",
    "print (\"[ %s ] will go up! <=========\" %stock.upper()) if now_up_down > cutoff else print (\"[ %s ] will go down! <=========\" %stock.upper()) "
   ]
  },
  {
   "cell_type": "code",
   "execution_count": 72,
   "metadata": {},
   "outputs": [
    {
     "name": "stdout",
     "output_type": "stream",
     "text": [
      "\n",
      " ============> 20 Days over 50 Days Moving Average Indicator \n",
      " ============> 0.0327....0.4088....0.8328....1.1804....1.4638....<=============\n",
      "\n",
      " ============> No Trading Waring at this time! <=============\n"
     ]
    }
   ],
   "source": [
    "#print (\"\\n=========> Current trend = %.4f,  \" %now_up_down, end=' ')\n",
    "print (\"\\n ============> %s Days over %s Days Moving Average Indicator \\n ============> %.4f....%.4f....%.4f....%.4f....%.4f....<=============\" %(short_moving_average_span, long_moving_average_span, df1.iloc[-5,19], df1.iloc[-4,19], df1.iloc[-3,19], df1.iloc[-2,19],df1.iloc[-1,19]))\n",
    "if df1.iloc[-1,19] * df1.iloc[-2,19] < 0:\n",
    "    print (\"\\n ============> Warning, It Is the Time to Sell [ %s ] <=========\" %stock.upper()) if df1.iloc[-1,19] < 0 else print (\"\\n ============> It Is the Time to Buy [ %s ] ! <=========\" %stock.upper())\n",
    "else:\n",
    "    print (\"\\n ============> No Trading Waring at this time! <=============\")"
   ]
  },
  {
   "cell_type": "code",
   "execution_count": 73,
   "metadata": {},
   "outputs": [],
   "source": [
    "#df1.to_csv('fb.csv', index = False)"
   ]
  }
 ],
 "metadata": {
  "kernelspec": {
   "display_name": "Python 3",
   "language": "python",
   "name": "python3"
  },
  "language_info": {
   "codemirror_mode": {
    "name": "ipython",
    "version": 3
   },
   "file_extension": ".py",
   "mimetype": "text/x-python",
   "name": "python",
   "nbconvert_exporter": "python",
   "pygments_lexer": "ipython3",
   "version": "3.8.5"
  }
 },
 "nbformat": 4,
 "nbformat_minor": 4
}
