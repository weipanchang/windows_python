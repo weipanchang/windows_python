{
 "cells": [
  {
   "cell_type": "code",
   "execution_count": 1,
   "metadata": {},
   "outputs": [],
   "source": [
    "import yfinance as yf"
   ]
  },
  {
   "cell_type": "code",
   "execution_count": 2,
   "metadata": {},
   "outputs": [],
   "source": [
    "import numpy as np"
   ]
  },
  {
   "cell_type": "code",
   "execution_count": 3,
   "metadata": {},
   "outputs": [],
   "source": [
    "import pandas as pd"
   ]
  },
  {
   "cell_type": "code",
   "execution_count": 4,
   "metadata": {},
   "outputs": [],
   "source": [
    "import math\n",
    "#import pickle"
   ]
  },
  {
   "cell_type": "code",
   "execution_count": 5,
   "metadata": {},
   "outputs": [],
   "source": [
    "#import numpy as geek  "
   ]
  },
  {
   "cell_type": "code",
   "execution_count": 6,
   "metadata": {},
   "outputs": [],
   "source": [
    "import matplotlib.pyplot as plt"
   ]
  },
  {
   "cell_type": "code",
   "execution_count": 7,
   "metadata": {},
   "outputs": [],
   "source": [
    "import pandas_datareader as web"
   ]
  },
  {
   "cell_type": "code",
   "execution_count": 8,
   "metadata": {},
   "outputs": [],
   "source": [
    "import statsmodels.api as sm"
   ]
  },
  {
   "cell_type": "code",
   "execution_count": 9,
   "metadata": {},
   "outputs": [],
   "source": [
    "import datetime\n",
    "from dateutil.relativedelta import relativedelta\n",
    "from datetime import date"
   ]
  },
  {
   "cell_type": "code",
   "execution_count": 10,
   "metadata": {},
   "outputs": [],
   "source": [
    "pd.set_option('mode.use_inf_as_na', True)"
   ]
  },
  {
   "cell_type": "code",
   "execution_count": 11,
   "metadata": {},
   "outputs": [],
   "source": [
    "stock = 'crox'\n",
    "\n",
    "short_moving_average_span = 20\n",
    "long_moving_average_span = 50\n",
    "cutoff=0.51\n",
    "invest = 100\n",
    "years_of_data_to_process = 20\n",
    "period = 10"
   ]
  },
  {
   "cell_type": "code",
   "execution_count": 12,
   "metadata": {},
   "outputs": [
    {
     "name": "stdout",
     "output_type": "stream",
     "text": [
      "2001-01-01 00:00:00\n"
     ]
    }
   ],
   "source": [
    "currentDateTime = datetime.datetime.now()\n",
    "date = currentDateTime.date()\n",
    "#print (date)\n",
    "year = date.strftime(\"%Y\")\n",
    "start_year =  int(year) - years_of_data_to_process\n",
    "start = datetime.datetime(start_year, 1, 1)\n",
    "print (start)"
   ]
  },
  {
   "cell_type": "code",
   "execution_count": 13,
   "metadata": {},
   "outputs": [],
   "source": [
    "#data =  yf.download(stock, start=start)"
   ]
  },
  {
   "cell_type": "code",
   "execution_count": 14,
   "metadata": {},
   "outputs": [
    {
     "name": "stdout",
     "output_type": "stream",
     "text": [
      "                  High         Low        Open       Close      Volume  \\\n",
      "Date                                                                     \n",
      "2006-02-08   16.250000   14.070000   15.000000   14.275000  23814000.0   \n",
      "2006-02-09   14.670000   13.060000   14.620000   13.500000   4463800.0   \n",
      "2006-02-10   13.770000   13.010000   13.500000   13.275000   1800400.0   \n",
      "2006-02-13   14.125000   13.195000   13.250000   13.850000   1701800.0   \n",
      "2006-02-14   14.235000   13.875000   13.875000   13.900000   2553800.0   \n",
      "...                ...         ...         ...         ...         ...   \n",
      "2021-11-18  180.850006  175.750000  178.570007  176.979996    685600.0   \n",
      "2021-11-19  178.440002  174.649994  175.589996  175.500000   1354700.0   \n",
      "2021-11-22  180.880005  172.309998  177.000000  175.539993   1060500.0   \n",
      "2021-11-23  175.490005  166.679993  173.729996  170.740005   1422200.0   \n",
      "2021-11-24  172.470001  166.080002  169.009995  171.649994    726800.0   \n",
      "\n",
      "             Adj Close  \n",
      "Date                    \n",
      "2006-02-08   14.275000  \n",
      "2006-02-09   13.500000  \n",
      "2006-02-10   13.275000  \n",
      "2006-02-13   13.850000  \n",
      "2006-02-14   13.900000  \n",
      "...                ...  \n",
      "2021-11-18  176.979996  \n",
      "2021-11-19  175.500000  \n",
      "2021-11-22  175.539993  \n",
      "2021-11-23  170.740005  \n",
      "2021-11-24  171.649994  \n",
      "\n",
      "[3978 rows x 6 columns]\n"
     ]
    }
   ],
   "source": [
    "data = web.DataReader(stock, data_source='yahoo', start = start, end = date)\n",
    "print(data)"
   ]
  },
  {
   "cell_type": "code",
   "execution_count": 15,
   "metadata": {},
   "outputs": [],
   "source": [
    "df = data[\"Close\"].pct_change() * 100"
   ]
  },
  {
   "cell_type": "code",
   "execution_count": 16,
   "metadata": {},
   "outputs": [],
   "source": [
    "df = df.rename(\"Today_Change_%\")\n",
    "df = df.reset_index()"
   ]
  },
  {
   "cell_type": "code",
   "execution_count": 17,
   "metadata": {},
   "outputs": [
    {
     "data": {
      "text/html": [
       "<div>\n",
       "<style scoped>\n",
       "    .dataframe tbody tr th:only-of-type {\n",
       "        vertical-align: middle;\n",
       "    }\n",
       "\n",
       "    .dataframe tbody tr th {\n",
       "        vertical-align: top;\n",
       "    }\n",
       "\n",
       "    .dataframe thead th {\n",
       "        text-align: right;\n",
       "    }\n",
       "</style>\n",
       "<table border=\"1\" class=\"dataframe\">\n",
       "  <thead>\n",
       "    <tr style=\"text-align: right;\">\n",
       "      <th></th>\n",
       "      <th>Date</th>\n",
       "      <th>High</th>\n",
       "      <th>Low</th>\n",
       "      <th>Open</th>\n",
       "      <th>Close</th>\n",
       "      <th>Volume</th>\n",
       "      <th>Adj Close</th>\n",
       "      <th>Today_Change_%</th>\n",
       "    </tr>\n",
       "  </thead>\n",
       "  <tbody>\n",
       "    <tr>\n",
       "      <th>0</th>\n",
       "      <td>2006-02-08</td>\n",
       "      <td>16.250000</td>\n",
       "      <td>14.070000</td>\n",
       "      <td>15.000000</td>\n",
       "      <td>14.275000</td>\n",
       "      <td>23814000.0</td>\n",
       "      <td>14.275000</td>\n",
       "      <td>NaN</td>\n",
       "    </tr>\n",
       "    <tr>\n",
       "      <th>1</th>\n",
       "      <td>2006-02-09</td>\n",
       "      <td>14.670000</td>\n",
       "      <td>13.060000</td>\n",
       "      <td>14.620000</td>\n",
       "      <td>13.500000</td>\n",
       "      <td>4463800.0</td>\n",
       "      <td>13.500000</td>\n",
       "      <td>-5.429069</td>\n",
       "    </tr>\n",
       "    <tr>\n",
       "      <th>2</th>\n",
       "      <td>2006-02-10</td>\n",
       "      <td>13.770000</td>\n",
       "      <td>13.010000</td>\n",
       "      <td>13.500000</td>\n",
       "      <td>13.275000</td>\n",
       "      <td>1800400.0</td>\n",
       "      <td>13.275000</td>\n",
       "      <td>-1.666669</td>\n",
       "    </tr>\n",
       "    <tr>\n",
       "      <th>3</th>\n",
       "      <td>2006-02-13</td>\n",
       "      <td>14.125000</td>\n",
       "      <td>13.195000</td>\n",
       "      <td>13.250000</td>\n",
       "      <td>13.850000</td>\n",
       "      <td>1701800.0</td>\n",
       "      <td>13.850000</td>\n",
       "      <td>4.331456</td>\n",
       "    </tr>\n",
       "    <tr>\n",
       "      <th>4</th>\n",
       "      <td>2006-02-14</td>\n",
       "      <td>14.235000</td>\n",
       "      <td>13.875000</td>\n",
       "      <td>13.875000</td>\n",
       "      <td>13.900000</td>\n",
       "      <td>2553800.0</td>\n",
       "      <td>13.900000</td>\n",
       "      <td>0.361005</td>\n",
       "    </tr>\n",
       "    <tr>\n",
       "      <th>...</th>\n",
       "      <td>...</td>\n",
       "      <td>...</td>\n",
       "      <td>...</td>\n",
       "      <td>...</td>\n",
       "      <td>...</td>\n",
       "      <td>...</td>\n",
       "      <td>...</td>\n",
       "      <td>...</td>\n",
       "    </tr>\n",
       "    <tr>\n",
       "      <th>3973</th>\n",
       "      <td>2021-11-18</td>\n",
       "      <td>180.850006</td>\n",
       "      <td>175.750000</td>\n",
       "      <td>178.570007</td>\n",
       "      <td>176.979996</td>\n",
       "      <td>685600.0</td>\n",
       "      <td>176.979996</td>\n",
       "      <td>0.465481</td>\n",
       "    </tr>\n",
       "    <tr>\n",
       "      <th>3974</th>\n",
       "      <td>2021-11-19</td>\n",
       "      <td>178.440002</td>\n",
       "      <td>174.649994</td>\n",
       "      <td>175.589996</td>\n",
       "      <td>175.500000</td>\n",
       "      <td>1354700.0</td>\n",
       "      <td>175.500000</td>\n",
       "      <td>-0.836250</td>\n",
       "    </tr>\n",
       "    <tr>\n",
       "      <th>3975</th>\n",
       "      <td>2021-11-22</td>\n",
       "      <td>180.880005</td>\n",
       "      <td>172.309998</td>\n",
       "      <td>177.000000</td>\n",
       "      <td>175.539993</td>\n",
       "      <td>1060500.0</td>\n",
       "      <td>175.539993</td>\n",
       "      <td>0.022788</td>\n",
       "    </tr>\n",
       "    <tr>\n",
       "      <th>3976</th>\n",
       "      <td>2021-11-23</td>\n",
       "      <td>175.490005</td>\n",
       "      <td>166.679993</td>\n",
       "      <td>173.729996</td>\n",
       "      <td>170.740005</td>\n",
       "      <td>1422200.0</td>\n",
       "      <td>170.740005</td>\n",
       "      <td>-2.734413</td>\n",
       "    </tr>\n",
       "    <tr>\n",
       "      <th>3977</th>\n",
       "      <td>2021-11-24</td>\n",
       "      <td>172.470001</td>\n",
       "      <td>166.080002</td>\n",
       "      <td>169.009995</td>\n",
       "      <td>171.649994</td>\n",
       "      <td>726800.0</td>\n",
       "      <td>171.649994</td>\n",
       "      <td>0.532967</td>\n",
       "    </tr>\n",
       "  </tbody>\n",
       "</table>\n",
       "<p>3978 rows × 8 columns</p>\n",
       "</div>"
      ],
      "text/plain": [
       "           Date        High         Low        Open       Close      Volume  \\\n",
       "0    2006-02-08   16.250000   14.070000   15.000000   14.275000  23814000.0   \n",
       "1    2006-02-09   14.670000   13.060000   14.620000   13.500000   4463800.0   \n",
       "2    2006-02-10   13.770000   13.010000   13.500000   13.275000   1800400.0   \n",
       "3    2006-02-13   14.125000   13.195000   13.250000   13.850000   1701800.0   \n",
       "4    2006-02-14   14.235000   13.875000   13.875000   13.900000   2553800.0   \n",
       "...         ...         ...         ...         ...         ...         ...   \n",
       "3973 2021-11-18  180.850006  175.750000  178.570007  176.979996    685600.0   \n",
       "3974 2021-11-19  178.440002  174.649994  175.589996  175.500000   1354700.0   \n",
       "3975 2021-11-22  180.880005  172.309998  177.000000  175.539993   1060500.0   \n",
       "3976 2021-11-23  175.490005  166.679993  173.729996  170.740005   1422200.0   \n",
       "3977 2021-11-24  172.470001  166.080002  169.009995  171.649994    726800.0   \n",
       "\n",
       "       Adj Close  Today_Change_%  \n",
       "0      14.275000             NaN  \n",
       "1      13.500000       -5.429069  \n",
       "2      13.275000       -1.666669  \n",
       "3      13.850000        4.331456  \n",
       "4      13.900000        0.361005  \n",
       "...          ...             ...  \n",
       "3973  176.979996        0.465481  \n",
       "3974  175.500000       -0.836250  \n",
       "3975  175.539993        0.022788  \n",
       "3976  170.740005       -2.734413  \n",
       "3977  171.649994        0.532967  \n",
       "\n",
       "[3978 rows x 8 columns]"
      ]
     },
     "execution_count": 17,
     "metadata": {},
     "output_type": "execute_result"
    }
   ],
   "source": [
    "df1 = pd.merge(data,df, on=\"Date\")\n",
    "df1"
   ]
  },
  {
   "cell_type": "code",
   "execution_count": 18,
   "metadata": {},
   "outputs": [],
   "source": [
    "#df1.dropna(inplace= True)\n",
    "df1.insert(7,'Volume_Lag', None)\n",
    "df1.Volume = df1.Volume.pct_change() * 100\n",
    "#df1.Volume = df1.Volume *  geek.sign(df1.Volume.values)\n",
    "df1['Volume_Lag'] = df1.Volume.shift(1).values\n"
   ]
  },
  {
   "cell_type": "code",
   "execution_count": 19,
   "metadata": {},
   "outputs": [],
   "source": [
    "df1[\"Trend\"] =  (df1[\"Close\"] - df1[\"Low\"])/ ((df1[\"High\"] - df1[\"Low\"]))"
   ]
  },
  {
   "cell_type": "code",
   "execution_count": 20,
   "metadata": {},
   "outputs": [],
   "source": [
    "df1[\"Trend_Lag\"] = df1[\"Trend\"].shift(1)"
   ]
  },
  {
   "cell_type": "code",
   "execution_count": 21,
   "metadata": {},
   "outputs": [],
   "source": [
    "#df1['Close-Open'] =  df1['Close'] - df1['Open']\n",
    "#df1['Close-Open_Lag'] = df1['Close-Open'].shift(1)"
   ]
  },
  {
   "cell_type": "code",
   "execution_count": 22,
   "metadata": {},
   "outputs": [],
   "source": [
    "#df1['High-Low'] =  df1['High'] - df1['Low']\n",
    "#df1['High-Low_Lag'] = df1['High-Low'].shift(1)\n",
    "df1['High-Low_Change_%'] = (df1['High'].pct_change() + df1['Low'].pct_change()).shift(1)"
   ]
  },
  {
   "cell_type": "code",
   "execution_count": 23,
   "metadata": {},
   "outputs": [],
   "source": [
    "df1 = sm.add_constant(df1)\n",
    "df1[\"Up_Down\"] = [1 if (i > 0) else 0 for i in df1[\"Today_Change_%\"]]"
   ]
  },
  {
   "cell_type": "code",
   "execution_count": 24,
   "metadata": {},
   "outputs": [],
   "source": [
    "df1.dropna(inplace= True)"
   ]
  },
  {
   "cell_type": "code",
   "execution_count": 25,
   "metadata": {},
   "outputs": [],
   "source": [
    "df1['Short_MV_Avg_Span'] = df1['Close'].ewm(span=short_moving_average_span, adjust=False).mean()\n",
    "df1.dropna(inplace= True)\n",
    "#df1"
   ]
  },
  {
   "cell_type": "code",
   "execution_count": 26,
   "metadata": {},
   "outputs": [],
   "source": [
    "df1['Long_MV_Avg_Span'] = df1['Close'].ewm(span=long_moving_average_span, adjust=False).mean()\n",
    "df1.dropna(inplace= True)\n",
    "#df1"
   ]
  },
  {
   "cell_type": "code",
   "execution_count": 27,
   "metadata": {},
   "outputs": [],
   "source": [
    "df1['Short_MV_Avg_Span-Long_MV_Avg_Span'] = df1.Short_MV_Avg_Span - df1.Long_MV_Avg_Span\n",
    "df1['Short_MV_Avg_Span-Long_MV_Avg_Span_Lag'] = df1['Short_MV_Avg_Span-Long_MV_Avg_Span'].shift(1)\n",
    "#df1"
   ]
  },
  {
   "cell_type": "code",
   "execution_count": 28,
   "metadata": {},
   "outputs": [
    {
     "data": {
      "text/html": [
       "<div>\n",
       "<style scoped>\n",
       "    .dataframe tbody tr th:only-of-type {\n",
       "        vertical-align: middle;\n",
       "    }\n",
       "\n",
       "    .dataframe tbody tr th {\n",
       "        vertical-align: top;\n",
       "    }\n",
       "\n",
       "    .dataframe thead th {\n",
       "        text-align: right;\n",
       "    }\n",
       "</style>\n",
       "<table border=\"1\" class=\"dataframe\">\n",
       "  <thead>\n",
       "    <tr style=\"text-align: right;\">\n",
       "      <th></th>\n",
       "      <th>const</th>\n",
       "      <th>Date</th>\n",
       "      <th>High</th>\n",
       "      <th>Low</th>\n",
       "      <th>Open</th>\n",
       "      <th>Close</th>\n",
       "      <th>Volume</th>\n",
       "      <th>Adj Close</th>\n",
       "      <th>Volume_Lag</th>\n",
       "      <th>Today_Change_%</th>\n",
       "      <th>Trend</th>\n",
       "      <th>Trend_Lag</th>\n",
       "      <th>High-Low_Change_%</th>\n",
       "      <th>Up_Down</th>\n",
       "      <th>Short_MV_Avg_Span</th>\n",
       "      <th>Long_MV_Avg_Span</th>\n",
       "      <th>Short_MV_Avg_Span-Long_MV_Avg_Span</th>\n",
       "      <th>Short_MV_Avg_Span-Long_MV_Avg_Span_Lag</th>\n",
       "    </tr>\n",
       "  </thead>\n",
       "  <tbody>\n",
       "    <tr>\n",
       "      <th>0</th>\n",
       "      <td>1.0</td>\n",
       "      <td>2006-02-13</td>\n",
       "      <td>14.125000</td>\n",
       "      <td>13.195000</td>\n",
       "      <td>13.250000</td>\n",
       "      <td>13.850000</td>\n",
       "      <td>-5.476561</td>\n",
       "      <td>13.850000</td>\n",
       "      <td>-59.666652</td>\n",
       "      <td>4.331456</td>\n",
       "      <td>0.704302</td>\n",
       "      <td>0.348683</td>\n",
       "      <td>-0.065178</td>\n",
       "      <td>1</td>\n",
       "      <td>13.329762</td>\n",
       "      <td>13.297549</td>\n",
       "      <td>0.032213</td>\n",
       "      <td>0.000000</td>\n",
       "    </tr>\n",
       "    <tr>\n",
       "      <th>1</th>\n",
       "      <td>1.0</td>\n",
       "      <td>2006-02-14</td>\n",
       "      <td>14.235000</td>\n",
       "      <td>13.875000</td>\n",
       "      <td>13.875000</td>\n",
       "      <td>13.900000</td>\n",
       "      <td>50.064637</td>\n",
       "      <td>13.900000</td>\n",
       "      <td>-5.476561</td>\n",
       "      <td>0.361005</td>\n",
       "      <td>0.069443</td>\n",
       "      <td>0.704302</td>\n",
       "      <td>0.040000</td>\n",
       "      <td>1</td>\n",
       "      <td>13.384070</td>\n",
       "      <td>13.321174</td>\n",
       "      <td>0.062896</td>\n",
       "      <td>0.032213</td>\n",
       "    </tr>\n",
       "    <tr>\n",
       "      <th>2</th>\n",
       "      <td>1.0</td>\n",
       "      <td>2006-02-15</td>\n",
       "      <td>14.000000</td>\n",
       "      <td>13.895000</td>\n",
       "      <td>14.000000</td>\n",
       "      <td>14.000000</td>\n",
       "      <td>-23.596210</td>\n",
       "      <td>14.000000</td>\n",
       "      <td>50.064637</td>\n",
       "      <td>0.719427</td>\n",
       "      <td>1.000000</td>\n",
       "      <td>0.069443</td>\n",
       "      <td>0.059322</td>\n",
       "      <td>1</td>\n",
       "      <td>13.442730</td>\n",
       "      <td>13.347795</td>\n",
       "      <td>0.094935</td>\n",
       "      <td>0.062896</td>\n",
       "    </tr>\n",
       "    <tr>\n",
       "      <th>3</th>\n",
       "      <td>1.0</td>\n",
       "      <td>2006-02-16</td>\n",
       "      <td>14.875000</td>\n",
       "      <td>14.170000</td>\n",
       "      <td>14.745000</td>\n",
       "      <td>14.175000</td>\n",
       "      <td>209.891349</td>\n",
       "      <td>14.175000</td>\n",
       "      <td>-23.596210</td>\n",
       "      <td>1.250001</td>\n",
       "      <td>0.007092</td>\n",
       "      <td>1.000000</td>\n",
       "      <td>-0.015067</td>\n",
       "      <td>1</td>\n",
       "      <td>13.512470</td>\n",
       "      <td>13.380234</td>\n",
       "      <td>0.132236</td>\n",
       "      <td>0.094935</td>\n",
       "    </tr>\n",
       "    <tr>\n",
       "      <th>4</th>\n",
       "      <td>1.0</td>\n",
       "      <td>2006-02-17</td>\n",
       "      <td>14.295000</td>\n",
       "      <td>13.525000</td>\n",
       "      <td>14.215000</td>\n",
       "      <td>13.700000</td>\n",
       "      <td>-59.385440</td>\n",
       "      <td>13.700000</td>\n",
       "      <td>209.891349</td>\n",
       "      <td>-3.350973</td>\n",
       "      <td>0.227273</td>\n",
       "      <td>0.007092</td>\n",
       "      <td>0.082291</td>\n",
       "      <td>0</td>\n",
       "      <td>13.530330</td>\n",
       "      <td>13.392774</td>\n",
       "      <td>0.137556</td>\n",
       "      <td>0.132236</td>\n",
       "    </tr>\n",
       "    <tr>\n",
       "      <th>...</th>\n",
       "      <td>...</td>\n",
       "      <td>...</td>\n",
       "      <td>...</td>\n",
       "      <td>...</td>\n",
       "      <td>...</td>\n",
       "      <td>...</td>\n",
       "      <td>...</td>\n",
       "      <td>...</td>\n",
       "      <td>...</td>\n",
       "      <td>...</td>\n",
       "      <td>...</td>\n",
       "      <td>...</td>\n",
       "      <td>...</td>\n",
       "      <td>...</td>\n",
       "      <td>...</td>\n",
       "      <td>...</td>\n",
       "      <td>...</td>\n",
       "      <td>...</td>\n",
       "    </tr>\n",
       "    <tr>\n",
       "      <th>3970</th>\n",
       "      <td>1.0</td>\n",
       "      <td>2021-11-18</td>\n",
       "      <td>180.850006</td>\n",
       "      <td>175.750000</td>\n",
       "      <td>178.570007</td>\n",
       "      <td>176.979996</td>\n",
       "      <td>-41.346565</td>\n",
       "      <td>176.979996</td>\n",
       "      <td>29.906646</td>\n",
       "      <td>0.465481</td>\n",
       "      <td>0.241175</td>\n",
       "      <td>0.330050</td>\n",
       "      <td>-0.024906</td>\n",
       "      <td>1</td>\n",
       "      <td>169.486546</td>\n",
       "      <td>157.193343</td>\n",
       "      <td>12.293203</td>\n",
       "      <td>12.312037</td>\n",
       "    </tr>\n",
       "    <tr>\n",
       "      <th>3971</th>\n",
       "      <td>1.0</td>\n",
       "      <td>2021-11-19</td>\n",
       "      <td>178.440002</td>\n",
       "      <td>174.649994</td>\n",
       "      <td>175.589996</td>\n",
       "      <td>175.500000</td>\n",
       "      <td>97.593349</td>\n",
       "      <td>175.500000</td>\n",
       "      <td>-41.346565</td>\n",
       "      <td>-0.836250</td>\n",
       "      <td>0.224276</td>\n",
       "      <td>0.241175</td>\n",
       "      <td>0.008955</td>\n",
       "      <td>0</td>\n",
       "      <td>170.059256</td>\n",
       "      <td>157.911251</td>\n",
       "      <td>12.148005</td>\n",
       "      <td>12.293203</td>\n",
       "    </tr>\n",
       "    <tr>\n",
       "      <th>3972</th>\n",
       "      <td>1.0</td>\n",
       "      <td>2021-11-22</td>\n",
       "      <td>180.880005</td>\n",
       "      <td>172.309998</td>\n",
       "      <td>177.000000</td>\n",
       "      <td>175.539993</td>\n",
       "      <td>-21.716985</td>\n",
       "      <td>175.539993</td>\n",
       "      <td>97.593349</td>\n",
       "      <td>0.022788</td>\n",
       "      <td>0.376895</td>\n",
       "      <td>0.224276</td>\n",
       "      <td>-0.019585</td>\n",
       "      <td>1</td>\n",
       "      <td>170.581231</td>\n",
       "      <td>158.602574</td>\n",
       "      <td>11.978656</td>\n",
       "      <td>12.148005</td>\n",
       "    </tr>\n",
       "    <tr>\n",
       "      <th>3973</th>\n",
       "      <td>1.0</td>\n",
       "      <td>2021-11-23</td>\n",
       "      <td>175.490005</td>\n",
       "      <td>166.679993</td>\n",
       "      <td>173.729996</td>\n",
       "      <td>170.740005</td>\n",
       "      <td>34.106554</td>\n",
       "      <td>170.740005</td>\n",
       "      <td>-21.716985</td>\n",
       "      <td>-2.734413</td>\n",
       "      <td>0.460841</td>\n",
       "      <td>0.376895</td>\n",
       "      <td>0.000276</td>\n",
       "      <td>0</td>\n",
       "      <td>170.596352</td>\n",
       "      <td>159.078552</td>\n",
       "      <td>11.517800</td>\n",
       "      <td>11.978656</td>\n",
       "    </tr>\n",
       "    <tr>\n",
       "      <th>3974</th>\n",
       "      <td>1.0</td>\n",
       "      <td>2021-11-24</td>\n",
       "      <td>172.470001</td>\n",
       "      <td>166.080002</td>\n",
       "      <td>169.009995</td>\n",
       "      <td>171.649994</td>\n",
       "      <td>-48.896077</td>\n",
       "      <td>171.649994</td>\n",
       "      <td>34.106554</td>\n",
       "      <td>0.532967</td>\n",
       "      <td>0.871673</td>\n",
       "      <td>0.460841</td>\n",
       "      <td>-0.062472</td>\n",
       "      <td>1</td>\n",
       "      <td>170.696699</td>\n",
       "      <td>159.571550</td>\n",
       "      <td>11.125149</td>\n",
       "      <td>11.517800</td>\n",
       "    </tr>\n",
       "  </tbody>\n",
       "</table>\n",
       "<p>3975 rows × 18 columns</p>\n",
       "</div>"
      ],
      "text/plain": [
       "      const       Date        High         Low        Open       Close  \\\n",
       "0       1.0 2006-02-13   14.125000   13.195000   13.250000   13.850000   \n",
       "1       1.0 2006-02-14   14.235000   13.875000   13.875000   13.900000   \n",
       "2       1.0 2006-02-15   14.000000   13.895000   14.000000   14.000000   \n",
       "3       1.0 2006-02-16   14.875000   14.170000   14.745000   14.175000   \n",
       "4       1.0 2006-02-17   14.295000   13.525000   14.215000   13.700000   \n",
       "...     ...        ...         ...         ...         ...         ...   \n",
       "3970    1.0 2021-11-18  180.850006  175.750000  178.570007  176.979996   \n",
       "3971    1.0 2021-11-19  178.440002  174.649994  175.589996  175.500000   \n",
       "3972    1.0 2021-11-22  180.880005  172.309998  177.000000  175.539993   \n",
       "3973    1.0 2021-11-23  175.490005  166.679993  173.729996  170.740005   \n",
       "3974    1.0 2021-11-24  172.470001  166.080002  169.009995  171.649994   \n",
       "\n",
       "          Volume   Adj Close  Volume_Lag  Today_Change_%     Trend  Trend_Lag  \\\n",
       "0      -5.476561   13.850000  -59.666652        4.331456  0.704302   0.348683   \n",
       "1      50.064637   13.900000   -5.476561        0.361005  0.069443   0.704302   \n",
       "2     -23.596210   14.000000   50.064637        0.719427  1.000000   0.069443   \n",
       "3     209.891349   14.175000  -23.596210        1.250001  0.007092   1.000000   \n",
       "4     -59.385440   13.700000  209.891349       -3.350973  0.227273   0.007092   \n",
       "...          ...         ...         ...             ...       ...        ...   \n",
       "3970  -41.346565  176.979996   29.906646        0.465481  0.241175   0.330050   \n",
       "3971   97.593349  175.500000  -41.346565       -0.836250  0.224276   0.241175   \n",
       "3972  -21.716985  175.539993   97.593349        0.022788  0.376895   0.224276   \n",
       "3973   34.106554  170.740005  -21.716985       -2.734413  0.460841   0.376895   \n",
       "3974  -48.896077  171.649994   34.106554        0.532967  0.871673   0.460841   \n",
       "\n",
       "      High-Low_Change_%  Up_Down  Short_MV_Avg_Span  Long_MV_Avg_Span  \\\n",
       "0             -0.065178        1          13.329762         13.297549   \n",
       "1              0.040000        1          13.384070         13.321174   \n",
       "2              0.059322        1          13.442730         13.347795   \n",
       "3             -0.015067        1          13.512470         13.380234   \n",
       "4              0.082291        0          13.530330         13.392774   \n",
       "...                 ...      ...                ...               ...   \n",
       "3970          -0.024906        1         169.486546        157.193343   \n",
       "3971           0.008955        0         170.059256        157.911251   \n",
       "3972          -0.019585        1         170.581231        158.602574   \n",
       "3973           0.000276        0         170.596352        159.078552   \n",
       "3974          -0.062472        1         170.696699        159.571550   \n",
       "\n",
       "      Short_MV_Avg_Span-Long_MV_Avg_Span  \\\n",
       "0                               0.032213   \n",
       "1                               0.062896   \n",
       "2                               0.094935   \n",
       "3                               0.132236   \n",
       "4                               0.137556   \n",
       "...                                  ...   \n",
       "3970                           12.293203   \n",
       "3971                           12.148005   \n",
       "3972                           11.978656   \n",
       "3973                           11.517800   \n",
       "3974                           11.125149   \n",
       "\n",
       "      Short_MV_Avg_Span-Long_MV_Avg_Span_Lag  \n",
       "0                                   0.000000  \n",
       "1                                   0.032213  \n",
       "2                                   0.062896  \n",
       "3                                   0.094935  \n",
       "4                                   0.132236  \n",
       "...                                      ...  \n",
       "3970                               12.312037  \n",
       "3971                               12.293203  \n",
       "3972                               12.148005  \n",
       "3973                               11.978656  \n",
       "3974                               11.517800  \n",
       "\n",
       "[3975 rows x 18 columns]"
      ]
     },
     "execution_count": 28,
     "metadata": {},
     "output_type": "execute_result"
    }
   ],
   "source": [
    "df1.dropna(inplace= True)\n",
    "df1.index = pd.RangeIndex(start=0,stop = len(df1), step = 1)\n",
    "df1.reindex()\n",
    "#print(df1)"
   ]
  },
  {
   "cell_type": "code",
   "execution_count": 29,
   "metadata": {},
   "outputs": [],
   "source": [
    "#X = df1[['const','Trend_Lag','Short_MV_Avg_Span-Long_MV_Avg_Span_Lag','Close-Open_Lag','High-Low_Lag','Volume_Lag']]"
   ]
  },
  {
   "cell_type": "code",
   "execution_count": 30,
   "metadata": {},
   "outputs": [],
   "source": [
    "#df1['Close'][-150:].plot(figsize=(16,6))\n",
    "#df1['Short_MV_Avg_Span'][-150:].plot(figsize=(16,6))\n",
    "#df1['Long_MV_Avg_Span'][-150:].plot(figsize=(16,6))\n",
    "#plt.xlim([len(df1)-100, len(df1)])\n",
    "#plt.xlabel('Index', fontsize=18)\n",
    "#plt.ylabel('Close Price USD ($)', fontsize =18)\n",
    "#plt.legend(['Close', str(short_moving_average_span) + ' Days Moving Average', str(long_moving_average_span) + ' days Moving Average'], loc = 'lower left')\n",
    "#plt.title(\"Moving Average for \" + stock.upper(), fontsize = 16)\n",
    "#plt.show\n",
    "#plt.close"
   ]
  },
  {
   "cell_type": "code",
   "execution_count": 31,
   "metadata": {},
   "outputs": [
    {
     "data": {
      "text/plain": [
       "<function matplotlib.pyplot.close(fig=None)>"
      ]
     },
     "execution_count": 31,
     "metadata": {},
     "output_type": "execute_result"
    },
    {
     "data": {
      "image/png": "[encoded data removed]",
      "text/plain": [
       "<Figure size 1152x432 with 2 Axes>"
      ]
     },
     "metadata": {
      "needs_background": "light"
     },
     "output_type": "display_data"
    }
   ],
   "source": [
    "fig, ax1 = plt.subplots()\n",
    "ax2 =  ax1.twinx()\n",
    "df1['Close'][-150:].plot(x = 'Index', color='tab:blue', figsize=(16,6), label = 'Close Price USA ($)', fontsize = 12, ax = ax1)\n",
    "df1['Short_MV_Avg_Span'][-150:].plot(x = 'Index', color='tab:red', figsize=(16,6), label = str(short_moving_average_span) + ' Days Moving Average', fontsize = 12, ax = ax1)\n",
    "df1['Long_MV_Avg_Span'][-150:].plot(x = 'Index', color='tab:green', figsize=(16,6), label = str(long_moving_average_span) + ' days Moving Average', fontsize = 12, ax = ax1)\n",
    "df1['Short_MV_Avg_Span-Long_MV_Avg_Span_Lag'][-150:].plot(x = 'Index', color='tab:brown', figsize=(16,6), label = 'Signal_line', fontsize = 12, ax = ax2)\n",
    "#df1['RSI'][-170:].plot(x = 'Index', color='tab:red', figsize=(16,6), label = 'Relative Strength Index', fontsize = 12,ax = ax1)\n",
    "#df1['Close'][-150:].plot(x = 'Index',color = 'tab:blue', figsize=(16,6),  label = 'Close Price',fontsize = 12,ax = ax2)\n",
    "#df1['Close'][-100:].plot(figsize=(16,6))\n",
    "plt.xlim([len(df1)-120, len(df1)])\n",
    "ax1.set_ylabel('Close Price USD ($)', fontsize = 18)\n",
    "ax2.set_ylabel('Signal_line', fontsize = 18)\n",
    "#df1.xlabel('Index', fontsize=18)\n",
    "#df1.ylabel('Relative Strength Index', fontsize =18)\n",
    "ax2.grid(color='tab:brown')\n",
    "ax1.set_title(\"Moving Average & Signal Line for \" + stock.upper(), fontsize = 16)\n",
    "ax1.legend(loc=2, fontsize = 16)\n",
    "ax2.legend(loc=4,fontsize = 16)\n",
    "plt.show\n",
    "plt.close"
   ]
  },
  {
   "cell_type": "code",
   "execution_count": 32,
   "metadata": {},
   "outputs": [],
   "source": [
    "df1['Signal_Line'] = df1['Short_MV_Avg_Span-Long_MV_Avg_Span_Lag'].ewm(span = period, adjust=False ).mean()\n",
    "#column_list = list(df1)\n",
    "#print (column_list)\n",
    "#df1=df1[['const', 'Date', 'Open', 'High', 'Low', 'Close', 'Adj Close', 'Volume', 'Volume_Lag', 'Today_Change_%', 'Trend', 'Trend_Lag', 'Close-Open', 'Close-Open_Lag', 'High-Low', 'High-Low_Lag', 'Up_Down', 'Short_MV_Avg_Span', 'Long_MV_Avg_Span', 'Short_MV_Avg_Span-Long_MV_Avg_Span', 'Short_MV_Avg_Span-Long_MV_Avg_Span_Lag', 'Prediction_Caculated', 'Prediction_indicator', 'share', 'money', 'Up', 'Down', 'Signal_Line']]\n",
    "df1['Signal_Line_Lag'] =  df1['Signal_Line'].shift(1)\n",
    "df1.dropna(inplace= True)\n",
    "#df1.info()"
   ]
  },
  {
   "cell_type": "code",
   "execution_count": 33,
   "metadata": {},
   "outputs": [],
   "source": [
    "X = df1[['const','Trend_Lag','High-Low_Change_%','Signal_Line_Lag','Volume_Lag']]"
   ]
  },
  {
   "cell_type": "code",
   "execution_count": 34,
   "metadata": {},
   "outputs": [],
   "source": [
    "y = df1[\"Up_Down\"].values"
   ]
  },
  {
   "cell_type": "code",
   "execution_count": 35,
   "metadata": {},
   "outputs": [],
   "source": [
    "model = sm.Logit(y,X)"
   ]
  },
  {
   "cell_type": "code",
   "execution_count": 36,
   "metadata": {},
   "outputs": [
    {
     "name": "stdout",
     "output_type": "stream",
     "text": [
      "Optimization terminated successfully.\n",
      "         Current function value: 0.691032\n",
      "         Iterations 4\n"
     ]
    }
   ],
   "source": [
    "result =  model.fit()"
   ]
  },
  {
   "cell_type": "code",
   "execution_count": 37,
   "metadata": {},
   "outputs": [
    {
     "data": {
      "text/html": [
       "<table class=\"simpletable\">\n",
       "<caption>Logit Regression Results</caption>\n",
       "<tr>\n",
       "  <th>Dep. Variable:</th>           <td>y</td>        <th>  No. Observations:  </th>  <td>  3974</td> \n",
       "</tr>\n",
       "<tr>\n",
       "  <th>Model:</th>                 <td>Logit</td>      <th>  Df Residuals:      </th>  <td>  3969</td> \n",
       "</tr>\n",
       "<tr>\n",
       "  <th>Method:</th>                 <td>MLE</td>       <th>  Df Model:          </th>  <td>     4</td> \n",
       "</tr>\n",
       "<tr>\n",
       "  <th>Date:</th>            <td>Thu, 25 Nov 2021</td> <th>  Pseudo R-squ.:     </th> <td>0.001508</td>\n",
       "</tr>\n",
       "<tr>\n",
       "  <th>Time:</th>                <td>19:22:04</td>     <th>  Log-Likelihood:    </th> <td> -2746.2</td>\n",
       "</tr>\n",
       "<tr>\n",
       "  <th>converged:</th>             <td>True</td>       <th>  LL-Null:           </th> <td> -2750.3</td>\n",
       "</tr>\n",
       "<tr>\n",
       "  <th>Covariance Type:</th>     <td>nonrobust</td>    <th>  LLR p-value:       </th>  <td>0.08143</td>\n",
       "</tr>\n",
       "</table>\n",
       "<table class=\"simpletable\">\n",
       "<tr>\n",
       "          <td></td>             <th>coef</th>     <th>std err</th>      <th>z</th>      <th>P>|z|</th>  <th>[0.025</th>    <th>0.975]</th>  \n",
       "</tr>\n",
       "<tr>\n",
       "  <th>const</th>             <td>    0.0602</td> <td>    0.063</td> <td>    0.950</td> <td> 0.342</td> <td>   -0.064</td> <td>    0.184</td>\n",
       "</tr>\n",
       "<tr>\n",
       "  <th>Trend_Lag</th>         <td>    0.0377</td> <td>    0.109</td> <td>    0.344</td> <td> 0.730</td> <td>   -0.177</td> <td>    0.252</td>\n",
       "</tr>\n",
       "<tr>\n",
       "  <th>High-Low_Change_%</th> <td>   -0.6083</td> <td>    0.438</td> <td>   -1.389</td> <td> 0.165</td> <td>   -1.467</td> <td>    0.250</td>\n",
       "</tr>\n",
       "<tr>\n",
       "  <th>Signal_Line_Lag</th>   <td>    0.0355</td> <td>    0.014</td> <td>    2.486</td> <td> 0.013</td> <td>    0.008</td> <td>    0.064</td>\n",
       "</tr>\n",
       "<tr>\n",
       "  <th>Volume_Lag</th>        <td>   -0.0001</td> <td>    0.000</td> <td>   -0.426</td> <td> 0.670</td> <td>   -0.001</td> <td>    0.001</td>\n",
       "</tr>\n",
       "</table>"
      ],
      "text/plain": [
       "<class 'statsmodels.iolib.summary.Summary'>\n",
       "\"\"\"\n",
       "                           Logit Regression Results                           \n",
       "==============================================================================\n",
       "Dep. Variable:                      y   No. Observations:                 3974\n",
       "Model:                          Logit   Df Residuals:                     3969\n",
       "Method:                           MLE   Df Model:                            4\n",
       "Date:                Thu, 25 Nov 2021   Pseudo R-squ.:                0.001508\n",
       "Time:                        19:22:04   Log-Likelihood:                -2746.2\n",
       "converged:                       True   LL-Null:                       -2750.3\n",
       "Covariance Type:            nonrobust   LLR p-value:                   0.08143\n",
       "=====================================================================================\n",
       "                        coef    std err          z      P>|z|      [0.025      0.975]\n",
       "-------------------------------------------------------------------------------------\n",
       "const                 0.0602      0.063      0.950      0.342      -0.064       0.184\n",
       "Trend_Lag             0.0377      0.109      0.344      0.730      -0.177       0.252\n",
       "High-Low_Change_%    -0.6083      0.438     -1.389      0.165      -1.467       0.250\n",
       "Signal_Line_Lag       0.0355      0.014      2.486      0.013       0.008       0.064\n",
       "Volume_Lag           -0.0001      0.000     -0.426      0.670      -0.001       0.001\n",
       "=====================================================================================\n",
       "\"\"\""
      ]
     },
     "execution_count": 37,
     "metadata": {},
     "output_type": "execute_result"
    }
   ],
   "source": [
    "result.summary()"
   ]
  },
  {
   "cell_type": "code",
   "execution_count": 38,
   "metadata": {},
   "outputs": [],
   "source": [
    "prediction = result.predict(X)"
   ]
  },
  {
   "cell_type": "code",
   "execution_count": 39,
   "metadata": {},
   "outputs": [],
   "source": [
    "df1['Prediction_Caculated'] = pd.array(prediction)\n",
    "df1['Prediction_indicator'] = pd.array([1 if i > cutoff else 0 for i in prediction])\n",
    "#print (df1.iloc[-1,18],df1.iloc[-1,19],df1.iloc[-1,20])"
   ]
  },
  {
   "cell_type": "code",
   "execution_count": 40,
   "metadata": {},
   "outputs": [],
   "source": [
    "#print(df1.loc[[i for i in range(len(df1)-20, len(df1)+2)],['Trend_Lag', 'Short_MV_Avg_Span-Long_MV_Avg_Span_Lag', 'Up_Down', 'Prediction_indicator']])"
   ]
  },
  {
   "cell_type": "code",
   "execution_count": 41,
   "metadata": {},
   "outputs": [],
   "source": [
    "y = df1[\"Up_Down\"].values"
   ]
  },
  {
   "cell_type": "code",
   "execution_count": 42,
   "metadata": {},
   "outputs": [],
   "source": [
    "def confusion_matrix(act,pred):\n",
    "    predtrans = ['Up' if i > cutoff else 'Down' for i in pred]\n",
    "    actuals = ['Up' if i > 0 else 'Down' for i in act]\n",
    "    confusion_matrix = pd.crosstab(pd.Series(actuals),\n",
    "                                   pd.Series(predtrans),\n",
    "                                   rownames = [\"Actual\"],\n",
    "                                   colnames = [\"Predict\"]\n",
    "                                  )\n",
    "    return confusion_matrix"
   ]
  },
  {
   "cell_type": "code",
   "execution_count": 43,
   "metadata": {},
   "outputs": [
    {
     "data": {
      "text/html": [
       "<div>\n",
       "<style scoped>\n",
       "    .dataframe tbody tr th:only-of-type {\n",
       "        vertical-align: middle;\n",
       "    }\n",
       "\n",
       "    .dataframe tbody tr th {\n",
       "        vertical-align: top;\n",
       "    }\n",
       "\n",
       "    .dataframe thead th {\n",
       "        text-align: right;\n",
       "    }\n",
       "</style>\n",
       "<table border=\"1\" class=\"dataframe\">\n",
       "  <thead>\n",
       "    <tr style=\"text-align: right;\">\n",
       "      <th>Predict</th>\n",
       "      <th>Down</th>\n",
       "      <th>Up</th>\n",
       "    </tr>\n",
       "    <tr>\n",
       "      <th>Actual</th>\n",
       "      <th></th>\n",
       "      <th></th>\n",
       "    </tr>\n",
       "  </thead>\n",
       "  <tbody>\n",
       "    <tr>\n",
       "      <th>Down</th>\n",
       "      <td>341</td>\n",
       "      <td>1554</td>\n",
       "    </tr>\n",
       "    <tr>\n",
       "      <th>Up</th>\n",
       "      <td>321</td>\n",
       "      <td>1758</td>\n",
       "    </tr>\n",
       "  </tbody>\n",
       "</table>\n",
       "</div>"
      ],
      "text/plain": [
       "Predict  Down    Up\n",
       "Actual             \n",
       "Down      341  1554\n",
       "Up        321  1758"
      ]
     },
     "execution_count": 43,
     "metadata": {},
     "output_type": "execute_result"
    }
   ],
   "source": [
    "confusion_matrix(y,prediction)"
   ]
  },
  {
   "cell_type": "code",
   "execution_count": 44,
   "metadata": {},
   "outputs": [
    {
     "name": "stdout",
     "output_type": "stream",
     "text": [
      "0.5281831907398088\n"
     ]
    }
   ],
   "source": [
    "z = confusion_matrix(y,prediction)\n",
    "try:\n",
    "    print((z.loc['Down','Down'] + z.loc['Up','Up']) / len(df1))\n",
    "except:\n",
    "    pass"
   ]
  },
  {
   "cell_type": "code",
   "execution_count": 45,
   "metadata": {},
   "outputs": [
    {
     "name": "stdout",
     "output_type": "stream",
     "text": [
      "0.5745962222830551\n"
     ]
    }
   ],
   "source": [
    "try:\n",
    "    print( (z.loc['Down', 'Down']+ z.loc['Up','Up']) / (z.loc['Down', 'Down']+ z.loc['Up','Up'] + z.loc['Down','Up']) )\n",
    "except:\n",
    "    pass"
   ]
  },
  {
   "cell_type": "code",
   "execution_count": 46,
   "metadata": {},
   "outputs": [],
   "source": [
    "df1 = df1.assign(share=np.nan,money=np.nan)\n",
    "#df1"
   ]
  },
  {
   "cell_type": "code",
   "execution_count": 47,
   "metadata": {},
   "outputs": [],
   "source": [
    "diff_years = round((df1.iloc[-1,1] - df1.iloc[0,1])/np.timedelta64(1,'Y') + 0.5)   "
   ]
  },
  {
   "cell_type": "code",
   "execution_count": 48,
   "metadata": {},
   "outputs": [],
   "source": [
    "#df1.info()\n",
    "#column_list = list(df1)\n",
    "#print (column_list)\n",
    "df1['Signal_Line_Lag'] = df1['Signal_Line'].shift(1)\n",
    "df1=df1[['const', 'Date', 'Open', 'High', 'Low', 'Close', 'Adj Close', 'Volume', 'Volume_Lag', 'Today_Change_%', 'Trend', 'Trend_Lag', 'High-Low_Change_%', 'Up_Down', 'Short_MV_Avg_Span', 'Long_MV_Avg_Span', 'Short_MV_Avg_Span-Long_MV_Avg_Span', 'Short_MV_Avg_Span-Long_MV_Avg_Span_Lag', 'Prediction_Caculated', 'Prediction_indicator', 'share', 'money', 'Signal_Line', 'Signal_Line_Lag']]\n",
    "#df1.info()"
   ]
  },
  {
   "cell_type": "code",
   "execution_count": 49,
   "metadata": {},
   "outputs": [],
   "source": [
    "#Simulate Investment transaction buy on opening when predict UP and sell daily average when predict DOWN\n",
    "\n",
    "def buy_sell(open_price, sell_price,prediction, money, share):\n",
    "    if prediction == 1 and money != 0:\n",
    "        share =  money / open_price\n",
    "        money = 0\n",
    "    elif prediction == 0 and share != 0:\n",
    "        money = share * sell_price\n",
    "        share = 0\n",
    "    else: pass\n",
    "    return [money, share]\n",
    "money = invest\n",
    "share = 0\n",
    "for i in range(len(df1)):\n",
    "    [money, share] = buy_sell(df1.iloc[i,2],(df1.iloc[i,3]+df1.iloc[i,4])/2,df1.iloc[i,19], money, share)\n",
    "    df1.iloc[i,20] = share\n",
    "    df1.iloc[i,21] = money"
   ]
  },
  {
   "cell_type": "code",
   "execution_count": 50,
   "metadata": {},
   "outputs": [],
   "source": [
    "#df1.info()"
   ]
  },
  {
   "cell_type": "code",
   "execution_count": 51,
   "metadata": {},
   "outputs": [
    {
     "name": "stdout",
     "output_type": "stream",
     "text": [
      "<class 'pandas.core.frame.DataFrame'>\n",
      "Int64Index: 3974 entries, 1 to 3974\n",
      "Data columns (total 26 columns):\n",
      " #   Column                                  Non-Null Count  Dtype         \n",
      "---  ------                                  --------------  -----         \n",
      " 0   const                                   3974 non-null   float64       \n",
      " 1   Date                                    3974 non-null   datetime64[ns]\n",
      " 2   Open                                    3974 non-null   float64       \n",
      " 3   High                                    3974 non-null   float64       \n",
      " 4   Low                                     3974 non-null   float64       \n",
      " 5   Close                                   3974 non-null   float64       \n",
      " 6   Adj Close                               3974 non-null   float64       \n",
      " 7   Volume                                  3974 non-null   float64       \n",
      " 8   Volume_Lag                              3974 non-null   float64       \n",
      " 9   Today_Change_%                          3974 non-null   float64       \n",
      " 10  Trend                                   3974 non-null   float64       \n",
      " 11  Trend_Lag                               3974 non-null   float64       \n",
      " 12  High-Low_Change_%                       3974 non-null   float64       \n",
      " 13  Up_Down                                 3974 non-null   int64         \n",
      " 14  Short_MV_Avg_Span                       3974 non-null   float64       \n",
      " 15  Long_MV_Avg_Span                        3974 non-null   float64       \n",
      " 16  Short_MV_Avg_Span-Long_MV_Avg_Span      3974 non-null   float64       \n",
      " 17  Short_MV_Avg_Span-Long_MV_Avg_Span_Lag  3974 non-null   float64       \n",
      " 18  Prediction_Caculated                    3974 non-null   float64       \n",
      " 19  Prediction_indicator                    3974 non-null   Int64         \n",
      " 20  share                                   3974 non-null   float64       \n",
      " 21  money                                   3974 non-null   float64       \n",
      " 22  Signal_Line                             3974 non-null   float64       \n",
      " 23  Signal_Line_Lag                         3973 non-null   float64       \n",
      " 24  Up                                      0 non-null      float64       \n",
      " 25  Down                                    0 non-null      float64       \n",
      "dtypes: Int64(1), datetime64[ns](1), float64(23), int64(1)\n",
      "memory usage: 842.1 KB\n"
     ]
    }
   ],
   "source": [
    "df1 = df1.assign(Up=np.nan,Down=np.nan)\n",
    "df1.info()"
   ]
  },
  {
   "cell_type": "code",
   "execution_count": 52,
   "metadata": {},
   "outputs": [],
   "source": [
    "for i in range(len(df1)):\n",
    "    if df1.iloc[i,9] <= 0:\n",
    "        df1.iloc[i,24] = 0\n",
    "        df1.iloc[i,25] = df1.iloc[i,9]\n",
    "    else:\n",
    "        df1.iloc[i,25] = 0\n",
    "        df1.iloc[i,24] = df1.iloc[i,9]\n",
    "\n",
    "AVG_Gain = df1.Up.ewm(span=period, adjust=False).mean()\n",
    "AVG_Loss = df1.Down.ewm(span=period, adjust=False).mean().abs()"
   ]
  },
  {
   "cell_type": "code",
   "execution_count": 53,
   "metadata": {},
   "outputs": [],
   "source": [
    "RS = AVG_Gain /AVG_Loss\n",
    "RSI = 100.0 - (100.0 / (1.0 + RS))\n",
    "df1['RSI'] = RSI\n",
    "df1['RSI_Lag'] = df1['RSI'].shift(1)\n",
    "#df1.tail(10)"
   ]
  },
  {
   "cell_type": "code",
   "execution_count": 54,
   "metadata": {},
   "outputs": [
    {
     "data": {
      "text/plain": [
       "<function matplotlib.pyplot.close(fig=None)>"
      ]
     },
     "execution_count": 54,
     "metadata": {},
     "output_type": "execute_result"
    },
    {
     "data": {
      "image/png": "[encoded data removed]",
      "text/plain": [
       "<Figure size 1152x432 with 2 Axes>"
      ]
     },
     "metadata": {
      "needs_background": "light"
     },
     "output_type": "display_data"
    }
   ],
   "source": [
    "fig, ax1 = plt.subplots()\n",
    "ax2 =  ax1.twinx()\n",
    "df1['RSI'][-170:].plot(x = 'Index', color='tab:red', figsize=(16,6), label = 'Relative Strength Index', fontsize = 12,ax = ax2)\n",
    "df1['Close'][-150:].plot(x = 'Index',color = 'tab:blue', figsize=(16,6),  label = 'Close Price',fontsize = 12,ax = ax1)\n",
    "#df1['Close'][-100:].plot(figsize=(16,6))\n",
    "plt.xlim([len(df1)-100, len(df1)])\n",
    "ax2.set_ylabel('Relative Strength Index', fontsize = 18)\n",
    "ax1.set_ylabel('Close Price USD ($)', fontsize = 18)\n",
    "#df1.xlabel('Index', fontsize=18)\n",
    "#df1.ylabel('Relative Strength Index', fontsize =18)\n",
    "ax2.grid(color='tab:red')\n",
    "ax1.set_title(\"Relative Strength Index for \" + stock.upper(), fontsize = 16)\n",
    "ax2.legend(loc=3, fontsize = 16)\n",
    "ax1.legend(loc=2,fontsize = 16)\n",
    "plt.show\n",
    "plt.close"
   ]
  },
  {
   "cell_type": "code",
   "execution_count": 55,
   "metadata": {},
   "outputs": [
    {
     "data": {
      "text/plain": [
       "<function matplotlib.pyplot.close(fig=None)>"
      ]
     },
     "execution_count": 55,
     "metadata": {},
     "output_type": "execute_result"
    },
    {
     "data": {
      "image/png": "[encoded data removed]",
      "text/plain": [
       "<Figure size 1152x432 with 3 Axes>"
      ]
     },
     "metadata": {
      "needs_background": "light"
     },
     "output_type": "display_data"
    }
   ],
   "source": [
    "fig, ax1 = plt.subplots()\n",
    "ax2 =  ax1.twinx()\n",
    "ax3 =  ax1.twinx()\n",
    "#ax3.spines.right.set_position((\"axes\", 1.2))\n",
    "df1['Trend_Lag'][-150:].ewm(span = period, adjust=False ).mean().plot(x = 'Index', color='tab:red', figsize=(16,6), label = 'Buying Trend', fontsize = 12,ax = ax2)\n",
    "df1['High-Low_Change_%'][-150:].ewm(span = period, adjust=False ).mean().plot(x = 'Index', color='tab:green', figsize=(16,6), label = 'High-Low_Change', fontsize = 12, ax = ax3)\n",
    "df1['Close'][-150:].plot(x = 'Index',color = 'tab:blue', figsize=(16,6),  label = 'Close Price',fontsize = 12,ax = ax1)\n",
    "ax2.set_ylabel('Buying Trend', fontsize = 18)\n",
    "ax3.set_ylabel('High-Low_Change', fontsize = 18)\n",
    "ax1.set_ylabel('Close Price USD ($)', fontsize = 18)\n",
    "plt.xlim([len(df1)-100, len(df1)])\n",
    "ax2.grid(color='tab:red')\n",
    "ax1.set_title(\"Buying Trend for \" + stock.upper(), fontsize = 16)\n",
    "ax2.legend(loc=3, fontsize = 16)\n",
    "ax3.legend(loc=4, fontsize = 16)\n",
    "ax1.legend(loc=2,fontsize = 16)\n",
    "plt.close"
   ]
  },
  {
   "cell_type": "code",
   "execution_count": 56,
   "metadata": {},
   "outputs": [
    {
     "name": "stdout",
     "output_type": "stream",
     "text": [
      "Optimization terminated successfully.\n",
      "         Current function value: 0.691011\n",
      "         Iterations 4\n"
     ]
    },
    {
     "data": {
      "text/html": [
       "<table class=\"simpletable\">\n",
       "<caption>Logit Regression Results</caption>\n",
       "<tr>\n",
       "  <th>Dep. Variable:</th>           <td>y</td>        <th>  No. Observations:  </th>  <td>  3973</td> \n",
       "</tr>\n",
       "<tr>\n",
       "  <th>Model:</th>                 <td>Logit</td>      <th>  Df Residuals:      </th>  <td>  3968</td> \n",
       "</tr>\n",
       "<tr>\n",
       "  <th>Method:</th>                 <td>MLE</td>       <th>  Df Model:          </th>  <td>     4</td> \n",
       "</tr>\n",
       "<tr>\n",
       "  <th>Date:</th>            <td>Thu, 25 Nov 2021</td> <th>  Pseudo R-squ.:     </th> <td>0.001553</td>\n",
       "</tr>\n",
       "<tr>\n",
       "  <th>Time:</th>                <td>19:22:08</td>     <th>  Log-Likelihood:    </th> <td> -2745.4</td>\n",
       "</tr>\n",
       "<tr>\n",
       "  <th>converged:</th>             <td>True</td>       <th>  LL-Null:           </th> <td> -2749.7</td>\n",
       "</tr>\n",
       "<tr>\n",
       "  <th>Covariance Type:</th>     <td>nonrobust</td>    <th>  LLR p-value:       </th>  <td>0.07360</td>\n",
       "</tr>\n",
       "</table>\n",
       "<table class=\"simpletable\">\n",
       "<tr>\n",
       "         <td></td>            <th>coef</th>     <th>std err</th>      <th>z</th>      <th>P>|z|</th>  <th>[0.025</th>    <th>0.975]</th>  \n",
       "</tr>\n",
       "<tr>\n",
       "  <th>const</th>           <td>    0.1843</td> <td>    0.097</td> <td>    1.907</td> <td> 0.056</td> <td>   -0.005</td> <td>    0.374</td>\n",
       "</tr>\n",
       "<tr>\n",
       "  <th>Trend_Lag</th>       <td>    0.0693</td> <td>    0.116</td> <td>    0.598</td> <td> 0.550</td> <td>   -0.158</td> <td>    0.296</td>\n",
       "</tr>\n",
       "<tr>\n",
       "  <th>RSI_Lag</th>         <td>   -0.0027</td> <td>    0.002</td> <td>   -1.477</td> <td> 0.140</td> <td>   -0.006</td> <td>    0.001</td>\n",
       "</tr>\n",
       "<tr>\n",
       "  <th>Signal_Line_Lag</th> <td>    0.0394</td> <td>    0.015</td> <td>    2.705</td> <td> 0.007</td> <td>    0.011</td> <td>    0.068</td>\n",
       "</tr>\n",
       "<tr>\n",
       "  <th>Volume_Lag</th>      <td>   -0.0001</td> <td>    0.000</td> <td>   -0.422</td> <td> 0.673</td> <td>   -0.001</td> <td>    0.001</td>\n",
       "</tr>\n",
       "</table>"
      ],
      "text/plain": [
       "<class 'statsmodels.iolib.summary.Summary'>\n",
       "\"\"\"\n",
       "                           Logit Regression Results                           \n",
       "==============================================================================\n",
       "Dep. Variable:                      y   No. Observations:                 3973\n",
       "Model:                          Logit   Df Residuals:                     3968\n",
       "Method:                           MLE   Df Model:                            4\n",
       "Date:                Thu, 25 Nov 2021   Pseudo R-squ.:                0.001553\n",
       "Time:                        19:22:08   Log-Likelihood:                -2745.4\n",
       "converged:                       True   LL-Null:                       -2749.7\n",
       "Covariance Type:            nonrobust   LLR p-value:                   0.07360\n",
       "===================================================================================\n",
       "                      coef    std err          z      P>|z|      [0.025      0.975]\n",
       "-----------------------------------------------------------------------------------\n",
       "const               0.1843      0.097      1.907      0.056      -0.005       0.374\n",
       "Trend_Lag           0.0693      0.116      0.598      0.550      -0.158       0.296\n",
       "RSI_Lag            -0.0027      0.002     -1.477      0.140      -0.006       0.001\n",
       "Signal_Line_Lag     0.0394      0.015      2.705      0.007       0.011       0.068\n",
       "Volume_Lag         -0.0001      0.000     -0.422      0.673      -0.001       0.001\n",
       "===================================================================================\n",
       "\"\"\""
      ]
     },
     "execution_count": 56,
     "metadata": {},
     "output_type": "execute_result"
    }
   ],
   "source": [
    "df1.dropna(inplace= True)\n",
    "X = df1[['const','Trend_Lag', 'RSI_Lag', 'Signal_Line_Lag','Volume_Lag']]\n",
    "y = df1[\"Up_Down\"].values\n",
    "model = sm.Logit(y,X)\n",
    "result =  model.fit()\n",
    "result.summary()"
   ]
  },
  {
   "cell_type": "code",
   "execution_count": 57,
   "metadata": {},
   "outputs": [
    {
     "name": "stdout",
     "output_type": "stream",
     "text": [
      "\n",
      "If $100 was invested in [ CROX ], and Just Hold and Not Trade for 16 years, the ROI = $1,061\n"
     ]
    }
   ],
   "source": [
    "print(\"\\nIf ${:,.0f} was invested in [ {} ], and Just Hold and Not Trade for {:2d} years, the ROI = ${:,.0f}\".format( invest, stock.upper(), diff_years, invest/data.iloc[0, 0] * data.iloc[-1,0]))"
   ]
  },
  {
   "cell_type": "code",
   "execution_count": 58,
   "metadata": {},
   "outputs": [
    {
     "name": "stdout",
     "output_type": "stream",
     "text": [
      "\n",
      "If $100 was invested 16 years ago, buy and sell according this script's recommandation, the ROI = $13,898\n"
     ]
    }
   ],
   "source": [
    "print (\"\\nIf ${:,.0f} was invested {:2d} years ago, buy and sell according this script\\'s recommandation, the ROI = ${:,.0f}\".format(invest, diff_years, (money + (share * df1.iloc[-1,5]))))"
   ]
  },
  {
   "cell_type": "code",
   "execution_count": 59,
   "metadata": {},
   "outputs": [
    {
     "name": "stdout",
     "output_type": "stream",
     "text": [
      "           Date        Open       Close        High         Low     Trend\n",
      "3960 2021-11-04  175.309998  177.419998  179.470001  173.800003  0.638447\n",
      "3961 2021-11-05  178.029999  180.169998  180.830002  176.860001  0.833752\n",
      "3962 2021-11-08  181.850006  176.539993  182.750000  174.669998  0.231435\n",
      "3963 2021-11-09  175.000000  178.500000  179.740005  175.000000  0.738396\n",
      "3964 2021-11-10  175.320007  174.179993  177.770004  171.610001  0.417206\n",
      "3965 2021-11-11  175.300003  176.190002  178.690002  172.899994  0.568222\n",
      "3966 2021-11-12  178.080002  180.570007  182.020004  177.669998  0.666668\n",
      "3967 2021-11-15  181.509995  177.500000  183.880005  176.320007  0.156084\n",
      "3968 2021-11-16  177.289993  180.449997  183.139999  176.389999  0.601481\n",
      "3969 2021-11-17  179.589996  176.160004  181.600006  173.479996  0.330050\n",
      "3970 2021-11-18  178.570007  176.979996  180.850006  175.750000  0.241175\n",
      "3971 2021-11-19  175.589996  175.500000  178.440002  174.649994  0.224276\n",
      "3972 2021-11-22  177.000000  175.539993  180.880005  172.309998  0.376895\n",
      "3973 2021-11-23  173.729996  170.740005  175.490005  166.679993  0.460841\n",
      "3974 2021-11-24  169.009995  171.649994  172.470001  166.080002  0.871673\n"
     ]
    }
   ],
   "source": [
    "print(df1[['Date','Open','Close','High','Low','Trend']].tail(15))"
   ]
  },
  {
   "cell_type": "code",
   "execution_count": 60,
   "metadata": {},
   "outputs": [
    {
     "name": "stdout",
     "output_type": "stream",
     "text": [
      "           Date Stock Market Performance Scribe Predection\n",
      "3960 2021-11-04                       Up                Up\n",
      "3961 2021-11-05                       Up                Up\n",
      "3962 2021-11-08                     Down                Up\n",
      "3963 2021-11-09                       Up                Up\n",
      "3964 2021-11-10                     Down                Up\n",
      "3965 2021-11-11                       Up                Up\n",
      "3966 2021-11-12                       Up                Up\n",
      "3967 2021-11-15                     Down                Up\n",
      "3968 2021-11-16                       Up                Up\n",
      "3969 2021-11-17                     Down                Up\n",
      "3970 2021-11-18                       Up                Up\n",
      "3971 2021-11-19                     Down                Up\n",
      "3972 2021-11-22                       Up                Up\n",
      "3973 2021-11-23                     Down                Up\n",
      "3974 2021-11-24                       Up                Up\n"
     ]
    }
   ],
   "source": [
    "df1_summary=df1[['Date', 'Up_Down','Prediction_indicator']].copy()\n",
    "df1_summary['Stock Market Performance'] = df1_summary['Up_Down'].apply(lambda x: 'Up' if x > 0 else 'Down')\n",
    "df1_summary['Scribe Predection'] = df1_summary['Prediction_indicator'].apply(lambda x: 'Up' if x > 0 else 'Down')\n",
    "print (df1_summary[['Date','Stock Market Performance','Scribe Predection']].tail(15))"
   ]
  },
  {
   "cell_type": "code",
   "execution_count": 61,
   "metadata": {},
   "outputs": [],
   "source": [
    "#print(df1.loc[[i for i in range(len(df1)-20, len(df1)+2)],['Date','Close','Trend_Lag', 'Short_MV_Avg_Span-Long_MV_Avg_Span_Lag']])\n",
    "#df1.info()"
   ]
  },
  {
   "cell_type": "code",
   "execution_count": 62,
   "metadata": {},
   "outputs": [
    {
     "name": "stdout",
     "output_type": "stream",
     "text": [
      "\n",
      "Today [ CROX ] actually went up, --- base on yesterday's data, We Predication [ CROX ] should be going up.\n",
      "\n",
      "=========> Actual and Predication MATCH <=========\n"
     ]
    }
   ],
   "source": [
    "print (\"\\nToday [ %s ] actually went up,\" %stock.upper(), end = ' ') if (df1.iloc[-1,13] == 1) else print (\"\\nToday [ %s ] actually went down,\" %stock.upper(), end = \" \")\n",
    "print (\"--- base on yesterday\\'s data, \", end = '')\n",
    "print (\"We Predication [ %s ] should be going up.\" %stock.upper()) if (df1.iloc[-1,19] == 1) else print (\"We Predicae [ %s ] should be going down.\" %stock.upper())\n",
    "print (\"\\n=========> Actual and Predication MATCH <=========\") if (df1.iloc[-1,13] == df1.iloc[-1,19]) else print(\"\\n=========> Actual and Predication DO NOT match <=========\")"
   ]
  },
  {
   "cell_type": "code",
   "execution_count": 63,
   "metadata": {},
   "outputs": [],
   "source": [
    "x_tran= df1[df1.Date.dt.year < 2021][['const','Trend_Lag','High-Low_Change_%', 'RSI_Lag','Signal_Line_Lag','Volume_Lag']]\n",
    "y_train=df1[df1.Date.dt.year < 2021][\"Up_Down\"]\n",
    "x_test= df1[df1.Date.dt.year >= 2021][['const','Trend_Lag','High-Low_Change_%', 'RSI_Lag','Signal_Line_Lag','Volume_Lag']]\n",
    "y_test= df1[df1.Date.dt.year >= 2021][\"Up_Down\"]"
   ]
  },
  {
   "cell_type": "code",
   "execution_count": 64,
   "metadata": {},
   "outputs": [
    {
     "name": "stdout",
     "output_type": "stream",
     "text": [
      "Optimization terminated successfully.\n",
      "         Current function value: 0.691329\n",
      "         Iterations 4\n"
     ]
    }
   ],
   "source": [
    "model = sm.Logit(y_train,x_tran)\n",
    "result=model.fit()"
   ]
  },
  {
   "cell_type": "code",
   "execution_count": 65,
   "metadata": {},
   "outputs": [],
   "source": [
    "#with open(stock.upper()+'.result.pickle', 'wb') as f:\n",
    "#    pickle.dump(result,f)"
   ]
  },
  {
   "cell_type": "code",
   "execution_count": 66,
   "metadata": {},
   "outputs": [],
   "source": [
    "#with open(stock.upper()+'.result.pickle', 'rb') as f:\n",
    "#    pickle.load(f)"
   ]
  },
  {
   "cell_type": "code",
   "execution_count": 67,
   "metadata": {},
   "outputs": [
    {
     "data": {
      "text/html": [
       "<table class=\"simpletable\">\n",
       "<caption>Logit Regression Results</caption>\n",
       "<tr>\n",
       "  <th>Dep. Variable:</th>        <td>Up_Down</td>     <th>  No. Observations:  </th>  <td>  3746</td> \n",
       "</tr>\n",
       "<tr>\n",
       "  <th>Model:</th>                 <td>Logit</td>      <th>  Df Residuals:      </th>  <td>  3740</td> \n",
       "</tr>\n",
       "<tr>\n",
       "  <th>Method:</th>                 <td>MLE</td>       <th>  Df Model:          </th>  <td>     5</td> \n",
       "</tr>\n",
       "<tr>\n",
       "  <th>Date:</th>            <td>Thu, 25 Nov 2021</td> <th>  Pseudo R-squ.:     </th> <td>0.001437</td>\n",
       "</tr>\n",
       "<tr>\n",
       "  <th>Time:</th>                <td>19:22:08</td>     <th>  Log-Likelihood:    </th> <td> -2589.7</td>\n",
       "</tr>\n",
       "<tr>\n",
       "  <th>converged:</th>             <td>True</td>       <th>  LL-Null:           </th> <td> -2593.4</td>\n",
       "</tr>\n",
       "<tr>\n",
       "  <th>Covariance Type:</th>     <td>nonrobust</td>    <th>  LLR p-value:       </th>  <td>0.1891</td> \n",
       "</tr>\n",
       "</table>\n",
       "<table class=\"simpletable\">\n",
       "<tr>\n",
       "          <td></td>             <th>coef</th>     <th>std err</th>      <th>z</th>      <th>P>|z|</th>  <th>[0.025</th>    <th>0.975]</th>  \n",
       "</tr>\n",
       "<tr>\n",
       "  <th>const</th>             <td>    0.1127</td> <td>    0.110</td> <td>    1.022</td> <td> 0.307</td> <td>   -0.104</td> <td>    0.329</td>\n",
       "</tr>\n",
       "<tr>\n",
       "  <th>Trend_Lag</th>         <td>    0.0495</td> <td>    0.119</td> <td>    0.415</td> <td> 0.678</td> <td>   -0.184</td> <td>    0.283</td>\n",
       "</tr>\n",
       "<tr>\n",
       "  <th>High-Low_Change_%</th> <td>   -0.4364</td> <td>    0.490</td> <td>   -0.890</td> <td> 0.373</td> <td>   -1.397</td> <td>    0.524</td>\n",
       "</tr>\n",
       "<tr>\n",
       "  <th>RSI_Lag</th>           <td>   -0.0011</td> <td>    0.002</td> <td>   -0.555</td> <td> 0.579</td> <td>   -0.005</td> <td>    0.003</td>\n",
       "</tr>\n",
       "<tr>\n",
       "  <th>Signal_Line_Lag</th>   <td>    0.0480</td> <td>    0.020</td> <td>    2.419</td> <td> 0.016</td> <td>    0.009</td> <td>    0.087</td>\n",
       "</tr>\n",
       "<tr>\n",
       "  <th>Volume_Lag</th>        <td>   -0.0001</td> <td>    0.000</td> <td>   -0.301</td> <td> 0.763</td> <td>   -0.001</td> <td>    0.001</td>\n",
       "</tr>\n",
       "</table>"
      ],
      "text/plain": [
       "<class 'statsmodels.iolib.summary.Summary'>\n",
       "\"\"\"\n",
       "                           Logit Regression Results                           \n",
       "==============================================================================\n",
       "Dep. Variable:                Up_Down   No. Observations:                 3746\n",
       "Model:                          Logit   Df Residuals:                     3740\n",
       "Method:                           MLE   Df Model:                            5\n",
       "Date:                Thu, 25 Nov 2021   Pseudo R-squ.:                0.001437\n",
       "Time:                        19:22:08   Log-Likelihood:                -2589.7\n",
       "converged:                       True   LL-Null:                       -2593.4\n",
       "Covariance Type:            nonrobust   LLR p-value:                    0.1891\n",
       "=====================================================================================\n",
       "                        coef    std err          z      P>|z|      [0.025      0.975]\n",
       "-------------------------------------------------------------------------------------\n",
       "const                 0.1127      0.110      1.022      0.307      -0.104       0.329\n",
       "Trend_Lag             0.0495      0.119      0.415      0.678      -0.184       0.283\n",
       "High-Low_Change_%    -0.4364      0.490     -0.890      0.373      -1.397       0.524\n",
       "RSI_Lag              -0.0011      0.002     -0.555      0.579      -0.005       0.003\n",
       "Signal_Line_Lag       0.0480      0.020      2.419      0.016       0.009       0.087\n",
       "Volume_Lag           -0.0001      0.000     -0.301      0.763      -0.001       0.001\n",
       "=====================================================================================\n",
       "\"\"\""
      ]
     },
     "execution_count": 67,
     "metadata": {},
     "output_type": "execute_result"
    }
   ],
   "source": [
    "result.summary()"
   ]
  },
  {
   "cell_type": "code",
   "execution_count": 68,
   "metadata": {},
   "outputs": [],
   "source": [
    "#summary_list=result.summary().as_csv().split(\",\")"
   ]
  },
  {
   "cell_type": "code",
   "execution_count": 69,
   "metadata": {},
   "outputs": [],
   "source": [
    "#print(summary_list)"
   ]
  },
  {
   "cell_type": "code",
   "execution_count": 70,
   "metadata": {},
   "outputs": [],
   "source": [
    "#print(summary_list[37:39])"
   ]
  },
  {
   "cell_type": "code",
   "execution_count": 71,
   "metadata": {},
   "outputs": [
    {
     "data": {
      "text/html": [
       "<div>\n",
       "<style scoped>\n",
       "    .dataframe tbody tr th:only-of-type {\n",
       "        vertical-align: middle;\n",
       "    }\n",
       "\n",
       "    .dataframe tbody tr th {\n",
       "        vertical-align: top;\n",
       "    }\n",
       "\n",
       "    .dataframe thead th {\n",
       "        text-align: right;\n",
       "    }\n",
       "</style>\n",
       "<table border=\"1\" class=\"dataframe\">\n",
       "  <thead>\n",
       "    <tr style=\"text-align: right;\">\n",
       "      <th>Predict</th>\n",
       "      <th>Down</th>\n",
       "      <th>Up</th>\n",
       "    </tr>\n",
       "    <tr>\n",
       "      <th>Actual</th>\n",
       "      <th></th>\n",
       "      <th></th>\n",
       "    </tr>\n",
       "  </thead>\n",
       "  <tbody>\n",
       "    <tr>\n",
       "      <th>Down</th>\n",
       "      <td>0</td>\n",
       "      <td>98</td>\n",
       "    </tr>\n",
       "    <tr>\n",
       "      <th>Up</th>\n",
       "      <td>1</td>\n",
       "      <td>128</td>\n",
       "    </tr>\n",
       "  </tbody>\n",
       "</table>\n",
       "</div>"
      ],
      "text/plain": [
       "Predict  Down   Up\n",
       "Actual            \n",
       "Down        0   98\n",
       "Up          1  128"
      ]
     },
     "execution_count": 71,
     "metadata": {},
     "output_type": "execute_result"
    }
   ],
   "source": [
    "prediction = result.predict(x_test)\n",
    "confusion_matrix(y_test, prediction)"
   ]
  },
  {
   "cell_type": "code",
   "execution_count": 72,
   "metadata": {},
   "outputs": [],
   "source": [
    "z = confusion_matrix(y_test,prediction)"
   ]
  },
  {
   "cell_type": "code",
   "execution_count": 73,
   "metadata": {},
   "outputs": [
    {
     "name": "stdout",
     "output_type": "stream",
     "text": [
      "\n",
      "=========> Prediction Accuracy Rate: 0.5639 <=========\n",
      "\n"
     ]
    }
   ],
   "source": [
    "try:\n",
    "    print (\"\\n=========> Prediction Accuracy Rate: %.4f <=========\\n\"  %((z.loc['Down','Down'] + z.loc['Up','Up']) / len(x_test)))\n",
    "except:\n",
    "    print (\"\\n=========> Predication effectiveness is not avairable <=========\\n\" )"
   ]
  },
  {
   "cell_type": "code",
   "execution_count": 74,
   "metadata": {},
   "outputs": [],
   "source": [
    "#df1.info()\n",
    "High_Low=((df1.iloc[-1,3]-df1.iloc[-2,3])/df1.iloc[-1,3] + (df1.iloc[-1,4]-df1.iloc[-2,4])/df1.iloc[-1,4])\n",
    "#df1.tail(15)"
   ]
  },
  {
   "cell_type": "code",
   "execution_count": 75,
   "metadata": {},
   "outputs": [
    {
     "name": "stdout",
     "output_type": "stream",
     "text": [
      "\n",
      "=========> Current trend = 0.6611,   [ CROX ] will go up! <=========\n"
     ]
    }
   ],
   "source": [
    "#prediction = result.predict(x_test)\n",
    "#['const','Trend_Lag','High-Low_Change_%', 'RSI_Lag','Signal_Line_Lag','Volume_Lag']\n",
    "now_up_down  = result.predict([1.0, df1.iloc[-1, 10], High_Low, df1.iloc[-1, 26] ,df1.iloc[-1, 22], df1.iloc[-1, 7]])\n",
    "print (\"\\n=========> Current trend = %.4f,  \" %now_up_down, end=' ')\n",
    "print (\"[ %s ] will go up! <=========\" %stock.upper()) if now_up_down > cutoff else print (\"[ %s ] will go down! <=========\" %stock.upper()) "
   ]
  },
  {
   "cell_type": "code",
   "execution_count": 76,
   "metadata": {},
   "outputs": [
    {
     "name": "stdout",
     "output_type": "stream",
     "text": [
      "\n",
      " ============> 20 Days over 50 Days Moving Average Indicator \n",
      " ============> 12.2932....12.1480....11.9787....11.5178....11.1251....<=============\n",
      "\n",
      " ============> No Trading Waring at this time! <=============\n"
     ]
    }
   ],
   "source": [
    "#print (\"\\n=========> Current trend = %.4f,  \" %now_up_down, end=' ')\n",
    "print (\"\\n ============> %s Days over %s Days Moving Average Indicator \\n ============> %.4f....%.4f....%.4f....%.4f....%.4f....<=============\" %(short_moving_average_span, long_moving_average_span, df1.iloc[-5,16], df1.iloc[-4,16], df1.iloc[-3,16], df1.iloc[-2,16],df1.iloc[-1,16]))\n",
    "if df1.iloc[-1,16] * df1.iloc[-2,16] < 0:\n",
    "    print (\"\\n ============> Warning, It Is the Time to Sell [ %s ] <=========\" %stock.upper()) if df1.iloc[-1,17] < 0 else print (\"\\n ============> It Is the Time to Buy [ %s ] ! <=========\" %stock.upper())\n",
    "else:\n",
    "    print (\"\\n ============> No Trading Waring at this time! <=============\")"
   ]
  },
  {
   "cell_type": "code",
   "execution_count": 77,
   "metadata": {},
   "outputs": [],
   "source": [
    "#df1.to_csv('fb.csv', index = False)"
   ]
  }
 ],
 "metadata": {
  "kernelspec": {
   "display_name": "Python 3",
   "language": "python",
   "name": "python3"
  },
  "language_info": {
   "codemirror_mode": {
    "name": "ipython",
    "version": 3
   },
   "file_extension": ".py",
   "mimetype": "text/x-python",
   "name": "python",
   "nbconvert_exporter": "python",
   "pygments_lexer": "ipython3",
   "version": "3.8.5"
  }
 },
 "nbformat": 4,
 "nbformat_minor": 4
}
